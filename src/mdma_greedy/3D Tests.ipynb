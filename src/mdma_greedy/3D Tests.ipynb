{
 "cells": [
  {
   "cell_type": "code",
   "execution_count": 19,
   "metadata": {
    "scrolled": true
   },
   "outputs": [
    {
     "name": "stderr",
     "output_type": "stream",
     "text": [
      "WARNING: using SubmodularMaximization.MDPState in module Main conflicts with an existing identifier.\n",
      "WARNING: using SubmodularMaximization.MultiRobotTargetCoverageProblem in module Main conflicts with an existing identifier.\n"
     ]
    }
   ],
   "source": [
    "using Revise\n",
    "using POMDPs\n",
    "using DiscreteValueIteration\n",
    "using POMDPTools\n",
    "using SubmodularMaximization\n",
    "# using Dates\n",
    "# using Profile"
   ]
  },
  {
   "cell_type": "code",
   "execution_count": 10,
   "metadata": {
    "scrolled": false
   },
   "outputs": [],
   "source": [
    "using MDMA"
   ]
  },
  {
   "cell_type": "code",
   "execution_count": 11,
   "metadata": {},
   "outputs": [
    {
     "data": {
      "text/plain": [
       "MultiRobotTargetCoverageProblem(MDPState[MDPState(UAVState(12, 14, :NE), 1, 60, nothing), MDPState(UAVState(28, 10, :N), 1, 60, nothing), MDPState(UAVState(15, 29, :NW), 1, 60, nothing)], MultiDroneMultiActorConfigs(\"spreadout_group\", 3, Target[Target(14.178058624267578, 17.600414276123047, -1.077511191368103, 1.0, Face[Face([0.9995405767923673, -0.03030899776603807, 0.0], [15.177599201059945, 17.57010527835701], 2.309401076758503, 2.0), Face([0.5260186504248185, 0.8504730327325215, 0.0], [14.704077274692397, 18.450887308855567], 2.309401076758503, 2.0), Face([-0.47352192636754886, 0.8807820304985596, 0.0], [13.704536697900028, 18.481196306621605], 2.309401076758503, 2.0), Face([-0.9995405767923673, 0.030308997766038414, 0.0], [13.178518047475212, 17.630723273889085], 2.309401076758503, 2.0), Face([-0.526018650424819, -0.8504730327325212, 0.0], [13.65203997384276, 16.749941243390527], 2.309401076758503, 2.0), Face([0.47352192636754875, -0.8807820304985596, 0.0], [14.651580550635128, 16.71963224562449], 2.309401076758503, 2.0), Face([0.0, 0.0, 1.0], [14.178058624267578, 17.600414276123047], 3.4641016151377544, 2.0)], 0x00000007, 0x00000001) Target(13.182506561279297, 15.537775039672852, -2.6752769947052, 1.0, Face[Face([-0.057251794141869004, -0.9983597708579494, 0.0], [13.125254767137427, 14.539415268814903], 2.309401076758503, 3.0), Face([0.8359790266084607, -0.5487613935680704, 0.0], [14.018485587887758, 14.98901364610478], 2.309401076758503, 3.0), Face([0.8932308207503297, 0.449598377289879, 0.0], [14.075737382029626, 15.98737341696273], 2.309401076758503, 3.0), Face([0.05725179414186935, 0.9983597708579492, 0.0], [13.239758355421166, 16.5361348105308], 2.309401076758503, 3.0), Face([-0.8359790266084604, 0.5487613935680709, 0.0], [12.346527534670837, 16.086536433240923], 2.309401076758503, 3.0), Face([-0.8932308207503298, -0.4495983772898789, 0.0], [12.289275740528968, 15.088176662382972], 2.309401076758503, 3.0), Face([0.0, 0.0, 1.0], [13.182506561279297, 15.537775039672852], 3.4641016151377544, 3.0)], 0x00000007, 0x00000002) Target(11.70057201385498, 17.33303451538086, -1.077511191368103, 1.0, Face[Face([0.9995405767923673, -0.03030899776603807, 0.0], [12.700112590647347, 17.30272551761482], 2.309401076758503, 2.0), Face([0.5260186504248185, 0.8504730327325215, 0.0], [12.226590664279799, 18.18350754811338], 2.309401076758503, 2.0), Face([-0.47352192636754886, 0.8807820304985596, 0.0], [11.22705008748743, 18.213816545879418], 2.309401076758503, 2.0), Face([-0.9995405767923673, 0.030308997766038414, 0.0], [10.701031437062614, 17.363343513146898], 2.309401076758503, 2.0), Face([-0.526018650424819, -0.8504730327325212, 0.0], [11.174553363430162, 16.48256148264834], 2.309401076758503, 2.0), Face([0.47352192636754875, -0.8807820304985596, 0.0], [12.17409394022253, 16.4522524848823], 2.309401076758503, 2.0), Face([0.0, 0.0, 1.0], [11.70057201385498, 17.33303451538086], 3.4641016151377544, 2.0)], 0x00000007, 0x00000003); Target(14.189698219299316, 17.610836029052734, -1.077511191368103, 1.0, Face[Face([0.9995405767923673, -0.03030899776603807, 0.0], [15.189238796091683, 17.580527031286696], 2.309401076758503, 2.0), Face([0.5260186504248185, 0.8504730327325215, 0.0], [14.715716869724135, 18.461309061785254], 2.309401076758503, 2.0), Face([-0.47352192636754886, 0.8807820304985596, 0.0], [13.716176292931767, 18.491618059551293], 2.309401076758503, 2.0), Face([-0.9995405767923673, 0.030308997766038414, 0.0], [13.19015764250695, 17.641145026818773], 2.309401076758503, 2.0), Face([-0.526018650424819, -0.8504730327325212, 0.0], [13.663679568874498, 16.760362996320215], 2.309401076758503, 2.0), Face([0.47352192636754875, -0.8807820304985596, 0.0], [14.663220145666866, 16.730053998554176], 2.309401076758503, 2.0), Face([0.0, 0.0, 1.0], [14.189698219299316, 17.610836029052734], 3.4641016151377544, 2.0)], 0x00000007, 0x00000001) Target(13.183048248291016, 15.51057243347168, -2.6752769947052, 1.0, Face[Face([-0.057251794141869004, -0.9983597708579494, 0.0], [13.125796454149146, 14.51221266261373], 2.309401076758503, 3.0), Face([0.8359790266084607, -0.5487613935680704, 0.0], [14.019027274899477, 14.961811039903608], 2.309401076758503, 3.0), Face([0.8932308207503297, 0.449598377289879, 0.0], [14.076279069041345, 15.960170810761559], 2.309401076758503, 3.0), Face([0.05725179414186935, 0.9983597708579492, 0.0], [13.240300042432885, 16.50893220432963], 2.309401076758503, 3.0), Face([-0.8359790266084604, 0.5487613935680709, 0.0], [12.347069221682556, 16.05933382703975], 2.309401076758503, 3.0), Face([-0.8932308207503298, -0.4495983772898789, 0.0], [12.289817427540687, 15.0609740561818], 2.309401076758503, 3.0), Face([0.0, 0.0, 1.0], [13.183048248291016, 15.51057243347168], 3.4641016151377544, 3.0)], 0x00000007, 0x00000002) Target(11.68338394165039, 17.347652435302734, -1.077511191368103, 1.0, Face[Face([0.9995405767923673, -0.03030899776603807, 0.0], [12.682924518442757, 17.317343437536696], 2.309401076758503, 2.0), Face([0.5260186504248185, 0.8504730327325215, 0.0], [12.20940259207521, 18.198125468035254], 2.309401076758503, 2.0), Face([-0.47352192636754886, 0.8807820304985596, 0.0], [11.209862015282841, 18.228434465801293], 2.309401076758503, 2.0), Face([-0.9995405767923673, 0.030308997766038414, 0.0], [10.683843364858024, 17.377961433068773], 2.309401076758503, 2.0), Face([-0.526018650424819, -0.8504730327325212, 0.0], [11.157365291225572, 16.497179402570215], 2.309401076758503, 2.0), Face([0.47352192636754875, -0.8807820304985596, 0.0], [12.15690586801794, 16.466870404804176], 2.309401076758503, 2.0), Face([0.0, 0.0, 1.0], [11.68338394165039, 17.347652435302734], 3.4641016151377544, 2.0)], 0x00000007, 0x00000003); … ; Target(18.949722290039062, 21.872716903686523, -1.077511191368103, 1.0, Face[Face([0.9995405767923673, -0.03030899776603807, 0.0], [19.94926286683143, 21.842407905920485], 2.309401076758503, 2.0), Face([0.5260186504248185, 0.8504730327325215, 0.0], [19.47574094046388, 22.723189936419043], 2.309401076758503, 2.0), Face([-0.47352192636754886, 0.8807820304985596, 0.0], [18.476200363671513, 22.75349893418508], 2.309401076758503, 2.0), Face([-0.9995405767923673, 0.030308997766038414, 0.0], [17.950181713246696, 21.903025901452562], 2.309401076758503, 2.0), Face([-0.526018650424819, -0.8504730327325212, 0.0], [18.423703639614242, 21.022243870954004], 2.309401076758503, 2.0), Face([0.47352192636754875, -0.8807820304985596, 0.0], [19.423244216406612, 20.991934873187965], 2.309401076758503, 2.0), Face([0.0, 0.0, 1.0], [18.949722290039062, 21.872716903686523], 3.4641016151377544, 2.0)], 0x00000007, 0x00000001) Target(13.404444694519043, 4.385398864746094, -2.6752769947052, 1.0, Face[Face([-0.057251794141869004, -0.9983597708579494, 0.0], [13.347192900377173, 3.3870390938881445], 2.309401076758503, 3.0), Face([0.8359790266084607, -0.5487613935680704, 0.0], [14.240423721127504, 3.8366374711780233], 2.309401076758503, 3.0), Face([0.8932308207503297, 0.449598377289879, 0.0], [14.297675515269372, 4.834997242035973], 2.309401076758503, 3.0), Face([0.05725179414186935, 0.9983597708579492, 0.0], [13.461696488660913, 5.3837586356040426], 2.309401076758503, 3.0), Face([-0.8359790266084604, 0.5487613935680709, 0.0], [12.568465667910584, 4.934160258314165], 2.309401076758503, 3.0), Face([-0.8932308207503298, -0.4495983772898789, 0.0], [12.511213873768714, 3.935800487456215], 2.309401076758503, 3.0), Face([0.0, 0.0, 1.0], [13.404444694519043, 4.385398864746094], 3.4641016151377544, 3.0)], 0x00000007, 0x00000002) Target(4.654046058654785, 23.32535743713379, -1.077511191368103, 1.0, Face[Face([0.9995405767923673, -0.03030899776603807, 0.0], [5.6535866354471525, 23.29504843936775], 2.309401076758503, 2.0), Face([0.5260186504248185, 0.8504730327325215, 0.0], [5.180064709079604, 24.17583046986631], 2.309401076758503, 2.0), Face([-0.47352192636754886, 0.8807820304985596, 0.0], [4.180524132287236, 24.206139467632347], 2.309401076758503, 2.0), Face([-0.9995405767923673, 0.030308997766038414, 0.0], [3.654505481862418, 23.355666434899828], 2.309401076758503, 2.0), Face([-0.526018650424819, -0.8504730327325212, 0.0], [4.128027408229967, 22.47488440440127], 2.309401076758503, 2.0), Face([0.47352192636754875, -0.8807820304985596, 0.0], [5.127567985022334, 22.44457540663523], 2.309401076758503, 2.0), Face([0.0, 0.0, 1.0], [4.654046058654785, 23.32535743713379], 3.4641016151377544, 2.0)], 0x00000007, 0x00000003); Target(18.95366096496582, 21.876243591308594, -1.077511191368103, 1.0, Face[Face([0.9995405767923673, -0.03030899776603807, 0.0], [19.953201541758187, 21.845934593542555], 2.309401076758503, 2.0), Face([0.5260186504248185, 0.8504730327325215, 0.0], [19.479679615390637, 22.726716624041114], 2.309401076758503, 2.0), Face([-0.47352192636754886, 0.8807820304985596, 0.0], [18.48013903859827, 22.757025621807152], 2.309401076758503, 2.0), Face([-0.9995405767923673, 0.030308997766038414, 0.0], [17.954120388173454, 21.906552589074632], 2.309401076758503, 2.0), Face([-0.526018650424819, -0.8504730327325212, 0.0], [18.427642314541, 21.025770558576074], 2.309401076758503, 2.0), Face([0.47352192636754875, -0.8807820304985596, 0.0], [19.42718289133337, 20.995461560810035], 2.309401076758503, 2.0), Face([0.0, 0.0, 1.0], [18.95366096496582, 21.876243591308594], 3.4641016151377544, 2.0)], 0x00000007, 0x00000001) Target(13.404627799987793, 4.376193046569824, -2.6752769947052, 1.0, Face[Face([-0.057251794141869004, -0.9983597708579494, 0.0], [13.347376005845923, 3.377833275711875], 2.309401076758503, 3.0), Face([0.8359790266084607, -0.5487613935680704, 0.0], [14.240606826596254, 3.827431653001754], 2.309401076758503, 3.0), Face([0.8932308207503297, 0.449598377289879, 0.0], [14.297858620738122, 4.8257914238597035], 2.309401076758503, 3.0), Face([0.05725179414186935, 0.9983597708579492, 0.0], [13.461879594129663, 5.374552817427773], 2.309401076758503, 3.0), Face([-0.8359790266084604, 0.5487613935680709, 0.0], [12.568648773379334, 4.9249544401378955], 2.309401076758503, 3.0), Face([-0.8932308207503298, -0.4495983772898789, 0.0], [12.511396979237464, 3.9265946692799454], 2.309401076758503, 3.0), Face([0.0, 0.0, 1.0], [13.404627799987793, 4.376193046569824], 3.4641016151377544, 3.0)], 0x00000007, 0x00000002) Target(4.648229122161865, 23.330303192138672, -1.077511191368103, 1.0, Face[Face([0.9995405767923673, -0.03030899776603807, 0.0], [5.6477696989542325, 23.299994194372633], 2.309401076758503, 2.0), Face([0.5260186504248185, 0.8504730327325215, 0.0], [5.174247772586684, 24.18077622487119], 2.309401076758503, 2.0), Face([-0.47352192636754886, 0.8807820304985596, 0.0], [4.1747071957943165, 24.21108522263723], 2.309401076758503, 2.0), Face([-0.9995405767923673, 0.030308997766038414, 0.0], [3.648688545369498, 23.36061218990471], 2.309401076758503, 2.0), Face([-0.526018650424819, -0.8504730327325212, 0.0], [4.122210471737047, 22.479830159406152], 2.309401076758503, 2.0), Face([0.47352192636754875, -0.8807820304985596, 0.0], [5.121751048529414, 22.449521161640114], 2.309401076758503, 2.0), Face([0.0, 0.0, 1.0], [4.648229122161865, 23.330303192138672], 3.4641016151377544, 2.0)], 0x00000007, 0x00000003)], MDMA_Grid(30, 30, 8, 60, [MDPState(UAVState(1, 1, :E), 1, 60, nothing) MDPState(UAVState(2, 1, :E), 1, 60, nothing) … MDPState(UAVState(29, 1, :E), 1, 60, nothing) MDPState(UAVState(30, 1, :E), 1, 60, nothing); MDPState(UAVState(1, 2, :E), 1, 60, nothing) MDPState(UAVState(2, 2, :E), 1, 60, nothing) … MDPState(UAVState(29, 2, :E), 1, 60, nothing) MDPState(UAVState(30, 2, :E), 1, 60, nothing); … ; MDPState(UAVState(1, 29, :E), 1, 60, nothing) MDPState(UAVState(2, 29, :E), 1, 60, nothing) … MDPState(UAVState(29, 29, :E), 1, 60, nothing) MDPState(UAVState(30, 29, :E), 1, 60, nothing); MDPState(UAVState(1, 30, :E), 1, 60, nothing) MDPState(UAVState(2, 30, :E), 1, 60, nothing) … MDPState(UAVState(29, 30, :E), 1, 60, nothing) MDPState(UAVState(30, 30, :E), 1, 60, nothing);;; MDPState(UAVState(1, 1, :NE), 1, 60, nothing) MDPState(UAVState(2, 1, :NE), 1, 60, nothing) … MDPState(UAVState(29, 1, :NE), 1, 60, nothing) MDPState(UAVState(30, 1, :NE), 1, 60, nothing); MDPState(UAVState(1, 2, :NE), 1, 60, nothing) MDPState(UAVState(2, 2, :NE), 1, 60, nothing) … MDPState(UAVState(29, 2, :NE), 1, 60, nothing) MDPState(UAVState(30, 2, :NE), 1, 60, nothing); … ; MDPState(UAVState(1, 29, :NE), 1, 60, nothing) MDPState(UAVState(2, 29, :NE), 1, 60, nothing) … MDPState(UAVState(29, 29, :NE), 1, 60, nothing) MDPState(UAVState(30, 29, :NE), 1, 60, nothing); MDPState(UAVState(1, 30, :NE), 1, 60, nothing) MDPState(UAVState(2, 30, :NE), 1, 60, nothing) … MDPState(UAVState(29, 30, :NE), 1, 60, nothing) MDPState(UAVState(30, 30, :NE), 1, 60, nothing);;; MDPState(UAVState(1, 1, :N), 1, 60, nothing) MDPState(UAVState(2, 1, :N), 1, 60, nothing) … MDPState(UAVState(29, 1, :N), 1, 60, nothing) MDPState(UAVState(30, 1, :N), 1, 60, nothing); MDPState(UAVState(1, 2, :N), 1, 60, nothing) MDPState(UAVState(2, 2, :N), 1, 60, nothing) … MDPState(UAVState(29, 2, :N), 1, 60, nothing) MDPState(UAVState(30, 2, :N), 1, 60, nothing); … ; MDPState(UAVState(1, 29, :N), 1, 60, nothing) MDPState(UAVState(2, 29, :N), 1, 60, nothing) … MDPState(UAVState(29, 29, :N), 1, 60, nothing) MDPState(UAVState(30, 29, :N), 1, 60, nothing); MDPState(UAVState(1, 30, :N), 1, 60, nothing) MDPState(UAVState(2, 30, :N), 1, 60, nothing) … MDPState(UAVState(29, 30, :N), 1, 60, nothing) MDPState(UAVState(30, 30, :N), 1, 60, nothing);;; MDPState(UAVState(1, 1, :NW), 1, 60, nothing) MDPState(UAVState(2, 1, :NW), 1, 60, nothing) … MDPState(UAVState(29, 1, :NW), 1, 60, nothing) MDPState(UAVState(30, 1, :NW), 1, 60, nothing); MDPState(UAVState(1, 2, :NW), 1, 60, nothing) MDPState(UAVState(2, 2, :NW), 1, 60, nothing) … MDPState(UAVState(29, 2, :NW), 1, 60, nothing) MDPState(UAVState(30, 2, :NW), 1, 60, nothing); … ; MDPState(UAVState(1, 29, :NW), 1, 60, nothing) MDPState(UAVState(2, 29, :NW), 1, 60, nothing) … MDPState(UAVState(29, 29, :NW), 1, 60, nothing) MDPState(UAVState(30, 29, :NW), 1, 60, nothing); MDPState(UAVState(1, 30, :NW), 1, 60, nothing) MDPState(UAVState(2, 30, :NW), 1, 60, nothing) … MDPState(UAVState(29, 30, :NW), 1, 60, nothing) MDPState(UAVState(30, 30, :NW), 1, 60, nothing);;; MDPState(UAVState(1, 1, :W), 1, 60, nothing) MDPState(UAVState(2, 1, :W), 1, 60, nothing) … MDPState(UAVState(29, 1, :W), 1, 60, nothing) MDPState(UAVState(30, 1, :W), 1, 60, nothing); MDPState(UAVState(1, 2, :W), 1, 60, nothing) MDPState(UAVState(2, 2, :W), 1, 60, nothing) … MDPState(UAVState(29, 2, :W), 1, 60, nothing) MDPState(UAVState(30, 2, :W), 1, 60, nothing); … ; MDPState(UAVState(1, 29, :W), 1, 60, nothing) MDPState(UAVState(2, 29, :W), 1, 60, nothing) … MDPState(UAVState(29, 29, :W), 1, 60, nothing) MDPState(UAVState(30, 29, :W), 1, 60, nothing); MDPState(UAVState(1, 30, :W), 1, 60, nothing) MDPState(UAVState(2, 30, :W), 1, 60, nothing) … MDPState(UAVState(29, 30, :W), 1, 60, nothing) MDPState(UAVState(30, 30, :W), 1, 60, nothing);;; MDPState(UAVState(1, 1, :SW), 1, 60, nothing) MDPState(UAVState(2, 1, :SW), 1, 60, nothing) … MDPState(UAVState(29, 1, :SW), 1, 60, nothing) MDPState(UAVState(30, 1, :SW), 1, 60, nothing); MDPState(UAVState(1, 2, :SW), 1, 60, nothing) MDPState(UAVState(2, 2, :SW), 1, 60, nothing) … MDPState(UAVState(29, 2, :SW), 1, 60, nothing) MDPState(UAVState(30, 2, :SW), 1, 60, nothing); … ; MDPState(UAVState(1, 29, :SW), 1, 60, nothing) MDPState(UAVState(2, 29, :SW), 1, 60, nothing) … MDPState(UAVState(29, 29, :SW), 1, 60, nothing) MDPState(UAVState(30, 29, :SW), 1, 60, nothing); MDPState(UAVState(1, 30, :SW), 1, 60, nothing) MDPState(UAVState(2, 30, :SW), 1, 60, nothing) … MDPState(UAVState(29, 30, :SW), 1, 60, nothing) MDPState(UAVState(30, 30, :SW), 1, 60, nothing);;; MDPState(UAVState(1, 1, :S), 1, 60, nothing) MDPState(UAVState(2, 1, :S), 1, 60, nothing) … MDPState(UAVState(29, 1, :S), 1, 60, nothing) MDPState(UAVState(30, 1, :S), 1, 60, nothing); MDPState(UAVState(1, 2, :S), 1, 60, nothing) MDPState(UAVState(2, 2, :S), 1, 60, nothing) … MDPState(UAVState(29, 2, :S), 1, 60, nothing) MDPState(UAVState(30, 2, :S), 1, 60, nothing); … ; MDPState(UAVState(1, 29, :S), 1, 60, nothing) MDPState(UAVState(2, 29, :S), 1, 60, nothing) … MDPState(UAVState(29, 29, :S), 1, 60, nothing) MDPState(UAVState(30, 29, :S), 1, 60, nothing); MDPState(UAVState(1, 30, :S), 1, 60, nothing) MDPState(UAVState(2, 30, :S), 1, 60, nothing) … MDPState(UAVState(29, 30, :S), 1, 60, nothing) MDPState(UAVState(30, 30, :S), 1, 60, nothing);;; MDPState(UAVState(1, 1, :SE), 1, 60, nothing) MDPState(UAVState(2, 1, :SE), 1, 60, nothing) … MDPState(UAVState(29, 1, :SE), 1, 60, nothing) MDPState(UAVState(30, 1, :SE), 1, 60, nothing); MDPState(UAVState(1, 2, :SE), 1, 60, nothing) MDPState(UAVState(2, 2, :SE), 1, 60, nothing) … MDPState(UAVState(29, 2, :SE), 1, 60, nothing) MDPState(UAVState(30, 2, :SE), 1, 60, nothing); … ; MDPState(UAVState(1, 29, :SE), 1, 60, nothing) MDPState(UAVState(2, 29, :SE), 1, 60, nothing) … MDPState(UAVState(29, 29, :SE), 1, 60, nothing) MDPState(UAVState(30, 29, :SE), 1, 60, nothing); MDPState(UAVState(1, 30, :SE), 1, 60, nothing) MDPState(UAVState(2, 30, :SE), 1, 60, nothing) … MDPState(UAVState(29, 30, :SE), 1, 60, nothing) MDPState(UAVState(30, 30, :SE), 1, 60, nothing);;;; MDPState(UAVState(1, 1, :E), 2, 60, nothing) MDPState(UAVState(2, 1, :E), 2, 60, nothing) … MDPState(UAVState(29, 1, :E), 2, 60, nothing) MDPState(UAVState(30, 1, :E), 2, 60, nothing); MDPState(UAVState(1, 2, :E), 2, 60, nothing) MDPState(UAVState(2, 2, :E), 2, 60, nothing) … MDPState(UAVState(29, 2, :E), 2, 60, nothing) MDPState(UAVState(30, 2, :E), 2, 60, nothing); … ; MDPState(UAVState(1, 29, :E), 2, 60, nothing) MDPState(UAVState(2, 29, :E), 2, 60, nothing) … MDPState(UAVState(29, 29, :E), 2, 60, nothing) MDPState(UAVState(30, 29, :E), 2, 60, nothing); MDPState(UAVState(1, 30, :E), 2, 60, nothing) MDPState(UAVState(2, 30, :E), 2, 60, nothing) … MDPState(UAVState(29, 30, :E), 2, 60, nothing) MDPState(UAVState(30, 30, :E), 2, 60, nothing);;; MDPState(UAVState(1, 1, :NE), 2, 60, nothing) MDPState(UAVState(2, 1, :NE), 2, 60, nothing) … MDPState(UAVState(29, 1, :NE), 2, 60, nothing) MDPState(UAVState(30, 1, :NE), 2, 60, nothing); MDPState(UAVState(1, 2, :NE), 2, 60, nothing) MDPState(UAVState(2, 2, :NE), 2, 60, nothing) … MDPState(UAVState(29, 2, :NE), 2, 60, nothing) MDPState(UAVState(30, 2, :NE), 2, 60, nothing); … ; MDPState(UAVState(1, 29, :NE), 2, 60, nothing) MDPState(UAVState(2, 29, :NE), 2, 60, nothing) … MDPState(UAVState(29, 29, :NE), 2, 60, nothing) MDPState(UAVState(30, 29, :NE), 2, 60, nothing); MDPState(UAVState(1, 30, :NE), 2, 60, nothing) MDPState(UAVState(2, 30, :NE), 2, 60, nothing) … MDPState(UAVState(29, 30, :NE), 2, 60, nothing) MDPState(UAVState(30, 30, :NE), 2, 60, nothing);;; MDPState(UAVState(1, 1, :N), 2, 60, nothing) MDPState(UAVState(2, 1, :N), 2, 60, nothing) … MDPState(UAVState(29, 1, :N), 2, 60, nothing) MDPState(UAVState(30, 1, :N), 2, 60, nothing); MDPState(UAVState(1, 2, :N), 2, 60, nothing) MDPState(UAVState(2, 2, :N), 2, 60, nothing) … MDPState(UAVState(29, 2, :N), 2, 60, nothing) MDPState(UAVState(30, 2, :N), 2, 60, nothing); … ; MDPState(UAVState(1, 29, :N), 2, 60, nothing) MDPState(UAVState(2, 29, :N), 2, 60, nothing) … MDPState(UAVState(29, 29, :N), 2, 60, nothing) MDPState(UAVState(30, 29, :N), 2, 60, nothing); MDPState(UAVState(1, 30, :N), 2, 60, nothing) MDPState(UAVState(2, 30, :N), 2, 60, nothing) … MDPState(UAVState(29, 30, :N), 2, 60, nothing) MDPState(UAVState(30, 30, :N), 2, 60, nothing);;; MDPState(UAVState(1, 1, :NW), 2, 60, nothing) MDPState(UAVState(2, 1, :NW), 2, 60, nothing) … MDPState(UAVState(29, 1, :NW), 2, 60, nothing) MDPState(UAVState(30, 1, :NW), 2, 60, nothing); MDPState(UAVState(1, 2, :NW), 2, 60, nothing) MDPState(UAVState(2, 2, :NW), 2, 60, nothing) … MDPState(UAVState(29, 2, :NW), 2, 60, nothing) MDPState(UAVState(30, 2, :NW), 2, 60, nothing); … ; MDPState(UAVState(1, 29, :NW), 2, 60, nothing) MDPState(UAVState(2, 29, :NW), 2, 60, nothing) … MDPState(UAVState(29, 29, :NW), 2, 60, nothing) MDPState(UAVState(30, 29, :NW), 2, 60, nothing); MDPState(UAVState(1, 30, :NW), 2, 60, nothing) MDPState(UAVState(2, 30, :NW), 2, 60, nothing) … MDPState(UAVState(29, 30, :NW), 2, 60, nothing) MDPState(UAVState(30, 30, :NW), 2, 60, nothing);;; MDPState(UAVState(1, 1, :W), 2, 60, nothing) MDPState(UAVState(2, 1, :W), 2, 60, nothing) … MDPState(UAVState(29, 1, :W), 2, 60, nothing) MDPState(UAVState(30, 1, :W), 2, 60, nothing); MDPState(UAVState(1, 2, :W), 2, 60, nothing) MDPState(UAVState(2, 2, :W), 2, 60, nothing) … MDPState(UAVState(29, 2, :W), 2, 60, nothing) MDPState(UAVState(30, 2, :W), 2, 60, nothing); … ; MDPState(UAVState(1, 29, :W), 2, 60, nothing) MDPState(UAVState(2, 29, :W), 2, 60, nothing) … MDPState(UAVState(29, 29, :W), 2, 60, nothing) MDPState(UAVState(30, 29, :W), 2, 60, nothing); MDPState(UAVState(1, 30, :W), 2, 60, nothing) MDPState(UAVState(2, 30, :W), 2, 60, nothing) … MDPState(UAVState(29, 30, :W), 2, 60, nothing) MDPState(UAVState(30, 30, :W), 2, 60, nothing);;; MDPState(UAVState(1, 1, :SW), 2, 60, nothing) MDPState(UAVState(2, 1, :SW), 2, 60, nothing) … MDPState(UAVState(29, 1, :SW), 2, 60, nothing) MDPState(UAVState(30, 1, :SW), 2, 60, nothing); MDPState(UAVState(1, 2, :SW), 2, 60, nothing) MDPState(UAVState(2, 2, :SW), 2, 60, nothing) … MDPState(UAVState(29, 2, :SW), 2, 60, nothing) MDPState(UAVState(30, 2, :SW), 2, 60, nothing); … ; MDPState(UAVState(1, 29, :SW), 2, 60, nothing) MDPState(UAVState(2, 29, :SW), 2, 60, nothing) … MDPState(UAVState(29, 29, :SW), 2, 60, nothing) MDPState(UAVState(30, 29, :SW), 2, 60, nothing); MDPState(UAVState(1, 30, :SW), 2, 60, nothing) MDPState(UAVState(2, 30, :SW), 2, 60, nothing) … MDPState(UAVState(29, 30, :SW), 2, 60, nothing) MDPState(UAVState(30, 30, :SW), 2, 60, nothing);;; MDPState(UAVState(1, 1, :S), 2, 60, nothing) MDPState(UAVState(2, 1, :S), 2, 60, nothing) … MDPState(UAVState(29, 1, :S), 2, 60, nothing) MDPState(UAVState(30, 1, :S), 2, 60, nothing); MDPState(UAVState(1, 2, :S), 2, 60, nothing) MDPState(UAVState(2, 2, :S), 2, 60, nothing) … MDPState(UAVState(29, 2, :S), 2, 60, nothing) MDPState(UAVState(30, 2, :S), 2, 60, nothing); … ; MDPState(UAVState(1, 29, :S), 2, 60, nothing) MDPState(UAVState(2, 29, :S), 2, 60, nothing) … MDPState(UAVState(29, 29, :S), 2, 60, nothing) MDPState(UAVState(30, 29, :S), 2, 60, nothing); MDPState(UAVState(1, 30, :S), 2, 60, nothing) MDPState(UAVState(2, 30, :S), 2, 60, nothing) … MDPState(UAVState(29, 30, :S), 2, 60, nothing) MDPState(UAVState(30, 30, :S), 2, 60, nothing);;; MDPState(UAVState(1, 1, :SE), 2, 60, nothing) MDPState(UAVState(2, 1, :SE), 2, 60, nothing) … MDPState(UAVState(29, 1, :SE), 2, 60, nothing) MDPState(UAVState(30, 1, :SE), 2, 60, nothing); MDPState(UAVState(1, 2, :SE), 2, 60, nothing) MDPState(UAVState(2, 2, :SE), 2, 60, nothing) … MDPState(UAVState(29, 2, :SE), 2, 60, nothing) MDPState(UAVState(30, 2, :SE), 2, 60, nothing); … ; MDPState(UAVState(1, 29, :SE), 2, 60, nothing) MDPState(UAVState(2, 29, :SE), 2, 60, nothing) … MDPState(UAVState(29, 29, :SE), 2, 60, nothing) MDPState(UAVState(30, 29, :SE), 2, 60, nothing); MDPState(UAVState(1, 30, :SE), 2, 60, nothing) MDPState(UAVState(2, 30, :SE), 2, 60, nothing) … MDPState(UAVState(29, 30, :SE), 2, 60, nothing) MDPState(UAVState(30, 30, :SE), 2, 60, nothing);;;; MDPState(UAVState(1, 1, :E), 3, 60, nothing) MDPState(UAVState(2, 1, :E), 3, 60, nothing) … MDPState(UAVState(29, 1, :E), 3, 60, nothing) MDPState(UAVState(30, 1, :E), 3, 60, nothing); MDPState(UAVState(1, 2, :E), 3, 60, nothing) MDPState(UAVState(2, 2, :E), 3, 60, nothing) … MDPState(UAVState(29, 2, :E), 3, 60, nothing) MDPState(UAVState(30, 2, :E), 3, 60, nothing); … ; MDPState(UAVState(1, 29, :E), 3, 60, nothing) MDPState(UAVState(2, 29, :E), 3, 60, nothing) … MDPState(UAVState(29, 29, :E), 3, 60, nothing) MDPState(UAVState(30, 29, :E), 3, 60, nothing); MDPState(UAVState(1, 30, :E), 3, 60, nothing) MDPState(UAVState(2, 30, :E), 3, 60, nothing) … MDPState(UAVState(29, 30, :E), 3, 60, nothing) MDPState(UAVState(30, 30, :E), 3, 60, nothing);;; MDPState(UAVState(1, 1, :NE), 3, 60, nothing) MDPState(UAVState(2, 1, :NE), 3, 60, nothing) … MDPState(UAVState(29, 1, :NE), 3, 60, nothing) MDPState(UAVState(30, 1, :NE), 3, 60, nothing); MDPState(UAVState(1, 2, :NE), 3, 60, nothing) MDPState(UAVState(2, 2, :NE), 3, 60, nothing) … MDPState(UAVState(29, 2, :NE), 3, 60, nothing) MDPState(UAVState(30, 2, :NE), 3, 60, nothing); … ; MDPState(UAVState(1, 29, :NE), 3, 60, nothing) MDPState(UAVState(2, 29, :NE), 3, 60, nothing) … MDPState(UAVState(29, 29, :NE), 3, 60, nothing) MDPState(UAVState(30, 29, :NE), 3, 60, nothing); MDPState(UAVState(1, 30, :NE), 3, 60, nothing) MDPState(UAVState(2, 30, :NE), 3, 60, nothing) … MDPState(UAVState(29, 30, :NE), 3, 60, nothing) MDPState(UAVState(30, 30, :NE), 3, 60, nothing);;; MDPState(UAVState(1, 1, :N), 3, 60, nothing) MDPState(UAVState(2, 1, :N), 3, 60, nothing) … MDPState(UAVState(29, 1, :N), 3, 60, nothing) MDPState(UAVState(30, 1, :N), 3, 60, nothing); MDPState(UAVState(1, 2, :N), 3, 60, nothing) MDPState(UAVState(2, 2, :N), 3, 60, nothing) … MDPState(UAVState(29, 2, :N), 3, 60, nothing) MDPState(UAVState(30, 2, :N), 3, 60, nothing); … ; MDPState(UAVState(1, 29, :N), 3, 60, nothing) MDPState(UAVState(2, 29, :N), 3, 60, nothing) … MDPState(UAVState(29, 29, :N), 3, 60, nothing) MDPState(UAVState(30, 29, :N), 3, 60, nothing); MDPState(UAVState(1, 30, :N), 3, 60, nothing) MDPState(UAVState(2, 30, :N), 3, 60, nothing) … MDPState(UAVState(29, 30, :N), 3, 60, nothing) MDPState(UAVState(30, 30, :N), 3, 60, nothing);;; MDPState(UAVState(1, 1, :NW), 3, 60, nothing) MDPState(UAVState(2, 1, :NW), 3, 60, nothing) … MDPState(UAVState(29, 1, :NW), 3, 60, nothing) MDPState(UAVState(30, 1, :NW), 3, 60, nothing); MDPState(UAVState(1, 2, :NW), 3, 60, nothing) MDPState(UAVState(2, 2, :NW), 3, 60, nothing) … MDPState(UAVState(29, 2, :NW), 3, 60, nothing) MDPState(UAVState(30, 2, :NW), 3, 60, nothing); … ; MDPState(UAVState(1, 29, :NW), 3, 60, nothing) MDPState(UAVState(2, 29, :NW), 3, 60, nothing) … MDPState(UAVState(29, 29, :NW), 3, 60, nothing) MDPState(UAVState(30, 29, :NW), 3, 60, nothing); MDPState(UAVState(1, 30, :NW), 3, 60, nothing) MDPState(UAVState(2, 30, :NW), 3, 60, nothing) … MDPState(UAVState(29, 30, :NW), 3, 60, nothing) MDPState(UAVState(30, 30, :NW), 3, 60, nothing);;; MDPState(UAVState(1, 1, :W), 3, 60, nothing) MDPState(UAVState(2, 1, :W), 3, 60, nothing) … MDPState(UAVState(29, 1, :W), 3, 60, nothing) MDPState(UAVState(30, 1, :W), 3, 60, nothing); MDPState(UAVState(1, 2, :W), 3, 60, nothing) MDPState(UAVState(2, 2, :W), 3, 60, nothing) … MDPState(UAVState(29, 2, :W), 3, 60, nothing) MDPState(UAVState(30, 2, :W), 3, 60, nothing); … ; MDPState(UAVState(1, 29, :W), 3, 60, nothing) MDPState(UAVState(2, 29, :W), 3, 60, nothing) … MDPState(UAVState(29, 29, :W), 3, 60, nothing) MDPState(UAVState(30, 29, :W), 3, 60, nothing); MDPState(UAVState(1, 30, :W), 3, 60, nothing) MDPState(UAVState(2, 30, :W), 3, 60, nothing) … MDPState(UAVState(29, 30, :W), 3, 60, nothing) MDPState(UAVState(30, 30, :W), 3, 60, nothing);;; MDPState(UAVState(1, 1, :SW), 3, 60, nothing) MDPState(UAVState(2, 1, :SW), 3, 60, nothing) … MDPState(UAVState(29, 1, :SW), 3, 60, nothing) MDPState(UAVState(30, 1, :SW), 3, 60, nothing); MDPState(UAVState(1, 2, :SW), 3, 60, nothing) MDPState(UAVState(2, 2, :SW), 3, 60, nothing) … MDPState(UAVState(29, 2, :SW), 3, 60, nothing) MDPState(UAVState(30, 2, :SW), 3, 60, nothing); … ; MDPState(UAVState(1, 29, :SW), 3, 60, nothing) MDPState(UAVState(2, 29, :SW), 3, 60, nothing) … MDPState(UAVState(29, 29, :SW), 3, 60, nothing) MDPState(UAVState(30, 29, :SW), 3, 60, nothing); MDPState(UAVState(1, 30, :SW), 3, 60, nothing) MDPState(UAVState(2, 30, :SW), 3, 60, nothing) … MDPState(UAVState(29, 30, :SW), 3, 60, nothing) MDPState(UAVState(30, 30, :SW), 3, 60, nothing);;; MDPState(UAVState(1, 1, :S), 3, 60, nothing) MDPState(UAVState(2, 1, :S), 3, 60, nothing) … MDPState(UAVState(29, 1, :S), 3, 60, nothing) MDPState(UAVState(30, 1, :S), 3, 60, nothing); MDPState(UAVState(1, 2, :S), 3, 60, nothing) MDPState(UAVState(2, 2, :S), 3, 60, nothing) … MDPState(UAVState(29, 2, :S), 3, 60, nothing) MDPState(UAVState(30, 2, :S), 3, 60, nothing); … ; MDPState(UAVState(1, 29, :S), 3, 60, nothing) MDPState(UAVState(2, 29, :S), 3, 60, nothing) … MDPState(UAVState(29, 29, :S), 3, 60, nothing) MDPState(UAVState(30, 29, :S), 3, 60, nothing); MDPState(UAVState(1, 30, :S), 3, 60, nothing) MDPState(UAVState(2, 30, :S), 3, 60, nothing) … MDPState(UAVState(29, 30, :S), 3, 60, nothing) MDPState(UAVState(30, 30, :S), 3, 60, nothing);;; MDPState(UAVState(1, 1, :SE), 3, 60, nothing) MDPState(UAVState(2, 1, :SE), 3, 60, nothing) … MDPState(UAVState(29, 1, :SE), 3, 60, nothing) MDPState(UAVState(30, 1, :SE), 3, 60, nothing); MDPState(UAVState(1, 2, :SE), 3, 60, nothing) MDPState(UAVState(2, 2, :SE), 3, 60, nothing) … MDPState(UAVState(29, 2, :SE), 3, 60, nothing) MDPState(UAVState(30, 2, :SE), 3, 60, nothing); … ; MDPState(UAVState(1, 29, :SE), 3, 60, nothing) MDPState(UAVState(2, 29, :SE), 3, 60, nothing) … MDPState(UAVState(29, 29, :SE), 3, 60, nothing) MDPState(UAVState(30, 29, :SE), 3, 60, nothing); MDPState(UAVState(1, 30, :SE), 3, 60, nothing) MDPState(UAVState(2, 30, :SE), 3, 60, nothing) … MDPState(UAVState(29, 30, :SE), 3, 60, nothing) MDPState(UAVState(30, 30, :SE), 3, 60, nothing);;;; … ;;;; MDPState(UAVState(1, 1, :E), 58, 60, nothing) MDPState(UAVState(2, 1, :E), 58, 60, nothing) … MDPState(UAVState(29, 1, :E), 58, 60, nothing) MDPState(UAVState(30, 1, :E), 58, 60, nothing); MDPState(UAVState(1, 2, :E), 58, 60, nothing) MDPState(UAVState(2, 2, :E), 58, 60, nothing) … MDPState(UAVState(29, 2, :E), 58, 60, nothing) MDPState(UAVState(30, 2, :E), 58, 60, nothing); … ; MDPState(UAVState(1, 29, :E), 58, 60, nothing) MDPState(UAVState(2, 29, :E), 58, 60, nothing) … MDPState(UAVState(29, 29, :E), 58, 60, nothing) MDPState(UAVState(30, 29, :E), 58, 60, nothing); MDPState(UAVState(1, 30, :E), 58, 60, nothing) MDPState(UAVState(2, 30, :E), 58, 60, nothing) … MDPState(UAVState(29, 30, :E), 58, 60, nothing) MDPState(UAVState(30, 30, :E), 58, 60, nothing);;; MDPState(UAVState(1, 1, :NE), 58, 60, nothing) MDPState(UAVState(2, 1, :NE), 58, 60, nothing) … MDPState(UAVState(29, 1, :NE), 58, 60, nothing) MDPState(UAVState(30, 1, :NE), 58, 60, nothing); MDPState(UAVState(1, 2, :NE), 58, 60, nothing) MDPState(UAVState(2, 2, :NE), 58, 60, nothing) … MDPState(UAVState(29, 2, :NE), 58, 60, nothing) MDPState(UAVState(30, 2, :NE), 58, 60, nothing); … ; MDPState(UAVState(1, 29, :NE), 58, 60, nothing) MDPState(UAVState(2, 29, :NE), 58, 60, nothing) … MDPState(UAVState(29, 29, :NE), 58, 60, nothing) MDPState(UAVState(30, 29, :NE), 58, 60, nothing); MDPState(UAVState(1, 30, :NE), 58, 60, nothing) MDPState(UAVState(2, 30, :NE), 58, 60, nothing) … MDPState(UAVState(29, 30, :NE), 58, 60, nothing) MDPState(UAVState(30, 30, :NE), 58, 60, nothing);;; MDPState(UAVState(1, 1, :N), 58, 60, nothing) MDPState(UAVState(2, 1, :N), 58, 60, nothing) … MDPState(UAVState(29, 1, :N), 58, 60, nothing) MDPState(UAVState(30, 1, :N), 58, 60, nothing); MDPState(UAVState(1, 2, :N), 58, 60, nothing) MDPState(UAVState(2, 2, :N), 58, 60, nothing) … MDPState(UAVState(29, 2, :N), 58, 60, nothing) MDPState(UAVState(30, 2, :N), 58, 60, nothing); … ; MDPState(UAVState(1, 29, :N), 58, 60, nothing) MDPState(UAVState(2, 29, :N), 58, 60, nothing) … MDPState(UAVState(29, 29, :N), 58, 60, nothing) MDPState(UAVState(30, 29, :N), 58, 60, nothing); MDPState(UAVState(1, 30, :N), 58, 60, nothing) MDPState(UAVState(2, 30, :N), 58, 60, nothing) … MDPState(UAVState(29, 30, :N), 58, 60, nothing) MDPState(UAVState(30, 30, :N), 58, 60, nothing);;; MDPState(UAVState(1, 1, :NW), 58, 60, nothing) MDPState(UAVState(2, 1, :NW), 58, 60, nothing) … MDPState(UAVState(29, 1, :NW), 58, 60, nothing) MDPState(UAVState(30, 1, :NW), 58, 60, nothing); MDPState(UAVState(1, 2, :NW), 58, 60, nothing) MDPState(UAVState(2, 2, :NW), 58, 60, nothing) … MDPState(UAVState(29, 2, :NW), 58, 60, nothing) MDPState(UAVState(30, 2, :NW), 58, 60, nothing); … ; MDPState(UAVState(1, 29, :NW), 58, 60, nothing) MDPState(UAVState(2, 29, :NW), 58, 60, nothing) … MDPState(UAVState(29, 29, :NW), 58, 60, nothing) MDPState(UAVState(30, 29, :NW), 58, 60, nothing); MDPState(UAVState(1, 30, :NW), 58, 60, nothing) MDPState(UAVState(2, 30, :NW), 58, 60, nothing) … MDPState(UAVState(29, 30, :NW), 58, 60, nothing) MDPState(UAVState(30, 30, :NW), 58, 60, nothing);;; MDPState(UAVState(1, 1, :W), 58, 60, nothing) MDPState(UAVState(2, 1, :W), 58, 60, nothing) … MDPState(UAVState(29, 1, :W), 58, 60, nothing) MDPState(UAVState(30, 1, :W), 58, 60, nothing); MDPState(UAVState(1, 2, :W), 58, 60, nothing) MDPState(UAVState(2, 2, :W), 58, 60, nothing) … MDPState(UAVState(29, 2, :W), 58, 60, nothing) MDPState(UAVState(30, 2, :W), 58, 60, nothing); … ; MDPState(UAVState(1, 29, :W), 58, 60, nothing) MDPState(UAVState(2, 29, :W), 58, 60, nothing) … MDPState(UAVState(29, 29, :W), 58, 60, nothing) MDPState(UAVState(30, 29, :W), 58, 60, nothing); MDPState(UAVState(1, 30, :W), 58, 60, nothing) MDPState(UAVState(2, 30, :W), 58, 60, nothing) … MDPState(UAVState(29, 30, :W), 58, 60, nothing) MDPState(UAVState(30, 30, :W), 58, 60, nothing);;; MDPState(UAVState(1, 1, :SW), 58, 60, nothing) MDPState(UAVState(2, 1, :SW), 58, 60, nothing) … MDPState(UAVState(29, 1, :SW), 58, 60, nothing) MDPState(UAVState(30, 1, :SW), 58, 60, nothing); MDPState(UAVState(1, 2, :SW), 58, 60, nothing) MDPState(UAVState(2, 2, :SW), 58, 60, nothing) … MDPState(UAVState(29, 2, :SW), 58, 60, nothing) MDPState(UAVState(30, 2, :SW), 58, 60, nothing); … ; MDPState(UAVState(1, 29, :SW), 58, 60, nothing) MDPState(UAVState(2, 29, :SW), 58, 60, nothing) … MDPState(UAVState(29, 29, :SW), 58, 60, nothing) MDPState(UAVState(30, 29, :SW), 58, 60, nothing); MDPState(UAVState(1, 30, :SW), 58, 60, nothing) MDPState(UAVState(2, 30, :SW), 58, 60, nothing) … MDPState(UAVState(29, 30, :SW), 58, 60, nothing) MDPState(UAVState(30, 30, :SW), 58, 60, nothing);;; MDPState(UAVState(1, 1, :S), 58, 60, nothing) MDPState(UAVState(2, 1, :S), 58, 60, nothing) … MDPState(UAVState(29, 1, :S), 58, 60, nothing) MDPState(UAVState(30, 1, :S), 58, 60, nothing); MDPState(UAVState(1, 2, :S), 58, 60, nothing) MDPState(UAVState(2, 2, :S), 58, 60, nothing) … MDPState(UAVState(29, 2, :S), 58, 60, nothing) MDPState(UAVState(30, 2, :S), 58, 60, nothing); … ; MDPState(UAVState(1, 29, :S), 58, 60, nothing) MDPState(UAVState(2, 29, :S), 58, 60, nothing) … MDPState(UAVState(29, 29, :S), 58, 60, nothing) MDPState(UAVState(30, 29, :S), 58, 60, nothing); MDPState(UAVState(1, 30, :S), 58, 60, nothing) MDPState(UAVState(2, 30, :S), 58, 60, nothing) … MDPState(UAVState(29, 30, :S), 58, 60, nothing) MDPState(UAVState(30, 30, :S), 58, 60, nothing);;; MDPState(UAVState(1, 1, :SE), 58, 60, nothing) MDPState(UAVState(2, 1, :SE), 58, 60, nothing) … MDPState(UAVState(29, 1, :SE), 58, 60, nothing) MDPState(UAVState(30, 1, :SE), 58, 60, nothing); MDPState(UAVState(1, 2, :SE), 58, 60, nothing) MDPState(UAVState(2, 2, :SE), 58, 60, nothing) … MDPState(UAVState(29, 2, :SE), 58, 60, nothing) MDPState(UAVState(30, 2, :SE), 58, 60, nothing); … ; MDPState(UAVState(1, 29, :SE), 58, 60, nothing) MDPState(UAVState(2, 29, :SE), 58, 60, nothing) … MDPState(UAVState(29, 29, :SE), 58, 60, nothing) MDPState(UAVState(30, 29, :SE), 58, 60, nothing); MDPState(UAVState(1, 30, :SE), 58, 60, nothing) MDPState(UAVState(2, 30, :SE), 58, 60, nothing) … MDPState(UAVState(29, 30, :SE), 58, 60, nothing) MDPState(UAVState(30, 30, :SE), 58, 60, nothing);;;; MDPState(UAVState(1, 1, :E), 59, 60, nothing) MDPState(UAVState(2, 1, :E), 59, 60, nothing) … MDPState(UAVState(29, 1, :E), 59, 60, nothing) MDPState(UAVState(30, 1, :E), 59, 60, nothing); MDPState(UAVState(1, 2, :E), 59, 60, nothing) MDPState(UAVState(2, 2, :E), 59, 60, nothing) … MDPState(UAVState(29, 2, :E), 59, 60, nothing) MDPState(UAVState(30, 2, :E), 59, 60, nothing); … ; MDPState(UAVState(1, 29, :E), 59, 60, nothing) MDPState(UAVState(2, 29, :E), 59, 60, nothing) … MDPState(UAVState(29, 29, :E), 59, 60, nothing) MDPState(UAVState(30, 29, :E), 59, 60, nothing); MDPState(UAVState(1, 30, :E), 59, 60, nothing) MDPState(UAVState(2, 30, :E), 59, 60, nothing) … MDPState(UAVState(29, 30, :E), 59, 60, nothing) MDPState(UAVState(30, 30, :E), 59, 60, nothing);;; MDPState(UAVState(1, 1, :NE), 59, 60, nothing) MDPState(UAVState(2, 1, :NE), 59, 60, nothing) … MDPState(UAVState(29, 1, :NE), 59, 60, nothing) MDPState(UAVState(30, 1, :NE), 59, 60, nothing); MDPState(UAVState(1, 2, :NE), 59, 60, nothing) MDPState(UAVState(2, 2, :NE), 59, 60, nothing) … MDPState(UAVState(29, 2, :NE), 59, 60, nothing) MDPState(UAVState(30, 2, :NE), 59, 60, nothing); … ; MDPState(UAVState(1, 29, :NE), 59, 60, nothing) MDPState(UAVState(2, 29, :NE), 59, 60, nothing) … MDPState(UAVState(29, 29, :NE), 59, 60, nothing) MDPState(UAVState(30, 29, :NE), 59, 60, nothing); MDPState(UAVState(1, 30, :NE), 59, 60, nothing) MDPState(UAVState(2, 30, :NE), 59, 60, nothing) … MDPState(UAVState(29, 30, :NE), 59, 60, nothing) MDPState(UAVState(30, 30, :NE), 59, 60, nothing);;; MDPState(UAVState(1, 1, :N), 59, 60, nothing) MDPState(UAVState(2, 1, :N), 59, 60, nothing) … MDPState(UAVState(29, 1, :N), 59, 60, nothing) MDPState(UAVState(30, 1, :N), 59, 60, nothing); MDPState(UAVState(1, 2, :N), 59, 60, nothing) MDPState(UAVState(2, 2, :N), 59, 60, nothing) … MDPState(UAVState(29, 2, :N), 59, 60, nothing) MDPState(UAVState(30, 2, :N), 59, 60, nothing); … ; MDPState(UAVState(1, 29, :N), 59, 60, nothing) MDPState(UAVState(2, 29, :N), 59, 60, nothing) … MDPState(UAVState(29, 29, :N), 59, 60, nothing) MDPState(UAVState(30, 29, :N), 59, 60, nothing); MDPState(UAVState(1, 30, :N), 59, 60, nothing) MDPState(UAVState(2, 30, :N), 59, 60, nothing) … MDPState(UAVState(29, 30, :N), 59, 60, nothing) MDPState(UAVState(30, 30, :N), 59, 60, nothing);;; MDPState(UAVState(1, 1, :NW), 59, 60, nothing) MDPState(UAVState(2, 1, :NW), 59, 60, nothing) … MDPState(UAVState(29, 1, :NW), 59, 60, nothing) MDPState(UAVState(30, 1, :NW), 59, 60, nothing); MDPState(UAVState(1, 2, :NW), 59, 60, nothing) MDPState(UAVState(2, 2, :NW), 59, 60, nothing) … MDPState(UAVState(29, 2, :NW), 59, 60, nothing) MDPState(UAVState(30, 2, :NW), 59, 60, nothing); … ; MDPState(UAVState(1, 29, :NW), 59, 60, nothing) MDPState(UAVState(2, 29, :NW), 59, 60, nothing) … MDPState(UAVState(29, 29, :NW), 59, 60, nothing) MDPState(UAVState(30, 29, :NW), 59, 60, nothing); MDPState(UAVState(1, 30, :NW), 59, 60, nothing) MDPState(UAVState(2, 30, :NW), 59, 60, nothing) … MDPState(UAVState(29, 30, :NW), 59, 60, nothing) MDPState(UAVState(30, 30, :NW), 59, 60, nothing);;; MDPState(UAVState(1, 1, :W), 59, 60, nothing) MDPState(UAVState(2, 1, :W), 59, 60, nothing) … MDPState(UAVState(29, 1, :W), 59, 60, nothing) MDPState(UAVState(30, 1, :W), 59, 60, nothing); MDPState(UAVState(1, 2, :W), 59, 60, nothing) MDPState(UAVState(2, 2, :W), 59, 60, nothing) … MDPState(UAVState(29, 2, :W), 59, 60, nothing) MDPState(UAVState(30, 2, :W), 59, 60, nothing); … ; MDPState(UAVState(1, 29, :W), 59, 60, nothing) MDPState(UAVState(2, 29, :W), 59, 60, nothing) … MDPState(UAVState(29, 29, :W), 59, 60, nothing) MDPState(UAVState(30, 29, :W), 59, 60, nothing); MDPState(UAVState(1, 30, :W), 59, 60, nothing) MDPState(UAVState(2, 30, :W), 59, 60, nothing) … MDPState(UAVState(29, 30, :W), 59, 60, nothing) MDPState(UAVState(30, 30, :W), 59, 60, nothing);;; MDPState(UAVState(1, 1, :SW), 59, 60, nothing) MDPState(UAVState(2, 1, :SW), 59, 60, nothing) … MDPState(UAVState(29, 1, :SW), 59, 60, nothing) MDPState(UAVState(30, 1, :SW), 59, 60, nothing); MDPState(UAVState(1, 2, :SW), 59, 60, nothing) MDPState(UAVState(2, 2, :SW), 59, 60, nothing) … MDPState(UAVState(29, 2, :SW), 59, 60, nothing) MDPState(UAVState(30, 2, :SW), 59, 60, nothing); … ; MDPState(UAVState(1, 29, :SW), 59, 60, nothing) MDPState(UAVState(2, 29, :SW), 59, 60, nothing) … MDPState(UAVState(29, 29, :SW), 59, 60, nothing) MDPState(UAVState(30, 29, :SW), 59, 60, nothing); MDPState(UAVState(1, 30, :SW), 59, 60, nothing) MDPState(UAVState(2, 30, :SW), 59, 60, nothing) … MDPState(UAVState(29, 30, :SW), 59, 60, nothing) MDPState(UAVState(30, 30, :SW), 59, 60, nothing);;; MDPState(UAVState(1, 1, :S), 59, 60, nothing) MDPState(UAVState(2, 1, :S), 59, 60, nothing) … MDPState(UAVState(29, 1, :S), 59, 60, nothing) MDPState(UAVState(30, 1, :S), 59, 60, nothing); MDPState(UAVState(1, 2, :S), 59, 60, nothing) MDPState(UAVState(2, 2, :S), 59, 60, nothing) … MDPState(UAVState(29, 2, :S), 59, 60, nothing) MDPState(UAVState(30, 2, :S), 59, 60, nothing); … ; MDPState(UAVState(1, 29, :S), 59, 60, nothing) MDPState(UAVState(2, 29, :S), 59, 60, nothing) … MDPState(UAVState(29, 29, :S), 59, 60, nothing) MDPState(UAVState(30, 29, :S), 59, 60, nothing); MDPState(UAVState(1, 30, :S), 59, 60, nothing) MDPState(UAVState(2, 30, :S), 59, 60, nothing) … MDPState(UAVState(29, 30, :S), 59, 60, nothing) MDPState(UAVState(30, 30, :S), 59, 60, nothing);;; MDPState(UAVState(1, 1, :SE), 59, 60, nothing) MDPState(UAVState(2, 1, :SE), 59, 60, nothing) … MDPState(UAVState(29, 1, :SE), 59, 60, nothing) MDPState(UAVState(30, 1, :SE), 59, 60, nothing); MDPState(UAVState(1, 2, :SE), 59, 60, nothing) MDPState(UAVState(2, 2, :SE), 59, 60, nothing) … MDPState(UAVState(29, 2, :SE), 59, 60, nothing) MDPState(UAVState(30, 2, :SE), 59, 60, nothing); … ; MDPState(UAVState(1, 29, :SE), 59, 60, nothing) MDPState(UAVState(2, 29, :SE), 59, 60, nothing) … MDPState(UAVState(29, 29, :SE), 59, 60, nothing) MDPState(UAVState(30, 29, :SE), 59, 60, nothing); MDPState(UAVState(1, 30, :SE), 59, 60, nothing) MDPState(UAVState(2, 30, :SE), 59, 60, nothing) … MDPState(UAVState(29, 30, :SE), 59, 60, nothing) MDPState(UAVState(30, 30, :SE), 59, 60, nothing);;;; MDPState(UAVState(1, 1, :E), 60, 60, nothing) MDPState(UAVState(2, 1, :E), 60, 60, nothing) … MDPState(UAVState(29, 1, :E), 60, 60, nothing) MDPState(UAVState(30, 1, :E), 60, 60, nothing); MDPState(UAVState(1, 2, :E), 60, 60, nothing) MDPState(UAVState(2, 2, :E), 60, 60, nothing) … MDPState(UAVState(29, 2, :E), 60, 60, nothing) MDPState(UAVState(30, 2, :E), 60, 60, nothing); … ; MDPState(UAVState(1, 29, :E), 60, 60, nothing) MDPState(UAVState(2, 29, :E), 60, 60, nothing) … MDPState(UAVState(29, 29, :E), 60, 60, nothing) MDPState(UAVState(30, 29, :E), 60, 60, nothing); MDPState(UAVState(1, 30, :E), 60, 60, nothing) MDPState(UAVState(2, 30, :E), 60, 60, nothing) … MDPState(UAVState(29, 30, :E), 60, 60, nothing) MDPState(UAVState(30, 30, :E), 60, 60, nothing);;; MDPState(UAVState(1, 1, :NE), 60, 60, nothing) MDPState(UAVState(2, 1, :NE), 60, 60, nothing) … MDPState(UAVState(29, 1, :NE), 60, 60, nothing) MDPState(UAVState(30, 1, :NE), 60, 60, nothing); MDPState(UAVState(1, 2, :NE), 60, 60, nothing) MDPState(UAVState(2, 2, :NE), 60, 60, nothing) … MDPState(UAVState(29, 2, :NE), 60, 60, nothing) MDPState(UAVState(30, 2, :NE), 60, 60, nothing); … ; MDPState(UAVState(1, 29, :NE), 60, 60, nothing) MDPState(UAVState(2, 29, :NE), 60, 60, nothing) … MDPState(UAVState(29, 29, :NE), 60, 60, nothing) MDPState(UAVState(30, 29, :NE), 60, 60, nothing); MDPState(UAVState(1, 30, :NE), 60, 60, nothing) MDPState(UAVState(2, 30, :NE), 60, 60, nothing) … MDPState(UAVState(29, 30, :NE), 60, 60, nothing) MDPState(UAVState(30, 30, :NE), 60, 60, nothing);;; MDPState(UAVState(1, 1, :N), 60, 60, nothing) MDPState(UAVState(2, 1, :N), 60, 60, nothing) … MDPState(UAVState(29, 1, :N), 60, 60, nothing) MDPState(UAVState(30, 1, :N), 60, 60, nothing); MDPState(UAVState(1, 2, :N), 60, 60, nothing) MDPState(UAVState(2, 2, :N), 60, 60, nothing) … MDPState(UAVState(29, 2, :N), 60, 60, nothing) MDPState(UAVState(30, 2, :N), 60, 60, nothing); … ; MDPState(UAVState(1, 29, :N), 60, 60, nothing) MDPState(UAVState(2, 29, :N), 60, 60, nothing) … MDPState(UAVState(29, 29, :N), 60, 60, nothing) MDPState(UAVState(30, 29, :N), 60, 60, nothing); MDPState(UAVState(1, 30, :N), 60, 60, nothing) MDPState(UAVState(2, 30, :N), 60, 60, nothing) … MDPState(UAVState(29, 30, :N), 60, 60, nothing) MDPState(UAVState(30, 30, :N), 60, 60, nothing);;; MDPState(UAVState(1, 1, :NW), 60, 60, nothing) MDPState(UAVState(2, 1, :NW), 60, 60, nothing) … MDPState(UAVState(29, 1, :NW), 60, 60, nothing) MDPState(UAVState(30, 1, :NW), 60, 60, nothing); MDPState(UAVState(1, 2, :NW), 60, 60, nothing) MDPState(UAVState(2, 2, :NW), 60, 60, nothing) … MDPState(UAVState(29, 2, :NW), 60, 60, nothing) MDPState(UAVState(30, 2, :NW), 60, 60, nothing); … ; MDPState(UAVState(1, 29, :NW), 60, 60, nothing) MDPState(UAVState(2, 29, :NW), 60, 60, nothing) … MDPState(UAVState(29, 29, :NW), 60, 60, nothing) MDPState(UAVState(30, 29, :NW), 60, 60, nothing); MDPState(UAVState(1, 30, :NW), 60, 60, nothing) MDPState(UAVState(2, 30, :NW), 60, 60, nothing) … MDPState(UAVState(29, 30, :NW), 60, 60, nothing) MDPState(UAVState(30, 30, :NW), 60, 60, nothing);;; MDPState(UAVState(1, 1, :W), 60, 60, nothing) MDPState(UAVState(2, 1, :W), 60, 60, nothing) … MDPState(UAVState(29, 1, :W), 60, 60, nothing) MDPState(UAVState(30, 1, :W), 60, 60, nothing); MDPState(UAVState(1, 2, :W), 60, 60, nothing) MDPState(UAVState(2, 2, :W), 60, 60, nothing) … MDPState(UAVState(29, 2, :W), 60, 60, nothing) MDPState(UAVState(30, 2, :W), 60, 60, nothing); … ; MDPState(UAVState(1, 29, :W), 60, 60, nothing) MDPState(UAVState(2, 29, :W), 60, 60, nothing) … MDPState(UAVState(29, 29, :W), 60, 60, nothing) MDPState(UAVState(30, 29, :W), 60, 60, nothing); MDPState(UAVState(1, 30, :W), 60, 60, nothing) MDPState(UAVState(2, 30, :W), 60, 60, nothing) … MDPState(UAVState(29, 30, :W), 60, 60, nothing) MDPState(UAVState(30, 30, :W), 60, 60, nothing);;; MDPState(UAVState(1, 1, :SW), 60, 60, nothing) MDPState(UAVState(2, 1, :SW), 60, 60, nothing) … MDPState(UAVState(29, 1, :SW), 60, 60, nothing) MDPState(UAVState(30, 1, :SW), 60, 60, nothing); MDPState(UAVState(1, 2, :SW), 60, 60, nothing) MDPState(UAVState(2, 2, :SW), 60, 60, nothing) … MDPState(UAVState(29, 2, :SW), 60, 60, nothing) MDPState(UAVState(30, 2, :SW), 60, 60, nothing); … ; MDPState(UAVState(1, 29, :SW), 60, 60, nothing) MDPState(UAVState(2, 29, :SW), 60, 60, nothing) … MDPState(UAVState(29, 29, :SW), 60, 60, nothing) MDPState(UAVState(30, 29, :SW), 60, 60, nothing); MDPState(UAVState(1, 30, :SW), 60, 60, nothing) MDPState(UAVState(2, 30, :SW), 60, 60, nothing) … MDPState(UAVState(29, 30, :SW), 60, 60, nothing) MDPState(UAVState(30, 30, :SW), 60, 60, nothing);;; MDPState(UAVState(1, 1, :S), 60, 60, nothing) MDPState(UAVState(2, 1, :S), 60, 60, nothing) … MDPState(UAVState(29, 1, :S), 60, 60, nothing) MDPState(UAVState(30, 1, :S), 60, 60, nothing); MDPState(UAVState(1, 2, :S), 60, 60, nothing) MDPState(UAVState(2, 2, :S), 60, 60, nothing) … MDPState(UAVState(29, 2, :S), 60, 60, nothing) MDPState(UAVState(30, 2, :S), 60, 60, nothing); … ; MDPState(UAVState(1, 29, :S), 60, 60, nothing) MDPState(UAVState(2, 29, :S), 60, 60, nothing) … MDPState(UAVState(29, 29, :S), 60, 60, nothing) MDPState(UAVState(30, 29, :S), 60, 60, nothing); MDPState(UAVState(1, 30, :S), 60, 60, nothing) MDPState(UAVState(2, 30, :S), 60, 60, nothing) … MDPState(UAVState(29, 30, :S), 60, 60, nothing) MDPState(UAVState(30, 30, :S), 60, 60, nothing);;; MDPState(UAVState(1, 1, :SE), 60, 60, nothing) MDPState(UAVState(2, 1, :SE), 60, 60, nothing) … MDPState(UAVState(29, 1, :SE), 60, 60, nothing) MDPState(UAVState(30, 1, :SE), 60, 60, nothing); MDPState(UAVState(1, 2, :SE), 60, 60, nothing) MDPState(UAVState(2, 2, :SE), 60, 60, nothing) … MDPState(UAVState(29, 2, :SE), 60, 60, nothing) MDPState(UAVState(30, 2, :SE), 60, 60, nothing); … ; MDPState(UAVState(1, 29, :SE), 60, 60, nothing) MDPState(UAVState(2, 29, :SE), 60, 60, nothing) … MDPState(UAVState(29, 29, :SE), 60, 60, nothing) MDPState(UAVState(30, 29, :SE), 60, 60, nothing); MDPState(UAVState(1, 30, :SE), 60, 60, nothing) MDPState(UAVState(2, 30, :SE), 60, 60, nothing) … MDPState(UAVState(29, 30, :SE), 60, 60, nothing) MDPState(UAVState(30, 30, :SE), 60, 60, nothing)]), ViewConeSensor(1.4660766124725342, 30.0), 60, 3.0))"
      ]
     },
     "execution_count": 11,
     "metadata": {},
     "output_type": "execute_result"
    }
   ],
   "source": [
    "# Experiment name\n",
    "# This must match the blend file name and will name the folder \n",
    "# for which experiment data is saved in /output\n",
    "experiment_name=\"spreadout_group\"\n",
    "# Set model parameters\n",
    "focal_length = [19.99, 19.99]#mm\n",
    "resolution = [3840.0,2160.0]\n",
    "lens_dim = [35.00,24.00] #mm\n",
    "pitch = -pi/2\n",
    "cutoff = 5.\n",
    "sensor = MDMA.PinholeCameraModel(focal_length, resolution, lens_dim, 0.0, pitch, cutoff) \n",
    "move_dist = 3;\n",
    "multi_configs = configs_from_file(\"../../blender/$(experiment_name)_data.json\",experiment_name, move_dist)\n",
    "# model = MDMA.SingleRobotMultiTargetViewCoverageProblem(grid, sensor, horizon, target_trajectories, move_dist);\n",
    "robot_states = map(x->MDMA.random_state(multi_configs.horizon, multi_configs.grid), 1:multi_configs.num_robots)\n",
    "robot_states = map(x->MDMA.random_state(multi_configs.horizon, multi_configs.grid), 1:multi_configs.num_robots)\n",
    "multi_problem = MDMA.MultiRobotTargetCoverageProblem(robot_states, multi_configs)"
   ]
  },
  {
   "cell_type": "code",
   "execution_count": null,
   "metadata": {},
   "outputs": [
    {
     "name": "stdout",
     "output_type": "stream",
     "text": [
      "Processing Robot 1\n",
      "[Iteration 1   ] residual:        221 | iteration runtime: 206921.770 ms, (       207 s total)\n"
     ]
    }
   ],
   "source": [
    "# policy = MDMA.solve_single_robot(model)\n",
    "\n",
    "# Will need a grid for each robot\n",
    "\n",
    "solution = solve_sequential(multi_problem)"
   ]
  },
  {
   "cell_type": "code",
   "execution_count": 13,
   "metadata": {},
   "outputs": [
    {
     "ename": "LoadError",
     "evalue": "UndefVarError: solution not defined",
     "output_type": "error",
     "traceback": [
      "UndefVarError: solution not defined",
      "",
      "Stacktrace:",
      " [1] top-level scope",
      "   @ ./In[13]:2",
      " [2] eval",
      "   @ ./boot.jl:368 [inlined]",
      " [3] include_string(mapexpr::typeof(REPL.softscope), mod::Module, code::String, filename::String)",
      "   @ Base ./loading.jl:1428"
     ]
    }
   ],
   "source": [
    "paths = Vector{Vector{MDMA.MDPState}}(undef, 0)\n",
    "for sol in solution.elements\n",
    "    push!(paths, sol[2])\n",
    "end\n",
    "draw_frames(RenderConf(50, 4, true, false), multi_configs, paths)\n"
   ]
  },
  {
   "cell_type": "code",
   "execution_count": 14,
   "metadata": {},
   "outputs": [
    {
     "ename": "LoadError",
     "evalue": "UndefVarError: model not defined",
     "output_type": "error",
     "traceback": [
      "UndefVarError: model not defined",
      "",
      "Stacktrace:",
      " [1] top-level scope",
      "   @ In[14]:1",
      " [2] eval",
      "   @ ./boot.jl:368 [inlined]",
      " [3] include_string(mapexpr::typeof(REPL.softscope), mod::Module, code::String, filename::String)",
      "   @ Base ./loading.jl:1428"
     ]
    }
   ],
   "source": [
    "draw_frames(RenderConf(50, 4, true, true), model, path)"
   ]
  },
  {
   "cell_type": "code",
   "execution_count": 15,
   "metadata": {},
   "outputs": [
    {
     "ename": "LoadError",
     "evalue": "BoundsError: attempt to access 0-element Vector{Vector{MDPState}} at index [0]",
     "output_type": "error",
     "traceback": [
      "BoundsError: attempt to access 0-element Vector{Vector{MDPState}} at index [0]",
      "",
      "Stacktrace:",
      " [1] getindex(A::Vector{Vector{MDPState}}, i1::Int64)",
      "   @ Base ./array.jl:924",
      " [2] top-level scope",
      "   @ In[15]:2",
      " [3] eval",
      "   @ ./boot.jl:368 [inlined]",
      " [4] include_string(mapexpr::typeof(REPL.softscope), mod::Module, code::String, filename::String)",
      "   @ Base ./loading.jl:1428"
     ]
    }
   ],
   "source": [
    "using PyPlot\n",
    "path = paths[0]\n",
    "#p1=scatter3D([],0)\n",
    "fig = plt.figure()\n",
    "ax = fig.add_subplot(projection=\"3d\")\n",
    "x = zeros(0)\n",
    "y = zeros(0)\n",
    "z = zeros(0)\n",
    "h = zeros(0)\n",
    "for i in path\n",
    "    append!( x, i.state.x )\n",
    "    append!( y, i.state.y )\n",
    "    append!( z, 7 )\n",
    "    append!( h, dirAngle(i.state.heading) )\n",
    "end\n",
    "print(\"x:\",x,\"\\ny:\",y,\"\\nz:\",z)\n",
    "for i in 1:3\n",
    "    tx = zeros(0)\n",
    "    ty = zeros(0)\n",
    "    tz = zeros(0)\n",
    "    for t in target_trajectories[:,i]\n",
    "        append!( tx, t.x )\n",
    "        append!( ty, t.y )\n",
    "        append!( tz, 0 )\n",
    "    end\n",
    "    print(\"\\ntx:\",tx,\"\\nty:\",ty,\"\\ntz:\",tz)\n",
    "    ax.plot(tx,ty,tz)\n",
    "end\n",
    "\n",
    "ax.plot(x,y,z)"
   ]
  },
  {
   "cell_type": "code",
   "execution_count": 16,
   "metadata": {},
   "outputs": [
    {
     "name": "stdout",
     "output_type": "stream",
     "text": [
      "82.4002527426068 61.9527999101565"
     ]
    },
    {
     "ename": "LoadError",
     "evalue": "UndefVarError: h not defined",
     "output_type": "error",
     "traceback": [
      "UndefVarError: h not defined",
      "",
      "Stacktrace:",
      " [1] top-level scope",
      "   @ In[16]:3",
      " [2] eval",
      "   @ ./boot.jl:368 [inlined]",
      " [3] include_string(mapexpr::typeof(REPL.softscope), mod::Module, code::String, filename::String)",
      "   @ Base ./loading.jl:1428"
     ]
    }
   ],
   "source": [
    "fov = [2*atan(sensor.resolution[1], 2*focal_length[1]); 2*atan(sensor.resolution[2], 2*focal_length[2])]\n",
    "print(rad2deg(fov[1]), \" \", rad2deg(fov[2]))\n",
    "print(h)\n",
    "\n",
    "\n",
    "for i in 1:20\n",
    "    fig = plt.figure()\n",
    "    ax = fig.add_subplot(projection=\"3d\")\n",
    "    location = [path[i].state.x; path[i].state.y; 7]\n",
    "    camera_heading = [cos(dirAngle(path[i].state.heading)); sin(dirAngle(path[i].state.heading)); -sin(pitch)]\n",
    "    print(path[i].state.heading, \" \", location, \" \", location+camera_heading, \"\\n\")\n",
    "    ax.scatter(path[i].state.x, path[i].state.y, 7, color=\"red\")\n",
    "    ax.scatter(path[i].state.x+camera_heading[1], path[i].state.y+camera_heading[2], 7+camera_heading[3], color=\"blue\")\n",
    "    ax.scatter(target_trajectories[i,1].x, target_trajectories[i,1].y, 0)\n",
    "    ax.scatter(target_trajectories[i,2].x, target_trajectories[i,2].y, 0)\n",
    "    ax.scatter(target_trajectories[i,3].x, target_trajectories[i,3].y, 0)\n",
    "end"
   ]
  },
  {
   "cell_type": "code",
   "execution_count": 17,
   "metadata": {},
   "outputs": [
    {
     "name": "stdout",
     "output_type": "stream",
     "text": [
      "82.4002527426068 61.9527999101565\n",
      "0.0 0.0 [0.6003001500750377, 0.8754377188594297, -1.0]\n",
      "0.0 2160.0 [-0.6003001500750375, 0.8754377188594297, -1.0]\n",
      "3840.0 0.0 [0.6003001500750377, -0.8754377188594297, -1.0]\n",
      "3840.0 2160.0 [-0.6003001500750375, -0.8754377188594297, -1.0]\n"
     ]
    }
   ],
   "source": [
    "fov = [2*atan(sensor.resolution[1], 2*focal_length[1]); 2*atan(sensor.resolution[2], 2*focal_length[2])]\n",
    "print(rad2deg(fov[1]), \" \", rad2deg(fov[2]), \"\\n\")\n",
    "for w in [0, sensor.resolution[1]]\n",
    "    for h in [0, sensor.resolution[2]]\n",
    "        point = inv(sensor.extrinsics)*inv(sensor.intrinsics)*[w;h;1]\n",
    "        print(w, \" \", h, \" \", point, \"\\n\")\n",
    "    end\n",
    "end"
   ]
  },
  {
   "cell_type": "code",
   "execution_count": 18,
   "metadata": {},
   "outputs": [
    {
     "name": "stdout",
     "output_type": "stream",
     "text": [
      "82.4002527426068 61.9527999101565\n",
      "0.0 0.0 [0.6003001500750377, 0.8754377188594297, -1.0]\n",
      "0.0 2160.0 [-0.6003001500750375, 0.8754377188594297, -1.0]\n",
      "3840.0 0.0 [0.6003001500750377, -0.8754377188594297, -1.0]\n",
      "3840.0 2160.0 [-0.6003001500750375, -0.8754377188594297, -1.0]\n"
     ]
    }
   ],
   "source": [
    "fov = [2*atan(sensor.resolution[1], 2*focal_length[1]); 2*atan(sensor.resolution[2], 2*focal_length[2])]\n",
    "print(rad2deg(fov[1]), \" \", rad2deg(fov[2]), \"\\n\")\n",
    "for w in [0, sensor.resolution[1]]\n",
    "    for h in [0, sensor.resolution[2]]\n",
    "        point = inv(sensor.extrinsics)*inv(sensor.intrinsics)*[w;h;1]\n",
    "        print(w, \" \", h, \" \", point, \"\\n\")\n",
    "    end\n",
    "end"
   ]
  },
  {
   "cell_type": "code",
   "execution_count": null,
   "metadata": {},
   "outputs": [],
   "source": []
  },
  {
   "cell_type": "code",
   "execution_count": null,
   "metadata": {},
   "outputs": [],
   "source": []
  },
  {
   "cell_type": "code",
   "execution_count": null,
   "metadata": {},
   "outputs": [],
   "source": []
  }
 ],
 "metadata": {
  "kernelspec": {
   "display_name": "Julia 1.8.2",
   "language": "julia",
   "name": "julia-1.8"
  },
  "language_info": {
   "file_extension": ".jl",
   "mimetype": "application/julia",
   "name": "julia",
   "version": "1.8.2"
  }
 },
 "nbformat": 4,
 "nbformat_minor": 2
}
