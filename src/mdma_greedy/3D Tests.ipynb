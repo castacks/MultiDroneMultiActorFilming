{
 "cells": [
  {
   "cell_type": "code",
   "execution_count": 1,
   "metadata": {
    "scrolled": true
   },
   "outputs": [
    {
     "data": {
      "text/plain": [
       "8-element Vector{String}:\n",
       " \"/airlab\"\n",
       " \"/airlab/src/mdma_greedy\"\n",
       " \"/env\"\n",
       " \"@\"\n",
       " \"@v#.#\"\n",
       " \"@stdlib\"\n",
       " \".\"\n",
       " \"../..\""
      ]
     },
     "execution_count": 1,
     "metadata": {},
     "output_type": "execute_result"
    }
   ],
   "source": [
    "push!(LOAD_PATH,\".\")\n",
    "push!(LOAD_PATH,\"../..\")"
   ]
  },
  {
   "cell_type": "code",
   "execution_count": 2,
   "metadata": {
    "scrolled": true
   },
   "outputs": [],
   "source": [
    "using Revise\n",
    "using POMDPs\n",
    "using DiscreteValueIteration\n",
    "using POMDPTools\n",
    "# using Dates\n",
    "# using Profile"
   ]
  },
  {
   "cell_type": "code",
   "execution_count": 12,
   "metadata": {
    "scrolled": false
   },
   "outputs": [
    {
     "name": "stderr",
     "output_type": "stream",
     "text": [
      "┌ Info: Precompiling MDMA [top-level]\n",
      "└ @ Base loading.jl:1664\n"
     ]
    },
    {
     "name": "stdout",
     "output_type": "stream",
     "text": [
      "\u001b[0m\u001b[1mTest Summary: | \u001b[22m\u001b[32m\u001b[1mPass  \u001b[22m\u001b[39m\u001b[36m\u001b[1mTotal  \u001b[22m\u001b[39m\u001b[0m\u001b[1mTime\u001b[22m\n",
      "detectTarget  | \u001b[32m  30  \u001b[39m\u001b[36m   30  \u001b[39m\u001b[0m0.5s\n",
      "\u001b[0m\u001b[1mTest Summary:        |\u001b[22m\u001b[0m\u001b[1mTime\u001b[22m\n",
      "single_robot_planner | \u001b[36mNone  \u001b[39m\u001b[0m0.0s\n",
      "\u001b[0m\u001b[1mTest Summary:   |\u001b[22m\u001b[0m\u001b[1mTime\u001b[22m\n",
      "test_file_parse | \u001b[36mNone  \u001b[39m\u001b[0m0.5s\n"
     ]
    }
   ],
   "source": [
    "using MDMA"
   ]
  },
  {
   "cell_type": "code",
   "execution_count": 15,
   "metadata": {
    "scrolled": true
   },
   "outputs": [
    {
     "ename": "LoadError",
     "evalue": "MethodError: no method matching SingleRobotMultiTargetViewCoverageProblem(::MDMA_Grid, ::PinholeCameraModel, ::Int64, ::Matrix{Target}, ::Int64)\n\u001b[0mClosest candidates are:\n\u001b[0m  SingleRobotMultiTargetViewCoverageProblem(::MDMA_Grid, ::Union{ViewConeSensor, PinholeCameraModel}, ::Integer, ::Matrix{Target}, ::Integer, \u001b[91m::Matrix{Float64}\u001b[39m, \u001b[91m::MDPState\u001b[39m) at /airlab/src/mdma_greedy/MDMA_Single_Robot.jl:55",
     "output_type": "error",
     "traceback": [
      "MethodError: no method matching SingleRobotMultiTargetViewCoverageProblem(::MDMA_Grid, ::PinholeCameraModel, ::Int64, ::Matrix{Target}, ::Int64)\n\u001b[0mClosest candidates are:\n\u001b[0m  SingleRobotMultiTargetViewCoverageProblem(::MDMA_Grid, ::Union{ViewConeSensor, PinholeCameraModel}, ::Integer, ::Matrix{Target}, ::Integer, \u001b[91m::Matrix{Float64}\u001b[39m, \u001b[91m::MDPState\u001b[39m) at /airlab/src/mdma_greedy/MDMA_Single_Robot.jl:55",
      "",
      "Stacktrace:",
      " [1] top-level scope",
      "   @ In[15]:20",
      " [2] eval",
      "   @ ./boot.jl:368 [inlined]",
      " [3] include_string(mapexpr::typeof(REPL.softscope), mod::Module, code::String, filename::String)",
      "   @ Base ./loading.jl:1428"
     ]
    }
   ],
   "source": [
    "# Set model parameters\n",
    "focal_length = [19.99, 19.99]#mm\n",
    "resolution = [3840.0,2160.0]\n",
    "lens_dim = [35.00,24.00] #mm\n",
    "pitch = -pi/4\n",
    "sensor = MDMA.PinholeCameraModel(focal_length, resolution, lens_dim, 0.0, pitch) \n",
    "#sensor = ViewConeSensor(pi/2, 3);\n",
    "horizon = 20\n",
    "grid = MDMA_Grid(10,10, horizon);\n",
    "\n",
    "# Setup initial distribution of targets\n",
    "targets = Vector{Target}(undef, 0);\n",
    "push!(targets, Target(grid.width-3,grid.height-3,0, 1));\n",
    "push!(targets, Target(grid.width-4,grid.height-2,0, 2));\n",
    "push!(targets, Target(grid.width-5,grid.height-3,0, 3));\n",
    "\n",
    "target_trajectories = MDMA.generate_target_trajectories(grid, horizon, targets);\n",
    "\n",
    "move_dist = 3;\n",
    "# model = MDMA.SingleRobotMultiTargetViewCoverageProblem(grid, sensor, horizon, target_trajectories, move_dist);\n",
    "robot_states = map(x->MDMA.random_state(multi_configs.horizon, multi_configs.grid), 1:multi_configs.num_robots)\n",
    "\n",
    "multi_problem = MDMA.MultiRobotTargetCoverageProblem(robot_states, coverage, multi_configs)\n",
    "model = MDMA.SingleRobotMultiTargetViewCoverageProblem(grid, sensor, horizon, target_trajectories, move_dist, coverage, initial_state)"
   ]
  },
  {
   "cell_type": "code",
   "execution_count": 5,
   "metadata": {
    "scrolled": true
   },
   "outputs": [
    {
     "ename": "LoadError",
     "evalue": "UndefVarError: MDMA not defined",
     "output_type": "error",
     "traceback": [
      "UndefVarError: MDMA not defined",
      "",
      "Stacktrace:",
      " [1] top-level scope",
      "   @ In[5]:1",
      " [2] eval",
      "   @ ./boot.jl:368 [inlined]",
      " [3] include_string(mapexpr::typeof(REPL.softscope), mod::Module, code::String, filename::String)",
      "   @ Base ./loading.jl:1428"
     ]
    }
   ],
   "source": [
    "policy = MDMA.solve_single_robot(model)\n"
   ]
  },
  {
   "cell_type": "code",
   "execution_count": 6,
   "metadata": {},
   "outputs": [
    {
     "ename": "LoadError",
     "evalue": "UndefVarError: UAVState not defined",
     "output_type": "error",
     "traceback": [
      "UndefVarError: UAVState not defined",
      "",
      "Stacktrace:",
      " [1] top-level scope",
      "   @ In[6]:1",
      " [2] eval",
      "   @ ./boot.jl:368 [inlined]",
      " [3] include_string(mapexpr::typeof(REPL.softscope), mod::Module, code::String, filename::String)",
      "   @ Base ./loading.jl:1428"
     ]
    }
   ],
   "source": [
    "path = compute_path(model, policy, MDPState(UAVState(1,1,:N), model.horizon))"
   ]
  },
  {
   "cell_type": "code",
   "execution_count": 7,
   "metadata": {},
   "outputs": [
    {
     "ename": "LoadError",
     "evalue": "UndefVarError: RenderConf not defined",
     "output_type": "error",
     "traceback": [
      "UndefVarError: RenderConf not defined",
      "",
      "Stacktrace:",
      " [1] top-level scope",
      "   @ In[7]:1",
      " [2] eval",
      "   @ ./boot.jl:368 [inlined]",
      " [3] include_string(mapexpr::typeof(REPL.softscope), mod::Module, code::String, filename::String)",
      "   @ Base ./loading.jl:1428"
     ]
    }
   ],
   "source": [
    "draw_frames(RenderConf(50, 4, true, true), model, path)"
   ]
  },
  {
   "cell_type": "code",
   "execution_count": 8,
   "metadata": {},
   "outputs": [
    {
     "ename": "LoadError",
     "evalue": "UndefVarError: path not defined",
     "output_type": "error",
     "traceback": [
      "UndefVarError: path not defined",
      "",
      "Stacktrace:",
      " [1] top-level scope",
      "   @ ./In[8]:9",
      " [2] eval",
      "   @ ./boot.jl:368 [inlined]",
      " [3] include_string(mapexpr::typeof(REPL.softscope), mod::Module, code::String, filename::String)",
      "   @ Base ./loading.jl:1428"
     ]
    }
   ],
   "source": [
    "using PyPlot\n",
    "#p1=scatter3D([],0)\n",
    "fig = plt.figure()\n",
    "ax = fig.add_subplot(projection=\"3d\")\n",
    "x = zeros(0)\n",
    "y = zeros(0)\n",
    "z = zeros(0)\n",
    "h = zeros(0)\n",
    "for i in path\n",
    "    append!( x, i.state.x )\n",
    "    append!( y, i.state.y )\n",
    "    append!( z, 7 )\n",
    "    append!( h, dirAngle(i.state.heading) )\n",
    "end\n",
    "print(\"x:\",x,\"\\ny:\",y,\"\\nz:\",z)\n",
    "for i in 1:3\n",
    "    tx = zeros(0)\n",
    "    ty = zeros(0)\n",
    "    tz = zeros(0)\n",
    "    for t in target_trajectories[:,i]\n",
    "        append!( tx, t.x )\n",
    "        append!( ty, t.y )\n",
    "        append!( tz, 0 )\n",
    "    end\n",
    "    print(\"\\ntx:\",tx,\"\\nty:\",ty,\"\\ntz:\",tz)\n",
    "    ax.plot(tx,ty,tz)\n",
    "end\n",
    "\n",
    "ax.plot(x,y,z)"
   ]
  },
  {
   "cell_type": "code",
   "execution_count": 9,
   "metadata": {},
   "outputs": [
    {
     "ename": "LoadError",
     "evalue": "UndefVarError: sensor not defined",
     "output_type": "error",
     "traceback": [
      "UndefVarError: sensor not defined",
      "",
      "Stacktrace:",
      " [1] top-level scope",
      "   @ In[9]:1",
      " [2] eval",
      "   @ ./boot.jl:368 [inlined]",
      " [3] include_string(mapexpr::typeof(REPL.softscope), mod::Module, code::String, filename::String)",
      "   @ Base ./loading.jl:1428"
     ]
    }
   ],
   "source": [
    "fov = [2*atan(sensor.resolution[1], 2*focal_length[1]); 2*atan(sensor.resolution[2], 2*focal_length[2])]\n",
    "print(rad2deg(fov[1]), \" \", rad2deg(fov[2]))\n",
    "print(h)\n",
    "\n",
    "\n",
    "for i in 1:20\n",
    "    fig = plt.figure()\n",
    "    ax = fig.add_subplot(projection=\"3d\")\n",
    "    location = [path[i].state.x; path[i].state.y; 7]\n",
    "    camera_heading = [cos(dirAngle(path[i].state.heading)); sin(dirAngle(path[i].state.heading)); -sin(pitch)]\n",
    "    print(path[i].state.heading, \" \", location, \" \", location+camera_heading, \"\\n\")\n",
    "    ax.scatter(path[i].state.x, path[i].state.y, 7, color=\"red\")\n",
    "    ax.scatter(path[i].state.x+camera_heading[1], path[i].state.y+camera_heading[2], 7+camera_heading[3], color=\"blue\")\n",
    "    ax.scatter(target_trajectories[i,1].x, target_trajectories[i,1].y, 0)\n",
    "    ax.scatter(target_trajectories[i,2].x, target_trajectories[i,2].y, 0)\n",
    "    ax.scatter(target_trajectories[i,3].x, target_trajectories[i,3].y, 0)\n",
    "end"
   ]
  },
  {
   "cell_type": "code",
   "execution_count": 10,
   "metadata": {},
   "outputs": [
    {
     "ename": "LoadError",
     "evalue": "UndefVarError: sensor not defined",
     "output_type": "error",
     "traceback": [
      "UndefVarError: sensor not defined",
      "",
      "Stacktrace:",
      " [1] top-level scope",
      "   @ In[10]:1",
      " [2] eval",
      "   @ ./boot.jl:368 [inlined]",
      " [3] include_string(mapexpr::typeof(REPL.softscope), mod::Module, code::String, filename::String)",
      "   @ Base ./loading.jl:1428"
     ]
    }
   ],
   "source": [
    "fov = [2*atan(sensor.resolution[1], 2*focal_length[1]); 2*atan(sensor.resolution[2], 2*focal_length[2])]\n",
    "print(rad2deg(fov[1]), \" \", rad2deg(fov[2]), \"\\n\")\n",
    "for w in [0, sensor.resolution[1]]\n",
    "    for h in [0, sensor.resolution[2]]\n",
    "        point = inv(sensor.extrinsics)*inv(sensor.intrinsics)*[w;h;1]\n",
    "        print(w, \" \", h, \" \", point, \"\\n\")\n",
    "    end\n",
    "end"
   ]
  },
  {
   "cell_type": "code",
   "execution_count": 11,
   "metadata": {},
   "outputs": [
    {
     "ename": "LoadError",
     "evalue": "UndefVarError: sensor not defined",
     "output_type": "error",
     "traceback": [
      "UndefVarError: sensor not defined",
      "",
      "Stacktrace:",
      " [1] top-level scope",
      "   @ In[11]:1",
      " [2] eval",
      "   @ ./boot.jl:368 [inlined]",
      " [3] include_string(mapexpr::typeof(REPL.softscope), mod::Module, code::String, filename::String)",
      "   @ Base ./loading.jl:1428"
     ]
    }
   ],
   "source": [
    "fov = [2*atan(sensor.resolution[1], 2*focal_length[1]); 2*atan(sensor.resolution[2], 2*focal_length[2])]\n",
    "print(rad2deg(fov[1]), \" \", rad2deg(fov[2]), \"\\n\")\n",
    "for w in [0, sensor.resolution[1]]\n",
    "    for h in [0, sensor.resolution[2]]\n",
    "        point = inv(sensor.extrinsics)*inv(sensor.intrinsics)*[w;h;1]\n",
    "        print(w, \" \", h, \" \", point, \"\\n\")\n",
    "    end\n",
    "end"
   ]
  },
  {
   "cell_type": "code",
   "execution_count": null,
   "metadata": {},
   "outputs": [],
   "source": []
  },
  {
   "cell_type": "code",
   "execution_count": null,
   "metadata": {},
   "outputs": [],
   "source": []
  },
  {
   "cell_type": "code",
   "execution_count": null,
   "metadata": {},
   "outputs": [],
   "source": []
  }
 ],
 "metadata": {
  "kernelspec": {
   "display_name": "Julia 1.8.2",
   "language": "julia",
   "name": "julia-1.8"
  },
  "language_info": {
   "file_extension": ".jl",
   "mimetype": "application/julia",
   "name": "julia",
   "version": "1.8.2"
  }
 },
 "nbformat": 4,
 "nbformat_minor": 2
}
