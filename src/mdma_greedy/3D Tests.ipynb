{
 "cells": [
  {
   "cell_type": "code",
   "execution_count": 1,
   "metadata": {
    "scrolled": true
   },
   "outputs": [],
   "source": [
    "using Revise\n",
    "using POMDPs\n",
    "using DiscreteValueIteration\n",
    "using POMDPTools\n",
    "using SubmodularMaximization\n",
    "# using Dates\n",
    "# using Profile"
   ]
  },
  {
   "cell_type": "code",
   "execution_count": 2,
   "metadata": {
    "scrolled": false
   },
   "outputs": [
    {
     "name": "stderr",
     "output_type": "stream",
     "text": [
      "┌ Info: Precompiling MDMA [top-level]\n",
      "└ @ Base loading.jl:1664\n"
     ]
    },
    {
     "name": "stdout",
     "output_type": "stream",
     "text": [
      "\u001b[0m\u001b[1mTest Summary: | \u001b[22m\u001b[32m\u001b[1mPass  \u001b[22m\u001b[39m\u001b[36m\u001b[1mTotal  \u001b[22m\u001b[39m\u001b[0m\u001b[1mTime\u001b[22m\n",
      "detectTarget  | \u001b[32m  30  \u001b[39m\u001b[36m   30  \u001b[39m\u001b[0m0.5s\n",
      "\u001b[0m\u001b[1mTest Summary:        |\u001b[22m\u001b[0m\u001b[1mTime\u001b[22m\n",
      "single_robot_planner | \u001b[36mNone  \u001b[39m\u001b[0m0.0s\n",
      "\u001b[0m\u001b[1mTest Summary:   |\u001b[22m\u001b[0m\u001b[1mTime\u001b[22m\n",
      "test_file_parse | \u001b[36mNone  \u001b[39m\u001b[0m0.4s\n"
     ]
    }
   ],
   "source": [
    "using MDMA"
   ]
  },
  {
   "cell_type": "code",
   "execution_count": 32,
   "metadata": {},
   "outputs": [
    {
     "data": {
      "text/plain": [
       "MDMA.MultiRobotTargetCoverageProblem(MDMA.MDPState[MDMA.MDPState(UAVState(5, 7, :SW), 1, 60, nothing)], [0.0; 0.0; … ; 0.0; 0.0;;; 0.0; 0.0; … ; 0.0; 0.0;;; 0.0; 0.0; … ; 0.0; 0.0;;; 0.0; 0.0; … ; 0.0; 0.0;;; 0.0; 0.0; … ; 0.0; 0.0;;; 0.0; 0.0; … ; 0.0; 0.0;;; 0.0; 0.0; … ; 0.0; 0.0], MultiDroneMultiActorConfigs(1, Target[Target(9.965667724609375, 10.81907844543457, 1.5707963705062866, 1.0, Face[Face([-0.8660254256401326, 0.4999999621448256, 0.0], [9.099642298969242, 11.319078407579395], 2.309401076758503, 0.14285714285714285), Face([-0.8660253819287429, -0.5000000378551736, 0.0], [9.099642342680632, 10.319078407579397], 2.309401076758503, 0.14285714285714285), Face([4.3711389879397734e-8, -0.999999999999999, 0.0], [9.965667768320765, 9.819078445434572], 2.309401076758503, 0.14285714285714285), Face([0.8660254256401326, -0.4999999621448257, 0.0], [10.831693150249508, 10.319078483289745], 2.309401076758503, 0.14285714285714285), Face([0.8660253819287432, 0.500000037855173, 0.0], [10.831693106538118, 11.319078483289744], 2.309401076758503, 0.14285714285714285), Face([-4.3711389756933055e-8, 0.999999999999999, 0.0], [9.965667680897985, 11.819078445434569], 2.309401076758503, 0.14285714285714285), Face([0.0, 0.0, 1.0], [9.965667724609375, 10.81907844543457], 3.4641016151377544, 0.14285714285714285)], 0x00000007, 0x00000001); Target(9.965667724609375, 10.81907844543457, 1.5707963705062866, 1.0, Face[Face([-0.8660254256401326, 0.4999999621448256, 0.0], [9.099642298969242, 11.319078407579395], 2.309401076758503, 0.14285714285714285), Face([-0.8660253819287429, -0.5000000378551736, 0.0], [9.099642342680632, 10.319078407579397], 2.309401076758503, 0.14285714285714285), Face([4.3711389879397734e-8, -0.999999999999999, 0.0], [9.965667768320765, 9.819078445434572], 2.309401076758503, 0.14285714285714285), Face([0.8660254256401326, -0.4999999621448257, 0.0], [10.831693150249508, 10.319078483289745], 2.309401076758503, 0.14285714285714285), Face([0.8660253819287432, 0.500000037855173, 0.0], [10.831693106538118, 11.319078483289744], 2.309401076758503, 0.14285714285714285), Face([-4.3711389756933055e-8, 0.999999999999999, 0.0], [9.965667680897985, 11.819078445434569], 2.309401076758503, 0.14285714285714285), Face([0.0, 0.0, 1.0], [9.965667724609375, 10.81907844543457], 3.4641016151377544, 0.14285714285714285)], 0x00000007, 0x00000001); … ; Target(9.965667724609375, 10.81907844543457, 1.5707963705062866, 1.0, Face[Face([-0.8660254256401326, 0.4999999621448256, 0.0], [9.099642298969242, 11.319078407579395], 2.309401076758503, 0.14285714285714285), Face([-0.8660253819287429, -0.5000000378551736, 0.0], [9.099642342680632, 10.319078407579397], 2.309401076758503, 0.14285714285714285), Face([4.3711389879397734e-8, -0.999999999999999, 0.0], [9.965667768320765, 9.819078445434572], 2.309401076758503, 0.14285714285714285), Face([0.8660254256401326, -0.4999999621448257, 0.0], [10.831693150249508, 10.319078483289745], 2.309401076758503, 0.14285714285714285), Face([0.8660253819287432, 0.500000037855173, 0.0], [10.831693106538118, 11.319078483289744], 2.309401076758503, 0.14285714285714285), Face([-4.3711389756933055e-8, 0.999999999999999, 0.0], [9.965667680897985, 11.819078445434569], 2.309401076758503, 0.14285714285714285), Face([0.0, 0.0, 1.0], [9.965667724609375, 10.81907844543457], 3.4641016151377544, 0.14285714285714285)], 0x00000007, 0x00000001); Target(9.965667724609375, 10.81907844543457, 1.5707963705062866, 1.0, Face[Face([-0.8660254256401326, 0.4999999621448256, 0.0], [9.099642298969242, 11.319078407579395], 2.309401076758503, 0.14285714285714285), Face([-0.8660253819287429, -0.5000000378551736, 0.0], [9.099642342680632, 10.319078407579397], 2.309401076758503, 0.14285714285714285), Face([4.3711389879397734e-8, -0.999999999999999, 0.0], [9.965667768320765, 9.819078445434572], 2.309401076758503, 0.14285714285714285), Face([0.8660254256401326, -0.4999999621448257, 0.0], [10.831693150249508, 10.319078483289745], 2.309401076758503, 0.14285714285714285), Face([0.8660253819287432, 0.500000037855173, 0.0], [10.831693106538118, 11.319078483289744], 2.309401076758503, 0.14285714285714285), Face([-4.3711389756933055e-8, 0.999999999999999, 0.0], [9.965667680897985, 11.819078445434569], 2.309401076758503, 0.14285714285714285), Face([0.0, 0.0, 1.0], [9.965667724609375, 10.81907844543457], 3.4641016151377544, 0.14285714285714285)], 0x00000007, 0x00000001);;], MDMA_Grid(20, 20, 8, 60, [MDMA.MDPState(UAVState(1, 1, :E), 1, 60, nothing) MDMA.MDPState(UAVState(2, 1, :E), 1, 60, nothing) … MDMA.MDPState(UAVState(19, 1, :E), 1, 60, nothing) MDMA.MDPState(UAVState(20, 1, :E), 1, 60, nothing); MDMA.MDPState(UAVState(1, 2, :E), 1, 60, nothing) MDMA.MDPState(UAVState(2, 2, :E), 1, 60, nothing) … MDMA.MDPState(UAVState(19, 2, :E), 1, 60, nothing) MDMA.MDPState(UAVState(20, 2, :E), 1, 60, nothing); … ; MDMA.MDPState(UAVState(1, 19, :E), 1, 60, nothing) MDMA.MDPState(UAVState(2, 19, :E), 1, 60, nothing) … MDMA.MDPState(UAVState(19, 19, :E), 1, 60, nothing) MDMA.MDPState(UAVState(20, 19, :E), 1, 60, nothing); MDMA.MDPState(UAVState(1, 20, :E), 1, 60, nothing) MDMA.MDPState(UAVState(2, 20, :E), 1, 60, nothing) … MDMA.MDPState(UAVState(19, 20, :E), 1, 60, nothing) MDMA.MDPState(UAVState(20, 20, :E), 1, 60, nothing);;; MDMA.MDPState(UAVState(1, 1, :NE), 1, 60, nothing) MDMA.MDPState(UAVState(2, 1, :NE), 1, 60, nothing) … MDMA.MDPState(UAVState(19, 1, :NE), 1, 60, nothing) MDMA.MDPState(UAVState(20, 1, :NE), 1, 60, nothing); MDMA.MDPState(UAVState(1, 2, :NE), 1, 60, nothing) MDMA.MDPState(UAVState(2, 2, :NE), 1, 60, nothing) … MDMA.MDPState(UAVState(19, 2, :NE), 1, 60, nothing) MDMA.MDPState(UAVState(20, 2, :NE), 1, 60, nothing); … ; MDMA.MDPState(UAVState(1, 19, :NE), 1, 60, nothing) MDMA.MDPState(UAVState(2, 19, :NE), 1, 60, nothing) … MDMA.MDPState(UAVState(19, 19, :NE), 1, 60, nothing) MDMA.MDPState(UAVState(20, 19, :NE), 1, 60, nothing); MDMA.MDPState(UAVState(1, 20, :NE), 1, 60, nothing) MDMA.MDPState(UAVState(2, 20, :NE), 1, 60, nothing) … MDMA.MDPState(UAVState(19, 20, :NE), 1, 60, nothing) MDMA.MDPState(UAVState(20, 20, :NE), 1, 60, nothing);;; MDMA.MDPState(UAVState(1, 1, :N), 1, 60, nothing) MDMA.MDPState(UAVState(2, 1, :N), 1, 60, nothing) … MDMA.MDPState(UAVState(19, 1, :N), 1, 60, nothing) MDMA.MDPState(UAVState(20, 1, :N), 1, 60, nothing); MDMA.MDPState(UAVState(1, 2, :N), 1, 60, nothing) MDMA.MDPState(UAVState(2, 2, :N), 1, 60, nothing) … MDMA.MDPState(UAVState(19, 2, :N), 1, 60, nothing) MDMA.MDPState(UAVState(20, 2, :N), 1, 60, nothing); … ; MDMA.MDPState(UAVState(1, 19, :N), 1, 60, nothing) MDMA.MDPState(UAVState(2, 19, :N), 1, 60, nothing) … MDMA.MDPState(UAVState(19, 19, :N), 1, 60, nothing) MDMA.MDPState(UAVState(20, 19, :N), 1, 60, nothing); MDMA.MDPState(UAVState(1, 20, :N), 1, 60, nothing) MDMA.MDPState(UAVState(2, 20, :N), 1, 60, nothing) … MDMA.MDPState(UAVState(19, 20, :N), 1, 60, nothing) MDMA.MDPState(UAVState(20, 20, :N), 1, 60, nothing);;; MDMA.MDPState(UAVState(1, 1, :NW), 1, 60, nothing) MDMA.MDPState(UAVState(2, 1, :NW), 1, 60, nothing) … MDMA.MDPState(UAVState(19, 1, :NW), 1, 60, nothing) MDMA.MDPState(UAVState(20, 1, :NW), 1, 60, nothing); MDMA.MDPState(UAVState(1, 2, :NW), 1, 60, nothing) MDMA.MDPState(UAVState(2, 2, :NW), 1, 60, nothing) … MDMA.MDPState(UAVState(19, 2, :NW), 1, 60, nothing) MDMA.MDPState(UAVState(20, 2, :NW), 1, 60, nothing); … ; MDMA.MDPState(UAVState(1, 19, :NW), 1, 60, nothing) MDMA.MDPState(UAVState(2, 19, :NW), 1, 60, nothing) … MDMA.MDPState(UAVState(19, 19, :NW), 1, 60, nothing) MDMA.MDPState(UAVState(20, 19, :NW), 1, 60, nothing); MDMA.MDPState(UAVState(1, 20, :NW), 1, 60, nothing) MDMA.MDPState(UAVState(2, 20, :NW), 1, 60, nothing) … MDMA.MDPState(UAVState(19, 20, :NW), 1, 60, nothing) MDMA.MDPState(UAVState(20, 20, :NW), 1, 60, nothing);;; MDMA.MDPState(UAVState(1, 1, :W), 1, 60, nothing) MDMA.MDPState(UAVState(2, 1, :W), 1, 60, nothing) … MDMA.MDPState(UAVState(19, 1, :W), 1, 60, nothing) MDMA.MDPState(UAVState(20, 1, :W), 1, 60, nothing); MDMA.MDPState(UAVState(1, 2, :W), 1, 60, nothing) MDMA.MDPState(UAVState(2, 2, :W), 1, 60, nothing) … MDMA.MDPState(UAVState(19, 2, :W), 1, 60, nothing) MDMA.MDPState(UAVState(20, 2, :W), 1, 60, nothing); … ; MDMA.MDPState(UAVState(1, 19, :W), 1, 60, nothing) MDMA.MDPState(UAVState(2, 19, :W), 1, 60, nothing) … MDMA.MDPState(UAVState(19, 19, :W), 1, 60, nothing) MDMA.MDPState(UAVState(20, 19, :W), 1, 60, nothing); MDMA.MDPState(UAVState(1, 20, :W), 1, 60, nothing) MDMA.MDPState(UAVState(2, 20, :W), 1, 60, nothing) … MDMA.MDPState(UAVState(19, 20, :W), 1, 60, nothing) MDMA.MDPState(UAVState(20, 20, :W), 1, 60, nothing);;; MDMA.MDPState(UAVState(1, 1, :SW), 1, 60, nothing) MDMA.MDPState(UAVState(2, 1, :SW), 1, 60, nothing) … MDMA.MDPState(UAVState(19, 1, :SW), 1, 60, nothing) MDMA.MDPState(UAVState(20, 1, :SW), 1, 60, nothing); MDMA.MDPState(UAVState(1, 2, :SW), 1, 60, nothing) MDMA.MDPState(UAVState(2, 2, :SW), 1, 60, nothing) … MDMA.MDPState(UAVState(19, 2, :SW), 1, 60, nothing) MDMA.MDPState(UAVState(20, 2, :SW), 1, 60, nothing); … ; MDMA.MDPState(UAVState(1, 19, :SW), 1, 60, nothing) MDMA.MDPState(UAVState(2, 19, :SW), 1, 60, nothing) … MDMA.MDPState(UAVState(19, 19, :SW), 1, 60, nothing) MDMA.MDPState(UAVState(20, 19, :SW), 1, 60, nothing); MDMA.MDPState(UAVState(1, 20, :SW), 1, 60, nothing) MDMA.MDPState(UAVState(2, 20, :SW), 1, 60, nothing) … MDMA.MDPState(UAVState(19, 20, :SW), 1, 60, nothing) MDMA.MDPState(UAVState(20, 20, :SW), 1, 60, nothing);;; MDMA.MDPState(UAVState(1, 1, :S), 1, 60, nothing) MDMA.MDPState(UAVState(2, 1, :S), 1, 60, nothing) … MDMA.MDPState(UAVState(19, 1, :S), 1, 60, nothing) MDMA.MDPState(UAVState(20, 1, :S), 1, 60, nothing); MDMA.MDPState(UAVState(1, 2, :S), 1, 60, nothing) MDMA.MDPState(UAVState(2, 2, :S), 1, 60, nothing) … MDMA.MDPState(UAVState(19, 2, :S), 1, 60, nothing) MDMA.MDPState(UAVState(20, 2, :S), 1, 60, nothing); … ; MDMA.MDPState(UAVState(1, 19, :S), 1, 60, nothing) MDMA.MDPState(UAVState(2, 19, :S), 1, 60, nothing) … MDMA.MDPState(UAVState(19, 19, :S), 1, 60, nothing) MDMA.MDPState(UAVState(20, 19, :S), 1, 60, nothing); MDMA.MDPState(UAVState(1, 20, :S), 1, 60, nothing) MDMA.MDPState(UAVState(2, 20, :S), 1, 60, nothing) … MDMA.MDPState(UAVState(19, 20, :S), 1, 60, nothing) MDMA.MDPState(UAVState(20, 20, :S), 1, 60, nothing);;; MDMA.MDPState(UAVState(1, 1, :SE), 1, 60, nothing) MDMA.MDPState(UAVState(2, 1, :SE), 1, 60, nothing) … MDMA.MDPState(UAVState(19, 1, :SE), 1, 60, nothing) MDMA.MDPState(UAVState(20, 1, :SE), 1, 60, nothing); MDMA.MDPState(UAVState(1, 2, :SE), 1, 60, nothing) MDMA.MDPState(UAVState(2, 2, :SE), 1, 60, nothing) … MDMA.MDPState(UAVState(19, 2, :SE), 1, 60, nothing) MDMA.MDPState(UAVState(20, 2, :SE), 1, 60, nothing); … ; MDMA.MDPState(UAVState(1, 19, :SE), 1, 60, nothing) MDMA.MDPState(UAVState(2, 19, :SE), 1, 60, nothing) … MDMA.MDPState(UAVState(19, 19, :SE), 1, 60, nothing) MDMA.MDPState(UAVState(20, 19, :SE), 1, 60, nothing); MDMA.MDPState(UAVState(1, 20, :SE), 1, 60, nothing) MDMA.MDPState(UAVState(2, 20, :SE), 1, 60, nothing) … MDMA.MDPState(UAVState(19, 20, :SE), 1, 60, nothing) MDMA.MDPState(UAVState(20, 20, :SE), 1, 60, nothing);;;; MDMA.MDPState(UAVState(1, 1, :E), 2, 60, nothing) MDMA.MDPState(UAVState(2, 1, :E), 2, 60, nothing) … MDMA.MDPState(UAVState(19, 1, :E), 2, 60, nothing) MDMA.MDPState(UAVState(20, 1, :E), 2, 60, nothing); MDMA.MDPState(UAVState(1, 2, :E), 2, 60, nothing) MDMA.MDPState(UAVState(2, 2, :E), 2, 60, nothing) … MDMA.MDPState(UAVState(19, 2, :E), 2, 60, nothing) MDMA.MDPState(UAVState(20, 2, :E), 2, 60, nothing); … ; MDMA.MDPState(UAVState(1, 19, :E), 2, 60, nothing) MDMA.MDPState(UAVState(2, 19, :E), 2, 60, nothing) … MDMA.MDPState(UAVState(19, 19, :E), 2, 60, nothing) MDMA.MDPState(UAVState(20, 19, :E), 2, 60, nothing); MDMA.MDPState(UAVState(1, 20, :E), 2, 60, nothing) MDMA.MDPState(UAVState(2, 20, :E), 2, 60, nothing) … MDMA.MDPState(UAVState(19, 20, :E), 2, 60, nothing) MDMA.MDPState(UAVState(20, 20, :E), 2, 60, nothing);;; MDMA.MDPState(UAVState(1, 1, :NE), 2, 60, nothing) MDMA.MDPState(UAVState(2, 1, :NE), 2, 60, nothing) … MDMA.MDPState(UAVState(19, 1, :NE), 2, 60, nothing) MDMA.MDPState(UAVState(20, 1, :NE), 2, 60, nothing); MDMA.MDPState(UAVState(1, 2, :NE), 2, 60, nothing) MDMA.MDPState(UAVState(2, 2, :NE), 2, 60, nothing) … MDMA.MDPState(UAVState(19, 2, :NE), 2, 60, nothing) MDMA.MDPState(UAVState(20, 2, :NE), 2, 60, nothing); … ; MDMA.MDPState(UAVState(1, 19, :NE), 2, 60, nothing) MDMA.MDPState(UAVState(2, 19, :NE), 2, 60, nothing) … MDMA.MDPState(UAVState(19, 19, :NE), 2, 60, nothing) MDMA.MDPState(UAVState(20, 19, :NE), 2, 60, nothing); MDMA.MDPState(UAVState(1, 20, :NE), 2, 60, nothing) MDMA.MDPState(UAVState(2, 20, :NE), 2, 60, nothing) … MDMA.MDPState(UAVState(19, 20, :NE), 2, 60, nothing) MDMA.MDPState(UAVState(20, 20, :NE), 2, 60, nothing);;; MDMA.MDPState(UAVState(1, 1, :N), 2, 60, nothing) MDMA.MDPState(UAVState(2, 1, :N), 2, 60, nothing) … MDMA.MDPState(UAVState(19, 1, :N), 2, 60, nothing) MDMA.MDPState(UAVState(20, 1, :N), 2, 60, nothing); MDMA.MDPState(UAVState(1, 2, :N), 2, 60, nothing) MDMA.MDPState(UAVState(2, 2, :N), 2, 60, nothing) … MDMA.MDPState(UAVState(19, 2, :N), 2, 60, nothing) MDMA.MDPState(UAVState(20, 2, :N), 2, 60, nothing); … ; MDMA.MDPState(UAVState(1, 19, :N), 2, 60, nothing) MDMA.MDPState(UAVState(2, 19, :N), 2, 60, nothing) … MDMA.MDPState(UAVState(19, 19, :N), 2, 60, nothing) MDMA.MDPState(UAVState(20, 19, :N), 2, 60, nothing); MDMA.MDPState(UAVState(1, 20, :N), 2, 60, nothing) MDMA.MDPState(UAVState(2, 20, :N), 2, 60, nothing) … MDMA.MDPState(UAVState(19, 20, :N), 2, 60, nothing) MDMA.MDPState(UAVState(20, 20, :N), 2, 60, nothing);;; MDMA.MDPState(UAVState(1, 1, :NW), 2, 60, nothing) MDMA.MDPState(UAVState(2, 1, :NW), 2, 60, nothing) … MDMA.MDPState(UAVState(19, 1, :NW), 2, 60, nothing) MDMA.MDPState(UAVState(20, 1, :NW), 2, 60, nothing); MDMA.MDPState(UAVState(1, 2, :NW), 2, 60, nothing) MDMA.MDPState(UAVState(2, 2, :NW), 2, 60, nothing) … MDMA.MDPState(UAVState(19, 2, :NW), 2, 60, nothing) MDMA.MDPState(UAVState(20, 2, :NW), 2, 60, nothing); … ; MDMA.MDPState(UAVState(1, 19, :NW), 2, 60, nothing) MDMA.MDPState(UAVState(2, 19, :NW), 2, 60, nothing) … MDMA.MDPState(UAVState(19, 19, :NW), 2, 60, nothing) MDMA.MDPState(UAVState(20, 19, :NW), 2, 60, nothing); MDMA.MDPState(UAVState(1, 20, :NW), 2, 60, nothing) MDMA.MDPState(UAVState(2, 20, :NW), 2, 60, nothing) … MDMA.MDPState(UAVState(19, 20, :NW), 2, 60, nothing) MDMA.MDPState(UAVState(20, 20, :NW), 2, 60, nothing);;; MDMA.MDPState(UAVState(1, 1, :W), 2, 60, nothing) MDMA.MDPState(UAVState(2, 1, :W), 2, 60, nothing) … MDMA.MDPState(UAVState(19, 1, :W), 2, 60, nothing) MDMA.MDPState(UAVState(20, 1, :W), 2, 60, nothing); MDMA.MDPState(UAVState(1, 2, :W), 2, 60, nothing) MDMA.MDPState(UAVState(2, 2, :W), 2, 60, nothing) … MDMA.MDPState(UAVState(19, 2, :W), 2, 60, nothing) MDMA.MDPState(UAVState(20, 2, :W), 2, 60, nothing); … ; MDMA.MDPState(UAVState(1, 19, :W), 2, 60, nothing) MDMA.MDPState(UAVState(2, 19, :W), 2, 60, nothing) … MDMA.MDPState(UAVState(19, 19, :W), 2, 60, nothing) MDMA.MDPState(UAVState(20, 19, :W), 2, 60, nothing); MDMA.MDPState(UAVState(1, 20, :W), 2, 60, nothing) MDMA.MDPState(UAVState(2, 20, :W), 2, 60, nothing) … MDMA.MDPState(UAVState(19, 20, :W), 2, 60, nothing) MDMA.MDPState(UAVState(20, 20, :W), 2, 60, nothing);;; MDMA.MDPState(UAVState(1, 1, :SW), 2, 60, nothing) MDMA.MDPState(UAVState(2, 1, :SW), 2, 60, nothing) … MDMA.MDPState(UAVState(19, 1, :SW), 2, 60, nothing) MDMA.MDPState(UAVState(20, 1, :SW), 2, 60, nothing); MDMA.MDPState(UAVState(1, 2, :SW), 2, 60, nothing) MDMA.MDPState(UAVState(2, 2, :SW), 2, 60, nothing) … MDMA.MDPState(UAVState(19, 2, :SW), 2, 60, nothing) MDMA.MDPState(UAVState(20, 2, :SW), 2, 60, nothing); … ; MDMA.MDPState(UAVState(1, 19, :SW), 2, 60, nothing) MDMA.MDPState(UAVState(2, 19, :SW), 2, 60, nothing) … MDMA.MDPState(UAVState(19, 19, :SW), 2, 60, nothing) MDMA.MDPState(UAVState(20, 19, :SW), 2, 60, nothing); MDMA.MDPState(UAVState(1, 20, :SW), 2, 60, nothing) MDMA.MDPState(UAVState(2, 20, :SW), 2, 60, nothing) … MDMA.MDPState(UAVState(19, 20, :SW), 2, 60, nothing) MDMA.MDPState(UAVState(20, 20, :SW), 2, 60, nothing);;; MDMA.MDPState(UAVState(1, 1, :S), 2, 60, nothing) MDMA.MDPState(UAVState(2, 1, :S), 2, 60, nothing) … MDMA.MDPState(UAVState(19, 1, :S), 2, 60, nothing) MDMA.MDPState(UAVState(20, 1, :S), 2, 60, nothing); MDMA.MDPState(UAVState(1, 2, :S), 2, 60, nothing) MDMA.MDPState(UAVState(2, 2, :S), 2, 60, nothing) … MDMA.MDPState(UAVState(19, 2, :S), 2, 60, nothing) MDMA.MDPState(UAVState(20, 2, :S), 2, 60, nothing); … ; MDMA.MDPState(UAVState(1, 19, :S), 2, 60, nothing) MDMA.MDPState(UAVState(2, 19, :S), 2, 60, nothing) … MDMA.MDPState(UAVState(19, 19, :S), 2, 60, nothing) MDMA.MDPState(UAVState(20, 19, :S), 2, 60, nothing); MDMA.MDPState(UAVState(1, 20, :S), 2, 60, nothing) MDMA.MDPState(UAVState(2, 20, :S), 2, 60, nothing) … MDMA.MDPState(UAVState(19, 20, :S), 2, 60, nothing) MDMA.MDPState(UAVState(20, 20, :S), 2, 60, nothing);;; MDMA.MDPState(UAVState(1, 1, :SE), 2, 60, nothing) MDMA.MDPState(UAVState(2, 1, :SE), 2, 60, nothing) … MDMA.MDPState(UAVState(19, 1, :SE), 2, 60, nothing) MDMA.MDPState(UAVState(20, 1, :SE), 2, 60, nothing); MDMA.MDPState(UAVState(1, 2, :SE), 2, 60, nothing) MDMA.MDPState(UAVState(2, 2, :SE), 2, 60, nothing) … MDMA.MDPState(UAVState(19, 2, :SE), 2, 60, nothing) MDMA.MDPState(UAVState(20, 2, :SE), 2, 60, nothing); … ; MDMA.MDPState(UAVState(1, 19, :SE), 2, 60, nothing) MDMA.MDPState(UAVState(2, 19, :SE), 2, 60, nothing) … MDMA.MDPState(UAVState(19, 19, :SE), 2, 60, nothing) MDMA.MDPState(UAVState(20, 19, :SE), 2, 60, nothing); MDMA.MDPState(UAVState(1, 20, :SE), 2, 60, nothing) MDMA.MDPState(UAVState(2, 20, :SE), 2, 60, nothing) … MDMA.MDPState(UAVState(19, 20, :SE), 2, 60, nothing) MDMA.MDPState(UAVState(20, 20, :SE), 2, 60, nothing);;;; MDMA.MDPState(UAVState(1, 1, :E), 3, 60, nothing) MDMA.MDPState(UAVState(2, 1, :E), 3, 60, nothing) … MDMA.MDPState(UAVState(19, 1, :E), 3, 60, nothing) MDMA.MDPState(UAVState(20, 1, :E), 3, 60, nothing); MDMA.MDPState(UAVState(1, 2, :E), 3, 60, nothing) MDMA.MDPState(UAVState(2, 2, :E), 3, 60, nothing) … MDMA.MDPState(UAVState(19, 2, :E), 3, 60, nothing) MDMA.MDPState(UAVState(20, 2, :E), 3, 60, nothing); … ; MDMA.MDPState(UAVState(1, 19, :E), 3, 60, nothing) MDMA.MDPState(UAVState(2, 19, :E), 3, 60, nothing) … MDMA.MDPState(UAVState(19, 19, :E), 3, 60, nothing) MDMA.MDPState(UAVState(20, 19, :E), 3, 60, nothing); MDMA.MDPState(UAVState(1, 20, :E), 3, 60, nothing) MDMA.MDPState(UAVState(2, 20, :E), 3, 60, nothing) … MDMA.MDPState(UAVState(19, 20, :E), 3, 60, nothing) MDMA.MDPState(UAVState(20, 20, :E), 3, 60, nothing);;; MDMA.MDPState(UAVState(1, 1, :NE), 3, 60, nothing) MDMA.MDPState(UAVState(2, 1, :NE), 3, 60, nothing) … MDMA.MDPState(UAVState(19, 1, :NE), 3, 60, nothing) MDMA.MDPState(UAVState(20, 1, :NE), 3, 60, nothing); MDMA.MDPState(UAVState(1, 2, :NE), 3, 60, nothing) MDMA.MDPState(UAVState(2, 2, :NE), 3, 60, nothing) … MDMA.MDPState(UAVState(19, 2, :NE), 3, 60, nothing) MDMA.MDPState(UAVState(20, 2, :NE), 3, 60, nothing); … ; MDMA.MDPState(UAVState(1, 19, :NE), 3, 60, nothing) MDMA.MDPState(UAVState(2, 19, :NE), 3, 60, nothing) … MDMA.MDPState(UAVState(19, 19, :NE), 3, 60, nothing) MDMA.MDPState(UAVState(20, 19, :NE), 3, 60, nothing); MDMA.MDPState(UAVState(1, 20, :NE), 3, 60, nothing) MDMA.MDPState(UAVState(2, 20, :NE), 3, 60, nothing) … MDMA.MDPState(UAVState(19, 20, :NE), 3, 60, nothing) MDMA.MDPState(UAVState(20, 20, :NE), 3, 60, nothing);;; MDMA.MDPState(UAVState(1, 1, :N), 3, 60, nothing) MDMA.MDPState(UAVState(2, 1, :N), 3, 60, nothing) … MDMA.MDPState(UAVState(19, 1, :N), 3, 60, nothing) MDMA.MDPState(UAVState(20, 1, :N), 3, 60, nothing); MDMA.MDPState(UAVState(1, 2, :N), 3, 60, nothing) MDMA.MDPState(UAVState(2, 2, :N), 3, 60, nothing) … MDMA.MDPState(UAVState(19, 2, :N), 3, 60, nothing) MDMA.MDPState(UAVState(20, 2, :N), 3, 60, nothing); … ; MDMA.MDPState(UAVState(1, 19, :N), 3, 60, nothing) MDMA.MDPState(UAVState(2, 19, :N), 3, 60, nothing) … MDMA.MDPState(UAVState(19, 19, :N), 3, 60, nothing) MDMA.MDPState(UAVState(20, 19, :N), 3, 60, nothing); MDMA.MDPState(UAVState(1, 20, :N), 3, 60, nothing) MDMA.MDPState(UAVState(2, 20, :N), 3, 60, nothing) … MDMA.MDPState(UAVState(19, 20, :N), 3, 60, nothing) MDMA.MDPState(UAVState(20, 20, :N), 3, 60, nothing);;; MDMA.MDPState(UAVState(1, 1, :NW), 3, 60, nothing) MDMA.MDPState(UAVState(2, 1, :NW), 3, 60, nothing) … MDMA.MDPState(UAVState(19, 1, :NW), 3, 60, nothing) MDMA.MDPState(UAVState(20, 1, :NW), 3, 60, nothing); MDMA.MDPState(UAVState(1, 2, :NW), 3, 60, nothing) MDMA.MDPState(UAVState(2, 2, :NW), 3, 60, nothing) … MDMA.MDPState(UAVState(19, 2, :NW), 3, 60, nothing) MDMA.MDPState(UAVState(20, 2, :NW), 3, 60, nothing); … ; MDMA.MDPState(UAVState(1, 19, :NW), 3, 60, nothing) MDMA.MDPState(UAVState(2, 19, :NW), 3, 60, nothing) … MDMA.MDPState(UAVState(19, 19, :NW), 3, 60, nothing) MDMA.MDPState(UAVState(20, 19, :NW), 3, 60, nothing); MDMA.MDPState(UAVState(1, 20, :NW), 3, 60, nothing) MDMA.MDPState(UAVState(2, 20, :NW), 3, 60, nothing) … MDMA.MDPState(UAVState(19, 20, :NW), 3, 60, nothing) MDMA.MDPState(UAVState(20, 20, :NW), 3, 60, nothing);;; MDMA.MDPState(UAVState(1, 1, :W), 3, 60, nothing) MDMA.MDPState(UAVState(2, 1, :W), 3, 60, nothing) … MDMA.MDPState(UAVState(19, 1, :W), 3, 60, nothing) MDMA.MDPState(UAVState(20, 1, :W), 3, 60, nothing); MDMA.MDPState(UAVState(1, 2, :W), 3, 60, nothing) MDMA.MDPState(UAVState(2, 2, :W), 3, 60, nothing) … MDMA.MDPState(UAVState(19, 2, :W), 3, 60, nothing) MDMA.MDPState(UAVState(20, 2, :W), 3, 60, nothing); … ; MDMA.MDPState(UAVState(1, 19, :W), 3, 60, nothing) MDMA.MDPState(UAVState(2, 19, :W), 3, 60, nothing) … MDMA.MDPState(UAVState(19, 19, :W), 3, 60, nothing) MDMA.MDPState(UAVState(20, 19, :W), 3, 60, nothing); MDMA.MDPState(UAVState(1, 20, :W), 3, 60, nothing) MDMA.MDPState(UAVState(2, 20, :W), 3, 60, nothing) … MDMA.MDPState(UAVState(19, 20, :W), 3, 60, nothing) MDMA.MDPState(UAVState(20, 20, :W), 3, 60, nothing);;; MDMA.MDPState(UAVState(1, 1, :SW), 3, 60, nothing) MDMA.MDPState(UAVState(2, 1, :SW), 3, 60, nothing) … MDMA.MDPState(UAVState(19, 1, :SW), 3, 60, nothing) MDMA.MDPState(UAVState(20, 1, :SW), 3, 60, nothing); MDMA.MDPState(UAVState(1, 2, :SW), 3, 60, nothing) MDMA.MDPState(UAVState(2, 2, :SW), 3, 60, nothing) … MDMA.MDPState(UAVState(19, 2, :SW), 3, 60, nothing) MDMA.MDPState(UAVState(20, 2, :SW), 3, 60, nothing); … ; MDMA.MDPState(UAVState(1, 19, :SW), 3, 60, nothing) MDMA.MDPState(UAVState(2, 19, :SW), 3, 60, nothing) … MDMA.MDPState(UAVState(19, 19, :SW), 3, 60, nothing) MDMA.MDPState(UAVState(20, 19, :SW), 3, 60, nothing); MDMA.MDPState(UAVState(1, 20, :SW), 3, 60, nothing) MDMA.MDPState(UAVState(2, 20, :SW), 3, 60, nothing) … MDMA.MDPState(UAVState(19, 20, :SW), 3, 60, nothing) MDMA.MDPState(UAVState(20, 20, :SW), 3, 60, nothing);;; MDMA.MDPState(UAVState(1, 1, :S), 3, 60, nothing) MDMA.MDPState(UAVState(2, 1, :S), 3, 60, nothing) … MDMA.MDPState(UAVState(19, 1, :S), 3, 60, nothing) MDMA.MDPState(UAVState(20, 1, :S), 3, 60, nothing); MDMA.MDPState(UAVState(1, 2, :S), 3, 60, nothing) MDMA.MDPState(UAVState(2, 2, :S), 3, 60, nothing) … MDMA.MDPState(UAVState(19, 2, :S), 3, 60, nothing) MDMA.MDPState(UAVState(20, 2, :S), 3, 60, nothing); … ; MDMA.MDPState(UAVState(1, 19, :S), 3, 60, nothing) MDMA.MDPState(UAVState(2, 19, :S), 3, 60, nothing) … MDMA.MDPState(UAVState(19, 19, :S), 3, 60, nothing) MDMA.MDPState(UAVState(20, 19, :S), 3, 60, nothing); MDMA.MDPState(UAVState(1, 20, :S), 3, 60, nothing) MDMA.MDPState(UAVState(2, 20, :S), 3, 60, nothing) … MDMA.MDPState(UAVState(19, 20, :S), 3, 60, nothing) MDMA.MDPState(UAVState(20, 20, :S), 3, 60, nothing);;; MDMA.MDPState(UAVState(1, 1, :SE), 3, 60, nothing) MDMA.MDPState(UAVState(2, 1, :SE), 3, 60, nothing) … MDMA.MDPState(UAVState(19, 1, :SE), 3, 60, nothing) MDMA.MDPState(UAVState(20, 1, :SE), 3, 60, nothing); MDMA.MDPState(UAVState(1, 2, :SE), 3, 60, nothing) MDMA.MDPState(UAVState(2, 2, :SE), 3, 60, nothing) … MDMA.MDPState(UAVState(19, 2, :SE), 3, 60, nothing) MDMA.MDPState(UAVState(20, 2, :SE), 3, 60, nothing); … ; MDMA.MDPState(UAVState(1, 19, :SE), 3, 60, nothing) MDMA.MDPState(UAVState(2, 19, :SE), 3, 60, nothing) … MDMA.MDPState(UAVState(19, 19, :SE), 3, 60, nothing) MDMA.MDPState(UAVState(20, 19, :SE), 3, 60, nothing); MDMA.MDPState(UAVState(1, 20, :SE), 3, 60, nothing) MDMA.MDPState(UAVState(2, 20, :SE), 3, 60, nothing) … MDMA.MDPState(UAVState(19, 20, :SE), 3, 60, nothing) MDMA.MDPState(UAVState(20, 20, :SE), 3, 60, nothing);;;; … ;;;; MDMA.MDPState(UAVState(1, 1, :E), 58, 60, nothing) MDMA.MDPState(UAVState(2, 1, :E), 58, 60, nothing) … MDMA.MDPState(UAVState(19, 1, :E), 58, 60, nothing) MDMA.MDPState(UAVState(20, 1, :E), 58, 60, nothing); MDMA.MDPState(UAVState(1, 2, :E), 58, 60, nothing) MDMA.MDPState(UAVState(2, 2, :E), 58, 60, nothing) … MDMA.MDPState(UAVState(19, 2, :E), 58, 60, nothing) MDMA.MDPState(UAVState(20, 2, :E), 58, 60, nothing); … ; MDMA.MDPState(UAVState(1, 19, :E), 58, 60, nothing) MDMA.MDPState(UAVState(2, 19, :E), 58, 60, nothing) … MDMA.MDPState(UAVState(19, 19, :E), 58, 60, nothing) MDMA.MDPState(UAVState(20, 19, :E), 58, 60, nothing); MDMA.MDPState(UAVState(1, 20, :E), 58, 60, nothing) MDMA.MDPState(UAVState(2, 20, :E), 58, 60, nothing) … MDMA.MDPState(UAVState(19, 20, :E), 58, 60, nothing) MDMA.MDPState(UAVState(20, 20, :E), 58, 60, nothing);;; MDMA.MDPState(UAVState(1, 1, :NE), 58, 60, nothing) MDMA.MDPState(UAVState(2, 1, :NE), 58, 60, nothing) … MDMA.MDPState(UAVState(19, 1, :NE), 58, 60, nothing) MDMA.MDPState(UAVState(20, 1, :NE), 58, 60, nothing); MDMA.MDPState(UAVState(1, 2, :NE), 58, 60, nothing) MDMA.MDPState(UAVState(2, 2, :NE), 58, 60, nothing) … MDMA.MDPState(UAVState(19, 2, :NE), 58, 60, nothing) MDMA.MDPState(UAVState(20, 2, :NE), 58, 60, nothing); … ; MDMA.MDPState(UAVState(1, 19, :NE), 58, 60, nothing) MDMA.MDPState(UAVState(2, 19, :NE), 58, 60, nothing) … MDMA.MDPState(UAVState(19, 19, :NE), 58, 60, nothing) MDMA.MDPState(UAVState(20, 19, :NE), 58, 60, nothing); MDMA.MDPState(UAVState(1, 20, :NE), 58, 60, nothing) MDMA.MDPState(UAVState(2, 20, :NE), 58, 60, nothing) … MDMA.MDPState(UAVState(19, 20, :NE), 58, 60, nothing) MDMA.MDPState(UAVState(20, 20, :NE), 58, 60, nothing);;; MDMA.MDPState(UAVState(1, 1, :N), 58, 60, nothing) MDMA.MDPState(UAVState(2, 1, :N), 58, 60, nothing) … MDMA.MDPState(UAVState(19, 1, :N), 58, 60, nothing) MDMA.MDPState(UAVState(20, 1, :N), 58, 60, nothing); MDMA.MDPState(UAVState(1, 2, :N), 58, 60, nothing) MDMA.MDPState(UAVState(2, 2, :N), 58, 60, nothing) … MDMA.MDPState(UAVState(19, 2, :N), 58, 60, nothing) MDMA.MDPState(UAVState(20, 2, :N), 58, 60, nothing); … ; MDMA.MDPState(UAVState(1, 19, :N), 58, 60, nothing) MDMA.MDPState(UAVState(2, 19, :N), 58, 60, nothing) … MDMA.MDPState(UAVState(19, 19, :N), 58, 60, nothing) MDMA.MDPState(UAVState(20, 19, :N), 58, 60, nothing); MDMA.MDPState(UAVState(1, 20, :N), 58, 60, nothing) MDMA.MDPState(UAVState(2, 20, :N), 58, 60, nothing) … MDMA.MDPState(UAVState(19, 20, :N), 58, 60, nothing) MDMA.MDPState(UAVState(20, 20, :N), 58, 60, nothing);;; MDMA.MDPState(UAVState(1, 1, :NW), 58, 60, nothing) MDMA.MDPState(UAVState(2, 1, :NW), 58, 60, nothing) … MDMA.MDPState(UAVState(19, 1, :NW), 58, 60, nothing) MDMA.MDPState(UAVState(20, 1, :NW), 58, 60, nothing); MDMA.MDPState(UAVState(1, 2, :NW), 58, 60, nothing) MDMA.MDPState(UAVState(2, 2, :NW), 58, 60, nothing) … MDMA.MDPState(UAVState(19, 2, :NW), 58, 60, nothing) MDMA.MDPState(UAVState(20, 2, :NW), 58, 60, nothing); … ; MDMA.MDPState(UAVState(1, 19, :NW), 58, 60, nothing) MDMA.MDPState(UAVState(2, 19, :NW), 58, 60, nothing) … MDMA.MDPState(UAVState(19, 19, :NW), 58, 60, nothing) MDMA.MDPState(UAVState(20, 19, :NW), 58, 60, nothing); MDMA.MDPState(UAVState(1, 20, :NW), 58, 60, nothing) MDMA.MDPState(UAVState(2, 20, :NW), 58, 60, nothing) … MDMA.MDPState(UAVState(19, 20, :NW), 58, 60, nothing) MDMA.MDPState(UAVState(20, 20, :NW), 58, 60, nothing);;; MDMA.MDPState(UAVState(1, 1, :W), 58, 60, nothing) MDMA.MDPState(UAVState(2, 1, :W), 58, 60, nothing) … MDMA.MDPState(UAVState(19, 1, :W), 58, 60, nothing) MDMA.MDPState(UAVState(20, 1, :W), 58, 60, nothing); MDMA.MDPState(UAVState(1, 2, :W), 58, 60, nothing) MDMA.MDPState(UAVState(2, 2, :W), 58, 60, nothing) … MDMA.MDPState(UAVState(19, 2, :W), 58, 60, nothing) MDMA.MDPState(UAVState(20, 2, :W), 58, 60, nothing); … ; MDMA.MDPState(UAVState(1, 19, :W), 58, 60, nothing) MDMA.MDPState(UAVState(2, 19, :W), 58, 60, nothing) … MDMA.MDPState(UAVState(19, 19, :W), 58, 60, nothing) MDMA.MDPState(UAVState(20, 19, :W), 58, 60, nothing); MDMA.MDPState(UAVState(1, 20, :W), 58, 60, nothing) MDMA.MDPState(UAVState(2, 20, :W), 58, 60, nothing) … MDMA.MDPState(UAVState(19, 20, :W), 58, 60, nothing) MDMA.MDPState(UAVState(20, 20, :W), 58, 60, nothing);;; MDMA.MDPState(UAVState(1, 1, :SW), 58, 60, nothing) MDMA.MDPState(UAVState(2, 1, :SW), 58, 60, nothing) … MDMA.MDPState(UAVState(19, 1, :SW), 58, 60, nothing) MDMA.MDPState(UAVState(20, 1, :SW), 58, 60, nothing); MDMA.MDPState(UAVState(1, 2, :SW), 58, 60, nothing) MDMA.MDPState(UAVState(2, 2, :SW), 58, 60, nothing) … MDMA.MDPState(UAVState(19, 2, :SW), 58, 60, nothing) MDMA.MDPState(UAVState(20, 2, :SW), 58, 60, nothing); … ; MDMA.MDPState(UAVState(1, 19, :SW), 58, 60, nothing) MDMA.MDPState(UAVState(2, 19, :SW), 58, 60, nothing) … MDMA.MDPState(UAVState(19, 19, :SW), 58, 60, nothing) MDMA.MDPState(UAVState(20, 19, :SW), 58, 60, nothing); MDMA.MDPState(UAVState(1, 20, :SW), 58, 60, nothing) MDMA.MDPState(UAVState(2, 20, :SW), 58, 60, nothing) … MDMA.MDPState(UAVState(19, 20, :SW), 58, 60, nothing) MDMA.MDPState(UAVState(20, 20, :SW), 58, 60, nothing);;; MDMA.MDPState(UAVState(1, 1, :S), 58, 60, nothing) MDMA.MDPState(UAVState(2, 1, :S), 58, 60, nothing) … MDMA.MDPState(UAVState(19, 1, :S), 58, 60, nothing) MDMA.MDPState(UAVState(20, 1, :S), 58, 60, nothing); MDMA.MDPState(UAVState(1, 2, :S), 58, 60, nothing) MDMA.MDPState(UAVState(2, 2, :S), 58, 60, nothing) … MDMA.MDPState(UAVState(19, 2, :S), 58, 60, nothing) MDMA.MDPState(UAVState(20, 2, :S), 58, 60, nothing); … ; MDMA.MDPState(UAVState(1, 19, :S), 58, 60, nothing) MDMA.MDPState(UAVState(2, 19, :S), 58, 60, nothing) … MDMA.MDPState(UAVState(19, 19, :S), 58, 60, nothing) MDMA.MDPState(UAVState(20, 19, :S), 58, 60, nothing); MDMA.MDPState(UAVState(1, 20, :S), 58, 60, nothing) MDMA.MDPState(UAVState(2, 20, :S), 58, 60, nothing) … MDMA.MDPState(UAVState(19, 20, :S), 58, 60, nothing) MDMA.MDPState(UAVState(20, 20, :S), 58, 60, nothing);;; MDMA.MDPState(UAVState(1, 1, :SE), 58, 60, nothing) MDMA.MDPState(UAVState(2, 1, :SE), 58, 60, nothing) … MDMA.MDPState(UAVState(19, 1, :SE), 58, 60, nothing) MDMA.MDPState(UAVState(20, 1, :SE), 58, 60, nothing); MDMA.MDPState(UAVState(1, 2, :SE), 58, 60, nothing) MDMA.MDPState(UAVState(2, 2, :SE), 58, 60, nothing) … MDMA.MDPState(UAVState(19, 2, :SE), 58, 60, nothing) MDMA.MDPState(UAVState(20, 2, :SE), 58, 60, nothing); … ; MDMA.MDPState(UAVState(1, 19, :SE), 58, 60, nothing) MDMA.MDPState(UAVState(2, 19, :SE), 58, 60, nothing) … MDMA.MDPState(UAVState(19, 19, :SE), 58, 60, nothing) MDMA.MDPState(UAVState(20, 19, :SE), 58, 60, nothing); MDMA.MDPState(UAVState(1, 20, :SE), 58, 60, nothing) MDMA.MDPState(UAVState(2, 20, :SE), 58, 60, nothing) … MDMA.MDPState(UAVState(19, 20, :SE), 58, 60, nothing) MDMA.MDPState(UAVState(20, 20, :SE), 58, 60, nothing);;;; MDMA.MDPState(UAVState(1, 1, :E), 59, 60, nothing) MDMA.MDPState(UAVState(2, 1, :E), 59, 60, nothing) … MDMA.MDPState(UAVState(19, 1, :E), 59, 60, nothing) MDMA.MDPState(UAVState(20, 1, :E), 59, 60, nothing); MDMA.MDPState(UAVState(1, 2, :E), 59, 60, nothing) MDMA.MDPState(UAVState(2, 2, :E), 59, 60, nothing) … MDMA.MDPState(UAVState(19, 2, :E), 59, 60, nothing) MDMA.MDPState(UAVState(20, 2, :E), 59, 60, nothing); … ; MDMA.MDPState(UAVState(1, 19, :E), 59, 60, nothing) MDMA.MDPState(UAVState(2, 19, :E), 59, 60, nothing) … MDMA.MDPState(UAVState(19, 19, :E), 59, 60, nothing) MDMA.MDPState(UAVState(20, 19, :E), 59, 60, nothing); MDMA.MDPState(UAVState(1, 20, :E), 59, 60, nothing) MDMA.MDPState(UAVState(2, 20, :E), 59, 60, nothing) … MDMA.MDPState(UAVState(19, 20, :E), 59, 60, nothing) MDMA.MDPState(UAVState(20, 20, :E), 59, 60, nothing);;; MDMA.MDPState(UAVState(1, 1, :NE), 59, 60, nothing) MDMA.MDPState(UAVState(2, 1, :NE), 59, 60, nothing) … MDMA.MDPState(UAVState(19, 1, :NE), 59, 60, nothing) MDMA.MDPState(UAVState(20, 1, :NE), 59, 60, nothing); MDMA.MDPState(UAVState(1, 2, :NE), 59, 60, nothing) MDMA.MDPState(UAVState(2, 2, :NE), 59, 60, nothing) … MDMA.MDPState(UAVState(19, 2, :NE), 59, 60, nothing) MDMA.MDPState(UAVState(20, 2, :NE), 59, 60, nothing); … ; MDMA.MDPState(UAVState(1, 19, :NE), 59, 60, nothing) MDMA.MDPState(UAVState(2, 19, :NE), 59, 60, nothing) … MDMA.MDPState(UAVState(19, 19, :NE), 59, 60, nothing) MDMA.MDPState(UAVState(20, 19, :NE), 59, 60, nothing); MDMA.MDPState(UAVState(1, 20, :NE), 59, 60, nothing) MDMA.MDPState(UAVState(2, 20, :NE), 59, 60, nothing) … MDMA.MDPState(UAVState(19, 20, :NE), 59, 60, nothing) MDMA.MDPState(UAVState(20, 20, :NE), 59, 60, nothing);;; MDMA.MDPState(UAVState(1, 1, :N), 59, 60, nothing) MDMA.MDPState(UAVState(2, 1, :N), 59, 60, nothing) … MDMA.MDPState(UAVState(19, 1, :N), 59, 60, nothing) MDMA.MDPState(UAVState(20, 1, :N), 59, 60, nothing); MDMA.MDPState(UAVState(1, 2, :N), 59, 60, nothing) MDMA.MDPState(UAVState(2, 2, :N), 59, 60, nothing) … MDMA.MDPState(UAVState(19, 2, :N), 59, 60, nothing) MDMA.MDPState(UAVState(20, 2, :N), 59, 60, nothing); … ; MDMA.MDPState(UAVState(1, 19, :N), 59, 60, nothing) MDMA.MDPState(UAVState(2, 19, :N), 59, 60, nothing) … MDMA.MDPState(UAVState(19, 19, :N), 59, 60, nothing) MDMA.MDPState(UAVState(20, 19, :N), 59, 60, nothing); MDMA.MDPState(UAVState(1, 20, :N), 59, 60, nothing) MDMA.MDPState(UAVState(2, 20, :N), 59, 60, nothing) … MDMA.MDPState(UAVState(19, 20, :N), 59, 60, nothing) MDMA.MDPState(UAVState(20, 20, :N), 59, 60, nothing);;; MDMA.MDPState(UAVState(1, 1, :NW), 59, 60, nothing) MDMA.MDPState(UAVState(2, 1, :NW), 59, 60, nothing) … MDMA.MDPState(UAVState(19, 1, :NW), 59, 60, nothing) MDMA.MDPState(UAVState(20, 1, :NW), 59, 60, nothing); MDMA.MDPState(UAVState(1, 2, :NW), 59, 60, nothing) MDMA.MDPState(UAVState(2, 2, :NW), 59, 60, nothing) … MDMA.MDPState(UAVState(19, 2, :NW), 59, 60, nothing) MDMA.MDPState(UAVState(20, 2, :NW), 59, 60, nothing); … ; MDMA.MDPState(UAVState(1, 19, :NW), 59, 60, nothing) MDMA.MDPState(UAVState(2, 19, :NW), 59, 60, nothing) … MDMA.MDPState(UAVState(19, 19, :NW), 59, 60, nothing) MDMA.MDPState(UAVState(20, 19, :NW), 59, 60, nothing); MDMA.MDPState(UAVState(1, 20, :NW), 59, 60, nothing) MDMA.MDPState(UAVState(2, 20, :NW), 59, 60, nothing) … MDMA.MDPState(UAVState(19, 20, :NW), 59, 60, nothing) MDMA.MDPState(UAVState(20, 20, :NW), 59, 60, nothing);;; MDMA.MDPState(UAVState(1, 1, :W), 59, 60, nothing) MDMA.MDPState(UAVState(2, 1, :W), 59, 60, nothing) … MDMA.MDPState(UAVState(19, 1, :W), 59, 60, nothing) MDMA.MDPState(UAVState(20, 1, :W), 59, 60, nothing); MDMA.MDPState(UAVState(1, 2, :W), 59, 60, nothing) MDMA.MDPState(UAVState(2, 2, :W), 59, 60, nothing) … MDMA.MDPState(UAVState(19, 2, :W), 59, 60, nothing) MDMA.MDPState(UAVState(20, 2, :W), 59, 60, nothing); … ; MDMA.MDPState(UAVState(1, 19, :W), 59, 60, nothing) MDMA.MDPState(UAVState(2, 19, :W), 59, 60, nothing) … MDMA.MDPState(UAVState(19, 19, :W), 59, 60, nothing) MDMA.MDPState(UAVState(20, 19, :W), 59, 60, nothing); MDMA.MDPState(UAVState(1, 20, :W), 59, 60, nothing) MDMA.MDPState(UAVState(2, 20, :W), 59, 60, nothing) … MDMA.MDPState(UAVState(19, 20, :W), 59, 60, nothing) MDMA.MDPState(UAVState(20, 20, :W), 59, 60, nothing);;; MDMA.MDPState(UAVState(1, 1, :SW), 59, 60, nothing) MDMA.MDPState(UAVState(2, 1, :SW), 59, 60, nothing) … MDMA.MDPState(UAVState(19, 1, :SW), 59, 60, nothing) MDMA.MDPState(UAVState(20, 1, :SW), 59, 60, nothing); MDMA.MDPState(UAVState(1, 2, :SW), 59, 60, nothing) MDMA.MDPState(UAVState(2, 2, :SW), 59, 60, nothing) … MDMA.MDPState(UAVState(19, 2, :SW), 59, 60, nothing) MDMA.MDPState(UAVState(20, 2, :SW), 59, 60, nothing); … ; MDMA.MDPState(UAVState(1, 19, :SW), 59, 60, nothing) MDMA.MDPState(UAVState(2, 19, :SW), 59, 60, nothing) … MDMA.MDPState(UAVState(19, 19, :SW), 59, 60, nothing) MDMA.MDPState(UAVState(20, 19, :SW), 59, 60, nothing); MDMA.MDPState(UAVState(1, 20, :SW), 59, 60, nothing) MDMA.MDPState(UAVState(2, 20, :SW), 59, 60, nothing) … MDMA.MDPState(UAVState(19, 20, :SW), 59, 60, nothing) MDMA.MDPState(UAVState(20, 20, :SW), 59, 60, nothing);;; MDMA.MDPState(UAVState(1, 1, :S), 59, 60, nothing) MDMA.MDPState(UAVState(2, 1, :S), 59, 60, nothing) … MDMA.MDPState(UAVState(19, 1, :S), 59, 60, nothing) MDMA.MDPState(UAVState(20, 1, :S), 59, 60, nothing); MDMA.MDPState(UAVState(1, 2, :S), 59, 60, nothing) MDMA.MDPState(UAVState(2, 2, :S), 59, 60, nothing) … MDMA.MDPState(UAVState(19, 2, :S), 59, 60, nothing) MDMA.MDPState(UAVState(20, 2, :S), 59, 60, nothing); … ; MDMA.MDPState(UAVState(1, 19, :S), 59, 60, nothing) MDMA.MDPState(UAVState(2, 19, :S), 59, 60, nothing) … MDMA.MDPState(UAVState(19, 19, :S), 59, 60, nothing) MDMA.MDPState(UAVState(20, 19, :S), 59, 60, nothing); MDMA.MDPState(UAVState(1, 20, :S), 59, 60, nothing) MDMA.MDPState(UAVState(2, 20, :S), 59, 60, nothing) … MDMA.MDPState(UAVState(19, 20, :S), 59, 60, nothing) MDMA.MDPState(UAVState(20, 20, :S), 59, 60, nothing);;; MDMA.MDPState(UAVState(1, 1, :SE), 59, 60, nothing) MDMA.MDPState(UAVState(2, 1, :SE), 59, 60, nothing) … MDMA.MDPState(UAVState(19, 1, :SE), 59, 60, nothing) MDMA.MDPState(UAVState(20, 1, :SE), 59, 60, nothing); MDMA.MDPState(UAVState(1, 2, :SE), 59, 60, nothing) MDMA.MDPState(UAVState(2, 2, :SE), 59, 60, nothing) … MDMA.MDPState(UAVState(19, 2, :SE), 59, 60, nothing) MDMA.MDPState(UAVState(20, 2, :SE), 59, 60, nothing); … ; MDMA.MDPState(UAVState(1, 19, :SE), 59, 60, nothing) MDMA.MDPState(UAVState(2, 19, :SE), 59, 60, nothing) … MDMA.MDPState(UAVState(19, 19, :SE), 59, 60, nothing) MDMA.MDPState(UAVState(20, 19, :SE), 59, 60, nothing); MDMA.MDPState(UAVState(1, 20, :SE), 59, 60, nothing) MDMA.MDPState(UAVState(2, 20, :SE), 59, 60, nothing) … MDMA.MDPState(UAVState(19, 20, :SE), 59, 60, nothing) MDMA.MDPState(UAVState(20, 20, :SE), 59, 60, nothing);;;; MDMA.MDPState(UAVState(1, 1, :E), 60, 60, nothing) MDMA.MDPState(UAVState(2, 1, :E), 60, 60, nothing) … MDMA.MDPState(UAVState(19, 1, :E), 60, 60, nothing) MDMA.MDPState(UAVState(20, 1, :E), 60, 60, nothing); MDMA.MDPState(UAVState(1, 2, :E), 60, 60, nothing) MDMA.MDPState(UAVState(2, 2, :E), 60, 60, nothing) … MDMA.MDPState(UAVState(19, 2, :E), 60, 60, nothing) MDMA.MDPState(UAVState(20, 2, :E), 60, 60, nothing); … ; MDMA.MDPState(UAVState(1, 19, :E), 60, 60, nothing) MDMA.MDPState(UAVState(2, 19, :E), 60, 60, nothing) … MDMA.MDPState(UAVState(19, 19, :E), 60, 60, nothing) MDMA.MDPState(UAVState(20, 19, :E), 60, 60, nothing); MDMA.MDPState(UAVState(1, 20, :E), 60, 60, nothing) MDMA.MDPState(UAVState(2, 20, :E), 60, 60, nothing) … MDMA.MDPState(UAVState(19, 20, :E), 60, 60, nothing) MDMA.MDPState(UAVState(20, 20, :E), 60, 60, nothing);;; MDMA.MDPState(UAVState(1, 1, :NE), 60, 60, nothing) MDMA.MDPState(UAVState(2, 1, :NE), 60, 60, nothing) … MDMA.MDPState(UAVState(19, 1, :NE), 60, 60, nothing) MDMA.MDPState(UAVState(20, 1, :NE), 60, 60, nothing); MDMA.MDPState(UAVState(1, 2, :NE), 60, 60, nothing) MDMA.MDPState(UAVState(2, 2, :NE), 60, 60, nothing) … MDMA.MDPState(UAVState(19, 2, :NE), 60, 60, nothing) MDMA.MDPState(UAVState(20, 2, :NE), 60, 60, nothing); … ; MDMA.MDPState(UAVState(1, 19, :NE), 60, 60, nothing) MDMA.MDPState(UAVState(2, 19, :NE), 60, 60, nothing) … MDMA.MDPState(UAVState(19, 19, :NE), 60, 60, nothing) MDMA.MDPState(UAVState(20, 19, :NE), 60, 60, nothing); MDMA.MDPState(UAVState(1, 20, :NE), 60, 60, nothing) MDMA.MDPState(UAVState(2, 20, :NE), 60, 60, nothing) … MDMA.MDPState(UAVState(19, 20, :NE), 60, 60, nothing) MDMA.MDPState(UAVState(20, 20, :NE), 60, 60, nothing);;; MDMA.MDPState(UAVState(1, 1, :N), 60, 60, nothing) MDMA.MDPState(UAVState(2, 1, :N), 60, 60, nothing) … MDMA.MDPState(UAVState(19, 1, :N), 60, 60, nothing) MDMA.MDPState(UAVState(20, 1, :N), 60, 60, nothing); MDMA.MDPState(UAVState(1, 2, :N), 60, 60, nothing) MDMA.MDPState(UAVState(2, 2, :N), 60, 60, nothing) … MDMA.MDPState(UAVState(19, 2, :N), 60, 60, nothing) MDMA.MDPState(UAVState(20, 2, :N), 60, 60, nothing); … ; MDMA.MDPState(UAVState(1, 19, :N), 60, 60, nothing) MDMA.MDPState(UAVState(2, 19, :N), 60, 60, nothing) … MDMA.MDPState(UAVState(19, 19, :N), 60, 60, nothing) MDMA.MDPState(UAVState(20, 19, :N), 60, 60, nothing); MDMA.MDPState(UAVState(1, 20, :N), 60, 60, nothing) MDMA.MDPState(UAVState(2, 20, :N), 60, 60, nothing) … MDMA.MDPState(UAVState(19, 20, :N), 60, 60, nothing) MDMA.MDPState(UAVState(20, 20, :N), 60, 60, nothing);;; MDMA.MDPState(UAVState(1, 1, :NW), 60, 60, nothing) MDMA.MDPState(UAVState(2, 1, :NW), 60, 60, nothing) … MDMA.MDPState(UAVState(19, 1, :NW), 60, 60, nothing) MDMA.MDPState(UAVState(20, 1, :NW), 60, 60, nothing); MDMA.MDPState(UAVState(1, 2, :NW), 60, 60, nothing) MDMA.MDPState(UAVState(2, 2, :NW), 60, 60, nothing) … MDMA.MDPState(UAVState(19, 2, :NW), 60, 60, nothing) MDMA.MDPState(UAVState(20, 2, :NW), 60, 60, nothing); … ; MDMA.MDPState(UAVState(1, 19, :NW), 60, 60, nothing) MDMA.MDPState(UAVState(2, 19, :NW), 60, 60, nothing) … MDMA.MDPState(UAVState(19, 19, :NW), 60, 60, nothing) MDMA.MDPState(UAVState(20, 19, :NW), 60, 60, nothing); MDMA.MDPState(UAVState(1, 20, :NW), 60, 60, nothing) MDMA.MDPState(UAVState(2, 20, :NW), 60, 60, nothing) … MDMA.MDPState(UAVState(19, 20, :NW), 60, 60, nothing) MDMA.MDPState(UAVState(20, 20, :NW), 60, 60, nothing);;; MDMA.MDPState(UAVState(1, 1, :W), 60, 60, nothing) MDMA.MDPState(UAVState(2, 1, :W), 60, 60, nothing) … MDMA.MDPState(UAVState(19, 1, :W), 60, 60, nothing) MDMA.MDPState(UAVState(20, 1, :W), 60, 60, nothing); MDMA.MDPState(UAVState(1, 2, :W), 60, 60, nothing) MDMA.MDPState(UAVState(2, 2, :W), 60, 60, nothing) … MDMA.MDPState(UAVState(19, 2, :W), 60, 60, nothing) MDMA.MDPState(UAVState(20, 2, :W), 60, 60, nothing); … ; MDMA.MDPState(UAVState(1, 19, :W), 60, 60, nothing) MDMA.MDPState(UAVState(2, 19, :W), 60, 60, nothing) … MDMA.MDPState(UAVState(19, 19, :W), 60, 60, nothing) MDMA.MDPState(UAVState(20, 19, :W), 60, 60, nothing); MDMA.MDPState(UAVState(1, 20, :W), 60, 60, nothing) MDMA.MDPState(UAVState(2, 20, :W), 60, 60, nothing) … MDMA.MDPState(UAVState(19, 20, :W), 60, 60, nothing) MDMA.MDPState(UAVState(20, 20, :W), 60, 60, nothing);;; MDMA.MDPState(UAVState(1, 1, :SW), 60, 60, nothing) MDMA.MDPState(UAVState(2, 1, :SW), 60, 60, nothing) … MDMA.MDPState(UAVState(19, 1, :SW), 60, 60, nothing) MDMA.MDPState(UAVState(20, 1, :SW), 60, 60, nothing); MDMA.MDPState(UAVState(1, 2, :SW), 60, 60, nothing) MDMA.MDPState(UAVState(2, 2, :SW), 60, 60, nothing) … MDMA.MDPState(UAVState(19, 2, :SW), 60, 60, nothing) MDMA.MDPState(UAVState(20, 2, :SW), 60, 60, nothing); … ; MDMA.MDPState(UAVState(1, 19, :SW), 60, 60, nothing) MDMA.MDPState(UAVState(2, 19, :SW), 60, 60, nothing) … MDMA.MDPState(UAVState(19, 19, :SW), 60, 60, nothing) MDMA.MDPState(UAVState(20, 19, :SW), 60, 60, nothing); MDMA.MDPState(UAVState(1, 20, :SW), 60, 60, nothing) MDMA.MDPState(UAVState(2, 20, :SW), 60, 60, nothing) … MDMA.MDPState(UAVState(19, 20, :SW), 60, 60, nothing) MDMA.MDPState(UAVState(20, 20, :SW), 60, 60, nothing);;; MDMA.MDPState(UAVState(1, 1, :S), 60, 60, nothing) MDMA.MDPState(UAVState(2, 1, :S), 60, 60, nothing) … MDMA.MDPState(UAVState(19, 1, :S), 60, 60, nothing) MDMA.MDPState(UAVState(20, 1, :S), 60, 60, nothing); MDMA.MDPState(UAVState(1, 2, :S), 60, 60, nothing) MDMA.MDPState(UAVState(2, 2, :S), 60, 60, nothing) … MDMA.MDPState(UAVState(19, 2, :S), 60, 60, nothing) MDMA.MDPState(UAVState(20, 2, :S), 60, 60, nothing); … ; MDMA.MDPState(UAVState(1, 19, :S), 60, 60, nothing) MDMA.MDPState(UAVState(2, 19, :S), 60, 60, nothing) … MDMA.MDPState(UAVState(19, 19, :S), 60, 60, nothing) MDMA.MDPState(UAVState(20, 19, :S), 60, 60, nothing); MDMA.MDPState(UAVState(1, 20, :S), 60, 60, nothing) MDMA.MDPState(UAVState(2, 20, :S), 60, 60, nothing) … MDMA.MDPState(UAVState(19, 20, :S), 60, 60, nothing) MDMA.MDPState(UAVState(20, 20, :S), 60, 60, nothing);;; MDMA.MDPState(UAVState(1, 1, :SE), 60, 60, nothing) MDMA.MDPState(UAVState(2, 1, :SE), 60, 60, nothing) … MDMA.MDPState(UAVState(19, 1, :SE), 60, 60, nothing) MDMA.MDPState(UAVState(20, 1, :SE), 60, 60, nothing); MDMA.MDPState(UAVState(1, 2, :SE), 60, 60, nothing) MDMA.MDPState(UAVState(2, 2, :SE), 60, 60, nothing) … MDMA.MDPState(UAVState(19, 2, :SE), 60, 60, nothing) MDMA.MDPState(UAVState(20, 2, :SE), 60, 60, nothing); … ; MDMA.MDPState(UAVState(1, 19, :SE), 60, 60, nothing) MDMA.MDPState(UAVState(2, 19, :SE), 60, 60, nothing) … MDMA.MDPState(UAVState(19, 19, :SE), 60, 60, nothing) MDMA.MDPState(UAVState(20, 19, :SE), 60, 60, nothing); MDMA.MDPState(UAVState(1, 20, :SE), 60, 60, nothing) MDMA.MDPState(UAVState(2, 20, :SE), 60, 60, nothing) … MDMA.MDPState(UAVState(19, 20, :SE), 60, 60, nothing) MDMA.MDPState(UAVState(20, 20, :SE), 60, 60, nothing)]), ViewConeSensor(1.5707963267948966, 5.0), 60, 3.0))"
      ]
     },
     "execution_count": 32,
     "metadata": {},
     "output_type": "execute_result"
    }
   ],
   "source": [
    "# Set model parameters\n",
    "focal_length = [19.99, 19.99]#mm\n",
    "resolution = [3840.0,2160.0]\n",
    "lens_dim = [35.00,24.00] #mm\n",
    "pitch = -pi/2\n",
    "cutoff = 5.\n",
    "sensor = MDMA.PinholeCameraModel(focal_length, resolution, lens_dim, 0.0, pitch, cutoff) \n",
    "sensor = MDMA.ViewConeSensor(pi/2, cutoff)\n",
    "move_dist = 3;\n",
    "multi_configs = configs_from_file(\"../../blender/stationary_single_data.json\", move_dist)\n",
    "multi_configs.sensor = sensor\n",
    "coverage = generate_empty_coverage_data(multi_configs)\n",
    "# model = MDMA.SingleRobotMultiTargetViewCoverageProblem(grid, sensor, horizon, target_trajectories, move_dist);\n",
    "robot_states = map(x->MDMA.random_state(multi_configs.horizon, multi_configs.grid), 1:multi_configs.num_robots)\n",
    "\n",
    "robot_states = map(x->MDMA.random_state(multi_configs.horizon, multi_configs.grid), 1:multi_configs.num_robots)\n",
    "multi_problem = MDMA.MultiRobotTargetCoverageProblem(robot_states, coverage, multi_configs)"
   ]
  },
  {
   "cell_type": "code",
   "execution_count": 38,
   "metadata": {},
   "outputs": [
    {
     "name": "stdout",
     "output_type": "stream",
     "text": [
      "Processing Robot 1\n",
      "[Iteration 1   ] residual:       11.7 | iteration runtime:  52869.883 ms, (      52.9 s total)\n",
      "[Iteration 2   ] residual:          0 | iteration runtime:  53949.768 ms, (       107 s total)\n"
     ]
    },
    {
     "data": {
      "text/plain": [
       "Solution{Tuple{Int64, Vector{MDMA.MDPState}}}(11.722056390189938, Tuple{Int64, Vector{MDMA.MDPState}}[(1, [MDMA.MDPState(UAVState(5, 7, :SW), 1, 60, nothing), MDMA.MDPState(UAVState(7, 9, :SW), 2, 60, nothing), MDMA.MDPState(UAVState(9, 11, :SW), 3, 60, nothing), MDMA.MDPState(UAVState(11, 13, :SW), 4, 60, nothing), MDMA.MDPState(UAVState(10, 15, :SW), 5, 60, nothing), MDMA.MDPState(UAVState(10, 15, :SW), 6, 60, nothing), MDMA.MDPState(UAVState(10, 15, :SW), 7, 60, nothing), MDMA.MDPState(UAVState(10, 15, :SW), 8, 60, nothing), MDMA.MDPState(UAVState(10, 15, :SW), 9, 60, nothing), MDMA.MDPState(UAVState(10, 15, :SW), 10, 60, nothing)  …  MDMA.MDPState(UAVState(10, 15, :SW), 51, 60, nothing), MDMA.MDPState(UAVState(10, 15, :SW), 52, 60, nothing), MDMA.MDPState(UAVState(10, 15, :SW), 53, 60, nothing), MDMA.MDPState(UAVState(10, 15, :SW), 54, 60, nothing), MDMA.MDPState(UAVState(10, 15, :SW), 55, 60, nothing), MDMA.MDPState(UAVState(10, 15, :SW), 56, 60, nothing), MDMA.MDPState(UAVState(10, 15, :SW), 57, 60, nothing), MDMA.MDPState(UAVState(10, 15, :SW), 58, 60, nothing), MDMA.MDPState(UAVState(10, 15, :SW), 59, 60, nothing), MDMA.MDPState(UAVState(10, 15, :SW), 60, 60, nothing)])])"
      ]
     },
     "execution_count": 38,
     "metadata": {},
     "output_type": "execute_result"
    }
   ],
   "source": [
    "# policy = MDMA.solve_single_robot(model)\n",
    "\n",
    "# Will need a grid for each robot\n",
    "\n",
    "solution = solve_sequential(multi_problem)"
   ]
  },
  {
   "cell_type": "code",
   "execution_count": 39,
   "metadata": {},
   "outputs": [
    {
     "name": "stdout",
     "output_type": "stream",
     "text": [
      "Writing to output/01.png\n",
      "Writing to output/02.png\n",
      "Writing to output/03.png\n",
      "Writing to output/04.png\n",
      "Writing to output/05.png\n",
      "Writing to output/06.png\n",
      "Writing to output/07.png\n",
      "Writing to output/08.png\n",
      "Writing to output/09.png\n",
      "Writing to output/10.png\n",
      "Writing to output/11.png\n",
      "Writing to output/12.png\n",
      "Writing to output/13.png\n",
      "Writing to output/14.png\n",
      "Writing to output/15.png\n",
      "Writing to output/16.png\n",
      "Writing to output/17.png\n",
      "Writing to output/18.png\n",
      "Writing to output/19.png\n",
      "Writing to output/20.png\n",
      "Writing to output/21.png\n",
      "Writing to output/22.png\n",
      "Writing to output/23.png\n",
      "Writing to output/24.png\n",
      "Writing to output/25.png\n",
      "Writing to output/26.png\n",
      "Writing to output/27.png\n",
      "Writing to output/28.png\n",
      "Writing to output/29.png\n",
      "Writing to output/30.png\n",
      "Writing to output/31.png\n",
      "Writing to output/32.png\n",
      "Writing to output/33.png\n",
      "Writing to output/34.png\n",
      "Writing to output/35.png\n",
      "Writing to output/36.png\n",
      "Writing to output/37.png\n",
      "Writing to output/38.png\n",
      "Writing to output/39.png\n",
      "Writing to output/40.png\n",
      "Writing to output/41.png\n",
      "Writing to output/42.png\n",
      "Writing to output/43.png\n",
      "Writing to output/44.png\n",
      "Writing to output/45.png\n",
      "Writing to output/46.png\n",
      "Writing to output/47.png\n",
      "Writing to output/48.png\n",
      "Writing to output/49.png\n",
      "Writing to output/50.png\n",
      "Writing to output/51.png\n",
      "Writing to output/52.png\n",
      "Writing to output/53.png\n",
      "Writing to output/54.png\n",
      "Writing to output/55.png\n",
      "Writing to output/56.png\n",
      "Writing to output/57.png\n",
      "Writing to output/58.png\n",
      "Writing to output/59.png\n",
      "Writing to output/60.png\n"
     ]
    }
   ],
   "source": [
    "paths = Vector{Vector{MDMA.MDPState}}(undef, 0)\n",
    "for sol in solution.elements\n",
    "    push!(paths, sol[2])\n",
    "end\n",
    "draw_frames(RenderConf(50, 4, true, false), multi_configs, paths)\n"
   ]
  },
  {
   "cell_type": "code",
   "execution_count": 15,
   "metadata": {},
   "outputs": [
    {
     "ename": "LoadError",
     "evalue": "UndefVarError: model not defined",
     "output_type": "error",
     "traceback": [
      "UndefVarError: model not defined",
      "",
      "Stacktrace:",
      " [1] top-level scope",
      "   @ In[15]:1",
      " [2] eval",
      "   @ ./boot.jl:368 [inlined]",
      " [3] include_string(mapexpr::typeof(REPL.softscope), mod::Module, code::String, filename::String)",
      "   @ Base ./loading.jl:1428"
     ]
    }
   ],
   "source": [
    "draw_frames(RenderConf(50, 4, true, true), model, path)"
   ]
  },
  {
   "cell_type": "code",
   "execution_count": 7,
   "metadata": {},
   "outputs": [
    {
     "ename": "LoadError",
     "evalue": "BoundsError: attempt to access 1-element Vector{Vector{MDMA.MDPState}} at index [0]",
     "output_type": "error",
     "traceback": [
      "BoundsError: attempt to access 1-element Vector{Vector{MDMA.MDPState}} at index [0]",
      "",
      "Stacktrace:",
      " [1] getindex(A::Vector{Vector{MDMA.MDPState}}, i1::Int64)",
      "   @ Base ./array.jl:924",
      " [2] top-level scope",
      "   @ In[7]:2",
      " [3] eval",
      "   @ ./boot.jl:368 [inlined]",
      " [4] include_string(mapexpr::typeof(REPL.softscope), mod::Module, code::String, filename::String)",
      "   @ Base ./loading.jl:1428"
     ]
    }
   ],
   "source": [
    "using PyPlot\n",
    "path = paths[0]\n",
    "#p1=scatter3D([],0)\n",
    "fig = plt.figure()\n",
    "ax = fig.add_subplot(projection=\"3d\")\n",
    "x = zeros(0)\n",
    "y = zeros(0)\n",
    "z = zeros(0)\n",
    "h = zeros(0)\n",
    "for i in path\n",
    "    append!( x, i.state.x )\n",
    "    append!( y, i.state.y )\n",
    "    append!( z, 7 )\n",
    "    append!( h, dirAngle(i.state.heading) )\n",
    "end\n",
    "print(\"x:\",x,\"\\ny:\",y,\"\\nz:\",z)\n",
    "for i in 1:3\n",
    "    tx = zeros(0)\n",
    "    ty = zeros(0)\n",
    "    tz = zeros(0)\n",
    "    for t in target_trajectories[:,i]\n",
    "        append!( tx, t.x )\n",
    "        append!( ty, t.y )\n",
    "        append!( tz, 0 )\n",
    "    end\n",
    "    print(\"\\ntx:\",tx,\"\\nty:\",ty,\"\\ntz:\",tz)\n",
    "    ax.plot(tx,ty,tz)\n",
    "end\n",
    "\n",
    "ax.plot(x,y,z)"
   ]
  },
  {
   "cell_type": "code",
   "execution_count": 8,
   "metadata": {},
   "outputs": [
    {
     "name": "stdout",
     "output_type": "stream",
     "text": [
      "82.4002527426068 61.9527999101565"
     ]
    },
    {
     "ename": "LoadError",
     "evalue": "UndefVarError: h not defined",
     "output_type": "error",
     "traceback": [
      "UndefVarError: h not defined",
      "",
      "Stacktrace:",
      " [1] top-level scope",
      "   @ In[8]:3",
      " [2] eval",
      "   @ ./boot.jl:368 [inlined]",
      " [3] include_string(mapexpr::typeof(REPL.softscope), mod::Module, code::String, filename::String)",
      "   @ Base ./loading.jl:1428"
     ]
    }
   ],
   "source": [
    "fov = [2*atan(sensor.resolution[1], 2*focal_length[1]); 2*atan(sensor.resolution[2], 2*focal_length[2])]\n",
    "print(rad2deg(fov[1]), \" \", rad2deg(fov[2]))\n",
    "print(h)\n",
    "\n",
    "\n",
    "for i in 1:20\n",
    "    fig = plt.figure()\n",
    "    ax = fig.add_subplot(projection=\"3d\")\n",
    "    location = [path[i].state.x; path[i].state.y; 7]\n",
    "    camera_heading = [cos(dirAngle(path[i].state.heading)); sin(dirAngle(path[i].state.heading)); -sin(pitch)]\n",
    "    print(path[i].state.heading, \" \", location, \" \", location+camera_heading, \"\\n\")\n",
    "    ax.scatter(path[i].state.x, path[i].state.y, 7, color=\"red\")\n",
    "    ax.scatter(path[i].state.x+camera_heading[1], path[i].state.y+camera_heading[2], 7+camera_heading[3], color=\"blue\")\n",
    "    ax.scatter(target_trajectories[i,1].x, target_trajectories[i,1].y, 0)\n",
    "    ax.scatter(target_trajectories[i,2].x, target_trajectories[i,2].y, 0)\n",
    "    ax.scatter(target_trajectories[i,3].x, target_trajectories[i,3].y, 0)\n",
    "end"
   ]
  },
  {
   "cell_type": "code",
   "execution_count": 9,
   "metadata": {},
   "outputs": [
    {
     "name": "stdout",
     "output_type": "stream",
     "text": [
      "82.4002527426068 61.9527999101565\n",
      "0.0 0.0 [1.1315830880519089, 0.8754377188594297, -0.2826304743211862]\n",
      "0.0 2160.0 [0.2826304743211864, 0.8754377188594297, -1.1315830880519087]\n",
      "3840.0 0.0 [1.1315830880519089, -0.8754377188594297, -0.2826304743211862]\n",
      "3840.0 2160.0 [0.2826304743211864, -0.8754377188594297, -1.1315830880519087]\n"
     ]
    }
   ],
   "source": [
    "fov = [2*atan(sensor.resolution[1], 2*focal_length[1]); 2*atan(sensor.resolution[2], 2*focal_length[2])]\n",
    "print(rad2deg(fov[1]), \" \", rad2deg(fov[2]), \"\\n\")\n",
    "for w in [0, sensor.resolution[1]]\n",
    "    for h in [0, sensor.resolution[2]]\n",
    "        point = inv(sensor.extrinsics)*inv(sensor.intrinsics)*[w;h;1]\n",
    "        print(w, \" \", h, \" \", point, \"\\n\")\n",
    "    end\n",
    "end"
   ]
  },
  {
   "cell_type": "code",
   "execution_count": 10,
   "metadata": {},
   "outputs": [
    {
     "name": "stdout",
     "output_type": "stream",
     "text": [
      "82.4002527426068 61.9527999101565\n",
      "0.0 0.0 [1.1315830880519089, 0.8754377188594297, -0.2826304743211862]\n",
      "0.0 2160.0 [0.2826304743211864, 0.8754377188594297, -1.1315830880519087]\n",
      "3840.0 0.0 [1.1315830880519089, -0.8754377188594297, -0.2826304743211862]\n",
      "3840.0 2160.0 [0.2826304743211864, -0.8754377188594297, -1.1315830880519087]\n"
     ]
    }
   ],
   "source": [
    "fov = [2*atan(sensor.resolution[1], 2*focal_length[1]); 2*atan(sensor.resolution[2], 2*focal_length[2])]\n",
    "print(rad2deg(fov[1]), \" \", rad2deg(fov[2]), \"\\n\")\n",
    "for w in [0, sensor.resolution[1]]\n",
    "    for h in [0, sensor.resolution[2]]\n",
    "        point = inv(sensor.extrinsics)*inv(sensor.intrinsics)*[w;h;1]\n",
    "        print(w, \" \", h, \" \", point, \"\\n\")\n",
    "    end\n",
    "end"
   ]
  },
  {
   "cell_type": "code",
   "execution_count": null,
   "metadata": {},
   "outputs": [],
   "source": []
  },
  {
   "cell_type": "code",
   "execution_count": null,
   "metadata": {},
   "outputs": [],
   "source": []
  },
  {
   "cell_type": "code",
   "execution_count": null,
   "metadata": {},
   "outputs": [],
   "source": []
  }
 ],
 "metadata": {
  "kernelspec": {
   "display_name": "Julia 1.8.2",
   "language": "julia",
   "name": "julia-1.8"
  },
  "language_info": {
   "file_extension": ".jl",
   "mimetype": "application/julia",
   "name": "julia",
   "version": "1.8.2"
  }
 },
 "nbformat": 4,
 "nbformat_minor": 2
}
