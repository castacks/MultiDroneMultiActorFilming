{
 "cells": [
  {
   "cell_type": "code",
   "execution_count": 1,
   "metadata": {
    "scrolled": true
   },
   "outputs": [
    {
     "data": {
      "text/plain": [
       "8-element Vector{String}:\n",
       " \"/airlab\"\n",
       " \"/airlab/src/mdma_greedy\"\n",
       " \"/env\"\n",
       " \"@\"\n",
       " \"@v#.#\"\n",
       " \"@stdlib\"\n",
       " \".\"\n",
       " \"../..\""
      ]
     },
     "execution_count": 1,
     "metadata": {},
     "output_type": "execute_result"
    }
   ],
   "source": [
    "push!(LOAD_PATH,\".\")\n",
    "push!(LOAD_PATH,\"../..\")"
   ]
  },
  {
   "cell_type": "code",
   "execution_count": 2,
   "metadata": {
    "scrolled": true
   },
   "outputs": [],
   "source": [
    "using Revise\n",
    "using POMDPs\n",
    "using DiscreteValueIteration\n",
    "using POMDPTools\n",
    "# using Dates\n",
    "# using Profile"
   ]
  },
  {
   "cell_type": "code",
   "execution_count": 3,
   "metadata": {
    "scrolled": false
   },
   "outputs": [
    {
     "name": "stderr",
     "output_type": "stream",
     "text": [
      "┌ Info: Precompiling MDMA [top-level]\n",
      "└ @ Base loading.jl:1664\n"
     ]
    },
    {
     "name": "stdout",
     "output_type": "stream",
     "text": [
      "\u001b[0m\u001b[1mTest Summary: | \u001b[22m\u001b[32m\u001b[1mPass  \u001b[22m\u001b[39m\u001b[36m\u001b[1mTotal  \u001b[22m\u001b[39m\u001b[0m\u001b[1mTime\u001b[22m\n",
      "detectTarget  | \u001b[32m  30  \u001b[39m\u001b[36m   30  \u001b[39m\u001b[0m0.4s\n",
      "\u001b[0m\u001b[1mTest Summary:        |\u001b[22m\u001b[0m\u001b[1mTime\u001b[22m\n",
      "single_robot_planner | \u001b[36mNone  \u001b[39m\u001b[0m0.1s\n",
      "\u001b[0m\u001b[1mTest Summary:   |\u001b[22m\u001b[0m\u001b[1mTime\u001b[22m\n",
      "test_file_parse | \u001b[36mNone  \u001b[39m\u001b[0m0.0s\n"
     ]
    }
   ],
   "source": [
    "using MDMA"
   ]
  },
  {
   "cell_type": "code",
   "execution_count": 4,
   "metadata": {
    "scrolled": true
   },
   "outputs": [],
   "source": [
    "# Set model parameters\n",
    "focal_length = [19.99, 19.99]#mm\n",
    "resolution = [3840.0,2160.0]\n",
    "lens_dim = [35.00,24.00] #mm\n",
    "pitch = -pi/4\n",
    "sensor = PinholeCameraModel(focal_length, resolution, lens_dim, 0.0, pitch) \n",
    "#sensor = ViewConeSensor(pi/2, 3);\n",
    "horizon = 20\n",
    "grid = Grid(10,10, horizon);\n",
    "\n",
    "# Setup initial distribution of targets\n",
    "targets = Vector{Target}(undef, 0);\n",
    "push!(targets, Target(grid.width-3,grid.height-3,0));\n",
    "push!(targets, Target(grid.width-4,grid.height-2,0));\n",
    "push!(targets, Target(grid.width-5,grid.height-3,0));\n",
    "\n",
    "target_trajectories = MDMA.generate_target_trajectories(grid, horizon, targets);\n",
    "\n",
    "move_dist = 3;\n",
    "model = MDMA.SingleRobotMultiTargetViewCoverageProblem(grid, sensor, horizon, target_trajectories, move_dist);"
   ]
  },
  {
   "cell_type": "code",
   "execution_count": 5,
   "metadata": {
    "scrolled": true
   },
   "outputs": [
    {
     "name": "stdout",
     "output_type": "stream",
     "text": [
      "[Iteration 1   ] residual:       1.81 | iteration runtime:   4064.881 ms, (      4.06 s total)\n",
      "[Iteration 2   ] residual:          0 | iteration runtime:   4026.652 ms, (      8.09 s total)\n"
     ]
    },
    {
     "data": {
      "text/plain": [
       "ValueIterationPolicy:\n",
       " MDPState(UAVState(1, 1, :E), 1, 20, nothing) -> MDPState(UAVState(2, 2, :SE), 2, 20, nothing)\n",
       " MDPState(UAVState(1, 2, :E), 1, 20, nothing) -> MDPState(UAVState(2, 2, :SE), 2, 20, nothing)\n",
       " MDPState(UAVState(1, 3, :E), 1, 20, nothing) -> MDPState(UAVState(2, 2, :SE), 2, 20, nothing)\n",
       " MDPState(UAVState(1, 4, :E), 1, 20, nothing) -> MDPState(UAVState(2, 2, :SE), 2, 20, nothing)\n",
       " MDPState(UAVState(1, 5, :E), 1, 20, nothing) -> MDPState(UAVState(3, 3, :SE), 2, 20, nothing)\n",
       " MDPState(UAVState(1, 6, :E), 1, 20, nothing) -> MDPState(UAVState(3, 4, :NE), 2, 20, nothing)\n",
       " MDPState(UAVState(1, 7, :E), 1, 20, nothing) -> MDPState(UAVState(3, 5, :NE), 2, 20, nothing)\n",
       " MDPState(UAVState(1, 8, :E), 1, 20, nothing) -> MDPState(UAVState(1, 6, :NE), 2, 20, nothing)\n",
       " MDPState(UAVState(1, 9, :E), 1, 20, nothing) -> MDPState(UAVState(1, 7, :NE), 2, 20, nothing)\n",
       " MDPState(UAVState(1, 10, :E), 1, 20, nothing) -> MDPState(UAVState(1, 8, :NE), 2, 20, nothing)\n",
       " MDPState(UAVState(2, 1, :E), 1, 20, nothing) -> MDPState(UAVState(2, 2, :SE), 2, 20, nothing)\n",
       " MDPState(UAVState(2, 2, :E), 1, 20, nothing) -> MDPState(UAVState(2, 2, :SE), 2, 20, nothing)\n",
       " MDPState(UAVState(2, 3, :E), 1, 20, nothing) -> MDPState(UAVState(2, 2, :SE), 2, 20, nothing)\n",
       " MDPState(UAVState(2, 4, :E), 1, 20, nothing) -> MDPState(UAVState(2, 2, :SE), 2, 20, nothing)\n",
       " MDPState(UAVState(2, 5, :E), 1, 20, nothing) -> MDPState(UAVState(3, 3, :SE), 2, 20, nothing)\n",
       " MDPState(UAVState(2, 6, :E), 1, 20, nothing) -> MDPState(UAVState(3, 4, :NE), 2, 20, nothing)\n",
       " MDPState(UAVState(2, 7, :E), 1, 20, nothing) -> MDPState(UAVState(3, 5, :NE), 2, 20, nothing)\n",
       " MDPState(UAVState(2, 8, :E), 1, 20, nothing) -> MDPState(UAVState(1, 6, :NE), 2, 20, nothing)\n",
       " MDPState(UAVState(2, 9, :E), 1, 20, nothing) -> MDPState(UAVState(1, 7, :NE), 2, 20, nothing)\n",
       " MDPState(UAVState(2, 10, :E), 1, 20, nothing) -> MDPState(UAVState(1, 8, :NE), 2, 20, nothing)\n",
       " MDPState(UAVState(3, 1, :E), 1, 20, nothing) -> MDPState(UAVState(2, 2, :SE), 2, 20, nothing)\n",
       " MDPState(UAVState(3, 2, :E), 1, 20, nothing) -> MDPState(UAVState(2, 2, :SE), 2, 20, nothing)\n",
       " MDPState(UAVState(3, 3, :E), 1, 20, nothing) -> MDPState(UAVState(2, 2, :SE), 2, 20, nothing)\n",
       " MDPState(UAVState(3, 4, :E), 1, 20, nothing) -> MDPState(UAVState(2, 2, :SE), 2, 20, nothing)\n",
       " MDPState(UAVState(3, 5, :E), 1, 20, nothing) -> MDPState(UAVState(3, 3, :SE), 2, 20, nothing)\n",
       " …"
      ]
     },
     "execution_count": 5,
     "metadata": {},
     "output_type": "execute_result"
    }
   ],
   "source": [
    "policy = MDMA.solve_single_robot(model)\n"
   ]
  },
  {
   "cell_type": "code",
   "execution_count": 6,
   "metadata": {},
   "outputs": [
    {
     "data": {
      "text/plain": [
       "20-element Vector{MDPState}:\n",
       " MDPState(UAVState(1, 1, :N), 1, 20, nothing)\n",
       " MDPState(UAVState(2, 3, :NE), 2, 20, nothing)\n",
       " MDPState(UAVState(2, 2, :E), 3, 20, nothing)\n",
       " MDPState(UAVState(2, 2, :NE), 4, 20, nothing)\n",
       " MDPState(UAVState(2, 2, :E), 5, 20, nothing)\n",
       " MDPState(UAVState(2, 2, :NE), 6, 20, nothing)\n",
       " MDPState(UAVState(2, 2, :E), 7, 20, nothing)\n",
       " MDPState(UAVState(2, 2, :NE), 8, 20, nothing)\n",
       " MDPState(UAVState(2, 2, :E), 9, 20, nothing)\n",
       " MDPState(UAVState(2, 2, :NE), 10, 20, nothing)\n",
       " MDPState(UAVState(2, 1, :E), 11, 20, nothing)\n",
       " MDPState(UAVState(1, 1, :NE), 12, 20, nothing)\n",
       " MDPState(UAVState(2, 1, :E), 13, 20, nothing)\n",
       " MDPState(UAVState(1, 1, :NE), 14, 20, nothing)\n",
       " MDPState(UAVState(2, 2, :E), 15, 20, nothing)\n",
       " MDPState(UAVState(2, 2, :NE), 16, 20, nothing)\n",
       " MDPState(UAVState(2, 2, :E), 17, 20, nothing)\n",
       " MDPState(UAVState(2, 2, :NE), 18, 20, nothing)\n",
       " MDPState(UAVState(2, 2, :E), 19, 20, nothing)\n",
       " MDPState(UAVState(2, 2, :NE), 20, 20, nothing)"
      ]
     },
     "execution_count": 6,
     "metadata": {},
     "output_type": "execute_result"
    }
   ],
   "source": [
    "path = compute_path(model, policy, MDPState(UAVState(1,1,:N), model.horizon))"
   ]
  },
  {
   "cell_type": "code",
   "execution_count": 7,
   "metadata": {},
   "outputs": [
    {
     "name": "stdout",
     "output_type": "stream",
     "text": [
      "Writing to output/01.png\n",
      "Writing to output/02.png\n",
      "Writing to output/03.png\n",
      "Writing to output/04.png\n",
      "Writing to output/05.png\n",
      "Writing to output/06.png\n",
      "Writing to output/07.png\n",
      "Writing to output/08.png\n",
      "Writing to output/09.png\n",
      "Writing to output/10.png\n",
      "Writing to output/11.png\n",
      "Writing to output/12.png\n",
      "Writing to output/13.png\n",
      "Writing to output/14.png\n",
      "Writing to output/15.png\n",
      "Writing to output/16.png\n",
      "Writing to output/17.png\n",
      "Writing to output/18.png\n",
      "Writing to output/19.png\n",
      "Writing to output/20.png\n"
     ]
    }
   ],
   "source": [
    "draw_frames(RenderConf(50, 4, true, true), model, path)"
   ]
  },
  {
   "cell_type": "code",
   "execution_count": 10,
   "metadata": {},
   "outputs": [
    {
     "name": "stdout",
     "output_type": "stream",
     "text": [
      "x:"
     ]
    },
    {
     "name": "stderr",
     "output_type": "stream",
     "text": [
      "WARNING: using PyPlot.grid in module Main conflicts with an existing identifier.\n"
     ]
    },
    {
     "name": "stdout",
     "output_type": "stream",
     "text": [
      "[1.0, 1.0, 1.0, 1.0, 1.0, 1.0, 1.0, 1.0, 1.0, 1.0, 1.0, 1.0, 1.0, 1.0, 1.0, 1.0, 1.0, 1.0, 1.0, 1.0]\n",
      "y:[1.0, 2.0, 2.0, 2.0, 2.0, 2.0, 2.0, 2.0, 2.0, 2.0, 2.0, 2.0, 2.0, 2.0, 2.0, 2.0, 2.0, 2.0, 2.0, 2.0]\n",
      "z:[7.0, 7.0, 7.0, 7.0, 7.0, 7.0, 7.0, 7.0, 7.0, 7.0, 7.0, 7.0, 7.0, 7.0, 7.0, 7.0, 7.0, 7.0, 7.0, 7.0]\n",
      "tx:[7.0, 7.0, 7.0, 7.0, 7.0, 7.0, 7.0, 7.0, 7.0, 7.0, 7.0, 7.0, 7.0, 7.0, 7.0, 7.0, 7.0, 7.0, 7.0, 7.0]\n",
      "ty:[7.0, 7.0, 7.0, 7.0, 7.0, 7.0, 7.0, 7.0, 7.0, 7.0, 7.0, 7.0, 7.0, 7.0, 7.0, 7.0, 7.0, 7.0, 7.0, 7.0]\n",
      "tz:[0.0, 0.0, 0.0, 0.0, 0.0, 0.0, 0.0, 0.0, 0.0, 0.0, 0.0, 0.0, 0.0, 0.0, 0.0, 0.0, 0.0, 0.0, 0.0, 0.0]"
     ]
    },
    {
     "ename": "LoadError",
     "evalue": "BoundsError: attempt to access 20×1 Matrix{Target} at index [1:20, 2]",
     "output_type": "error",
     "traceback": [
      "BoundsError: attempt to access 20×1 Matrix{Target} at index [1:20, 2]",
      "",
      "Stacktrace:",
      " [1] throw_boundserror(A::Matrix{Target}, I::Tuple{Base.Slice{Base.OneTo{Int64}}, Int64})",
      "   @ Base ./abstractarray.jl:703",
      " [2] checkbounds",
      "   @ ./abstractarray.jl:668 [inlined]",
      " [3] _getindex",
      "   @ ./multidimensional.jl:874 [inlined]",
      " [4] getindex(::Matrix{Target}, ::Function, ::Int64)",
      "   @ Base ./abstractarray.jl:1241",
      " [5] top-level scope",
      "   @ ./In[10]:20",
      " [6] eval",
      "   @ ./boot.jl:368 [inlined]",
      " [7] include_string(mapexpr::typeof(REPL.softscope), mod::Module, code::String, filename::String)",
      "   @ Base ./loading.jl:1428"
     ]
    }
   ],
   "source": [
    "using PyPlot\n",
    "#p1=scatter3D([],0)\n",
    "fig = plt.figure()\n",
    "ax = fig.add_subplot(projection=\"3d\")\n",
    "x = zeros(0)\n",
    "y = zeros(0)\n",
    "z = zeros(0)\n",
    "h = zeros(0)\n",
    "for i in path\n",
    "    append!( x, i.state.x )\n",
    "    append!( y, i.state.y )\n",
    "    append!( z, 7 )\n",
    "    append!( h, dirAngle(i.state.heading) )\n",
    "end\n",
    "print(\"x:\",x,\"\\ny:\",y,\"\\nz:\",z)\n",
    "for i in 1:3\n",
    "    tx = zeros(0)\n",
    "    ty = zeros(0)\n",
    "    tz = zeros(0)\n",
    "    for t in target_trajectories[:,i]\n",
    "        append!( tx, t.x )\n",
    "        append!( ty, t.y )\n",
    "        append!( tz, 0 )\n",
    "    end\n",
    "    print(\"\\ntx:\",tx,\"\\nty:\",ty,\"\\ntz:\",tz)\n",
    "    ax.plot(tx,ty,tz)\n",
    "end\n",
    "\n",
    "ax.plot(x,y,z)"
   ]
  },
  {
   "cell_type": "code",
   "execution_count": null,
   "metadata": {},
   "outputs": [],
   "source": [
    "fov = [2*atan(sensor.resolution[1], 2*focal_length[1]); 2*atan(sensor.resolution[2], 2*focal_length[2])]\n",
    "print(rad2deg(fov[1]), \" \", rad2deg(fov[2]))\n",
    "print(h)\n",
    "\n",
    "\n",
    "for i in 1:20\n",
    "    fig = plt.figure()\n",
    "    ax = fig.add_subplot(projection=\"3d\")\n",
    "    location = [path[i].state.x; path[i].state.y; 7]\n",
    "    camera_heading = [cos(dirAngle(path[i].state.heading)); sin(dirAngle(path[i].state.heading)); -sin(pitch)]\n",
    "    print(path[i].state.heading, \" \", location, \" \", location+camera_heading, \"\\n\")\n",
    "    ax.scatter(path[i].state.x, path[i].state.y, 7, color=\"red\")\n",
    "    ax.scatter(path[i].state.x+camera_heading[1], path[i].state.y+camera_heading[2], 7+camera_heading[3], color=\"blue\")\n",
    "    ax.scatter(target_trajectories[i,1].x, target_trajectories[i,1].y, 0)\n",
    "    ax.scatter(target_trajectories[i,2].x, target_trajectories[i,2].y, 0)\n",
    "    ax.scatter(target_trajectories[i,3].x, target_trajectories[i,3].y, 0)\n",
    "end"
   ]
  },
  {
   "cell_type": "code",
   "execution_count": 39,
   "metadata": {},
   "outputs": [
    {
     "name": "stdout",
     "output_type": "stream",
     "text": [
      "82.4002527426068 61.9527999101565\n",
      "0.0 0.0 [1.0, 0.8754377188594297, 0.6003001500750376]\n",
      "0.0 2160.0 [1.0, 0.8754377188594297, -0.6003001500750376]\n",
      "3840.0 0.0 [1.0, -0.8754377188594297, 0.6003001500750376]\n",
      "3840.0 2160.0 [1.0, -0.8754377188594297, -0.6003001500750376]\n"
     ]
    }
   ],
   "source": [
    "fov = [2*atan(sensor.resolution[1], 2*focal_length[1]); 2*atan(sensor.resolution[2], 2*focal_length[2])]\n",
    "print(rad2deg(fov[1]), \" \", rad2deg(fov[2]), \"\\n\")\n",
    "for w in [0, sensor.resolution[1]]\n",
    "    for h in [0, sensor.resolution[2]]\n",
    "        point = inv(sensor.extrinsics)*inv(sensor.intrinsics)*[w;h;1]\n",
    "        print(w, \" \", h, \" \", point, \"\\n\")\n",
    "    end\n",
    "end"
   ]
  },
  {
   "cell_type": "code",
   "execution_count": 14,
   "metadata": {},
   "outputs": [
    {
     "name": "stdout",
     "output_type": "stream",
     "text": [
      "82.4002527426068 61.9527999101565\n",
      "0.0 0.0 [1.1315830880519089, 0.8754377188594297, -0.2826304743211862]\n",
      "0.0 2160.0 [0.2826304743211864, 0.8754377188594297, -1.1315830880519087]\n",
      "3840.0 0.0 [1.1315830880519089, -0.8754377188594297, -0.2826304743211862]\n",
      "3840.0 2160.0 [0.2826304743211864, -0.8754377188594297, -1.1315830880519087]\n"
     ]
    }
   ],
   "source": [
    "fov = [2*atan(sensor.resolution[1], 2*focal_length[1]); 2*atan(sensor.resolution[2], 2*focal_length[2])]\n",
    "print(rad2deg(fov[1]), \" \", rad2deg(fov[2]), \"\\n\")\n",
    "for w in [0, sensor.resolution[1]]\n",
    "    for h in [0, sensor.resolution[2]]\n",
    "        point = inv(sensor.extrinsics)*inv(sensor.intrinsics)*[w;h;1]\n",
    "        print(w, \" \", h, \" \", point, \"\\n\")\n",
    "    end\n",
    "end"
   ]
  },
  {
   "cell_type": "code",
   "execution_count": null,
   "metadata": {},
   "outputs": [],
   "source": []
  }
 ],
 "metadata": {
  "kernelspec": {
   "display_name": "Julia 1.8.2",
   "language": "julia",
   "name": "julia-1.8"
  },
  "language_info": {
   "file_extension": ".jl",
   "mimetype": "application/julia",
   "name": "julia",
   "version": "1.8.2"
  }
 },
 "nbformat": 4,
 "nbformat_minor": 2
}
