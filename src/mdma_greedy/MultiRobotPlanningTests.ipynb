{
 "cells": [
  {
   "cell_type": "code",
   "execution_count": 1,
   "metadata": {
    "scrolled": true
   },
   "outputs": [],
   "source": [
    "using Revise\n",
    "using POMDPs\n",
    "using DiscreteValueIteration\n",
    "using POMDPTools\n",
    "using SubmodularMaximization\n",
    "# using Dates\n",
    "# using Profile"
   ]
  },
  {
   "cell_type": "code",
   "execution_count": 2,
   "metadata": {
    "scrolled": true
   },
   "outputs": [
    {
     "name": "stderr",
     "output_type": "stream",
     "text": [
      "┌ Info: Precompiling MDMA [top-level]\n",
      "└ @ Base loading.jl:1664\n"
     ]
    },
    {
     "name": "stdout",
     "output_type": "stream",
     "text": [
      "\u001b[0m\u001b[1mTest Summary: | \u001b[22m\u001b[32m\u001b[1mPass  \u001b[22m\u001b[39m\u001b[36m\u001b[1mTotal  \u001b[22m\u001b[39m\u001b[0m\u001b[1mTime\u001b[22m\n",
      "detectTarget  | \u001b[32m  30  \u001b[39m\u001b[36m   30  \u001b[39m\u001b[0m0.5s\n",
      "\u001b[0m\u001b[1mTest Summary:        |\u001b[22m\u001b[0m\u001b[1mTime\u001b[22m\n",
      "single_robot_planner | \u001b[36mNone  \u001b[39m\u001b[0m0.0s\n",
      "\u001b[0m\u001b[1mTest Summary:   |\u001b[22m\u001b[0m\u001b[1mTime\u001b[22m\n",
      "test_file_parse | \u001b[36mNone  \u001b[39m\u001b[0m0.0s\n"
     ]
    }
   ],
   "source": [
    "using MDMA"
   ]
  },
  {
   "cell_type": "code",
   "execution_count": 3,
   "metadata": {
    "scrolled": true
   },
   "outputs": [
    {
     "data": {
      "text/plain": [
       "MDMA.MultiRobotTargetCoverageProblem(MDMA.MDPState[MDMA.MDPState(UAVState(8, 4, :NE), 1, 30, nothing), MDMA.MDPState(UAVState(22, 3, :NE), 1, 30, nothing)], Tuple{Target, Float64}[(Target(22.0, 22.0, 0.0, 1.0, Face[Face([0.5000000000000001, 0.8660254037844386], [0.5000000000000001, 0.8660254037844386], 0.1, 1.0), Face([-0.4999999999999998, 0.8660254037844387], [-0.4999999999999998, 0.8660254037844387], 0.1, 1.0), Face([-1.0, 1.2246467991473532e-16], [-1.0, 1.2246467991473532e-16], 0.1, 1.0), Face([-0.5000000000000004, -0.8660254037844385], [-0.5000000000000004, -0.8660254037844385], 0.1, 1.0), Face([0.49999999999999933, -0.866025403784439], [0.49999999999999933, -0.866025403784439], 0.1, 1.0), Face([1.0, -2.4492935982947064e-16], [1.0, -2.4492935982947064e-16], 0.1, 1.0)], 0x00000001, 0x00000000), -1.0) (Target(21.0, 23.0, 0.0, 1.0, Face[Face([0.5000000000000001, 0.8660254037844386], [0.5000000000000001, 0.8660254037844386], 0.1, 1.0), Face([-0.4999999999999998, 0.8660254037844387], [-0.4999999999999998, 0.8660254037844387], 0.1, 1.0), Face([-1.0, 1.2246467991473532e-16], [-1.0, 1.2246467991473532e-16], 0.1, 1.0), Face([-0.5000000000000004, -0.8660254037844385], [-0.5000000000000004, -0.8660254037844385], 0.1, 1.0), Face([0.49999999999999933, -0.866025403784439], [0.49999999999999933, -0.866025403784439], 0.1, 1.0), Face([1.0, -2.4492935982947064e-16], [1.0, -2.4492935982947064e-16], 0.1, 1.0)], 0x00000002, 0x00000000), -1.0); (Target(22.0, 22.0, 0.0, 1.0, Face[Face([0.5000000000000001, 0.8660254037844386], [0.5000000000000001, 0.8660254037844386], 0.1, 1.0), Face([-0.4999999999999998, 0.8660254037844387], [-0.4999999999999998, 0.8660254037844387], 0.1, 1.0), Face([-1.0, 1.2246467991473532e-16], [-1.0, 1.2246467991473532e-16], 0.1, 1.0), Face([-0.5000000000000004, -0.8660254037844385], [-0.5000000000000004, -0.8660254037844385], 0.1, 1.0), Face([0.49999999999999933, -0.866025403784439], [0.49999999999999933, -0.866025403784439], 0.1, 1.0), Face([1.0, -2.4492935982947064e-16], [1.0, -2.4492935982947064e-16], 0.1, 1.0)], 0x00000001, 0x00007fcd), -1.0) (Target(21.0, 23.0, 0.0, 1.0, Face[Face([0.5000000000000001, 0.8660254037844386], [0.5000000000000001, 0.8660254037844386], 0.1, 1.0), Face([-0.4999999999999998, 0.8660254037844387], [-0.4999999999999998, 0.8660254037844387], 0.1, 1.0), Face([-1.0, 1.2246467991473532e-16], [-1.0, 1.2246467991473532e-16], 0.1, 1.0), Face([-0.5000000000000004, -0.8660254037844385], [-0.5000000000000004, -0.8660254037844385], 0.1, 1.0), Face([0.49999999999999933, -0.866025403784439], [0.49999999999999933, -0.866025403784439], 0.1, 1.0), Face([1.0, -2.4492935982947064e-16], [1.0, -2.4492935982947064e-16], 0.1, 1.0)], 0x00000002, 0x00007fcd), -1.0); … ; (Target(22.0, 22.0, 0.0, 1.0, Face[Face([0.5000000000000001, 0.8660254037844386], [0.5000000000000001, 0.8660254037844386], 0.1, 1.0), Face([-0.4999999999999998, 0.8660254037844387], [-0.4999999999999998, 0.8660254037844387], 0.1, 1.0), Face([-1.0, 1.2246467991473532e-16], [-1.0, 1.2246467991473532e-16], 0.1, 1.0), Face([-0.5000000000000004, -0.8660254037844385], [-0.5000000000000004, -0.8660254037844385], 0.1, 1.0), Face([0.49999999999999933, -0.866025403784439], [0.49999999999999933, -0.866025403784439], 0.1, 1.0), Face([1.0, -2.4492935982947064e-16], [1.0, -2.4492935982947064e-16], 0.1, 1.0)], 0x0000001c, 0x00007fcd), -1.0) (Target(21.0, 23.0, 0.0, 1.0, Face[Face([0.5000000000000001, 0.8660254037844386], [0.5000000000000001, 0.8660254037844386], 0.1, 1.0), Face([-0.4999999999999998, 0.8660254037844387], [-0.4999999999999998, 0.8660254037844387], 0.1, 1.0), Face([-1.0, 1.2246467991473532e-16], [-1.0, 1.2246467991473532e-16], 0.1, 1.0), Face([-0.5000000000000004, -0.8660254037844385], [-0.5000000000000004, -0.8660254037844385], 0.1, 1.0), Face([0.49999999999999933, -0.866025403784439], [0.49999999999999933, -0.866025403784439], 0.1, 1.0), Face([1.0, -2.4492935982947064e-16], [1.0, -2.4492935982947064e-16], 0.1, 1.0)], 0x0000001d, 0x00007fcd), -1.0); (Target(22.0, 22.0, 0.0, 1.0, Face[Face([0.5000000000000001, 0.8660254037844386], [0.5000000000000001, 0.8660254037844386], 0.1, 1.0), Face([-0.4999999999999998, 0.8660254037844387], [-0.4999999999999998, 0.8660254037844387], 0.1, 1.0), Face([-1.0, 1.2246467991473532e-16], [-1.0, 1.2246467991473532e-16], 0.1, 1.0), Face([-0.5000000000000004, -0.8660254037844385], [-0.5000000000000004, -0.8660254037844385], 0.1, 1.0), Face([0.49999999999999933, -0.866025403784439], [0.49999999999999933, -0.866025403784439], 0.1, 1.0), Face([1.0, -2.4492935982947064e-16], [1.0, -2.4492935982947064e-16], 0.1, 1.0)], 0x0000001d, 0x00007fcd), -1.0) (Target(21.0, 23.0, 0.0, 1.0, Face[Face([0.5000000000000001, 0.8660254037844386], [0.5000000000000001, 0.8660254037844386], 0.1, 1.0), Face([-0.4999999999999998, 0.8660254037844387], [-0.4999999999999998, 0.8660254037844387], 0.1, 1.0), Face([-1.0, 1.2246467991473532e-16], [-1.0, 1.2246467991473532e-16], 0.1, 1.0), Face([-0.5000000000000004, -0.8660254037844385], [-0.5000000000000004, -0.8660254037844385], 0.1, 1.0), Face([0.49999999999999933, -0.866025403784439], [0.49999999999999933, -0.866025403784439], 0.1, 1.0), Face([1.0, -2.4492935982947064e-16], [1.0, -2.4492935982947064e-16], 0.1, 1.0)], 0x0000001e, 0x00007fcd), -1.0)], MultiDroneMultiActorConfigs(2, Target[Target(22.0, 22.0, 0.0, 1.0, Face[Face([0.5000000000000001, 0.8660254037844386], [0.5000000000000001, 0.8660254037844386], 0.1, 1.0), Face([-0.4999999999999998, 0.8660254037844387], [-0.4999999999999998, 0.8660254037844387], 0.1, 1.0), Face([-1.0, 1.2246467991473532e-16], [-1.0, 1.2246467991473532e-16], 0.1, 1.0), Face([-0.5000000000000004, -0.8660254037844385], [-0.5000000000000004, -0.8660254037844385], 0.1, 1.0), Face([0.49999999999999933, -0.866025403784439], [0.49999999999999933, -0.866025403784439], 0.1, 1.0), Face([1.0, -2.4492935982947064e-16], [1.0, -2.4492935982947064e-16], 0.1, 1.0)], 0x00000001, 0x00000000) Target(21.0, 23.0, 0.0, 1.0, Face[Face([0.5000000000000001, 0.8660254037844386], [0.5000000000000001, 0.8660254037844386], 0.1, 1.0), Face([-0.4999999999999998, 0.8660254037844387], [-0.4999999999999998, 0.8660254037844387], 0.1, 1.0), Face([-1.0, 1.2246467991473532e-16], [-1.0, 1.2246467991473532e-16], 0.1, 1.0), Face([-0.5000000000000004, -0.8660254037844385], [-0.5000000000000004, -0.8660254037844385], 0.1, 1.0), Face([0.49999999999999933, -0.866025403784439], [0.49999999999999933, -0.866025403784439], 0.1, 1.0), Face([1.0, -2.4492935982947064e-16], [1.0, -2.4492935982947064e-16], 0.1, 1.0)], 0x00000002, 0x00000000); Target(22.0, 22.0, 0.0, 1.0, Face[Face([0.5000000000000001, 0.8660254037844386], [0.5000000000000001, 0.8660254037844386], 0.1, 1.0), Face([-0.4999999999999998, 0.8660254037844387], [-0.4999999999999998, 0.8660254037844387], 0.1, 1.0), Face([-1.0, 1.2246467991473532e-16], [-1.0, 1.2246467991473532e-16], 0.1, 1.0), Face([-0.5000000000000004, -0.8660254037844385], [-0.5000000000000004, -0.8660254037844385], 0.1, 1.0), Face([0.49999999999999933, -0.866025403784439], [0.49999999999999933, -0.866025403784439], 0.1, 1.0), Face([1.0, -2.4492935982947064e-16], [1.0, -2.4492935982947064e-16], 0.1, 1.0)], 0x00000001, 0x00007fcd) Target(21.0, 23.0, 0.0, 1.0, Face[Face([0.5000000000000001, 0.8660254037844386], [0.5000000000000001, 0.8660254037844386], 0.1, 1.0), Face([-0.4999999999999998, 0.8660254037844387], [-0.4999999999999998, 0.8660254037844387], 0.1, 1.0), Face([-1.0, 1.2246467991473532e-16], [-1.0, 1.2246467991473532e-16], 0.1, 1.0), Face([-0.5000000000000004, -0.8660254037844385], [-0.5000000000000004, -0.8660254037844385], 0.1, 1.0), Face([0.49999999999999933, -0.866025403784439], [0.49999999999999933, -0.866025403784439], 0.1, 1.0), Face([1.0, -2.4492935982947064e-16], [1.0, -2.4492935982947064e-16], 0.1, 1.0)], 0x00000002, 0x00007fcd); … ; Target(22.0, 22.0, 0.0, 1.0, Face[Face([0.5000000000000001, 0.8660254037844386], [0.5000000000000001, 0.8660254037844386], 0.1, 1.0), Face([-0.4999999999999998, 0.8660254037844387], [-0.4999999999999998, 0.8660254037844387], 0.1, 1.0), Face([-1.0, 1.2246467991473532e-16], [-1.0, 1.2246467991473532e-16], 0.1, 1.0), Face([-0.5000000000000004, -0.8660254037844385], [-0.5000000000000004, -0.8660254037844385], 0.1, 1.0), Face([0.49999999999999933, -0.866025403784439], [0.49999999999999933, -0.866025403784439], 0.1, 1.0), Face([1.0, -2.4492935982947064e-16], [1.0, -2.4492935982947064e-16], 0.1, 1.0)], 0x0000001c, 0x00007fcd) Target(21.0, 23.0, 0.0, 1.0, Face[Face([0.5000000000000001, 0.8660254037844386], [0.5000000000000001, 0.8660254037844386], 0.1, 1.0), Face([-0.4999999999999998, 0.8660254037844387], [-0.4999999999999998, 0.8660254037844387], 0.1, 1.0), Face([-1.0, 1.2246467991473532e-16], [-1.0, 1.2246467991473532e-16], 0.1, 1.0), Face([-0.5000000000000004, -0.8660254037844385], [-0.5000000000000004, -0.8660254037844385], 0.1, 1.0), Face([0.49999999999999933, -0.866025403784439], [0.49999999999999933, -0.866025403784439], 0.1, 1.0), Face([1.0, -2.4492935982947064e-16], [1.0, -2.4492935982947064e-16], 0.1, 1.0)], 0x0000001d, 0x00007fcd); Target(22.0, 22.0, 0.0, 1.0, Face[Face([0.5000000000000001, 0.8660254037844386], [0.5000000000000001, 0.8660254037844386], 0.1, 1.0), Face([-0.4999999999999998, 0.8660254037844387], [-0.4999999999999998, 0.8660254037844387], 0.1, 1.0), Face([-1.0, 1.2246467991473532e-16], [-1.0, 1.2246467991473532e-16], 0.1, 1.0), Face([-0.5000000000000004, -0.8660254037844385], [-0.5000000000000004, -0.8660254037844385], 0.1, 1.0), Face([0.49999999999999933, -0.866025403784439], [0.49999999999999933, -0.866025403784439], 0.1, 1.0), Face([1.0, -2.4492935982947064e-16], [1.0, -2.4492935982947064e-16], 0.1, 1.0)], 0x0000001d, 0x00007fcd) Target(21.0, 23.0, 0.0, 1.0, Face[Face([0.5000000000000001, 0.8660254037844386], [0.5000000000000001, 0.8660254037844386], 0.1, 1.0), Face([-0.4999999999999998, 0.8660254037844387], [-0.4999999999999998, 0.8660254037844387], 0.1, 1.0), Face([-1.0, 1.2246467991473532e-16], [-1.0, 1.2246467991473532e-16], 0.1, 1.0), Face([-0.5000000000000004, -0.8660254037844385], [-0.5000000000000004, -0.8660254037844385], 0.1, 1.0), Face([0.49999999999999933, -0.866025403784439], [0.49999999999999933, -0.866025403784439], 0.1, 1.0), Face([1.0, -2.4492935982947064e-16], [1.0, -2.4492935982947064e-16], 0.1, 1.0)], 0x0000001e, 0x00007fcd)], MDMA_Grid(25, 25, 8, 30, [MDMA.MDPState(UAVState(1, 1, :E), 1, 30, nothing) MDMA.MDPState(UAVState(2, 1, :E), 1, 30, nothing) … MDMA.MDPState(UAVState(24, 1, :E), 1, 30, nothing) MDMA.MDPState(UAVState(25, 1, :E), 1, 30, nothing); MDMA.MDPState(UAVState(1, 2, :E), 1, 30, nothing) MDMA.MDPState(UAVState(2, 2, :E), 1, 30, nothing) … MDMA.MDPState(UAVState(24, 2, :E), 1, 30, nothing) MDMA.MDPState(UAVState(25, 2, :E), 1, 30, nothing); … ; MDMA.MDPState(UAVState(1, 24, :E), 1, 30, nothing) MDMA.MDPState(UAVState(2, 24, :E), 1, 30, nothing) … MDMA.MDPState(UAVState(24, 24, :E), 1, 30, nothing) MDMA.MDPState(UAVState(25, 24, :E), 1, 30, nothing); MDMA.MDPState(UAVState(1, 25, :E), 1, 30, nothing) MDMA.MDPState(UAVState(2, 25, :E), 1, 30, nothing) … MDMA.MDPState(UAVState(24, 25, :E), 1, 30, nothing) MDMA.MDPState(UAVState(25, 25, :E), 1, 30, nothing);;; MDMA.MDPState(UAVState(1, 1, :NE), 1, 30, nothing) MDMA.MDPState(UAVState(2, 1, :NE), 1, 30, nothing) … MDMA.MDPState(UAVState(24, 1, :NE), 1, 30, nothing) MDMA.MDPState(UAVState(25, 1, :NE), 1, 30, nothing); MDMA.MDPState(UAVState(1, 2, :NE), 1, 30, nothing) MDMA.MDPState(UAVState(2, 2, :NE), 1, 30, nothing) … MDMA.MDPState(UAVState(24, 2, :NE), 1, 30, nothing) MDMA.MDPState(UAVState(25, 2, :NE), 1, 30, nothing); … ; MDMA.MDPState(UAVState(1, 24, :NE), 1, 30, nothing) MDMA.MDPState(UAVState(2, 24, :NE), 1, 30, nothing) … MDMA.MDPState(UAVState(24, 24, :NE), 1, 30, nothing) MDMA.MDPState(UAVState(25, 24, :NE), 1, 30, nothing); MDMA.MDPState(UAVState(1, 25, :NE), 1, 30, nothing) MDMA.MDPState(UAVState(2, 25, :NE), 1, 30, nothing) … MDMA.MDPState(UAVState(24, 25, :NE), 1, 30, nothing) MDMA.MDPState(UAVState(25, 25, :NE), 1, 30, nothing);;; MDMA.MDPState(UAVState(1, 1, :N), 1, 30, nothing) MDMA.MDPState(UAVState(2, 1, :N), 1, 30, nothing) … MDMA.MDPState(UAVState(24, 1, :N), 1, 30, nothing) MDMA.MDPState(UAVState(25, 1, :N), 1, 30, nothing); MDMA.MDPState(UAVState(1, 2, :N), 1, 30, nothing) MDMA.MDPState(UAVState(2, 2, :N), 1, 30, nothing) … MDMA.MDPState(UAVState(24, 2, :N), 1, 30, nothing) MDMA.MDPState(UAVState(25, 2, :N), 1, 30, nothing); … ; MDMA.MDPState(UAVState(1, 24, :N), 1, 30, nothing) MDMA.MDPState(UAVState(2, 24, :N), 1, 30, nothing) … MDMA.MDPState(UAVState(24, 24, :N), 1, 30, nothing) MDMA.MDPState(UAVState(25, 24, :N), 1, 30, nothing); MDMA.MDPState(UAVState(1, 25, :N), 1, 30, nothing) MDMA.MDPState(UAVState(2, 25, :N), 1, 30, nothing) … MDMA.MDPState(UAVState(24, 25, :N), 1, 30, nothing) MDMA.MDPState(UAVState(25, 25, :N), 1, 30, nothing);;; MDMA.MDPState(UAVState(1, 1, :NW), 1, 30, nothing) MDMA.MDPState(UAVState(2, 1, :NW), 1, 30, nothing) … MDMA.MDPState(UAVState(24, 1, :NW), 1, 30, nothing) MDMA.MDPState(UAVState(25, 1, :NW), 1, 30, nothing); MDMA.MDPState(UAVState(1, 2, :NW), 1, 30, nothing) MDMA.MDPState(UAVState(2, 2, :NW), 1, 30, nothing) … MDMA.MDPState(UAVState(24, 2, :NW), 1, 30, nothing) MDMA.MDPState(UAVState(25, 2, :NW), 1, 30, nothing); … ; MDMA.MDPState(UAVState(1, 24, :NW), 1, 30, nothing) MDMA.MDPState(UAVState(2, 24, :NW), 1, 30, nothing) … MDMA.MDPState(UAVState(24, 24, :NW), 1, 30, nothing) MDMA.MDPState(UAVState(25, 24, :NW), 1, 30, nothing); MDMA.MDPState(UAVState(1, 25, :NW), 1, 30, nothing) MDMA.MDPState(UAVState(2, 25, :NW), 1, 30, nothing) … MDMA.MDPState(UAVState(24, 25, :NW), 1, 30, nothing) MDMA.MDPState(UAVState(25, 25, :NW), 1, 30, nothing);;; MDMA.MDPState(UAVState(1, 1, :W), 1, 30, nothing) MDMA.MDPState(UAVState(2, 1, :W), 1, 30, nothing) … MDMA.MDPState(UAVState(24, 1, :W), 1, 30, nothing) MDMA.MDPState(UAVState(25, 1, :W), 1, 30, nothing); MDMA.MDPState(UAVState(1, 2, :W), 1, 30, nothing) MDMA.MDPState(UAVState(2, 2, :W), 1, 30, nothing) … MDMA.MDPState(UAVState(24, 2, :W), 1, 30, nothing) MDMA.MDPState(UAVState(25, 2, :W), 1, 30, nothing); … ; MDMA.MDPState(UAVState(1, 24, :W), 1, 30, nothing) MDMA.MDPState(UAVState(2, 24, :W), 1, 30, nothing) … MDMA.MDPState(UAVState(24, 24, :W), 1, 30, nothing) MDMA.MDPState(UAVState(25, 24, :W), 1, 30, nothing); MDMA.MDPState(UAVState(1, 25, :W), 1, 30, nothing) MDMA.MDPState(UAVState(2, 25, :W), 1, 30, nothing) … MDMA.MDPState(UAVState(24, 25, :W), 1, 30, nothing) MDMA.MDPState(UAVState(25, 25, :W), 1, 30, nothing);;; MDMA.MDPState(UAVState(1, 1, :SW), 1, 30, nothing) MDMA.MDPState(UAVState(2, 1, :SW), 1, 30, nothing) … MDMA.MDPState(UAVState(24, 1, :SW), 1, 30, nothing) MDMA.MDPState(UAVState(25, 1, :SW), 1, 30, nothing); MDMA.MDPState(UAVState(1, 2, :SW), 1, 30, nothing) MDMA.MDPState(UAVState(2, 2, :SW), 1, 30, nothing) … MDMA.MDPState(UAVState(24, 2, :SW), 1, 30, nothing) MDMA.MDPState(UAVState(25, 2, :SW), 1, 30, nothing); … ; MDMA.MDPState(UAVState(1, 24, :SW), 1, 30, nothing) MDMA.MDPState(UAVState(2, 24, :SW), 1, 30, nothing) … MDMA.MDPState(UAVState(24, 24, :SW), 1, 30, nothing) MDMA.MDPState(UAVState(25, 24, :SW), 1, 30, nothing); MDMA.MDPState(UAVState(1, 25, :SW), 1, 30, nothing) MDMA.MDPState(UAVState(2, 25, :SW), 1, 30, nothing) … MDMA.MDPState(UAVState(24, 25, :SW), 1, 30, nothing) MDMA.MDPState(UAVState(25, 25, :SW), 1, 30, nothing);;; MDMA.MDPState(UAVState(1, 1, :S), 1, 30, nothing) MDMA.MDPState(UAVState(2, 1, :S), 1, 30, nothing) … MDMA.MDPState(UAVState(24, 1, :S), 1, 30, nothing) MDMA.MDPState(UAVState(25, 1, :S), 1, 30, nothing); MDMA.MDPState(UAVState(1, 2, :S), 1, 30, nothing) MDMA.MDPState(UAVState(2, 2, :S), 1, 30, nothing) … MDMA.MDPState(UAVState(24, 2, :S), 1, 30, nothing) MDMA.MDPState(UAVState(25, 2, :S), 1, 30, nothing); … ; MDMA.MDPState(UAVState(1, 24, :S), 1, 30, nothing) MDMA.MDPState(UAVState(2, 24, :S), 1, 30, nothing) … MDMA.MDPState(UAVState(24, 24, :S), 1, 30, nothing) MDMA.MDPState(UAVState(25, 24, :S), 1, 30, nothing); MDMA.MDPState(UAVState(1, 25, :S), 1, 30, nothing) MDMA.MDPState(UAVState(2, 25, :S), 1, 30, nothing) … MDMA.MDPState(UAVState(24, 25, :S), 1, 30, nothing) MDMA.MDPState(UAVState(25, 25, :S), 1, 30, nothing);;; MDMA.MDPState(UAVState(1, 1, :SE), 1, 30, nothing) MDMA.MDPState(UAVState(2, 1, :SE), 1, 30, nothing) … MDMA.MDPState(UAVState(24, 1, :SE), 1, 30, nothing) MDMA.MDPState(UAVState(25, 1, :SE), 1, 30, nothing); MDMA.MDPState(UAVState(1, 2, :SE), 1, 30, nothing) MDMA.MDPState(UAVState(2, 2, :SE), 1, 30, nothing) … MDMA.MDPState(UAVState(24, 2, :SE), 1, 30, nothing) MDMA.MDPState(UAVState(25, 2, :SE), 1, 30, nothing); … ; MDMA.MDPState(UAVState(1, 24, :SE), 1, 30, nothing) MDMA.MDPState(UAVState(2, 24, :SE), 1, 30, nothing) … MDMA.MDPState(UAVState(24, 24, :SE), 1, 30, nothing) MDMA.MDPState(UAVState(25, 24, :SE), 1, 30, nothing); MDMA.MDPState(UAVState(1, 25, :SE), 1, 30, nothing) MDMA.MDPState(UAVState(2, 25, :SE), 1, 30, nothing) … MDMA.MDPState(UAVState(24, 25, :SE), 1, 30, nothing) MDMA.MDPState(UAVState(25, 25, :SE), 1, 30, nothing);;;; MDMA.MDPState(UAVState(1, 1, :E), 2, 30, nothing) MDMA.MDPState(UAVState(2, 1, :E), 2, 30, nothing) … MDMA.MDPState(UAVState(24, 1, :E), 2, 30, nothing) MDMA.MDPState(UAVState(25, 1, :E), 2, 30, nothing); MDMA.MDPState(UAVState(1, 2, :E), 2, 30, nothing) MDMA.MDPState(UAVState(2, 2, :E), 2, 30, nothing) … MDMA.MDPState(UAVState(24, 2, :E), 2, 30, nothing) MDMA.MDPState(UAVState(25, 2, :E), 2, 30, nothing); … ; MDMA.MDPState(UAVState(1, 24, :E), 2, 30, nothing) MDMA.MDPState(UAVState(2, 24, :E), 2, 30, nothing) … MDMA.MDPState(UAVState(24, 24, :E), 2, 30, nothing) MDMA.MDPState(UAVState(25, 24, :E), 2, 30, nothing); MDMA.MDPState(UAVState(1, 25, :E), 2, 30, nothing) MDMA.MDPState(UAVState(2, 25, :E), 2, 30, nothing) … MDMA.MDPState(UAVState(24, 25, :E), 2, 30, nothing) MDMA.MDPState(UAVState(25, 25, :E), 2, 30, nothing);;; MDMA.MDPState(UAVState(1, 1, :NE), 2, 30, nothing) MDMA.MDPState(UAVState(2, 1, :NE), 2, 30, nothing) … MDMA.MDPState(UAVState(24, 1, :NE), 2, 30, nothing) MDMA.MDPState(UAVState(25, 1, :NE), 2, 30, nothing); MDMA.MDPState(UAVState(1, 2, :NE), 2, 30, nothing) MDMA.MDPState(UAVState(2, 2, :NE), 2, 30, nothing) … MDMA.MDPState(UAVState(24, 2, :NE), 2, 30, nothing) MDMA.MDPState(UAVState(25, 2, :NE), 2, 30, nothing); … ; MDMA.MDPState(UAVState(1, 24, :NE), 2, 30, nothing) MDMA.MDPState(UAVState(2, 24, :NE), 2, 30, nothing) … MDMA.MDPState(UAVState(24, 24, :NE), 2, 30, nothing) MDMA.MDPState(UAVState(25, 24, :NE), 2, 30, nothing); MDMA.MDPState(UAVState(1, 25, :NE), 2, 30, nothing) MDMA.MDPState(UAVState(2, 25, :NE), 2, 30, nothing) … MDMA.MDPState(UAVState(24, 25, :NE), 2, 30, nothing) MDMA.MDPState(UAVState(25, 25, :NE), 2, 30, nothing);;; MDMA.MDPState(UAVState(1, 1, :N), 2, 30, nothing) MDMA.MDPState(UAVState(2, 1, :N), 2, 30, nothing) … MDMA.MDPState(UAVState(24, 1, :N), 2, 30, nothing) MDMA.MDPState(UAVState(25, 1, :N), 2, 30, nothing); MDMA.MDPState(UAVState(1, 2, :N), 2, 30, nothing) MDMA.MDPState(UAVState(2, 2, :N), 2, 30, nothing) … MDMA.MDPState(UAVState(24, 2, :N), 2, 30, nothing) MDMA.MDPState(UAVState(25, 2, :N), 2, 30, nothing); … ; MDMA.MDPState(UAVState(1, 24, :N), 2, 30, nothing) MDMA.MDPState(UAVState(2, 24, :N), 2, 30, nothing) … MDMA.MDPState(UAVState(24, 24, :N), 2, 30, nothing) MDMA.MDPState(UAVState(25, 24, :N), 2, 30, nothing); MDMA.MDPState(UAVState(1, 25, :N), 2, 30, nothing) MDMA.MDPState(UAVState(2, 25, :N), 2, 30, nothing) … MDMA.MDPState(UAVState(24, 25, :N), 2, 30, nothing) MDMA.MDPState(UAVState(25, 25, :N), 2, 30, nothing);;; MDMA.MDPState(UAVState(1, 1, :NW), 2, 30, nothing) MDMA.MDPState(UAVState(2, 1, :NW), 2, 30, nothing) … MDMA.MDPState(UAVState(24, 1, :NW), 2, 30, nothing) MDMA.MDPState(UAVState(25, 1, :NW), 2, 30, nothing); MDMA.MDPState(UAVState(1, 2, :NW), 2, 30, nothing) MDMA.MDPState(UAVState(2, 2, :NW), 2, 30, nothing) … MDMA.MDPState(UAVState(24, 2, :NW), 2, 30, nothing) MDMA.MDPState(UAVState(25, 2, :NW), 2, 30, nothing); … ; MDMA.MDPState(UAVState(1, 24, :NW), 2, 30, nothing) MDMA.MDPState(UAVState(2, 24, :NW), 2, 30, nothing) … MDMA.MDPState(UAVState(24, 24, :NW), 2, 30, nothing) MDMA.MDPState(UAVState(25, 24, :NW), 2, 30, nothing); MDMA.MDPState(UAVState(1, 25, :NW), 2, 30, nothing) MDMA.MDPState(UAVState(2, 25, :NW), 2, 30, nothing) … MDMA.MDPState(UAVState(24, 25, :NW), 2, 30, nothing) MDMA.MDPState(UAVState(25, 25, :NW), 2, 30, nothing);;; MDMA.MDPState(UAVState(1, 1, :W), 2, 30, nothing) MDMA.MDPState(UAVState(2, 1, :W), 2, 30, nothing) … MDMA.MDPState(UAVState(24, 1, :W), 2, 30, nothing) MDMA.MDPState(UAVState(25, 1, :W), 2, 30, nothing); MDMA.MDPState(UAVState(1, 2, :W), 2, 30, nothing) MDMA.MDPState(UAVState(2, 2, :W), 2, 30, nothing) … MDMA.MDPState(UAVState(24, 2, :W), 2, 30, nothing) MDMA.MDPState(UAVState(25, 2, :W), 2, 30, nothing); … ; MDMA.MDPState(UAVState(1, 24, :W), 2, 30, nothing) MDMA.MDPState(UAVState(2, 24, :W), 2, 30, nothing) … MDMA.MDPState(UAVState(24, 24, :W), 2, 30, nothing) MDMA.MDPState(UAVState(25, 24, :W), 2, 30, nothing); MDMA.MDPState(UAVState(1, 25, :W), 2, 30, nothing) MDMA.MDPState(UAVState(2, 25, :W), 2, 30, nothing) … MDMA.MDPState(UAVState(24, 25, :W), 2, 30, nothing) MDMA.MDPState(UAVState(25, 25, :W), 2, 30, nothing);;; MDMA.MDPState(UAVState(1, 1, :SW), 2, 30, nothing) MDMA.MDPState(UAVState(2, 1, :SW), 2, 30, nothing) … MDMA.MDPState(UAVState(24, 1, :SW), 2, 30, nothing) MDMA.MDPState(UAVState(25, 1, :SW), 2, 30, nothing); MDMA.MDPState(UAVState(1, 2, :SW), 2, 30, nothing) MDMA.MDPState(UAVState(2, 2, :SW), 2, 30, nothing) … MDMA.MDPState(UAVState(24, 2, :SW), 2, 30, nothing) MDMA.MDPState(UAVState(25, 2, :SW), 2, 30, nothing); … ; MDMA.MDPState(UAVState(1, 24, :SW), 2, 30, nothing) MDMA.MDPState(UAVState(2, 24, :SW), 2, 30, nothing) … MDMA.MDPState(UAVState(24, 24, :SW), 2, 30, nothing) MDMA.MDPState(UAVState(25, 24, :SW), 2, 30, nothing); MDMA.MDPState(UAVState(1, 25, :SW), 2, 30, nothing) MDMA.MDPState(UAVState(2, 25, :SW), 2, 30, nothing) … MDMA.MDPState(UAVState(24, 25, :SW), 2, 30, nothing) MDMA.MDPState(UAVState(25, 25, :SW), 2, 30, nothing);;; MDMA.MDPState(UAVState(1, 1, :S), 2, 30, nothing) MDMA.MDPState(UAVState(2, 1, :S), 2, 30, nothing) … MDMA.MDPState(UAVState(24, 1, :S), 2, 30, nothing) MDMA.MDPState(UAVState(25, 1, :S), 2, 30, nothing); MDMA.MDPState(UAVState(1, 2, :S), 2, 30, nothing) MDMA.MDPState(UAVState(2, 2, :S), 2, 30, nothing) … MDMA.MDPState(UAVState(24, 2, :S), 2, 30, nothing) MDMA.MDPState(UAVState(25, 2, :S), 2, 30, nothing); … ; MDMA.MDPState(UAVState(1, 24, :S), 2, 30, nothing) MDMA.MDPState(UAVState(2, 24, :S), 2, 30, nothing) … MDMA.MDPState(UAVState(24, 24, :S), 2, 30, nothing) MDMA.MDPState(UAVState(25, 24, :S), 2, 30, nothing); MDMA.MDPState(UAVState(1, 25, :S), 2, 30, nothing) MDMA.MDPState(UAVState(2, 25, :S), 2, 30, nothing) … MDMA.MDPState(UAVState(24, 25, :S), 2, 30, nothing) MDMA.MDPState(UAVState(25, 25, :S), 2, 30, nothing);;; MDMA.MDPState(UAVState(1, 1, :SE), 2, 30, nothing) MDMA.MDPState(UAVState(2, 1, :SE), 2, 30, nothing) … MDMA.MDPState(UAVState(24, 1, :SE), 2, 30, nothing) MDMA.MDPState(UAVState(25, 1, :SE), 2, 30, nothing); MDMA.MDPState(UAVState(1, 2, :SE), 2, 30, nothing) MDMA.MDPState(UAVState(2, 2, :SE), 2, 30, nothing) … MDMA.MDPState(UAVState(24, 2, :SE), 2, 30, nothing) MDMA.MDPState(UAVState(25, 2, :SE), 2, 30, nothing); … ; MDMA.MDPState(UAVState(1, 24, :SE), 2, 30, nothing) MDMA.MDPState(UAVState(2, 24, :SE), 2, 30, nothing) … MDMA.MDPState(UAVState(24, 24, :SE), 2, 30, nothing) MDMA.MDPState(UAVState(25, 24, :SE), 2, 30, nothing); MDMA.MDPState(UAVState(1, 25, :SE), 2, 30, nothing) MDMA.MDPState(UAVState(2, 25, :SE), 2, 30, nothing) … MDMA.MDPState(UAVState(24, 25, :SE), 2, 30, nothing) MDMA.MDPState(UAVState(25, 25, :SE), 2, 30, nothing);;;; MDMA.MDPState(UAVState(1, 1, :E), 3, 30, nothing) MDMA.MDPState(UAVState(2, 1, :E), 3, 30, nothing) … MDMA.MDPState(UAVState(24, 1, :E), 3, 30, nothing) MDMA.MDPState(UAVState(25, 1, :E), 3, 30, nothing); MDMA.MDPState(UAVState(1, 2, :E), 3, 30, nothing) MDMA.MDPState(UAVState(2, 2, :E), 3, 30, nothing) … MDMA.MDPState(UAVState(24, 2, :E), 3, 30, nothing) MDMA.MDPState(UAVState(25, 2, :E), 3, 30, nothing); … ; MDMA.MDPState(UAVState(1, 24, :E), 3, 30, nothing) MDMA.MDPState(UAVState(2, 24, :E), 3, 30, nothing) … MDMA.MDPState(UAVState(24, 24, :E), 3, 30, nothing) MDMA.MDPState(UAVState(25, 24, :E), 3, 30, nothing); MDMA.MDPState(UAVState(1, 25, :E), 3, 30, nothing) MDMA.MDPState(UAVState(2, 25, :E), 3, 30, nothing) … MDMA.MDPState(UAVState(24, 25, :E), 3, 30, nothing) MDMA.MDPState(UAVState(25, 25, :E), 3, 30, nothing);;; MDMA.MDPState(UAVState(1, 1, :NE), 3, 30, nothing) MDMA.MDPState(UAVState(2, 1, :NE), 3, 30, nothing) … MDMA.MDPState(UAVState(24, 1, :NE), 3, 30, nothing) MDMA.MDPState(UAVState(25, 1, :NE), 3, 30, nothing); MDMA.MDPState(UAVState(1, 2, :NE), 3, 30, nothing) MDMA.MDPState(UAVState(2, 2, :NE), 3, 30, nothing) … MDMA.MDPState(UAVState(24, 2, :NE), 3, 30, nothing) MDMA.MDPState(UAVState(25, 2, :NE), 3, 30, nothing); … ; MDMA.MDPState(UAVState(1, 24, :NE), 3, 30, nothing) MDMA.MDPState(UAVState(2, 24, :NE), 3, 30, nothing) … MDMA.MDPState(UAVState(24, 24, :NE), 3, 30, nothing) MDMA.MDPState(UAVState(25, 24, :NE), 3, 30, nothing); MDMA.MDPState(UAVState(1, 25, :NE), 3, 30, nothing) MDMA.MDPState(UAVState(2, 25, :NE), 3, 30, nothing) … MDMA.MDPState(UAVState(24, 25, :NE), 3, 30, nothing) MDMA.MDPState(UAVState(25, 25, :NE), 3, 30, nothing);;; MDMA.MDPState(UAVState(1, 1, :N), 3, 30, nothing) MDMA.MDPState(UAVState(2, 1, :N), 3, 30, nothing) … MDMA.MDPState(UAVState(24, 1, :N), 3, 30, nothing) MDMA.MDPState(UAVState(25, 1, :N), 3, 30, nothing); MDMA.MDPState(UAVState(1, 2, :N), 3, 30, nothing) MDMA.MDPState(UAVState(2, 2, :N), 3, 30, nothing) … MDMA.MDPState(UAVState(24, 2, :N), 3, 30, nothing) MDMA.MDPState(UAVState(25, 2, :N), 3, 30, nothing); … ; MDMA.MDPState(UAVState(1, 24, :N), 3, 30, nothing) MDMA.MDPState(UAVState(2, 24, :N), 3, 30, nothing) … MDMA.MDPState(UAVState(24, 24, :N), 3, 30, nothing) MDMA.MDPState(UAVState(25, 24, :N), 3, 30, nothing); MDMA.MDPState(UAVState(1, 25, :N), 3, 30, nothing) MDMA.MDPState(UAVState(2, 25, :N), 3, 30, nothing) … MDMA.MDPState(UAVState(24, 25, :N), 3, 30, nothing) MDMA.MDPState(UAVState(25, 25, :N), 3, 30, nothing);;; MDMA.MDPState(UAVState(1, 1, :NW), 3, 30, nothing) MDMA.MDPState(UAVState(2, 1, :NW), 3, 30, nothing) … MDMA.MDPState(UAVState(24, 1, :NW), 3, 30, nothing) MDMA.MDPState(UAVState(25, 1, :NW), 3, 30, nothing); MDMA.MDPState(UAVState(1, 2, :NW), 3, 30, nothing) MDMA.MDPState(UAVState(2, 2, :NW), 3, 30, nothing) … MDMA.MDPState(UAVState(24, 2, :NW), 3, 30, nothing) MDMA.MDPState(UAVState(25, 2, :NW), 3, 30, nothing); … ; MDMA.MDPState(UAVState(1, 24, :NW), 3, 30, nothing) MDMA.MDPState(UAVState(2, 24, :NW), 3, 30, nothing) … MDMA.MDPState(UAVState(24, 24, :NW), 3, 30, nothing) MDMA.MDPState(UAVState(25, 24, :NW), 3, 30, nothing); MDMA.MDPState(UAVState(1, 25, :NW), 3, 30, nothing) MDMA.MDPState(UAVState(2, 25, :NW), 3, 30, nothing) … MDMA.MDPState(UAVState(24, 25, :NW), 3, 30, nothing) MDMA.MDPState(UAVState(25, 25, :NW), 3, 30, nothing);;; MDMA.MDPState(UAVState(1, 1, :W), 3, 30, nothing) MDMA.MDPState(UAVState(2, 1, :W), 3, 30, nothing) … MDMA.MDPState(UAVState(24, 1, :W), 3, 30, nothing) MDMA.MDPState(UAVState(25, 1, :W), 3, 30, nothing); MDMA.MDPState(UAVState(1, 2, :W), 3, 30, nothing) MDMA.MDPState(UAVState(2, 2, :W), 3, 30, nothing) … MDMA.MDPState(UAVState(24, 2, :W), 3, 30, nothing) MDMA.MDPState(UAVState(25, 2, :W), 3, 30, nothing); … ; MDMA.MDPState(UAVState(1, 24, :W), 3, 30, nothing) MDMA.MDPState(UAVState(2, 24, :W), 3, 30, nothing) … MDMA.MDPState(UAVState(24, 24, :W), 3, 30, nothing) MDMA.MDPState(UAVState(25, 24, :W), 3, 30, nothing); MDMA.MDPState(UAVState(1, 25, :W), 3, 30, nothing) MDMA.MDPState(UAVState(2, 25, :W), 3, 30, nothing) … MDMA.MDPState(UAVState(24, 25, :W), 3, 30, nothing) MDMA.MDPState(UAVState(25, 25, :W), 3, 30, nothing);;; MDMA.MDPState(UAVState(1, 1, :SW), 3, 30, nothing) MDMA.MDPState(UAVState(2, 1, :SW), 3, 30, nothing) … MDMA.MDPState(UAVState(24, 1, :SW), 3, 30, nothing) MDMA.MDPState(UAVState(25, 1, :SW), 3, 30, nothing); MDMA.MDPState(UAVState(1, 2, :SW), 3, 30, nothing) MDMA.MDPState(UAVState(2, 2, :SW), 3, 30, nothing) … MDMA.MDPState(UAVState(24, 2, :SW), 3, 30, nothing) MDMA.MDPState(UAVState(25, 2, :SW), 3, 30, nothing); … ; MDMA.MDPState(UAVState(1, 24, :SW), 3, 30, nothing) MDMA.MDPState(UAVState(2, 24, :SW), 3, 30, nothing) … MDMA.MDPState(UAVState(24, 24, :SW), 3, 30, nothing) MDMA.MDPState(UAVState(25, 24, :SW), 3, 30, nothing); MDMA.MDPState(UAVState(1, 25, :SW), 3, 30, nothing) MDMA.MDPState(UAVState(2, 25, :SW), 3, 30, nothing) … MDMA.MDPState(UAVState(24, 25, :SW), 3, 30, nothing) MDMA.MDPState(UAVState(25, 25, :SW), 3, 30, nothing);;; MDMA.MDPState(UAVState(1, 1, :S), 3, 30, nothing) MDMA.MDPState(UAVState(2, 1, :S), 3, 30, nothing) … MDMA.MDPState(UAVState(24, 1, :S), 3, 30, nothing) MDMA.MDPState(UAVState(25, 1, :S), 3, 30, nothing); MDMA.MDPState(UAVState(1, 2, :S), 3, 30, nothing) MDMA.MDPState(UAVState(2, 2, :S), 3, 30, nothing) … MDMA.MDPState(UAVState(24, 2, :S), 3, 30, nothing) MDMA.MDPState(UAVState(25, 2, :S), 3, 30, nothing); … ; MDMA.MDPState(UAVState(1, 24, :S), 3, 30, nothing) MDMA.MDPState(UAVState(2, 24, :S), 3, 30, nothing) … MDMA.MDPState(UAVState(24, 24, :S), 3, 30, nothing) MDMA.MDPState(UAVState(25, 24, :S), 3, 30, nothing); MDMA.MDPState(UAVState(1, 25, :S), 3, 30, nothing) MDMA.MDPState(UAVState(2, 25, :S), 3, 30, nothing) … MDMA.MDPState(UAVState(24, 25, :S), 3, 30, nothing) MDMA.MDPState(UAVState(25, 25, :S), 3, 30, nothing);;; MDMA.MDPState(UAVState(1, 1, :SE), 3, 30, nothing) MDMA.MDPState(UAVState(2, 1, :SE), 3, 30, nothing) … MDMA.MDPState(UAVState(24, 1, :SE), 3, 30, nothing) MDMA.MDPState(UAVState(25, 1, :SE), 3, 30, nothing); MDMA.MDPState(UAVState(1, 2, :SE), 3, 30, nothing) MDMA.MDPState(UAVState(2, 2, :SE), 3, 30, nothing) … MDMA.MDPState(UAVState(24, 2, :SE), 3, 30, nothing) MDMA.MDPState(UAVState(25, 2, :SE), 3, 30, nothing); … ; MDMA.MDPState(UAVState(1, 24, :SE), 3, 30, nothing) MDMA.MDPState(UAVState(2, 24, :SE), 3, 30, nothing) … MDMA.MDPState(UAVState(24, 24, :SE), 3, 30, nothing) MDMA.MDPState(UAVState(25, 24, :SE), 3, 30, nothing); MDMA.MDPState(UAVState(1, 25, :SE), 3, 30, nothing) MDMA.MDPState(UAVState(2, 25, :SE), 3, 30, nothing) … MDMA.MDPState(UAVState(24, 25, :SE), 3, 30, nothing) MDMA.MDPState(UAVState(25, 25, :SE), 3, 30, nothing);;;; … ;;;; MDMA.MDPState(UAVState(1, 1, :E), 28, 30, nothing) MDMA.MDPState(UAVState(2, 1, :E), 28, 30, nothing) … MDMA.MDPState(UAVState(24, 1, :E), 28, 30, nothing) MDMA.MDPState(UAVState(25, 1, :E), 28, 30, nothing); MDMA.MDPState(UAVState(1, 2, :E), 28, 30, nothing) MDMA.MDPState(UAVState(2, 2, :E), 28, 30, nothing) … MDMA.MDPState(UAVState(24, 2, :E), 28, 30, nothing) MDMA.MDPState(UAVState(25, 2, :E), 28, 30, nothing); … ; MDMA.MDPState(UAVState(1, 24, :E), 28, 30, nothing) MDMA.MDPState(UAVState(2, 24, :E), 28, 30, nothing) … MDMA.MDPState(UAVState(24, 24, :E), 28, 30, nothing) MDMA.MDPState(UAVState(25, 24, :E), 28, 30, nothing); MDMA.MDPState(UAVState(1, 25, :E), 28, 30, nothing) MDMA.MDPState(UAVState(2, 25, :E), 28, 30, nothing) … MDMA.MDPState(UAVState(24, 25, :E), 28, 30, nothing) MDMA.MDPState(UAVState(25, 25, :E), 28, 30, nothing);;; MDMA.MDPState(UAVState(1, 1, :NE), 28, 30, nothing) MDMA.MDPState(UAVState(2, 1, :NE), 28, 30, nothing) … MDMA.MDPState(UAVState(24, 1, :NE), 28, 30, nothing) MDMA.MDPState(UAVState(25, 1, :NE), 28, 30, nothing); MDMA.MDPState(UAVState(1, 2, :NE), 28, 30, nothing) MDMA.MDPState(UAVState(2, 2, :NE), 28, 30, nothing) … MDMA.MDPState(UAVState(24, 2, :NE), 28, 30, nothing) MDMA.MDPState(UAVState(25, 2, :NE), 28, 30, nothing); … ; MDMA.MDPState(UAVState(1, 24, :NE), 28, 30, nothing) MDMA.MDPState(UAVState(2, 24, :NE), 28, 30, nothing) … MDMA.MDPState(UAVState(24, 24, :NE), 28, 30, nothing) MDMA.MDPState(UAVState(25, 24, :NE), 28, 30, nothing); MDMA.MDPState(UAVState(1, 25, :NE), 28, 30, nothing) MDMA.MDPState(UAVState(2, 25, :NE), 28, 30, nothing) … MDMA.MDPState(UAVState(24, 25, :NE), 28, 30, nothing) MDMA.MDPState(UAVState(25, 25, :NE), 28, 30, nothing);;; MDMA.MDPState(UAVState(1, 1, :N), 28, 30, nothing) MDMA.MDPState(UAVState(2, 1, :N), 28, 30, nothing) … MDMA.MDPState(UAVState(24, 1, :N), 28, 30, nothing) MDMA.MDPState(UAVState(25, 1, :N), 28, 30, nothing); MDMA.MDPState(UAVState(1, 2, :N), 28, 30, nothing) MDMA.MDPState(UAVState(2, 2, :N), 28, 30, nothing) … MDMA.MDPState(UAVState(24, 2, :N), 28, 30, nothing) MDMA.MDPState(UAVState(25, 2, :N), 28, 30, nothing); … ; MDMA.MDPState(UAVState(1, 24, :N), 28, 30, nothing) MDMA.MDPState(UAVState(2, 24, :N), 28, 30, nothing) … MDMA.MDPState(UAVState(24, 24, :N), 28, 30, nothing) MDMA.MDPState(UAVState(25, 24, :N), 28, 30, nothing); MDMA.MDPState(UAVState(1, 25, :N), 28, 30, nothing) MDMA.MDPState(UAVState(2, 25, :N), 28, 30, nothing) … MDMA.MDPState(UAVState(24, 25, :N), 28, 30, nothing) MDMA.MDPState(UAVState(25, 25, :N), 28, 30, nothing);;; MDMA.MDPState(UAVState(1, 1, :NW), 28, 30, nothing) MDMA.MDPState(UAVState(2, 1, :NW), 28, 30, nothing) … MDMA.MDPState(UAVState(24, 1, :NW), 28, 30, nothing) MDMA.MDPState(UAVState(25, 1, :NW), 28, 30, nothing); MDMA.MDPState(UAVState(1, 2, :NW), 28, 30, nothing) MDMA.MDPState(UAVState(2, 2, :NW), 28, 30, nothing) … MDMA.MDPState(UAVState(24, 2, :NW), 28, 30, nothing) MDMA.MDPState(UAVState(25, 2, :NW), 28, 30, nothing); … ; MDMA.MDPState(UAVState(1, 24, :NW), 28, 30, nothing) MDMA.MDPState(UAVState(2, 24, :NW), 28, 30, nothing) … MDMA.MDPState(UAVState(24, 24, :NW), 28, 30, nothing) MDMA.MDPState(UAVState(25, 24, :NW), 28, 30, nothing); MDMA.MDPState(UAVState(1, 25, :NW), 28, 30, nothing) MDMA.MDPState(UAVState(2, 25, :NW), 28, 30, nothing) … MDMA.MDPState(UAVState(24, 25, :NW), 28, 30, nothing) MDMA.MDPState(UAVState(25, 25, :NW), 28, 30, nothing);;; MDMA.MDPState(UAVState(1, 1, :W), 28, 30, nothing) MDMA.MDPState(UAVState(2, 1, :W), 28, 30, nothing) … MDMA.MDPState(UAVState(24, 1, :W), 28, 30, nothing) MDMA.MDPState(UAVState(25, 1, :W), 28, 30, nothing); MDMA.MDPState(UAVState(1, 2, :W), 28, 30, nothing) MDMA.MDPState(UAVState(2, 2, :W), 28, 30, nothing) … MDMA.MDPState(UAVState(24, 2, :W), 28, 30, nothing) MDMA.MDPState(UAVState(25, 2, :W), 28, 30, nothing); … ; MDMA.MDPState(UAVState(1, 24, :W), 28, 30, nothing) MDMA.MDPState(UAVState(2, 24, :W), 28, 30, nothing) … MDMA.MDPState(UAVState(24, 24, :W), 28, 30, nothing) MDMA.MDPState(UAVState(25, 24, :W), 28, 30, nothing); MDMA.MDPState(UAVState(1, 25, :W), 28, 30, nothing) MDMA.MDPState(UAVState(2, 25, :W), 28, 30, nothing) … MDMA.MDPState(UAVState(24, 25, :W), 28, 30, nothing) MDMA.MDPState(UAVState(25, 25, :W), 28, 30, nothing);;; MDMA.MDPState(UAVState(1, 1, :SW), 28, 30, nothing) MDMA.MDPState(UAVState(2, 1, :SW), 28, 30, nothing) … MDMA.MDPState(UAVState(24, 1, :SW), 28, 30, nothing) MDMA.MDPState(UAVState(25, 1, :SW), 28, 30, nothing); MDMA.MDPState(UAVState(1, 2, :SW), 28, 30, nothing) MDMA.MDPState(UAVState(2, 2, :SW), 28, 30, nothing) … MDMA.MDPState(UAVState(24, 2, :SW), 28, 30, nothing) MDMA.MDPState(UAVState(25, 2, :SW), 28, 30, nothing); … ; MDMA.MDPState(UAVState(1, 24, :SW), 28, 30, nothing) MDMA.MDPState(UAVState(2, 24, :SW), 28, 30, nothing) … MDMA.MDPState(UAVState(24, 24, :SW), 28, 30, nothing) MDMA.MDPState(UAVState(25, 24, :SW), 28, 30, nothing); MDMA.MDPState(UAVState(1, 25, :SW), 28, 30, nothing) MDMA.MDPState(UAVState(2, 25, :SW), 28, 30, nothing) … MDMA.MDPState(UAVState(24, 25, :SW), 28, 30, nothing) MDMA.MDPState(UAVState(25, 25, :SW), 28, 30, nothing);;; MDMA.MDPState(UAVState(1, 1, :S), 28, 30, nothing) MDMA.MDPState(UAVState(2, 1, :S), 28, 30, nothing) … MDMA.MDPState(UAVState(24, 1, :S), 28, 30, nothing) MDMA.MDPState(UAVState(25, 1, :S), 28, 30, nothing); MDMA.MDPState(UAVState(1, 2, :S), 28, 30, nothing) MDMA.MDPState(UAVState(2, 2, :S), 28, 30, nothing) … MDMA.MDPState(UAVState(24, 2, :S), 28, 30, nothing) MDMA.MDPState(UAVState(25, 2, :S), 28, 30, nothing); … ; MDMA.MDPState(UAVState(1, 24, :S), 28, 30, nothing) MDMA.MDPState(UAVState(2, 24, :S), 28, 30, nothing) … MDMA.MDPState(UAVState(24, 24, :S), 28, 30, nothing) MDMA.MDPState(UAVState(25, 24, :S), 28, 30, nothing); MDMA.MDPState(UAVState(1, 25, :S), 28, 30, nothing) MDMA.MDPState(UAVState(2, 25, :S), 28, 30, nothing) … MDMA.MDPState(UAVState(24, 25, :S), 28, 30, nothing) MDMA.MDPState(UAVState(25, 25, :S), 28, 30, nothing);;; MDMA.MDPState(UAVState(1, 1, :SE), 28, 30, nothing) MDMA.MDPState(UAVState(2, 1, :SE), 28, 30, nothing) … MDMA.MDPState(UAVState(24, 1, :SE), 28, 30, nothing) MDMA.MDPState(UAVState(25, 1, :SE), 28, 30, nothing); MDMA.MDPState(UAVState(1, 2, :SE), 28, 30, nothing) MDMA.MDPState(UAVState(2, 2, :SE), 28, 30, nothing) … MDMA.MDPState(UAVState(24, 2, :SE), 28, 30, nothing) MDMA.MDPState(UAVState(25, 2, :SE), 28, 30, nothing); … ; MDMA.MDPState(UAVState(1, 24, :SE), 28, 30, nothing) MDMA.MDPState(UAVState(2, 24, :SE), 28, 30, nothing) … MDMA.MDPState(UAVState(24, 24, :SE), 28, 30, nothing) MDMA.MDPState(UAVState(25, 24, :SE), 28, 30, nothing); MDMA.MDPState(UAVState(1, 25, :SE), 28, 30, nothing) MDMA.MDPState(UAVState(2, 25, :SE), 28, 30, nothing) … MDMA.MDPState(UAVState(24, 25, :SE), 28, 30, nothing) MDMA.MDPState(UAVState(25, 25, :SE), 28, 30, nothing);;;; MDMA.MDPState(UAVState(1, 1, :E), 29, 30, nothing) MDMA.MDPState(UAVState(2, 1, :E), 29, 30, nothing) … MDMA.MDPState(UAVState(24, 1, :E), 29, 30, nothing) MDMA.MDPState(UAVState(25, 1, :E), 29, 30, nothing); MDMA.MDPState(UAVState(1, 2, :E), 29, 30, nothing) MDMA.MDPState(UAVState(2, 2, :E), 29, 30, nothing) … MDMA.MDPState(UAVState(24, 2, :E), 29, 30, nothing) MDMA.MDPState(UAVState(25, 2, :E), 29, 30, nothing); … ; MDMA.MDPState(UAVState(1, 24, :E), 29, 30, nothing) MDMA.MDPState(UAVState(2, 24, :E), 29, 30, nothing) … MDMA.MDPState(UAVState(24, 24, :E), 29, 30, nothing) MDMA.MDPState(UAVState(25, 24, :E), 29, 30, nothing); MDMA.MDPState(UAVState(1, 25, :E), 29, 30, nothing) MDMA.MDPState(UAVState(2, 25, :E), 29, 30, nothing) … MDMA.MDPState(UAVState(24, 25, :E), 29, 30, nothing) MDMA.MDPState(UAVState(25, 25, :E), 29, 30, nothing);;; MDMA.MDPState(UAVState(1, 1, :NE), 29, 30, nothing) MDMA.MDPState(UAVState(2, 1, :NE), 29, 30, nothing) … MDMA.MDPState(UAVState(24, 1, :NE), 29, 30, nothing) MDMA.MDPState(UAVState(25, 1, :NE), 29, 30, nothing); MDMA.MDPState(UAVState(1, 2, :NE), 29, 30, nothing) MDMA.MDPState(UAVState(2, 2, :NE), 29, 30, nothing) … MDMA.MDPState(UAVState(24, 2, :NE), 29, 30, nothing) MDMA.MDPState(UAVState(25, 2, :NE), 29, 30, nothing); … ; MDMA.MDPState(UAVState(1, 24, :NE), 29, 30, nothing) MDMA.MDPState(UAVState(2, 24, :NE), 29, 30, nothing) … MDMA.MDPState(UAVState(24, 24, :NE), 29, 30, nothing) MDMA.MDPState(UAVState(25, 24, :NE), 29, 30, nothing); MDMA.MDPState(UAVState(1, 25, :NE), 29, 30, nothing) MDMA.MDPState(UAVState(2, 25, :NE), 29, 30, nothing) … MDMA.MDPState(UAVState(24, 25, :NE), 29, 30, nothing) MDMA.MDPState(UAVState(25, 25, :NE), 29, 30, nothing);;; MDMA.MDPState(UAVState(1, 1, :N), 29, 30, nothing) MDMA.MDPState(UAVState(2, 1, :N), 29, 30, nothing) … MDMA.MDPState(UAVState(24, 1, :N), 29, 30, nothing) MDMA.MDPState(UAVState(25, 1, :N), 29, 30, nothing); MDMA.MDPState(UAVState(1, 2, :N), 29, 30, nothing) MDMA.MDPState(UAVState(2, 2, :N), 29, 30, nothing) … MDMA.MDPState(UAVState(24, 2, :N), 29, 30, nothing) MDMA.MDPState(UAVState(25, 2, :N), 29, 30, nothing); … ; MDMA.MDPState(UAVState(1, 24, :N), 29, 30, nothing) MDMA.MDPState(UAVState(2, 24, :N), 29, 30, nothing) … MDMA.MDPState(UAVState(24, 24, :N), 29, 30, nothing) MDMA.MDPState(UAVState(25, 24, :N), 29, 30, nothing); MDMA.MDPState(UAVState(1, 25, :N), 29, 30, nothing) MDMA.MDPState(UAVState(2, 25, :N), 29, 30, nothing) … MDMA.MDPState(UAVState(24, 25, :N), 29, 30, nothing) MDMA.MDPState(UAVState(25, 25, :N), 29, 30, nothing);;; MDMA.MDPState(UAVState(1, 1, :NW), 29, 30, nothing) MDMA.MDPState(UAVState(2, 1, :NW), 29, 30, nothing) … MDMA.MDPState(UAVState(24, 1, :NW), 29, 30, nothing) MDMA.MDPState(UAVState(25, 1, :NW), 29, 30, nothing); MDMA.MDPState(UAVState(1, 2, :NW), 29, 30, nothing) MDMA.MDPState(UAVState(2, 2, :NW), 29, 30, nothing) … MDMA.MDPState(UAVState(24, 2, :NW), 29, 30, nothing) MDMA.MDPState(UAVState(25, 2, :NW), 29, 30, nothing); … ; MDMA.MDPState(UAVState(1, 24, :NW), 29, 30, nothing) MDMA.MDPState(UAVState(2, 24, :NW), 29, 30, nothing) … MDMA.MDPState(UAVState(24, 24, :NW), 29, 30, nothing) MDMA.MDPState(UAVState(25, 24, :NW), 29, 30, nothing); MDMA.MDPState(UAVState(1, 25, :NW), 29, 30, nothing) MDMA.MDPState(UAVState(2, 25, :NW), 29, 30, nothing) … MDMA.MDPState(UAVState(24, 25, :NW), 29, 30, nothing) MDMA.MDPState(UAVState(25, 25, :NW), 29, 30, nothing);;; MDMA.MDPState(UAVState(1, 1, :W), 29, 30, nothing) MDMA.MDPState(UAVState(2, 1, :W), 29, 30, nothing) … MDMA.MDPState(UAVState(24, 1, :W), 29, 30, nothing) MDMA.MDPState(UAVState(25, 1, :W), 29, 30, nothing); MDMA.MDPState(UAVState(1, 2, :W), 29, 30, nothing) MDMA.MDPState(UAVState(2, 2, :W), 29, 30, nothing) … MDMA.MDPState(UAVState(24, 2, :W), 29, 30, nothing) MDMA.MDPState(UAVState(25, 2, :W), 29, 30, nothing); … ; MDMA.MDPState(UAVState(1, 24, :W), 29, 30, nothing) MDMA.MDPState(UAVState(2, 24, :W), 29, 30, nothing) … MDMA.MDPState(UAVState(24, 24, :W), 29, 30, nothing) MDMA.MDPState(UAVState(25, 24, :W), 29, 30, nothing); MDMA.MDPState(UAVState(1, 25, :W), 29, 30, nothing) MDMA.MDPState(UAVState(2, 25, :W), 29, 30, nothing) … MDMA.MDPState(UAVState(24, 25, :W), 29, 30, nothing) MDMA.MDPState(UAVState(25, 25, :W), 29, 30, nothing);;; MDMA.MDPState(UAVState(1, 1, :SW), 29, 30, nothing) MDMA.MDPState(UAVState(2, 1, :SW), 29, 30, nothing) … MDMA.MDPState(UAVState(24, 1, :SW), 29, 30, nothing) MDMA.MDPState(UAVState(25, 1, :SW), 29, 30, nothing); MDMA.MDPState(UAVState(1, 2, :SW), 29, 30, nothing) MDMA.MDPState(UAVState(2, 2, :SW), 29, 30, nothing) … MDMA.MDPState(UAVState(24, 2, :SW), 29, 30, nothing) MDMA.MDPState(UAVState(25, 2, :SW), 29, 30, nothing); … ; MDMA.MDPState(UAVState(1, 24, :SW), 29, 30, nothing) MDMA.MDPState(UAVState(2, 24, :SW), 29, 30, nothing) … MDMA.MDPState(UAVState(24, 24, :SW), 29, 30, nothing) MDMA.MDPState(UAVState(25, 24, :SW), 29, 30, nothing); MDMA.MDPState(UAVState(1, 25, :SW), 29, 30, nothing) MDMA.MDPState(UAVState(2, 25, :SW), 29, 30, nothing) … MDMA.MDPState(UAVState(24, 25, :SW), 29, 30, nothing) MDMA.MDPState(UAVState(25, 25, :SW), 29, 30, nothing);;; MDMA.MDPState(UAVState(1, 1, :S), 29, 30, nothing) MDMA.MDPState(UAVState(2, 1, :S), 29, 30, nothing) … MDMA.MDPState(UAVState(24, 1, :S), 29, 30, nothing) MDMA.MDPState(UAVState(25, 1, :S), 29, 30, nothing); MDMA.MDPState(UAVState(1, 2, :S), 29, 30, nothing) MDMA.MDPState(UAVState(2, 2, :S), 29, 30, nothing) … MDMA.MDPState(UAVState(24, 2, :S), 29, 30, nothing) MDMA.MDPState(UAVState(25, 2, :S), 29, 30, nothing); … ; MDMA.MDPState(UAVState(1, 24, :S), 29, 30, nothing) MDMA.MDPState(UAVState(2, 24, :S), 29, 30, nothing) … MDMA.MDPState(UAVState(24, 24, :S), 29, 30, nothing) MDMA.MDPState(UAVState(25, 24, :S), 29, 30, nothing); MDMA.MDPState(UAVState(1, 25, :S), 29, 30, nothing) MDMA.MDPState(UAVState(2, 25, :S), 29, 30, nothing) … MDMA.MDPState(UAVState(24, 25, :S), 29, 30, nothing) MDMA.MDPState(UAVState(25, 25, :S), 29, 30, nothing);;; MDMA.MDPState(UAVState(1, 1, :SE), 29, 30, nothing) MDMA.MDPState(UAVState(2, 1, :SE), 29, 30, nothing) … MDMA.MDPState(UAVState(24, 1, :SE), 29, 30, nothing) MDMA.MDPState(UAVState(25, 1, :SE), 29, 30, nothing); MDMA.MDPState(UAVState(1, 2, :SE), 29, 30, nothing) MDMA.MDPState(UAVState(2, 2, :SE), 29, 30, nothing) … MDMA.MDPState(UAVState(24, 2, :SE), 29, 30, nothing) MDMA.MDPState(UAVState(25, 2, :SE), 29, 30, nothing); … ; MDMA.MDPState(UAVState(1, 24, :SE), 29, 30, nothing) MDMA.MDPState(UAVState(2, 24, :SE), 29, 30, nothing) … MDMA.MDPState(UAVState(24, 24, :SE), 29, 30, nothing) MDMA.MDPState(UAVState(25, 24, :SE), 29, 30, nothing); MDMA.MDPState(UAVState(1, 25, :SE), 29, 30, nothing) MDMA.MDPState(UAVState(2, 25, :SE), 29, 30, nothing) … MDMA.MDPState(UAVState(24, 25, :SE), 29, 30, nothing) MDMA.MDPState(UAVState(25, 25, :SE), 29, 30, nothing);;;; MDMA.MDPState(UAVState(1, 1, :E), 30, 30, nothing) MDMA.MDPState(UAVState(2, 1, :E), 30, 30, nothing) … MDMA.MDPState(UAVState(24, 1, :E), 30, 30, nothing) MDMA.MDPState(UAVState(25, 1, :E), 30, 30, nothing); MDMA.MDPState(UAVState(1, 2, :E), 30, 30, nothing) MDMA.MDPState(UAVState(2, 2, :E), 30, 30, nothing) … MDMA.MDPState(UAVState(24, 2, :E), 30, 30, nothing) MDMA.MDPState(UAVState(25, 2, :E), 30, 30, nothing); … ; MDMA.MDPState(UAVState(1, 24, :E), 30, 30, nothing) MDMA.MDPState(UAVState(2, 24, :E), 30, 30, nothing) … MDMA.MDPState(UAVState(24, 24, :E), 30, 30, nothing) MDMA.MDPState(UAVState(25, 24, :E), 30, 30, nothing); MDMA.MDPState(UAVState(1, 25, :E), 30, 30, nothing) MDMA.MDPState(UAVState(2, 25, :E), 30, 30, nothing) … MDMA.MDPState(UAVState(24, 25, :E), 30, 30, nothing) MDMA.MDPState(UAVState(25, 25, :E), 30, 30, nothing);;; MDMA.MDPState(UAVState(1, 1, :NE), 30, 30, nothing) MDMA.MDPState(UAVState(2, 1, :NE), 30, 30, nothing) … MDMA.MDPState(UAVState(24, 1, :NE), 30, 30, nothing) MDMA.MDPState(UAVState(25, 1, :NE), 30, 30, nothing); MDMA.MDPState(UAVState(1, 2, :NE), 30, 30, nothing) MDMA.MDPState(UAVState(2, 2, :NE), 30, 30, nothing) … MDMA.MDPState(UAVState(24, 2, :NE), 30, 30, nothing) MDMA.MDPState(UAVState(25, 2, :NE), 30, 30, nothing); … ; MDMA.MDPState(UAVState(1, 24, :NE), 30, 30, nothing) MDMA.MDPState(UAVState(2, 24, :NE), 30, 30, nothing) … MDMA.MDPState(UAVState(24, 24, :NE), 30, 30, nothing) MDMA.MDPState(UAVState(25, 24, :NE), 30, 30, nothing); MDMA.MDPState(UAVState(1, 25, :NE), 30, 30, nothing) MDMA.MDPState(UAVState(2, 25, :NE), 30, 30, nothing) … MDMA.MDPState(UAVState(24, 25, :NE), 30, 30, nothing) MDMA.MDPState(UAVState(25, 25, :NE), 30, 30, nothing);;; MDMA.MDPState(UAVState(1, 1, :N), 30, 30, nothing) MDMA.MDPState(UAVState(2, 1, :N), 30, 30, nothing) … MDMA.MDPState(UAVState(24, 1, :N), 30, 30, nothing) MDMA.MDPState(UAVState(25, 1, :N), 30, 30, nothing); MDMA.MDPState(UAVState(1, 2, :N), 30, 30, nothing) MDMA.MDPState(UAVState(2, 2, :N), 30, 30, nothing) … MDMA.MDPState(UAVState(24, 2, :N), 30, 30, nothing) MDMA.MDPState(UAVState(25, 2, :N), 30, 30, nothing); … ; MDMA.MDPState(UAVState(1, 24, :N), 30, 30, nothing) MDMA.MDPState(UAVState(2, 24, :N), 30, 30, nothing) … MDMA.MDPState(UAVState(24, 24, :N), 30, 30, nothing) MDMA.MDPState(UAVState(25, 24, :N), 30, 30, nothing); MDMA.MDPState(UAVState(1, 25, :N), 30, 30, nothing) MDMA.MDPState(UAVState(2, 25, :N), 30, 30, nothing) … MDMA.MDPState(UAVState(24, 25, :N), 30, 30, nothing) MDMA.MDPState(UAVState(25, 25, :N), 30, 30, nothing);;; MDMA.MDPState(UAVState(1, 1, :NW), 30, 30, nothing) MDMA.MDPState(UAVState(2, 1, :NW), 30, 30, nothing) … MDMA.MDPState(UAVState(24, 1, :NW), 30, 30, nothing) MDMA.MDPState(UAVState(25, 1, :NW), 30, 30, nothing); MDMA.MDPState(UAVState(1, 2, :NW), 30, 30, nothing) MDMA.MDPState(UAVState(2, 2, :NW), 30, 30, nothing) … MDMA.MDPState(UAVState(24, 2, :NW), 30, 30, nothing) MDMA.MDPState(UAVState(25, 2, :NW), 30, 30, nothing); … ; MDMA.MDPState(UAVState(1, 24, :NW), 30, 30, nothing) MDMA.MDPState(UAVState(2, 24, :NW), 30, 30, nothing) … MDMA.MDPState(UAVState(24, 24, :NW), 30, 30, nothing) MDMA.MDPState(UAVState(25, 24, :NW), 30, 30, nothing); MDMA.MDPState(UAVState(1, 25, :NW), 30, 30, nothing) MDMA.MDPState(UAVState(2, 25, :NW), 30, 30, nothing) … MDMA.MDPState(UAVState(24, 25, :NW), 30, 30, nothing) MDMA.MDPState(UAVState(25, 25, :NW), 30, 30, nothing);;; MDMA.MDPState(UAVState(1, 1, :W), 30, 30, nothing) MDMA.MDPState(UAVState(2, 1, :W), 30, 30, nothing) … MDMA.MDPState(UAVState(24, 1, :W), 30, 30, nothing) MDMA.MDPState(UAVState(25, 1, :W), 30, 30, nothing); MDMA.MDPState(UAVState(1, 2, :W), 30, 30, nothing) MDMA.MDPState(UAVState(2, 2, :W), 30, 30, nothing) … MDMA.MDPState(UAVState(24, 2, :W), 30, 30, nothing) MDMA.MDPState(UAVState(25, 2, :W), 30, 30, nothing); … ; MDMA.MDPState(UAVState(1, 24, :W), 30, 30, nothing) MDMA.MDPState(UAVState(2, 24, :W), 30, 30, nothing) … MDMA.MDPState(UAVState(24, 24, :W), 30, 30, nothing) MDMA.MDPState(UAVState(25, 24, :W), 30, 30, nothing); MDMA.MDPState(UAVState(1, 25, :W), 30, 30, nothing) MDMA.MDPState(UAVState(2, 25, :W), 30, 30, nothing) … MDMA.MDPState(UAVState(24, 25, :W), 30, 30, nothing) MDMA.MDPState(UAVState(25, 25, :W), 30, 30, nothing);;; MDMA.MDPState(UAVState(1, 1, :SW), 30, 30, nothing) MDMA.MDPState(UAVState(2, 1, :SW), 30, 30, nothing) … MDMA.MDPState(UAVState(24, 1, :SW), 30, 30, nothing) MDMA.MDPState(UAVState(25, 1, :SW), 30, 30, nothing); MDMA.MDPState(UAVState(1, 2, :SW), 30, 30, nothing) MDMA.MDPState(UAVState(2, 2, :SW), 30, 30, nothing) … MDMA.MDPState(UAVState(24, 2, :SW), 30, 30, nothing) MDMA.MDPState(UAVState(25, 2, :SW), 30, 30, nothing); … ; MDMA.MDPState(UAVState(1, 24, :SW), 30, 30, nothing) MDMA.MDPState(UAVState(2, 24, :SW), 30, 30, nothing) … MDMA.MDPState(UAVState(24, 24, :SW), 30, 30, nothing) MDMA.MDPState(UAVState(25, 24, :SW), 30, 30, nothing); MDMA.MDPState(UAVState(1, 25, :SW), 30, 30, nothing) MDMA.MDPState(UAVState(2, 25, :SW), 30, 30, nothing) … MDMA.MDPState(UAVState(24, 25, :SW), 30, 30, nothing) MDMA.MDPState(UAVState(25, 25, :SW), 30, 30, nothing);;; MDMA.MDPState(UAVState(1, 1, :S), 30, 30, nothing) MDMA.MDPState(UAVState(2, 1, :S), 30, 30, nothing) … MDMA.MDPState(UAVState(24, 1, :S), 30, 30, nothing) MDMA.MDPState(UAVState(25, 1, :S), 30, 30, nothing); MDMA.MDPState(UAVState(1, 2, :S), 30, 30, nothing) MDMA.MDPState(UAVState(2, 2, :S), 30, 30, nothing) … MDMA.MDPState(UAVState(24, 2, :S), 30, 30, nothing) MDMA.MDPState(UAVState(25, 2, :S), 30, 30, nothing); … ; MDMA.MDPState(UAVState(1, 24, :S), 30, 30, nothing) MDMA.MDPState(UAVState(2, 24, :S), 30, 30, nothing) … MDMA.MDPState(UAVState(24, 24, :S), 30, 30, nothing) MDMA.MDPState(UAVState(25, 24, :S), 30, 30, nothing); MDMA.MDPState(UAVState(1, 25, :S), 30, 30, nothing) MDMA.MDPState(UAVState(2, 25, :S), 30, 30, nothing) … MDMA.MDPState(UAVState(24, 25, :S), 30, 30, nothing) MDMA.MDPState(UAVState(25, 25, :S), 30, 30, nothing);;; MDMA.MDPState(UAVState(1, 1, :SE), 30, 30, nothing) MDMA.MDPState(UAVState(2, 1, :SE), 30, 30, nothing) … MDMA.MDPState(UAVState(24, 1, :SE), 30, 30, nothing) MDMA.MDPState(UAVState(25, 1, :SE), 30, 30, nothing); MDMA.MDPState(UAVState(1, 2, :SE), 30, 30, nothing) MDMA.MDPState(UAVState(2, 2, :SE), 30, 30, nothing) … MDMA.MDPState(UAVState(24, 2, :SE), 30, 30, nothing) MDMA.MDPState(UAVState(25, 2, :SE), 30, 30, nothing); … ; MDMA.MDPState(UAVState(1, 24, :SE), 30, 30, nothing) MDMA.MDPState(UAVState(2, 24, :SE), 30, 30, nothing) … MDMA.MDPState(UAVState(24, 24, :SE), 30, 30, nothing) MDMA.MDPState(UAVState(25, 24, :SE), 30, 30, nothing); MDMA.MDPState(UAVState(1, 25, :SE), 30, 30, nothing) MDMA.MDPState(UAVState(2, 25, :SE), 30, 30, nothing) … MDMA.MDPState(UAVState(24, 25, :SE), 30, 30, nothing) MDMA.MDPState(UAVState(25, 25, :SE), 30, 30, nothing)]), ViewConeSensor(1.5707963267948966, 3.0), 30, 3.0, 100, 0.01))"
      ]
     },
     "execution_count": 3,
     "metadata": {},
     "output_type": "execute_result"
    }
   ],
   "source": [
    "# Set model parameters\n",
    "sensor = ViewConeSensor(pi/2, 3);\n",
    "horizon = 30\n",
    "grid = MDMA_Grid(25,25, horizon);\n",
    "\n",
    "# Setup initial distribution of targets\n",
    "targets = Vector{Target}(undef, 0);\n",
    "push!(targets, Target(grid.width-3,grid.height-3,0,1));\n",
    "push!(targets, Target(grid.width-4,grid.height-2,0,2));\n",
    "push!(targets, Target(grid.width-5,grid.height-3,0,3));\n",
    "initial_state = MDMA.MDPState(UAVState(1, 1, :S), horizon)\n",
    "num_robots = 2\n",
    "robot_states = map(x-> MDMA.random_state(horizon, grid), 1:num_robots)\n",
    "target_trajectories = MDMA.generate_target_trajectories(grid, horizon, targets);\n",
    "\n",
    "move_dist = 3;\n",
    "multi_configs = MultiDroneMultiActorConfigs(num_robots=num_robots, target_trajectories=target_trajectories, grid=grid, sensor=sensor, horizon=horizon, move_dist=move_dist, solver_iterations=100,belres=0.01)\n",
    "coverage = generate_empty_coverage_data(multi_configs)\n",
    "multi_problem = MDMA.MultiRobotTargetCoverageProblem(robot_states, coverage, multi_configs)\n",
    "\n",
    "# model = MDMA.SingleRobotMultiTargetViewCoverageProblem(grid, sensor, horizon, target_trajectories, move_dist, coverage, initial_state)"
   ]
  },
  {
   "cell_type": "code",
   "execution_count": 4,
   "metadata": {
    "scrolled": false
   },
   "outputs": [
    {
     "name": "stdout",
     "output_type": "stream",
     "text": [
      "-1.0-1.0-1.0-1.0-1.0-1.0-1.0-1.0-1.0-1.0-1.0-1.0-1.0-1.0-1.0-1.0-1.0-1.0-1.0-1.0-1.0-1.0-1.0-1.0-1.0-1.0-1.0-1.0-1.0-1.0-1.0-1.0-1.0-1.0-1.0-1.0-1.0-1.0-1.0-1.0-1.0-1.0-1.0-1.0-1.0-1.0-1.0-1.0-1.0-1.0-1.0-1.0-1.0-1.0-1.0-1.0-1.0-1.0-1.0-1.0[Iteration 1   ] residual:          4 | iteration runtime:  40836.535 ms, (      40.8 s total)\n",
      "[Iteration 2   ] residual:          0 | iteration runtime:  38063.446 ms, (      78.9 s total)\n",
      "-1.0-1.0-1.0-1.0-1.0-1.0-1.0-1.01.01.01.01.01.01.01.01.01.01.01.01.01.01.01.01.01.01.01.01.01.01.0-1.0-1.0-1.0-1.0-1.0-1.0-1.0-1.01.01.01.01.01.01.01.01.01.01.01.01.01.01.01.01.01.01.01.01.01.01.0[Iteration 1   ] residual:       3.97 | iteration runtime:  39106.941 ms, (      39.1 s total)\n",
      "[Iteration 2   ] residual:          0 | iteration runtime:  39097.941 ms, (      78.2 s total)\n",
      "objectiveVector{Tuple{Int64, Vector{MDMA.MDPState}}}"
     ]
    },
    {
     "data": {
      "text/plain": [
       "Solution{Tuple{Int64, Vector{MDMA.MDPState}}}(0.0, Tuple{Int64, Vector{MDMA.MDPState}}[(1, [MDMA.MDPState(UAVState(8, 4, :NE), 1, 30, nothing), MDMA.MDPState(UAVState(7, 6, :N), 2, 30, nothing), MDMA.MDPState(UAVState(9, 8, :NW), 3, 30, nothing), MDMA.MDPState(UAVState(11, 10, :W), 4, 30, nothing), MDMA.MDPState(UAVState(13, 12, :SW), 5, 30, nothing), MDMA.MDPState(UAVState(15, 14, :S), 6, 30, nothing), MDMA.MDPState(UAVState(17, 16, :SE), 7, 30, nothing), MDMA.MDPState(UAVState(19, 18, :E), 8, 30, nothing), MDMA.MDPState(UAVState(21, 20, :NE), 9, 30, nothing), MDMA.MDPState(UAVState(19, 22, :E), 10, 30, nothing)  …  MDMA.MDPState(UAVState(19, 22, :NE), 21, 30, nothing), MDMA.MDPState(UAVState(19, 22, :E), 22, 30, nothing), MDMA.MDPState(UAVState(19, 22, :NE), 23, 30, nothing), MDMA.MDPState(UAVState(19, 22, :E), 24, 30, nothing), MDMA.MDPState(UAVState(19, 22, :NE), 25, 30, nothing), MDMA.MDPState(UAVState(19, 22, :E), 26, 30, nothing), MDMA.MDPState(UAVState(19, 22, :NE), 27, 30, nothing), MDMA.MDPState(UAVState(19, 22, :E), 28, 30, nothing), MDMA.MDPState(UAVState(19, 22, :NE), 29, 30, nothing), MDMA.MDPState(UAVState(19, 22, :E), 30, 30, nothing)]), (2, [MDMA.MDPState(UAVState(22, 3, :NE), 1, 30, nothing), MDMA.MDPState(UAVState(20, 1, :N), 2, 30, nothing), MDMA.MDPState(UAVState(18, 1, :NW), 3, 30, nothing), MDMA.MDPState(UAVState(16, 1, :W), 4, 30, nothing), MDMA.MDPState(UAVState(14, 1, :SW), 5, 30, nothing), MDMA.MDPState(UAVState(12, 1, :S), 6, 30, nothing), MDMA.MDPState(UAVState(10, 1, :SE), 7, 30, nothing), MDMA.MDPState(UAVState(8, 1, :E), 8, 30, nothing), MDMA.MDPState(UAVState(6, 1, :NE), 9, 30, nothing), MDMA.MDPState(UAVState(4, 1, :N), 10, 30, nothing)  …  MDMA.MDPState(UAVState(1, 1, :SW), 21, 30, nothing), MDMA.MDPState(UAVState(1, 1, :S), 22, 30, nothing), MDMA.MDPState(UAVState(1, 1, :SE), 23, 30, nothing), MDMA.MDPState(UAVState(1, 1, :E), 24, 30, nothing), MDMA.MDPState(UAVState(1, 1, :NE), 25, 30, nothing), MDMA.MDPState(UAVState(1, 1, :N), 26, 30, nothing), MDMA.MDPState(UAVState(1, 1, :NW), 27, 30, nothing), MDMA.MDPState(UAVState(1, 1, :W), 28, 30, nothing), MDMA.MDPState(UAVState(1, 1, :SW), 29, 30, nothing), MDMA.MDPState(UAVState(1, 1, :S), 30, 30, nothing)])])"
      ]
     },
     "execution_count": 4,
     "metadata": {},
     "output_type": "execute_result"
    }
   ],
   "source": [
    "# policy = MDMA.solve_single_robot(model)\n",
    "\n",
    "# Will need a grid for each robot\n",
    "\n",
    "solution = solve_sequential(multi_problem)"
   ]
  },
  {
   "cell_type": "code",
   "execution_count": 5,
   "metadata": {},
   "outputs": [
    {
     "data": {
      "text/html": [
       "# 5 methods for generic function <b>solve_block</b>:<ul><li> solve_block(p::<b>ExplicitPartitionProblem</b>, block_index::<b>Integer</b>, selections::<b>Vector</b>) in SubmodularMaximization at <a href=\"file:///airlab/SubmodularMaximization.jl\" target=\"_blank\">/airlab/SubmodularMaximization.jl:171</a></li> <li> solve_block(p::<b>MultiRobotTargetTrackingProblem</b>, block::<b>Integer</b>, selections::<b>Vector</b>) in SubmodularMaximization at <a href=\"file:///airlab/src/target_tracking/multi_robot_target_tracking_problem.jl\" target=\"_blank\">/airlab/src/target_tracking/multi_robot_target_tracking_problem.jl:151</a></li> <li> solve_block(p::<b>SubmodularMaximization.MultiRobotTargetCoverageProblem</b>, block::<b>Integer</b>, selections::<b>Vector</b>) in SubmodularMaximization at <a href=\"file:///airlab/src/target_tracking/multi_robot_target_coverage_problem.jl\" target=\"_blank\">/airlab/src/target_tracking/multi_robot_target_coverage_problem.jl:99</a></li> <li> solve_block(p::<b>MDMA.MultiRobotTargetCoverageProblem</b>, block::<b>Integer</b>, selections::<b>Vector{Tuple{Int64, Vector{MDMA.MDPState}}}</b>) in MDMA at <a href=\"file:///airlab/src/mdma_greedy/MDMA_MultiAgent.jl\" target=\"_blank\">/airlab/src/mdma_greedy/MDMA_MultiAgent.jl:173</a></li> <li> solve_block(p::<b>PartitionProblem</b>, block::<b>Integer</b>, selections::<b>Vector</b>) in SubmodularMaximization at <a href=\"file:///airlab/SubmodularMaximization.jl\" target=\"_blank\">/airlab/SubmodularMaximization.jl:123</a></li> </ul>"
      ],
      "text/plain": [
       "# 5 methods for generic function \"solve_block\":\n",
       "[1] solve_block(p::ExplicitPartitionProblem, block_index::Integer, selections::Vector) in SubmodularMaximization at /airlab/SubmodularMaximization.jl:171\n",
       "[2] solve_block(p::MultiRobotTargetTrackingProblem, block::Integer, selections::Vector) in SubmodularMaximization at /airlab/src/target_tracking/multi_robot_target_tracking_problem.jl:151\n",
       "[3] solve_block(p::SubmodularMaximization.MultiRobotTargetCoverageProblem, block::Integer, selections::Vector) in SubmodularMaximization at /airlab/src/target_tracking/multi_robot_target_coverage_problem.jl:99\n",
       "[4] solve_block(p::MDMA.MultiRobotTargetCoverageProblem, block::Integer, selections::Vector{Tuple{Int64, Vector{MDMA.MDPState}}}) in MDMA at /airlab/src/mdma_greedy/MDMA_MultiAgent.jl:173\n",
       "[5] solve_block(p::PartitionProblem, block::Integer, selections::Vector) in SubmodularMaximization at /airlab/SubmodularMaximization.jl:123"
      ]
     },
     "execution_count": 5,
     "metadata": {},
     "output_type": "execute_result"
    }
   ],
   "source": [
    "methods(solve_block)"
   ]
  },
  {
   "cell_type": "code",
   "execution_count": 6,
   "metadata": {},
   "outputs": [
    {
     "name": "stdout",
     "output_type": "stream",
     "text": [
      "Writing to output/01.png\n",
      "Writing to output/02.png\n",
      "Writing to output/03.png\n",
      "Writing to output/04.png\n",
      "Writing to output/05.png\n",
      "Writing to output/06.png\n",
      "Writing to output/07.png\n",
      "Writing to output/08.png\n",
      "Writing to output/09.png\n",
      "Writing to output/10.png\n",
      "Writing to output/11.png\n",
      "Writing to output/12.png\n",
      "Writing to output/13.png\n",
      "Writing to output/14.png\n",
      "Writing to output/15.png\n",
      "Writing to output/16.png\n",
      "Writing to output/17.png\n",
      "Writing to output/18.png\n",
      "Writing to output/19.png\n",
      "Writing to output/20.png\n",
      "Writing to output/21.png\n",
      "Writing to output/22.png\n",
      "Writing to output/23.png\n",
      "Writing to output/24.png\n",
      "Writing to output/25.png\n",
      "Writing to output/26.png\n",
      "Writing to output/27.png\n",
      "Writing to output/28.png\n",
      "Writing to output/29.png\n",
      "Writing to output/30.png\n"
     ]
    }
   ],
   "source": [
    "# Type signature of RenderConf for reference\n",
    "#struct RenderConf\n",
    "#    ppm::Float64 # Pixels per meter for grid size\n",
    "#    buf::Int64   # Buffer grid surrounding the image\n",
    "#    draw_paths::Bool # Render paths\n",
    "#    draw_old_states::Bool # Set to false if you want only current state shown\n",
    "#end\n",
    "paths = Vector{Vector{MDMA.MDPState}}(undef, 0)\n",
    "for sol in solution.elements\n",
    "    push!(paths, sol[2])\n",
    "end\n",
    "draw_frames(RenderConf(50, 4, true, false), multi_configs, paths)\n"
   ]
  },
  {
   "cell_type": "code",
   "execution_count": 7,
   "metadata": {},
   "outputs": [
    {
     "data": {
      "text/plain": [
       "30-element Vector{MDMA.MDPState}:\n",
       " MDMA.MDPState(UAVState(22, 3, :NE), 1, 30, nothing)\n",
       " MDMA.MDPState(UAVState(20, 1, :N), 2, 30, nothing)\n",
       " MDMA.MDPState(UAVState(18, 1, :NW), 3, 30, nothing)\n",
       " MDMA.MDPState(UAVState(16, 1, :W), 4, 30, nothing)\n",
       " MDMA.MDPState(UAVState(14, 1, :SW), 5, 30, nothing)\n",
       " MDMA.MDPState(UAVState(12, 1, :S), 6, 30, nothing)\n",
       " MDMA.MDPState(UAVState(10, 1, :SE), 7, 30, nothing)\n",
       " MDMA.MDPState(UAVState(8, 1, :E), 8, 30, nothing)\n",
       " MDMA.MDPState(UAVState(6, 1, :NE), 9, 30, nothing)\n",
       " MDMA.MDPState(UAVState(4, 1, :N), 10, 30, nothing)\n",
       " MDMA.MDPState(UAVState(2, 1, :NW), 11, 30, nothing)\n",
       " MDMA.MDPState(UAVState(1, 1, :W), 12, 30, nothing)\n",
       " MDMA.MDPState(UAVState(1, 1, :SW), 13, 30, nothing)\n",
       " ⋮\n",
       " MDMA.MDPState(UAVState(1, 1, :NW), 19, 30, nothing)\n",
       " MDMA.MDPState(UAVState(1, 1, :W), 20, 30, nothing)\n",
       " MDMA.MDPState(UAVState(1, 1, :SW), 21, 30, nothing)\n",
       " MDMA.MDPState(UAVState(1, 1, :S), 22, 30, nothing)\n",
       " MDMA.MDPState(UAVState(1, 1, :SE), 23, 30, nothing)\n",
       " MDMA.MDPState(UAVState(1, 1, :E), 24, 30, nothing)\n",
       " MDMA.MDPState(UAVState(1, 1, :NE), 25, 30, nothing)\n",
       " MDMA.MDPState(UAVState(1, 1, :N), 26, 30, nothing)\n",
       " MDMA.MDPState(UAVState(1, 1, :NW), 27, 30, nothing)\n",
       " MDMA.MDPState(UAVState(1, 1, :W), 28, 30, nothing)\n",
       " MDMA.MDPState(UAVState(1, 1, :SW), 29, 30, nothing)\n",
       " MDMA.MDPState(UAVState(1, 1, :S), 30, 30, nothing)"
      ]
     },
     "execution_count": 7,
     "metadata": {},
     "output_type": "execute_result"
    }
   ],
   "source": [
    "solution.elements[2][2]"
   ]
  },
  {
   "cell_type": "code",
   "execution_count": 8,
   "metadata": {},
   "outputs": [
    {
     "data": {
      "text/plain": [
       "30-element Vector{MDMA.MDPState}:\n",
       " MDMA.MDPState(UAVState(8, 4, :NE), 1, 30, nothing)\n",
       " MDMA.MDPState(UAVState(7, 6, :N), 2, 30, nothing)\n",
       " MDMA.MDPState(UAVState(9, 8, :NW), 3, 30, nothing)\n",
       " MDMA.MDPState(UAVState(11, 10, :W), 4, 30, nothing)\n",
       " MDMA.MDPState(UAVState(13, 12, :SW), 5, 30, nothing)\n",
       " MDMA.MDPState(UAVState(15, 14, :S), 6, 30, nothing)\n",
       " MDMA.MDPState(UAVState(17, 16, :SE), 7, 30, nothing)\n",
       " MDMA.MDPState(UAVState(19, 18, :E), 8, 30, nothing)\n",
       " MDMA.MDPState(UAVState(21, 20, :NE), 9, 30, nothing)\n",
       " MDMA.MDPState(UAVState(19, 22, :E), 10, 30, nothing)\n",
       " MDMA.MDPState(UAVState(19, 22, :NE), 11, 30, nothing)\n",
       " MDMA.MDPState(UAVState(19, 22, :E), 12, 30, nothing)\n",
       " MDMA.MDPState(UAVState(19, 22, :NE), 13, 30, nothing)\n",
       " ⋮\n",
       " MDMA.MDPState(UAVState(19, 22, :NE), 19, 30, nothing)\n",
       " MDMA.MDPState(UAVState(19, 22, :E), 20, 30, nothing)\n",
       " MDMA.MDPState(UAVState(19, 22, :NE), 21, 30, nothing)\n",
       " MDMA.MDPState(UAVState(19, 22, :E), 22, 30, nothing)\n",
       " MDMA.MDPState(UAVState(19, 22, :NE), 23, 30, nothing)\n",
       " MDMA.MDPState(UAVState(19, 22, :E), 24, 30, nothing)\n",
       " MDMA.MDPState(UAVState(19, 22, :NE), 25, 30, nothing)\n",
       " MDMA.MDPState(UAVState(19, 22, :E), 26, 30, nothing)\n",
       " MDMA.MDPState(UAVState(19, 22, :NE), 27, 30, nothing)\n",
       " MDMA.MDPState(UAVState(19, 22, :E), 28, 30, nothing)\n",
       " MDMA.MDPState(UAVState(19, 22, :NE), 29, 30, nothing)\n",
       " MDMA.MDPState(UAVState(19, 22, :E), 30, 30, nothing)"
      ]
     },
     "execution_count": 8,
     "metadata": {},
     "output_type": "execute_result"
    }
   ],
   "source": [
    "solution.elements[1][2]"
   ]
  },
  {
   "cell_type": "code",
   "execution_count": 9,
   "metadata": {},
   "outputs": [
    {
     "data": {
      "text/plain": [
       "0.0"
      ]
     },
     "execution_count": 9,
     "metadata": {},
     "output_type": "execute_result"
    }
   ],
   "source": [
    "solution.value"
   ]
  },
  {
   "cell_type": "code",
   "execution_count": null,
   "metadata": {},
   "outputs": [],
   "source": []
  }
 ],
 "metadata": {
  "kernelspec": {
   "display_name": "Julia 1.8.2",
   "language": "julia",
   "name": "julia-1.8"
  },
  "language_info": {
   "file_extension": ".jl",
   "mimetype": "application/julia",
   "name": "julia",
   "version": "1.8.2"
  }
 },
 "nbformat": 4,
 "nbformat_minor": 2
}
