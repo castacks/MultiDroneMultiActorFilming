{
 "cells": [
  {
   "cell_type": "code",
   "execution_count": 1,
   "metadata": {
    "scrolled": true
   },
   "outputs": [],
   "source": [
    "using Revise\n",
    "using POMDPs\n",
    "using DiscreteValueIteration\n",
    "using POMDPTools\n",
    "using SubmodularMaximization\n",
    "# using Dates\n",
    "# using Profile"
   ]
  },
  {
   "cell_type": "code",
   "execution_count": 2,
   "metadata": {
    "scrolled": true
   },
   "outputs": [
    {
     "name": "stderr",
     "output_type": "stream",
     "text": [
      "┌ Info: Precompiling MDMA [top-level]\n",
      "└ @ Base loading.jl:1664\n"
     ]
    },
    {
     "name": "stdout",
     "output_type": "stream",
     "text": [
      "\u001b[0m\u001b[1mTest Summary: | \u001b[22m\u001b[32m\u001b[1mPass  \u001b[22m\u001b[39m\u001b[36m\u001b[1mTotal  \u001b[22m\u001b[39m\u001b[0m\u001b[1mTime\u001b[22m\n",
      "detectTarget  | \u001b[32m  30  \u001b[39m\u001b[36m   30  \u001b[39m\u001b[0m0.4s\n",
      "\u001b[0m\u001b[1mTest Summary:        |\u001b[22m\u001b[0m\u001b[1mTime\u001b[22m\n",
      "single_robot_planner | \u001b[36mNone  \u001b[39m\u001b[0m0.0s\n",
      "\u001b[0m\u001b[1mTest Summary:   |\u001b[22m\u001b[0m\u001b[1mTime\u001b[22m\n",
      "test_file_parse | \u001b[36mNone  \u001b[39m\u001b[0m0.4s\n"
     ]
    }
   ],
   "source": [
    "using MDMA"
   ]
  },
  {
   "cell_type": "code",
   "execution_count": 10,
   "metadata": {
    "scrolled": true
   },
   "outputs": [
    {
     "data": {
      "text/plain": [
       "MDMA.MultiRobotTargetCoverageProblem(MDMA.MDPState[MDMA.MDPState(UAVState(19, 10, :E), 1, 100, nothing), MDMA.MDPState(UAVState(28, 27, :SW), 1, 100, nothing), MDMA.MDPState(UAVState(21, 24, :NE), 1, 100, nothing)], [-1.0 -1.0 -1.0 -1.0; -1.0 -1.0 -1.0 -1.0; … ; -1.0 -1.0 -1.0 -1.0; -1.0 -1.0 -1.0 -1.0], MultiDroneMultiActorConfigs(3, Target[Target(7.120236873626709, 8.920750617980957, 0.0560322143137455, 1.0, Face[Face([0.45071536981986254, 0.8926677183634146], [0.45071536981986254, 0.8926677183634146], 0.1, 1.0), Face([-0.5477152363310783, 0.8366648193218064], [-0.5477152363310783, 0.8366648193218064], 0.1, 1.0), Face([-0.998430606150941, -0.05600289904160828], [-0.998430606150941, -0.05600289904160828], 0.1, 1.0), Face([-0.4507153698198628, -0.8926677183634145], [-0.4507153698198628, -0.8926677183634145], 0.1, 1.0), Face([0.5477152363310779, -0.8366648193218067], [0.5477152363310779, -0.8366648193218067], 0.1, 1.0), Face([0.998430606150941, 0.056002899041608156], [0.998430606150941, 0.056002899041608156], 0.1, 1.0)], 0x00000001, 0x00000000) Target(7.731724739074707, 8.034126281738281, -0.05347530543804169, 1.0, Face[Face([0.5455741725388803, 0.8380625407799326], [0.5455741725388803, 0.8380625407799326], 0.1, 1.0), Face([-0.45299636400611343, 0.8915123634573111], [-0.45299636400611343, 0.8915123634573111], 0.1, 1.0), Face([-0.9985705365449938, 0.053449822677378495], [-0.9985705365449938, 0.053449822677378495], 0.1, 1.0), Face([-0.5455741725388805, -0.8380625407799324], [-0.5455741725388805, -0.8380625407799324], 0.1, 1.0), Face([0.45299636400611293, -0.8915123634573113], [0.45299636400611293, -0.8915123634573113], 0.1, 1.0), Face([0.9985705365449938, -0.05344982267737861], [0.9985705365449938, -0.05344982267737861], 0.1, 1.0)], 0x00000002, 0x00000000) Target(9.525184631347656, 7.4387688636779785, 0.11454527825117111, 1.0, Face[Face([0.3977410922717211, 0.917497696737435], [0.3977410922717211, 0.917497696737435], 0.1, 1.0), Face([-0.5957057671524689, 0.8032027384049986], [-0.5957057671524689, 0.8032027384049986], 0.1, 1.0), Face([-0.9934468594241901, -0.11429495833243654], [-0.9934468594241901, -0.11429495833243654], 0.1, 1.0), Face([-0.39774109227172144, -0.9174976967374349], [-0.39774109227172144, -0.9174976967374349], 0.1, 1.0), Face([0.5957057671524685, -0.8032027384049989], [0.5957057671524685, -0.8032027384049989], 0.1, 1.0), Face([0.9934468594241902, 0.11429495833243641], [0.9934468594241902, 0.11429495833243641], 0.1, 1.0)], 0x00000003, 0x00000000) Target(5.993783950805664, 10.511630058288574, 0.11417248100042343, 1.0, Face[Face([0.39808310524412077, 0.9173493561992608], [0.39808310524412077, 0.9173493561992608], 0.1, 1.0), Face([-0.5954062939917992, 0.8034247600584333], [-0.5954062939917992, 0.8034247600584333], 0.1, 1.0), Face([-0.9934893992359201, -0.1139245961408275], [-0.9934893992359201, -0.1139245961408275], 0.1, 1.0), Face([-0.3980831052441211, -0.9173493561992606], [-0.3980831052441211, -0.9173493561992606], 0.1, 1.0), Face([0.5954062939917987, -0.8034247600584337], [0.5954062939917987, -0.8034247600584337], 0.1, 1.0), Face([0.9934893992359201, 0.1139245961408274], [0.9934893992359201, 0.1139245961408274], 0.1, 1.0)], 0x00000004, 0x00000000); Target(7.441867828369141, 8.98357105255127, 0.09214405715465546, 1.0, Face[Face([0.41819265011141366, 0.9083583584647597], [0.41819265011141366, 0.9083583584647597], 0.1, 1.0), Face([-0.5775650891147064, 0.8163446379048014], [-0.5775650891147064, 0.8163446379048014], 0.1, 1.0), Face([-0.9957577392261201, -0.09201372055995835], [-0.9957577392261201, -0.09201372055995835], 0.1, 1.0), Face([-0.41819265011141393, -0.9083583584647595], [-0.41819265011141393, -0.9083583584647595], 0.1, 1.0), Face([0.5775650891147059, -0.8163446379048017], [0.5775650891147059, -0.8163446379048017], 0.1, 1.0), Face([0.9957577392261202, 0.09201372055995823], [0.9957577392261202, 0.09201372055995823], 0.1, 1.0)], 0x00000001, 0x00000000) Target(7.981118202209473, 8.150958061218262, -0.07956042140722275, 1.0, Face[Face([0.5672470491489899, 0.8235476824275346], [0.5672470491489899, 0.8235476824275346], 0.1, 1.0), Face([-0.4295896896355493, 0.9030241959985527], [-0.4295896896355493, 0.9030241959985527], 0.1, 1.0), Face([-0.9968367387845393, 0.07947651357101801], [-0.9968367387845393, 0.07947651357101801], 0.1, 1.0), Face([-0.5672470491489902, -0.8235476824275344], [-0.5672470491489902, -0.8235476824275344], 0.1, 1.0), Face([0.4295896896355487, -0.9030241959985529], [0.4295896896355487, -0.9030241959985529], 0.1, 1.0), Face([0.9968367387845393, -0.07947651357101813], [0.9968367387845393, -0.07947651357101813], 0.1, 1.0)], 0x00000002, 0x00000000) Target(9.7227783203125, 7.572312355041504, 0.08361295610666275, 1.0, Face[Face([0.4259266351846472, 0.9047577031671432], [0.4259266351846472, 0.9047577031671432], 0.1, 1.0), Face([-0.5705798376200828, 0.821242137801903], [-0.5705798376200828, 0.821242137801903], 0.1, 1.0), Face([-0.9965064728047301, -0.08351556536524021], [-0.9965064728047301, -0.08351556536524021], 0.1, 1.0), Face([-0.4259266351846475, -0.9047577031671431], [-0.4259266351846475, -0.9047577031671431], 0.1, 1.0), Face([0.5705798376200824, -0.8212421378019034], [0.5705798376200824, -0.8212421378019034], 0.1, 1.0), Face([0.9965064728047301, 0.08351556536524009], [0.9965064728047301, 0.08351556536524009], 0.1, 1.0)], 0x00000003, 0x00000000) Target(6.202615261077881, 10.46102523803711, 0.17583298683166504, 1.0, Face[Face([0.34079819631304215, 0.940136473810998], [0.34079819631304215, 0.940136473810998], 0.1, 1.0), Face([-0.6437829711881267, 0.7652081324765098], [-0.6437829711881267, 0.7652081324765098], 0.1, 1.0), Face([-0.9845811675011689, -0.17492834133448826], [-0.9845811675011689, -0.17492834133448826], 0.1, 1.0), Face([-0.3407981963130425, -0.9401364738109979], [-0.3407981963130425, -0.9401364738109979], 0.1, 1.0), Face([0.6437829711881262, -0.7652081324765101], [0.6437829711881262, -0.7652081324765101], 0.1, 1.0), Face([0.9845811675011689, 0.17492834133448812], [0.9845811675011689, 0.17492834133448812], 0.1, 1.0)], 0x00000004, 0x00000000); … ; Target(20.586668014526367, 16.786548614501953, 2.9858715534210205, 1.0, Face[Face([-0.6282640325802877, -0.7780001962505891], [-0.6282640325802877, -0.7780001962505891], 0.1, 1.0), Face([0.35963591781214477, -0.9330927106238781], [0.35963591781214477, -0.9330927106238781], 0.1, 1.0), Face([0.9878999503924328, -0.15509251437328864], [0.9878999503924328, -0.15509251437328864], 0.1, 1.0), Face([0.6282640325802878, 0.778000196250589], [0.6282640325802878, 0.778000196250589], 0.1, 1.0), Face([-0.35963591781214466, 0.9330927106238781], [-0.35963591781214466, 0.9330927106238781], 0.1, 1.0), Face([-0.9878999503924328, 0.15509251437328875], [-0.9878999503924328, 0.15509251437328875], 0.1, 1.0)], 0x00000001, 0x00000000) Target(20.277143478393555, 18.07228660583496, 2.7606143951416016, 1.0, Face[Face([-0.7861638246443717, -0.6180181557369764], [-0.7861638246443717, -0.6180181557369764], 0.1, 1.0), Face([0.14213751054604287, -0.9898469215468488], [0.14213751054604287, -0.9898469215468488], 0.1, 1.0), Face([0.928301335190415, -0.37182876580987223], [0.928301335190415, -0.37182876580987223], 0.1, 1.0), Face([0.7861638246443717, 0.6180181557369763], [0.7861638246443717, 0.6180181557369763], 0.1, 1.0), Face([-0.14213751054604273, 0.9898469215468488], [-0.14213751054604273, 0.9898469215468488], 0.1, 1.0), Face([-0.9283013351904149, 0.37182876580987234], [-0.9283013351904149, 0.37182876580987234], 0.1, 1.0)], 0x00000002, 0x00000000) Target(19.339256286621094, 8.471741676330566, 2.431137800216675, 1.0, Face[Face([-0.9438359305212185, -0.3304144915967603], [-0.9438359305212185, -0.3304144915967603], 0.1, 1.0), Face([-0.18577062175929523, -0.9825931386342798], [-0.18577062175929523, -0.9825931386342798], 0.1, 1.0), Face([0.7580653087619237, -0.6521786470375194], [0.7580653087619237, -0.6521786470375194], 0.1, 1.0), Face([0.9438359305212185, 0.3304144915967602], [0.9438359305212185, 0.3304144915967602], 0.1, 1.0), Face([0.18577062175929537, 0.9825931386342797], [0.18577062175929537, 0.9825931386342797], 0.1, 1.0), Face([-0.7580653087619237, 0.6521786470375195], [-0.7580653087619237, 0.6521786470375195], 0.1, 1.0)], 0x00000003, 0x00000000) Target(5.614497661590576, 21.56414031982422, -1.4358431100845337, 1.0, Face[Face([0.9254231541419758, -0.37893533192078677], [0.9254231541419758, -0.37893533192078677], 0.1, 1.0), Face([0.7908792009058776, 0.61197229477688], [0.7908792009058776, 0.61197229477688], 0.1, 1.0), Face([-0.1345439532360983, 0.9909076266976669], [-0.1345439532360983, 0.9909076266976669], 0.1, 1.0), Face([-0.9254231541419757, 0.37893533192078704], [-0.9254231541419757, 0.37893533192078704], 0.1, 1.0), Face([-0.7908792009058779, -0.6119722947768795], [-0.7908792009058779, -0.6119722947768795], 0.1, 1.0), Face([0.13454395323609816, -0.9909076266976669], [0.13454395323609816, -0.9909076266976669], 0.1, 1.0)], 0x00000004, 0x00000000); Target(20.258981704711914, 16.792137145996094, 2.939169406890869, 1.0, Face[Face([-0.6639000792966221, -0.7478212919608126], [-0.6639000792966221, -0.7478212919608126], 0.1, 1.0), Face([0.315682196680652, -0.9488649802257844], [0.315682196680652, -0.9488649802257844], 0.1, 1.0), Face([0.9795822759772744, -0.2010436882649714], [0.9795822759772744, -0.2010436882649714], 0.1, 1.0), Face([0.6639000792966221, 0.7478212919608126], [0.6639000792966221, 0.7478212919608126], 0.1, 1.0), Face([-0.3156821966806519, 0.9488649802257844], [-0.3156821966806519, 0.9488649802257844], 0.1, 1.0), Face([-0.9795822759772744, 0.20104368826497152], [-0.9795822759772744, 0.20104368826497152], 0.1, 1.0)], 0x00000001, 0x00000000) Target(20.00397491455078, 18.036968231201172, 2.7492237091064453, 1.0, Face[Face([-0.7931523222578644, -0.6090233112919052], [-0.7931523222578644, -0.6090233112919052], 0.1, 1.0), Face([0.1308534979467756, -0.9914017157918849], [0.1308534979467756, -0.9914017157918849], 0.1, 1.0), Face([0.9240058202046404, -0.3823784044999794], [0.9240058202046404, -0.3823784044999794], 0.1, 1.0), Face([0.7931523222578645, 0.6090233112919051], [0.7931523222578645, 0.6090233112919051], 0.1, 1.0), Face([-0.13085349794677545, 0.9914017157918849], [-0.13085349794677545, 0.9914017157918849], 0.1, 1.0), Face([-0.9240058202046403, 0.3823784044999795], [-0.9240058202046403, 0.3823784044999795], 0.1, 1.0)], 0x00000002, 0x00000000) Target(19.10629653930664, 8.517923355102539, 2.3674163818359375, 1.0, Face[Face([-0.9629606286760883, -0.2696420360770046], [-0.9629606286760883, -0.2696420360770046], 0.1, 1.0), Face([-0.24796346116719842, -0.9687693853162286], [-0.24796346116719842, -0.9687693853162286], 0.1, 1.0), Face([0.7149971675088904, -0.6991273492392238], [0.7149971675088904, -0.6991273492392238], 0.1, 1.0), Face([0.9629606286760884, 0.2696420360770045], [0.9629606286760884, 0.2696420360770045], 0.1, 1.0), Face([0.24796346116719853, 0.9687693853162285], [0.24796346116719853, 0.9687693853162285], 0.1, 1.0), Face([-0.7149971675088903, 0.6991273492392239], [-0.7149971675088903, 0.6991273492392239], 0.1, 1.0)], 0x00000003, 0x00000000) Target(5.546657562255859, 21.359756469726562, -1.367480993270874, 1.0, Face[Face([0.9491462185546895, -0.31483560123234733], [0.9491462185546895, -0.31483560123234733], 0.1, 1.0), Face([0.7472287379603049, 0.6645669365581243], [0.7472287379603049, 0.6645669365581243], 0.1, 1.0), Face([-0.20191748059438466, 0.9794025377904717], [-0.20191748059438466, 0.9794025377904717], 0.1, 1.0), Face([-0.9491462185546894, 0.3148356012323476], [-0.9491462185546894, 0.3148356012323476], 0.1, 1.0), Face([-0.7472287379603053, -0.6645669365581238], [-0.7472287379603053, -0.6645669365581238], 0.1, 1.0), Face([0.20191748059438455, -0.9794025377904717], [0.20191748059438455, -0.9794025377904717], 0.1, 1.0)], 0x00000004, 0x00000000)], MDMA_Grid(29, 29, 8, 100, [MDMA.MDPState(UAVState(1, 1, :E), 1, 100, nothing) MDMA.MDPState(UAVState(2, 1, :E), 1, 100, nothing) … MDMA.MDPState(UAVState(28, 1, :E), 1, 100, nothing) MDMA.MDPState(UAVState(29, 1, :E), 1, 100, nothing); MDMA.MDPState(UAVState(1, 2, :E), 1, 100, nothing) MDMA.MDPState(UAVState(2, 2, :E), 1, 100, nothing) … MDMA.MDPState(UAVState(28, 2, :E), 1, 100, nothing) MDMA.MDPState(UAVState(29, 2, :E), 1, 100, nothing); … ; MDMA.MDPState(UAVState(1, 28, :E), 1, 100, nothing) MDMA.MDPState(UAVState(2, 28, :E), 1, 100, nothing) … MDMA.MDPState(UAVState(28, 28, :E), 1, 100, nothing) MDMA.MDPState(UAVState(29, 28, :E), 1, 100, nothing); MDMA.MDPState(UAVState(1, 29, :E), 1, 100, nothing) MDMA.MDPState(UAVState(2, 29, :E), 1, 100, nothing) … MDMA.MDPState(UAVState(28, 29, :E), 1, 100, nothing) MDMA.MDPState(UAVState(29, 29, :E), 1, 100, nothing);;; MDMA.MDPState(UAVState(1, 1, :NE), 1, 100, nothing) MDMA.MDPState(UAVState(2, 1, :NE), 1, 100, nothing) … MDMA.MDPState(UAVState(28, 1, :NE), 1, 100, nothing) MDMA.MDPState(UAVState(29, 1, :NE), 1, 100, nothing); MDMA.MDPState(UAVState(1, 2, :NE), 1, 100, nothing) MDMA.MDPState(UAVState(2, 2, :NE), 1, 100, nothing) … MDMA.MDPState(UAVState(28, 2, :NE), 1, 100, nothing) MDMA.MDPState(UAVState(29, 2, :NE), 1, 100, nothing); … ; MDMA.MDPState(UAVState(1, 28, :NE), 1, 100, nothing) MDMA.MDPState(UAVState(2, 28, :NE), 1, 100, nothing) … MDMA.MDPState(UAVState(28, 28, :NE), 1, 100, nothing) MDMA.MDPState(UAVState(29, 28, :NE), 1, 100, nothing); MDMA.MDPState(UAVState(1, 29, :NE), 1, 100, nothing) MDMA.MDPState(UAVState(2, 29, :NE), 1, 100, nothing) … MDMA.MDPState(UAVState(28, 29, :NE), 1, 100, nothing) MDMA.MDPState(UAVState(29, 29, :NE), 1, 100, nothing);;; MDMA.MDPState(UAVState(1, 1, :N), 1, 100, nothing) MDMA.MDPState(UAVState(2, 1, :N), 1, 100, nothing) … MDMA.MDPState(UAVState(28, 1, :N), 1, 100, nothing) MDMA.MDPState(UAVState(29, 1, :N), 1, 100, nothing); MDMA.MDPState(UAVState(1, 2, :N), 1, 100, nothing) MDMA.MDPState(UAVState(2, 2, :N), 1, 100, nothing) … MDMA.MDPState(UAVState(28, 2, :N), 1, 100, nothing) MDMA.MDPState(UAVState(29, 2, :N), 1, 100, nothing); … ; MDMA.MDPState(UAVState(1, 28, :N), 1, 100, nothing) MDMA.MDPState(UAVState(2, 28, :N), 1, 100, nothing) … MDMA.MDPState(UAVState(28, 28, :N), 1, 100, nothing) MDMA.MDPState(UAVState(29, 28, :N), 1, 100, nothing); MDMA.MDPState(UAVState(1, 29, :N), 1, 100, nothing) MDMA.MDPState(UAVState(2, 29, :N), 1, 100, nothing) … MDMA.MDPState(UAVState(28, 29, :N), 1, 100, nothing) MDMA.MDPState(UAVState(29, 29, :N), 1, 100, nothing);;; MDMA.MDPState(UAVState(1, 1, :NW), 1, 100, nothing) MDMA.MDPState(UAVState(2, 1, :NW), 1, 100, nothing) … MDMA.MDPState(UAVState(28, 1, :NW), 1, 100, nothing) MDMA.MDPState(UAVState(29, 1, :NW), 1, 100, nothing); MDMA.MDPState(UAVState(1, 2, :NW), 1, 100, nothing) MDMA.MDPState(UAVState(2, 2, :NW), 1, 100, nothing) … MDMA.MDPState(UAVState(28, 2, :NW), 1, 100, nothing) MDMA.MDPState(UAVState(29, 2, :NW), 1, 100, nothing); … ; MDMA.MDPState(UAVState(1, 28, :NW), 1, 100, nothing) MDMA.MDPState(UAVState(2, 28, :NW), 1, 100, nothing) … MDMA.MDPState(UAVState(28, 28, :NW), 1, 100, nothing) MDMA.MDPState(UAVState(29, 28, :NW), 1, 100, nothing); MDMA.MDPState(UAVState(1, 29, :NW), 1, 100, nothing) MDMA.MDPState(UAVState(2, 29, :NW), 1, 100, nothing) … MDMA.MDPState(UAVState(28, 29, :NW), 1, 100, nothing) MDMA.MDPState(UAVState(29, 29, :NW), 1, 100, nothing);;; MDMA.MDPState(UAVState(1, 1, :W), 1, 100, nothing) MDMA.MDPState(UAVState(2, 1, :W), 1, 100, nothing) … MDMA.MDPState(UAVState(28, 1, :W), 1, 100, nothing) MDMA.MDPState(UAVState(29, 1, :W), 1, 100, nothing); MDMA.MDPState(UAVState(1, 2, :W), 1, 100, nothing) MDMA.MDPState(UAVState(2, 2, :W), 1, 100, nothing) … MDMA.MDPState(UAVState(28, 2, :W), 1, 100, nothing) MDMA.MDPState(UAVState(29, 2, :W), 1, 100, nothing); … ; MDMA.MDPState(UAVState(1, 28, :W), 1, 100, nothing) MDMA.MDPState(UAVState(2, 28, :W), 1, 100, nothing) … MDMA.MDPState(UAVState(28, 28, :W), 1, 100, nothing) MDMA.MDPState(UAVState(29, 28, :W), 1, 100, nothing); MDMA.MDPState(UAVState(1, 29, :W), 1, 100, nothing) MDMA.MDPState(UAVState(2, 29, :W), 1, 100, nothing) … MDMA.MDPState(UAVState(28, 29, :W), 1, 100, nothing) MDMA.MDPState(UAVState(29, 29, :W), 1, 100, nothing);;; MDMA.MDPState(UAVState(1, 1, :SW), 1, 100, nothing) MDMA.MDPState(UAVState(2, 1, :SW), 1, 100, nothing) … MDMA.MDPState(UAVState(28, 1, :SW), 1, 100, nothing) MDMA.MDPState(UAVState(29, 1, :SW), 1, 100, nothing); MDMA.MDPState(UAVState(1, 2, :SW), 1, 100, nothing) MDMA.MDPState(UAVState(2, 2, :SW), 1, 100, nothing) … MDMA.MDPState(UAVState(28, 2, :SW), 1, 100, nothing) MDMA.MDPState(UAVState(29, 2, :SW), 1, 100, nothing); … ; MDMA.MDPState(UAVState(1, 28, :SW), 1, 100, nothing) MDMA.MDPState(UAVState(2, 28, :SW), 1, 100, nothing) … MDMA.MDPState(UAVState(28, 28, :SW), 1, 100, nothing) MDMA.MDPState(UAVState(29, 28, :SW), 1, 100, nothing); MDMA.MDPState(UAVState(1, 29, :SW), 1, 100, nothing) MDMA.MDPState(UAVState(2, 29, :SW), 1, 100, nothing) … MDMA.MDPState(UAVState(28, 29, :SW), 1, 100, nothing) MDMA.MDPState(UAVState(29, 29, :SW), 1, 100, nothing);;; MDMA.MDPState(UAVState(1, 1, :S), 1, 100, nothing) MDMA.MDPState(UAVState(2, 1, :S), 1, 100, nothing) … MDMA.MDPState(UAVState(28, 1, :S), 1, 100, nothing) MDMA.MDPState(UAVState(29, 1, :S), 1, 100, nothing); MDMA.MDPState(UAVState(1, 2, :S), 1, 100, nothing) MDMA.MDPState(UAVState(2, 2, :S), 1, 100, nothing) … MDMA.MDPState(UAVState(28, 2, :S), 1, 100, nothing) MDMA.MDPState(UAVState(29, 2, :S), 1, 100, nothing); … ; MDMA.MDPState(UAVState(1, 28, :S), 1, 100, nothing) MDMA.MDPState(UAVState(2, 28, :S), 1, 100, nothing) … MDMA.MDPState(UAVState(28, 28, :S), 1, 100, nothing) MDMA.MDPState(UAVState(29, 28, :S), 1, 100, nothing); MDMA.MDPState(UAVState(1, 29, :S), 1, 100, nothing) MDMA.MDPState(UAVState(2, 29, :S), 1, 100, nothing) … MDMA.MDPState(UAVState(28, 29, :S), 1, 100, nothing) MDMA.MDPState(UAVState(29, 29, :S), 1, 100, nothing);;; MDMA.MDPState(UAVState(1, 1, :SE), 1, 100, nothing) MDMA.MDPState(UAVState(2, 1, :SE), 1, 100, nothing) … MDMA.MDPState(UAVState(28, 1, :SE), 1, 100, nothing) MDMA.MDPState(UAVState(29, 1, :SE), 1, 100, nothing); MDMA.MDPState(UAVState(1, 2, :SE), 1, 100, nothing) MDMA.MDPState(UAVState(2, 2, :SE), 1, 100, nothing) … MDMA.MDPState(UAVState(28, 2, :SE), 1, 100, nothing) MDMA.MDPState(UAVState(29, 2, :SE), 1, 100, nothing); … ; MDMA.MDPState(UAVState(1, 28, :SE), 1, 100, nothing) MDMA.MDPState(UAVState(2, 28, :SE), 1, 100, nothing) … MDMA.MDPState(UAVState(28, 28, :SE), 1, 100, nothing) MDMA.MDPState(UAVState(29, 28, :SE), 1, 100, nothing); MDMA.MDPState(UAVState(1, 29, :SE), 1, 100, nothing) MDMA.MDPState(UAVState(2, 29, :SE), 1, 100, nothing) … MDMA.MDPState(UAVState(28, 29, :SE), 1, 100, nothing) MDMA.MDPState(UAVState(29, 29, :SE), 1, 100, nothing);;;; MDMA.MDPState(UAVState(1, 1, :E), 2, 100, nothing) MDMA.MDPState(UAVState(2, 1, :E), 2, 100, nothing) … MDMA.MDPState(UAVState(28, 1, :E), 2, 100, nothing) MDMA.MDPState(UAVState(29, 1, :E), 2, 100, nothing); MDMA.MDPState(UAVState(1, 2, :E), 2, 100, nothing) MDMA.MDPState(UAVState(2, 2, :E), 2, 100, nothing) … MDMA.MDPState(UAVState(28, 2, :E), 2, 100, nothing) MDMA.MDPState(UAVState(29, 2, :E), 2, 100, nothing); … ; MDMA.MDPState(UAVState(1, 28, :E), 2, 100, nothing) MDMA.MDPState(UAVState(2, 28, :E), 2, 100, nothing) … MDMA.MDPState(UAVState(28, 28, :E), 2, 100, nothing) MDMA.MDPState(UAVState(29, 28, :E), 2, 100, nothing); MDMA.MDPState(UAVState(1, 29, :E), 2, 100, nothing) MDMA.MDPState(UAVState(2, 29, :E), 2, 100, nothing) … MDMA.MDPState(UAVState(28, 29, :E), 2, 100, nothing) MDMA.MDPState(UAVState(29, 29, :E), 2, 100, nothing);;; MDMA.MDPState(UAVState(1, 1, :NE), 2, 100, nothing) MDMA.MDPState(UAVState(2, 1, :NE), 2, 100, nothing) … MDMA.MDPState(UAVState(28, 1, :NE), 2, 100, nothing) MDMA.MDPState(UAVState(29, 1, :NE), 2, 100, nothing); MDMA.MDPState(UAVState(1, 2, :NE), 2, 100, nothing) MDMA.MDPState(UAVState(2, 2, :NE), 2, 100, nothing) … MDMA.MDPState(UAVState(28, 2, :NE), 2, 100, nothing) MDMA.MDPState(UAVState(29, 2, :NE), 2, 100, nothing); … ; MDMA.MDPState(UAVState(1, 28, :NE), 2, 100, nothing) MDMA.MDPState(UAVState(2, 28, :NE), 2, 100, nothing) … MDMA.MDPState(UAVState(28, 28, :NE), 2, 100, nothing) MDMA.MDPState(UAVState(29, 28, :NE), 2, 100, nothing); MDMA.MDPState(UAVState(1, 29, :NE), 2, 100, nothing) MDMA.MDPState(UAVState(2, 29, :NE), 2, 100, nothing) … MDMA.MDPState(UAVState(28, 29, :NE), 2, 100, nothing) MDMA.MDPState(UAVState(29, 29, :NE), 2, 100, nothing);;; MDMA.MDPState(UAVState(1, 1, :N), 2, 100, nothing) MDMA.MDPState(UAVState(2, 1, :N), 2, 100, nothing) … MDMA.MDPState(UAVState(28, 1, :N), 2, 100, nothing) MDMA.MDPState(UAVState(29, 1, :N), 2, 100, nothing); MDMA.MDPState(UAVState(1, 2, :N), 2, 100, nothing) MDMA.MDPState(UAVState(2, 2, :N), 2, 100, nothing) … MDMA.MDPState(UAVState(28, 2, :N), 2, 100, nothing) MDMA.MDPState(UAVState(29, 2, :N), 2, 100, nothing); … ; MDMA.MDPState(UAVState(1, 28, :N), 2, 100, nothing) MDMA.MDPState(UAVState(2, 28, :N), 2, 100, nothing) … MDMA.MDPState(UAVState(28, 28, :N), 2, 100, nothing) MDMA.MDPState(UAVState(29, 28, :N), 2, 100, nothing); MDMA.MDPState(UAVState(1, 29, :N), 2, 100, nothing) MDMA.MDPState(UAVState(2, 29, :N), 2, 100, nothing) … MDMA.MDPState(UAVState(28, 29, :N), 2, 100, nothing) MDMA.MDPState(UAVState(29, 29, :N), 2, 100, nothing);;; MDMA.MDPState(UAVState(1, 1, :NW), 2, 100, nothing) MDMA.MDPState(UAVState(2, 1, :NW), 2, 100, nothing) … MDMA.MDPState(UAVState(28, 1, :NW), 2, 100, nothing) MDMA.MDPState(UAVState(29, 1, :NW), 2, 100, nothing); MDMA.MDPState(UAVState(1, 2, :NW), 2, 100, nothing) MDMA.MDPState(UAVState(2, 2, :NW), 2, 100, nothing) … MDMA.MDPState(UAVState(28, 2, :NW), 2, 100, nothing) MDMA.MDPState(UAVState(29, 2, :NW), 2, 100, nothing); … ; MDMA.MDPState(UAVState(1, 28, :NW), 2, 100, nothing) MDMA.MDPState(UAVState(2, 28, :NW), 2, 100, nothing) … MDMA.MDPState(UAVState(28, 28, :NW), 2, 100, nothing) MDMA.MDPState(UAVState(29, 28, :NW), 2, 100, nothing); MDMA.MDPState(UAVState(1, 29, :NW), 2, 100, nothing) MDMA.MDPState(UAVState(2, 29, :NW), 2, 100, nothing) … MDMA.MDPState(UAVState(28, 29, :NW), 2, 100, nothing) MDMA.MDPState(UAVState(29, 29, :NW), 2, 100, nothing);;; MDMA.MDPState(UAVState(1, 1, :W), 2, 100, nothing) MDMA.MDPState(UAVState(2, 1, :W), 2, 100, nothing) … MDMA.MDPState(UAVState(28, 1, :W), 2, 100, nothing) MDMA.MDPState(UAVState(29, 1, :W), 2, 100, nothing); MDMA.MDPState(UAVState(1, 2, :W), 2, 100, nothing) MDMA.MDPState(UAVState(2, 2, :W), 2, 100, nothing) … MDMA.MDPState(UAVState(28, 2, :W), 2, 100, nothing) MDMA.MDPState(UAVState(29, 2, :W), 2, 100, nothing); … ; MDMA.MDPState(UAVState(1, 28, :W), 2, 100, nothing) MDMA.MDPState(UAVState(2, 28, :W), 2, 100, nothing) … MDMA.MDPState(UAVState(28, 28, :W), 2, 100, nothing) MDMA.MDPState(UAVState(29, 28, :W), 2, 100, nothing); MDMA.MDPState(UAVState(1, 29, :W), 2, 100, nothing) MDMA.MDPState(UAVState(2, 29, :W), 2, 100, nothing) … MDMA.MDPState(UAVState(28, 29, :W), 2, 100, nothing) MDMA.MDPState(UAVState(29, 29, :W), 2, 100, nothing);;; MDMA.MDPState(UAVState(1, 1, :SW), 2, 100, nothing) MDMA.MDPState(UAVState(2, 1, :SW), 2, 100, nothing) … MDMA.MDPState(UAVState(28, 1, :SW), 2, 100, nothing) MDMA.MDPState(UAVState(29, 1, :SW), 2, 100, nothing); MDMA.MDPState(UAVState(1, 2, :SW), 2, 100, nothing) MDMA.MDPState(UAVState(2, 2, :SW), 2, 100, nothing) … MDMA.MDPState(UAVState(28, 2, :SW), 2, 100, nothing) MDMA.MDPState(UAVState(29, 2, :SW), 2, 100, nothing); … ; MDMA.MDPState(UAVState(1, 28, :SW), 2, 100, nothing) MDMA.MDPState(UAVState(2, 28, :SW), 2, 100, nothing) … MDMA.MDPState(UAVState(28, 28, :SW), 2, 100, nothing) MDMA.MDPState(UAVState(29, 28, :SW), 2, 100, nothing); MDMA.MDPState(UAVState(1, 29, :SW), 2, 100, nothing) MDMA.MDPState(UAVState(2, 29, :SW), 2, 100, nothing) … MDMA.MDPState(UAVState(28, 29, :SW), 2, 100, nothing) MDMA.MDPState(UAVState(29, 29, :SW), 2, 100, nothing);;; MDMA.MDPState(UAVState(1, 1, :S), 2, 100, nothing) MDMA.MDPState(UAVState(2, 1, :S), 2, 100, nothing) … MDMA.MDPState(UAVState(28, 1, :S), 2, 100, nothing) MDMA.MDPState(UAVState(29, 1, :S), 2, 100, nothing); MDMA.MDPState(UAVState(1, 2, :S), 2, 100, nothing) MDMA.MDPState(UAVState(2, 2, :S), 2, 100, nothing) … MDMA.MDPState(UAVState(28, 2, :S), 2, 100, nothing) MDMA.MDPState(UAVState(29, 2, :S), 2, 100, nothing); … ; MDMA.MDPState(UAVState(1, 28, :S), 2, 100, nothing) MDMA.MDPState(UAVState(2, 28, :S), 2, 100, nothing) … MDMA.MDPState(UAVState(28, 28, :S), 2, 100, nothing) MDMA.MDPState(UAVState(29, 28, :S), 2, 100, nothing); MDMA.MDPState(UAVState(1, 29, :S), 2, 100, nothing) MDMA.MDPState(UAVState(2, 29, :S), 2, 100, nothing) … MDMA.MDPState(UAVState(28, 29, :S), 2, 100, nothing) MDMA.MDPState(UAVState(29, 29, :S), 2, 100, nothing);;; MDMA.MDPState(UAVState(1, 1, :SE), 2, 100, nothing) MDMA.MDPState(UAVState(2, 1, :SE), 2, 100, nothing) … MDMA.MDPState(UAVState(28, 1, :SE), 2, 100, nothing) MDMA.MDPState(UAVState(29, 1, :SE), 2, 100, nothing); MDMA.MDPState(UAVState(1, 2, :SE), 2, 100, nothing) MDMA.MDPState(UAVState(2, 2, :SE), 2, 100, nothing) … MDMA.MDPState(UAVState(28, 2, :SE), 2, 100, nothing) MDMA.MDPState(UAVState(29, 2, :SE), 2, 100, nothing); … ; MDMA.MDPState(UAVState(1, 28, :SE), 2, 100, nothing) MDMA.MDPState(UAVState(2, 28, :SE), 2, 100, nothing) … MDMA.MDPState(UAVState(28, 28, :SE), 2, 100, nothing) MDMA.MDPState(UAVState(29, 28, :SE), 2, 100, nothing); MDMA.MDPState(UAVState(1, 29, :SE), 2, 100, nothing) MDMA.MDPState(UAVState(2, 29, :SE), 2, 100, nothing) … MDMA.MDPState(UAVState(28, 29, :SE), 2, 100, nothing) MDMA.MDPState(UAVState(29, 29, :SE), 2, 100, nothing);;;; MDMA.MDPState(UAVState(1, 1, :E), 3, 100, nothing) MDMA.MDPState(UAVState(2, 1, :E), 3, 100, nothing) … MDMA.MDPState(UAVState(28, 1, :E), 3, 100, nothing) MDMA.MDPState(UAVState(29, 1, :E), 3, 100, nothing); MDMA.MDPState(UAVState(1, 2, :E), 3, 100, nothing) MDMA.MDPState(UAVState(2, 2, :E), 3, 100, nothing) … MDMA.MDPState(UAVState(28, 2, :E), 3, 100, nothing) MDMA.MDPState(UAVState(29, 2, :E), 3, 100, nothing); … ; MDMA.MDPState(UAVState(1, 28, :E), 3, 100, nothing) MDMA.MDPState(UAVState(2, 28, :E), 3, 100, nothing) … MDMA.MDPState(UAVState(28, 28, :E), 3, 100, nothing) MDMA.MDPState(UAVState(29, 28, :E), 3, 100, nothing); MDMA.MDPState(UAVState(1, 29, :E), 3, 100, nothing) MDMA.MDPState(UAVState(2, 29, :E), 3, 100, nothing) … MDMA.MDPState(UAVState(28, 29, :E), 3, 100, nothing) MDMA.MDPState(UAVState(29, 29, :E), 3, 100, nothing);;; MDMA.MDPState(UAVState(1, 1, :NE), 3, 100, nothing) MDMA.MDPState(UAVState(2, 1, :NE), 3, 100, nothing) … MDMA.MDPState(UAVState(28, 1, :NE), 3, 100, nothing) MDMA.MDPState(UAVState(29, 1, :NE), 3, 100, nothing); MDMA.MDPState(UAVState(1, 2, :NE), 3, 100, nothing) MDMA.MDPState(UAVState(2, 2, :NE), 3, 100, nothing) … MDMA.MDPState(UAVState(28, 2, :NE), 3, 100, nothing) MDMA.MDPState(UAVState(29, 2, :NE), 3, 100, nothing); … ; MDMA.MDPState(UAVState(1, 28, :NE), 3, 100, nothing) MDMA.MDPState(UAVState(2, 28, :NE), 3, 100, nothing) … MDMA.MDPState(UAVState(28, 28, :NE), 3, 100, nothing) MDMA.MDPState(UAVState(29, 28, :NE), 3, 100, nothing); MDMA.MDPState(UAVState(1, 29, :NE), 3, 100, nothing) MDMA.MDPState(UAVState(2, 29, :NE), 3, 100, nothing) … MDMA.MDPState(UAVState(28, 29, :NE), 3, 100, nothing) MDMA.MDPState(UAVState(29, 29, :NE), 3, 100, nothing);;; MDMA.MDPState(UAVState(1, 1, :N), 3, 100, nothing) MDMA.MDPState(UAVState(2, 1, :N), 3, 100, nothing) … MDMA.MDPState(UAVState(28, 1, :N), 3, 100, nothing) MDMA.MDPState(UAVState(29, 1, :N), 3, 100, nothing); MDMA.MDPState(UAVState(1, 2, :N), 3, 100, nothing) MDMA.MDPState(UAVState(2, 2, :N), 3, 100, nothing) … MDMA.MDPState(UAVState(28, 2, :N), 3, 100, nothing) MDMA.MDPState(UAVState(29, 2, :N), 3, 100, nothing); … ; MDMA.MDPState(UAVState(1, 28, :N), 3, 100, nothing) MDMA.MDPState(UAVState(2, 28, :N), 3, 100, nothing) … MDMA.MDPState(UAVState(28, 28, :N), 3, 100, nothing) MDMA.MDPState(UAVState(29, 28, :N), 3, 100, nothing); MDMA.MDPState(UAVState(1, 29, :N), 3, 100, nothing) MDMA.MDPState(UAVState(2, 29, :N), 3, 100, nothing) … MDMA.MDPState(UAVState(28, 29, :N), 3, 100, nothing) MDMA.MDPState(UAVState(29, 29, :N), 3, 100, nothing);;; MDMA.MDPState(UAVState(1, 1, :NW), 3, 100, nothing) MDMA.MDPState(UAVState(2, 1, :NW), 3, 100, nothing) … MDMA.MDPState(UAVState(28, 1, :NW), 3, 100, nothing) MDMA.MDPState(UAVState(29, 1, :NW), 3, 100, nothing); MDMA.MDPState(UAVState(1, 2, :NW), 3, 100, nothing) MDMA.MDPState(UAVState(2, 2, :NW), 3, 100, nothing) … MDMA.MDPState(UAVState(28, 2, :NW), 3, 100, nothing) MDMA.MDPState(UAVState(29, 2, :NW), 3, 100, nothing); … ; MDMA.MDPState(UAVState(1, 28, :NW), 3, 100, nothing) MDMA.MDPState(UAVState(2, 28, :NW), 3, 100, nothing) … MDMA.MDPState(UAVState(28, 28, :NW), 3, 100, nothing) MDMA.MDPState(UAVState(29, 28, :NW), 3, 100, nothing); MDMA.MDPState(UAVState(1, 29, :NW), 3, 100, nothing) MDMA.MDPState(UAVState(2, 29, :NW), 3, 100, nothing) … MDMA.MDPState(UAVState(28, 29, :NW), 3, 100, nothing) MDMA.MDPState(UAVState(29, 29, :NW), 3, 100, nothing);;; MDMA.MDPState(UAVState(1, 1, :W), 3, 100, nothing) MDMA.MDPState(UAVState(2, 1, :W), 3, 100, nothing) … MDMA.MDPState(UAVState(28, 1, :W), 3, 100, nothing) MDMA.MDPState(UAVState(29, 1, :W), 3, 100, nothing); MDMA.MDPState(UAVState(1, 2, :W), 3, 100, nothing) MDMA.MDPState(UAVState(2, 2, :W), 3, 100, nothing) … MDMA.MDPState(UAVState(28, 2, :W), 3, 100, nothing) MDMA.MDPState(UAVState(29, 2, :W), 3, 100, nothing); … ; MDMA.MDPState(UAVState(1, 28, :W), 3, 100, nothing) MDMA.MDPState(UAVState(2, 28, :W), 3, 100, nothing) … MDMA.MDPState(UAVState(28, 28, :W), 3, 100, nothing) MDMA.MDPState(UAVState(29, 28, :W), 3, 100, nothing); MDMA.MDPState(UAVState(1, 29, :W), 3, 100, nothing) MDMA.MDPState(UAVState(2, 29, :W), 3, 100, nothing) … MDMA.MDPState(UAVState(28, 29, :W), 3, 100, nothing) MDMA.MDPState(UAVState(29, 29, :W), 3, 100, nothing);;; MDMA.MDPState(UAVState(1, 1, :SW), 3, 100, nothing) MDMA.MDPState(UAVState(2, 1, :SW), 3, 100, nothing) … MDMA.MDPState(UAVState(28, 1, :SW), 3, 100, nothing) MDMA.MDPState(UAVState(29, 1, :SW), 3, 100, nothing); MDMA.MDPState(UAVState(1, 2, :SW), 3, 100, nothing) MDMA.MDPState(UAVState(2, 2, :SW), 3, 100, nothing) … MDMA.MDPState(UAVState(28, 2, :SW), 3, 100, nothing) MDMA.MDPState(UAVState(29, 2, :SW), 3, 100, nothing); … ; MDMA.MDPState(UAVState(1, 28, :SW), 3, 100, nothing) MDMA.MDPState(UAVState(2, 28, :SW), 3, 100, nothing) … MDMA.MDPState(UAVState(28, 28, :SW), 3, 100, nothing) MDMA.MDPState(UAVState(29, 28, :SW), 3, 100, nothing); MDMA.MDPState(UAVState(1, 29, :SW), 3, 100, nothing) MDMA.MDPState(UAVState(2, 29, :SW), 3, 100, nothing) … MDMA.MDPState(UAVState(28, 29, :SW), 3, 100, nothing) MDMA.MDPState(UAVState(29, 29, :SW), 3, 100, nothing);;; MDMA.MDPState(UAVState(1, 1, :S), 3, 100, nothing) MDMA.MDPState(UAVState(2, 1, :S), 3, 100, nothing) … MDMA.MDPState(UAVState(28, 1, :S), 3, 100, nothing) MDMA.MDPState(UAVState(29, 1, :S), 3, 100, nothing); MDMA.MDPState(UAVState(1, 2, :S), 3, 100, nothing) MDMA.MDPState(UAVState(2, 2, :S), 3, 100, nothing) … MDMA.MDPState(UAVState(28, 2, :S), 3, 100, nothing) MDMA.MDPState(UAVState(29, 2, :S), 3, 100, nothing); … ; MDMA.MDPState(UAVState(1, 28, :S), 3, 100, nothing) MDMA.MDPState(UAVState(2, 28, :S), 3, 100, nothing) … MDMA.MDPState(UAVState(28, 28, :S), 3, 100, nothing) MDMA.MDPState(UAVState(29, 28, :S), 3, 100, nothing); MDMA.MDPState(UAVState(1, 29, :S), 3, 100, nothing) MDMA.MDPState(UAVState(2, 29, :S), 3, 100, nothing) … MDMA.MDPState(UAVState(28, 29, :S), 3, 100, nothing) MDMA.MDPState(UAVState(29, 29, :S), 3, 100, nothing);;; MDMA.MDPState(UAVState(1, 1, :SE), 3, 100, nothing) MDMA.MDPState(UAVState(2, 1, :SE), 3, 100, nothing) … MDMA.MDPState(UAVState(28, 1, :SE), 3, 100, nothing) MDMA.MDPState(UAVState(29, 1, :SE), 3, 100, nothing); MDMA.MDPState(UAVState(1, 2, :SE), 3, 100, nothing) MDMA.MDPState(UAVState(2, 2, :SE), 3, 100, nothing) … MDMA.MDPState(UAVState(28, 2, :SE), 3, 100, nothing) MDMA.MDPState(UAVState(29, 2, :SE), 3, 100, nothing); … ; MDMA.MDPState(UAVState(1, 28, :SE), 3, 100, nothing) MDMA.MDPState(UAVState(2, 28, :SE), 3, 100, nothing) … MDMA.MDPState(UAVState(28, 28, :SE), 3, 100, nothing) MDMA.MDPState(UAVState(29, 28, :SE), 3, 100, nothing); MDMA.MDPState(UAVState(1, 29, :SE), 3, 100, nothing) MDMA.MDPState(UAVState(2, 29, :SE), 3, 100, nothing) … MDMA.MDPState(UAVState(28, 29, :SE), 3, 100, nothing) MDMA.MDPState(UAVState(29, 29, :SE), 3, 100, nothing);;;; … ;;;; MDMA.MDPState(UAVState(1, 1, :E), 98, 100, nothing) MDMA.MDPState(UAVState(2, 1, :E), 98, 100, nothing) … MDMA.MDPState(UAVState(28, 1, :E), 98, 100, nothing) MDMA.MDPState(UAVState(29, 1, :E), 98, 100, nothing); MDMA.MDPState(UAVState(1, 2, :E), 98, 100, nothing) MDMA.MDPState(UAVState(2, 2, :E), 98, 100, nothing) … MDMA.MDPState(UAVState(28, 2, :E), 98, 100, nothing) MDMA.MDPState(UAVState(29, 2, :E), 98, 100, nothing); … ; MDMA.MDPState(UAVState(1, 28, :E), 98, 100, nothing) MDMA.MDPState(UAVState(2, 28, :E), 98, 100, nothing) … MDMA.MDPState(UAVState(28, 28, :E), 98, 100, nothing) MDMA.MDPState(UAVState(29, 28, :E), 98, 100, nothing); MDMA.MDPState(UAVState(1, 29, :E), 98, 100, nothing) MDMA.MDPState(UAVState(2, 29, :E), 98, 100, nothing) … MDMA.MDPState(UAVState(28, 29, :E), 98, 100, nothing) MDMA.MDPState(UAVState(29, 29, :E), 98, 100, nothing);;; MDMA.MDPState(UAVState(1, 1, :NE), 98, 100, nothing) MDMA.MDPState(UAVState(2, 1, :NE), 98, 100, nothing) … MDMA.MDPState(UAVState(28, 1, :NE), 98, 100, nothing) MDMA.MDPState(UAVState(29, 1, :NE), 98, 100, nothing); MDMA.MDPState(UAVState(1, 2, :NE), 98, 100, nothing) MDMA.MDPState(UAVState(2, 2, :NE), 98, 100, nothing) … MDMA.MDPState(UAVState(28, 2, :NE), 98, 100, nothing) MDMA.MDPState(UAVState(29, 2, :NE), 98, 100, nothing); … ; MDMA.MDPState(UAVState(1, 28, :NE), 98, 100, nothing) MDMA.MDPState(UAVState(2, 28, :NE), 98, 100, nothing) … MDMA.MDPState(UAVState(28, 28, :NE), 98, 100, nothing) MDMA.MDPState(UAVState(29, 28, :NE), 98, 100, nothing); MDMA.MDPState(UAVState(1, 29, :NE), 98, 100, nothing) MDMA.MDPState(UAVState(2, 29, :NE), 98, 100, nothing) … MDMA.MDPState(UAVState(28, 29, :NE), 98, 100, nothing) MDMA.MDPState(UAVState(29, 29, :NE), 98, 100, nothing);;; MDMA.MDPState(UAVState(1, 1, :N), 98, 100, nothing) MDMA.MDPState(UAVState(2, 1, :N), 98, 100, nothing) … MDMA.MDPState(UAVState(28, 1, :N), 98, 100, nothing) MDMA.MDPState(UAVState(29, 1, :N), 98, 100, nothing); MDMA.MDPState(UAVState(1, 2, :N), 98, 100, nothing) MDMA.MDPState(UAVState(2, 2, :N), 98, 100, nothing) … MDMA.MDPState(UAVState(28, 2, :N), 98, 100, nothing) MDMA.MDPState(UAVState(29, 2, :N), 98, 100, nothing); … ; MDMA.MDPState(UAVState(1, 28, :N), 98, 100, nothing) MDMA.MDPState(UAVState(2, 28, :N), 98, 100, nothing) … MDMA.MDPState(UAVState(28, 28, :N), 98, 100, nothing) MDMA.MDPState(UAVState(29, 28, :N), 98, 100, nothing); MDMA.MDPState(UAVState(1, 29, :N), 98, 100, nothing) MDMA.MDPState(UAVState(2, 29, :N), 98, 100, nothing) … MDMA.MDPState(UAVState(28, 29, :N), 98, 100, nothing) MDMA.MDPState(UAVState(29, 29, :N), 98, 100, nothing);;; MDMA.MDPState(UAVState(1, 1, :NW), 98, 100, nothing) MDMA.MDPState(UAVState(2, 1, :NW), 98, 100, nothing) … MDMA.MDPState(UAVState(28, 1, :NW), 98, 100, nothing) MDMA.MDPState(UAVState(29, 1, :NW), 98, 100, nothing); MDMA.MDPState(UAVState(1, 2, :NW), 98, 100, nothing) MDMA.MDPState(UAVState(2, 2, :NW), 98, 100, nothing) … MDMA.MDPState(UAVState(28, 2, :NW), 98, 100, nothing) MDMA.MDPState(UAVState(29, 2, :NW), 98, 100, nothing); … ; MDMA.MDPState(UAVState(1, 28, :NW), 98, 100, nothing) MDMA.MDPState(UAVState(2, 28, :NW), 98, 100, nothing) … MDMA.MDPState(UAVState(28, 28, :NW), 98, 100, nothing) MDMA.MDPState(UAVState(29, 28, :NW), 98, 100, nothing); MDMA.MDPState(UAVState(1, 29, :NW), 98, 100, nothing) MDMA.MDPState(UAVState(2, 29, :NW), 98, 100, nothing) … MDMA.MDPState(UAVState(28, 29, :NW), 98, 100, nothing) MDMA.MDPState(UAVState(29, 29, :NW), 98, 100, nothing);;; MDMA.MDPState(UAVState(1, 1, :W), 98, 100, nothing) MDMA.MDPState(UAVState(2, 1, :W), 98, 100, nothing) … MDMA.MDPState(UAVState(28, 1, :W), 98, 100, nothing) MDMA.MDPState(UAVState(29, 1, :W), 98, 100, nothing); MDMA.MDPState(UAVState(1, 2, :W), 98, 100, nothing) MDMA.MDPState(UAVState(2, 2, :W), 98, 100, nothing) … MDMA.MDPState(UAVState(28, 2, :W), 98, 100, nothing) MDMA.MDPState(UAVState(29, 2, :W), 98, 100, nothing); … ; MDMA.MDPState(UAVState(1, 28, :W), 98, 100, nothing) MDMA.MDPState(UAVState(2, 28, :W), 98, 100, nothing) … MDMA.MDPState(UAVState(28, 28, :W), 98, 100, nothing) MDMA.MDPState(UAVState(29, 28, :W), 98, 100, nothing); MDMA.MDPState(UAVState(1, 29, :W), 98, 100, nothing) MDMA.MDPState(UAVState(2, 29, :W), 98, 100, nothing) … MDMA.MDPState(UAVState(28, 29, :W), 98, 100, nothing) MDMA.MDPState(UAVState(29, 29, :W), 98, 100, nothing);;; MDMA.MDPState(UAVState(1, 1, :SW), 98, 100, nothing) MDMA.MDPState(UAVState(2, 1, :SW), 98, 100, nothing) … MDMA.MDPState(UAVState(28, 1, :SW), 98, 100, nothing) MDMA.MDPState(UAVState(29, 1, :SW), 98, 100, nothing); MDMA.MDPState(UAVState(1, 2, :SW), 98, 100, nothing) MDMA.MDPState(UAVState(2, 2, :SW), 98, 100, nothing) … MDMA.MDPState(UAVState(28, 2, :SW), 98, 100, nothing) MDMA.MDPState(UAVState(29, 2, :SW), 98, 100, nothing); … ; MDMA.MDPState(UAVState(1, 28, :SW), 98, 100, nothing) MDMA.MDPState(UAVState(2, 28, :SW), 98, 100, nothing) … MDMA.MDPState(UAVState(28, 28, :SW), 98, 100, nothing) MDMA.MDPState(UAVState(29, 28, :SW), 98, 100, nothing); MDMA.MDPState(UAVState(1, 29, :SW), 98, 100, nothing) MDMA.MDPState(UAVState(2, 29, :SW), 98, 100, nothing) … MDMA.MDPState(UAVState(28, 29, :SW), 98, 100, nothing) MDMA.MDPState(UAVState(29, 29, :SW), 98, 100, nothing);;; MDMA.MDPState(UAVState(1, 1, :S), 98, 100, nothing) MDMA.MDPState(UAVState(2, 1, :S), 98, 100, nothing) … MDMA.MDPState(UAVState(28, 1, :S), 98, 100, nothing) MDMA.MDPState(UAVState(29, 1, :S), 98, 100, nothing); MDMA.MDPState(UAVState(1, 2, :S), 98, 100, nothing) MDMA.MDPState(UAVState(2, 2, :S), 98, 100, nothing) … MDMA.MDPState(UAVState(28, 2, :S), 98, 100, nothing) MDMA.MDPState(UAVState(29, 2, :S), 98, 100, nothing); … ; MDMA.MDPState(UAVState(1, 28, :S), 98, 100, nothing) MDMA.MDPState(UAVState(2, 28, :S), 98, 100, nothing) … MDMA.MDPState(UAVState(28, 28, :S), 98, 100, nothing) MDMA.MDPState(UAVState(29, 28, :S), 98, 100, nothing); MDMA.MDPState(UAVState(1, 29, :S), 98, 100, nothing) MDMA.MDPState(UAVState(2, 29, :S), 98, 100, nothing) … MDMA.MDPState(UAVState(28, 29, :S), 98, 100, nothing) MDMA.MDPState(UAVState(29, 29, :S), 98, 100, nothing);;; MDMA.MDPState(UAVState(1, 1, :SE), 98, 100, nothing) MDMA.MDPState(UAVState(2, 1, :SE), 98, 100, nothing) … MDMA.MDPState(UAVState(28, 1, :SE), 98, 100, nothing) MDMA.MDPState(UAVState(29, 1, :SE), 98, 100, nothing); MDMA.MDPState(UAVState(1, 2, :SE), 98, 100, nothing) MDMA.MDPState(UAVState(2, 2, :SE), 98, 100, nothing) … MDMA.MDPState(UAVState(28, 2, :SE), 98, 100, nothing) MDMA.MDPState(UAVState(29, 2, :SE), 98, 100, nothing); … ; MDMA.MDPState(UAVState(1, 28, :SE), 98, 100, nothing) MDMA.MDPState(UAVState(2, 28, :SE), 98, 100, nothing) … MDMA.MDPState(UAVState(28, 28, :SE), 98, 100, nothing) MDMA.MDPState(UAVState(29, 28, :SE), 98, 100, nothing); MDMA.MDPState(UAVState(1, 29, :SE), 98, 100, nothing) MDMA.MDPState(UAVState(2, 29, :SE), 98, 100, nothing) … MDMA.MDPState(UAVState(28, 29, :SE), 98, 100, nothing) MDMA.MDPState(UAVState(29, 29, :SE), 98, 100, nothing);;;; MDMA.MDPState(UAVState(1, 1, :E), 99, 100, nothing) MDMA.MDPState(UAVState(2, 1, :E), 99, 100, nothing) … MDMA.MDPState(UAVState(28, 1, :E), 99, 100, nothing) MDMA.MDPState(UAVState(29, 1, :E), 99, 100, nothing); MDMA.MDPState(UAVState(1, 2, :E), 99, 100, nothing) MDMA.MDPState(UAVState(2, 2, :E), 99, 100, nothing) … MDMA.MDPState(UAVState(28, 2, :E), 99, 100, nothing) MDMA.MDPState(UAVState(29, 2, :E), 99, 100, nothing); … ; MDMA.MDPState(UAVState(1, 28, :E), 99, 100, nothing) MDMA.MDPState(UAVState(2, 28, :E), 99, 100, nothing) … MDMA.MDPState(UAVState(28, 28, :E), 99, 100, nothing) MDMA.MDPState(UAVState(29, 28, :E), 99, 100, nothing); MDMA.MDPState(UAVState(1, 29, :E), 99, 100, nothing) MDMA.MDPState(UAVState(2, 29, :E), 99, 100, nothing) … MDMA.MDPState(UAVState(28, 29, :E), 99, 100, nothing) MDMA.MDPState(UAVState(29, 29, :E), 99, 100, nothing);;; MDMA.MDPState(UAVState(1, 1, :NE), 99, 100, nothing) MDMA.MDPState(UAVState(2, 1, :NE), 99, 100, nothing) … MDMA.MDPState(UAVState(28, 1, :NE), 99, 100, nothing) MDMA.MDPState(UAVState(29, 1, :NE), 99, 100, nothing); MDMA.MDPState(UAVState(1, 2, :NE), 99, 100, nothing) MDMA.MDPState(UAVState(2, 2, :NE), 99, 100, nothing) … MDMA.MDPState(UAVState(28, 2, :NE), 99, 100, nothing) MDMA.MDPState(UAVState(29, 2, :NE), 99, 100, nothing); … ; MDMA.MDPState(UAVState(1, 28, :NE), 99, 100, nothing) MDMA.MDPState(UAVState(2, 28, :NE), 99, 100, nothing) … MDMA.MDPState(UAVState(28, 28, :NE), 99, 100, nothing) MDMA.MDPState(UAVState(29, 28, :NE), 99, 100, nothing); MDMA.MDPState(UAVState(1, 29, :NE), 99, 100, nothing) MDMA.MDPState(UAVState(2, 29, :NE), 99, 100, nothing) … MDMA.MDPState(UAVState(28, 29, :NE), 99, 100, nothing) MDMA.MDPState(UAVState(29, 29, :NE), 99, 100, nothing);;; MDMA.MDPState(UAVState(1, 1, :N), 99, 100, nothing) MDMA.MDPState(UAVState(2, 1, :N), 99, 100, nothing) … MDMA.MDPState(UAVState(28, 1, :N), 99, 100, nothing) MDMA.MDPState(UAVState(29, 1, :N), 99, 100, nothing); MDMA.MDPState(UAVState(1, 2, :N), 99, 100, nothing) MDMA.MDPState(UAVState(2, 2, :N), 99, 100, nothing) … MDMA.MDPState(UAVState(28, 2, :N), 99, 100, nothing) MDMA.MDPState(UAVState(29, 2, :N), 99, 100, nothing); … ; MDMA.MDPState(UAVState(1, 28, :N), 99, 100, nothing) MDMA.MDPState(UAVState(2, 28, :N), 99, 100, nothing) … MDMA.MDPState(UAVState(28, 28, :N), 99, 100, nothing) MDMA.MDPState(UAVState(29, 28, :N), 99, 100, nothing); MDMA.MDPState(UAVState(1, 29, :N), 99, 100, nothing) MDMA.MDPState(UAVState(2, 29, :N), 99, 100, nothing) … MDMA.MDPState(UAVState(28, 29, :N), 99, 100, nothing) MDMA.MDPState(UAVState(29, 29, :N), 99, 100, nothing);;; MDMA.MDPState(UAVState(1, 1, :NW), 99, 100, nothing) MDMA.MDPState(UAVState(2, 1, :NW), 99, 100, nothing) … MDMA.MDPState(UAVState(28, 1, :NW), 99, 100, nothing) MDMA.MDPState(UAVState(29, 1, :NW), 99, 100, nothing); MDMA.MDPState(UAVState(1, 2, :NW), 99, 100, nothing) MDMA.MDPState(UAVState(2, 2, :NW), 99, 100, nothing) … MDMA.MDPState(UAVState(28, 2, :NW), 99, 100, nothing) MDMA.MDPState(UAVState(29, 2, :NW), 99, 100, nothing); … ; MDMA.MDPState(UAVState(1, 28, :NW), 99, 100, nothing) MDMA.MDPState(UAVState(2, 28, :NW), 99, 100, nothing) … MDMA.MDPState(UAVState(28, 28, :NW), 99, 100, nothing) MDMA.MDPState(UAVState(29, 28, :NW), 99, 100, nothing); MDMA.MDPState(UAVState(1, 29, :NW), 99, 100, nothing) MDMA.MDPState(UAVState(2, 29, :NW), 99, 100, nothing) … MDMA.MDPState(UAVState(28, 29, :NW), 99, 100, nothing) MDMA.MDPState(UAVState(29, 29, :NW), 99, 100, nothing);;; MDMA.MDPState(UAVState(1, 1, :W), 99, 100, nothing) MDMA.MDPState(UAVState(2, 1, :W), 99, 100, nothing) … MDMA.MDPState(UAVState(28, 1, :W), 99, 100, nothing) MDMA.MDPState(UAVState(29, 1, :W), 99, 100, nothing); MDMA.MDPState(UAVState(1, 2, :W), 99, 100, nothing) MDMA.MDPState(UAVState(2, 2, :W), 99, 100, nothing) … MDMA.MDPState(UAVState(28, 2, :W), 99, 100, nothing) MDMA.MDPState(UAVState(29, 2, :W), 99, 100, nothing); … ; MDMA.MDPState(UAVState(1, 28, :W), 99, 100, nothing) MDMA.MDPState(UAVState(2, 28, :W), 99, 100, nothing) … MDMA.MDPState(UAVState(28, 28, :W), 99, 100, nothing) MDMA.MDPState(UAVState(29, 28, :W), 99, 100, nothing); MDMA.MDPState(UAVState(1, 29, :W), 99, 100, nothing) MDMA.MDPState(UAVState(2, 29, :W), 99, 100, nothing) … MDMA.MDPState(UAVState(28, 29, :W), 99, 100, nothing) MDMA.MDPState(UAVState(29, 29, :W), 99, 100, nothing);;; MDMA.MDPState(UAVState(1, 1, :SW), 99, 100, nothing) MDMA.MDPState(UAVState(2, 1, :SW), 99, 100, nothing) … MDMA.MDPState(UAVState(28, 1, :SW), 99, 100, nothing) MDMA.MDPState(UAVState(29, 1, :SW), 99, 100, nothing); MDMA.MDPState(UAVState(1, 2, :SW), 99, 100, nothing) MDMA.MDPState(UAVState(2, 2, :SW), 99, 100, nothing) … MDMA.MDPState(UAVState(28, 2, :SW), 99, 100, nothing) MDMA.MDPState(UAVState(29, 2, :SW), 99, 100, nothing); … ; MDMA.MDPState(UAVState(1, 28, :SW), 99, 100, nothing) MDMA.MDPState(UAVState(2, 28, :SW), 99, 100, nothing) … MDMA.MDPState(UAVState(28, 28, :SW), 99, 100, nothing) MDMA.MDPState(UAVState(29, 28, :SW), 99, 100, nothing); MDMA.MDPState(UAVState(1, 29, :SW), 99, 100, nothing) MDMA.MDPState(UAVState(2, 29, :SW), 99, 100, nothing) … MDMA.MDPState(UAVState(28, 29, :SW), 99, 100, nothing) MDMA.MDPState(UAVState(29, 29, :SW), 99, 100, nothing);;; MDMA.MDPState(UAVState(1, 1, :S), 99, 100, nothing) MDMA.MDPState(UAVState(2, 1, :S), 99, 100, nothing) … MDMA.MDPState(UAVState(28, 1, :S), 99, 100, nothing) MDMA.MDPState(UAVState(29, 1, :S), 99, 100, nothing); MDMA.MDPState(UAVState(1, 2, :S), 99, 100, nothing) MDMA.MDPState(UAVState(2, 2, :S), 99, 100, nothing) … MDMA.MDPState(UAVState(28, 2, :S), 99, 100, nothing) MDMA.MDPState(UAVState(29, 2, :S), 99, 100, nothing); … ; MDMA.MDPState(UAVState(1, 28, :S), 99, 100, nothing) MDMA.MDPState(UAVState(2, 28, :S), 99, 100, nothing) … MDMA.MDPState(UAVState(28, 28, :S), 99, 100, nothing) MDMA.MDPState(UAVState(29, 28, :S), 99, 100, nothing); MDMA.MDPState(UAVState(1, 29, :S), 99, 100, nothing) MDMA.MDPState(UAVState(2, 29, :S), 99, 100, nothing) … MDMA.MDPState(UAVState(28, 29, :S), 99, 100, nothing) MDMA.MDPState(UAVState(29, 29, :S), 99, 100, nothing);;; MDMA.MDPState(UAVState(1, 1, :SE), 99, 100, nothing) MDMA.MDPState(UAVState(2, 1, :SE), 99, 100, nothing) … MDMA.MDPState(UAVState(28, 1, :SE), 99, 100, nothing) MDMA.MDPState(UAVState(29, 1, :SE), 99, 100, nothing); MDMA.MDPState(UAVState(1, 2, :SE), 99, 100, nothing) MDMA.MDPState(UAVState(2, 2, :SE), 99, 100, nothing) … MDMA.MDPState(UAVState(28, 2, :SE), 99, 100, nothing) MDMA.MDPState(UAVState(29, 2, :SE), 99, 100, nothing); … ; MDMA.MDPState(UAVState(1, 28, :SE), 99, 100, nothing) MDMA.MDPState(UAVState(2, 28, :SE), 99, 100, nothing) … MDMA.MDPState(UAVState(28, 28, :SE), 99, 100, nothing) MDMA.MDPState(UAVState(29, 28, :SE), 99, 100, nothing); MDMA.MDPState(UAVState(1, 29, :SE), 99, 100, nothing) MDMA.MDPState(UAVState(2, 29, :SE), 99, 100, nothing) … MDMA.MDPState(UAVState(28, 29, :SE), 99, 100, nothing) MDMA.MDPState(UAVState(29, 29, :SE), 99, 100, nothing);;;; MDMA.MDPState(UAVState(1, 1, :E), 100, 100, nothing) MDMA.MDPState(UAVState(2, 1, :E), 100, 100, nothing) … MDMA.MDPState(UAVState(28, 1, :E), 100, 100, nothing) MDMA.MDPState(UAVState(29, 1, :E), 100, 100, nothing); MDMA.MDPState(UAVState(1, 2, :E), 100, 100, nothing) MDMA.MDPState(UAVState(2, 2, :E), 100, 100, nothing) … MDMA.MDPState(UAVState(28, 2, :E), 100, 100, nothing) MDMA.MDPState(UAVState(29, 2, :E), 100, 100, nothing); … ; MDMA.MDPState(UAVState(1, 28, :E), 100, 100, nothing) MDMA.MDPState(UAVState(2, 28, :E), 100, 100, nothing) … MDMA.MDPState(UAVState(28, 28, :E), 100, 100, nothing) MDMA.MDPState(UAVState(29, 28, :E), 100, 100, nothing); MDMA.MDPState(UAVState(1, 29, :E), 100, 100, nothing) MDMA.MDPState(UAVState(2, 29, :E), 100, 100, nothing) … MDMA.MDPState(UAVState(28, 29, :E), 100, 100, nothing) MDMA.MDPState(UAVState(29, 29, :E), 100, 100, nothing);;; MDMA.MDPState(UAVState(1, 1, :NE), 100, 100, nothing) MDMA.MDPState(UAVState(2, 1, :NE), 100, 100, nothing) … MDMA.MDPState(UAVState(28, 1, :NE), 100, 100, nothing) MDMA.MDPState(UAVState(29, 1, :NE), 100, 100, nothing); MDMA.MDPState(UAVState(1, 2, :NE), 100, 100, nothing) MDMA.MDPState(UAVState(2, 2, :NE), 100, 100, nothing) … MDMA.MDPState(UAVState(28, 2, :NE), 100, 100, nothing) MDMA.MDPState(UAVState(29, 2, :NE), 100, 100, nothing); … ; MDMA.MDPState(UAVState(1, 28, :NE), 100, 100, nothing) MDMA.MDPState(UAVState(2, 28, :NE), 100, 100, nothing) … MDMA.MDPState(UAVState(28, 28, :NE), 100, 100, nothing) MDMA.MDPState(UAVState(29, 28, :NE), 100, 100, nothing); MDMA.MDPState(UAVState(1, 29, :NE), 100, 100, nothing) MDMA.MDPState(UAVState(2, 29, :NE), 100, 100, nothing) … MDMA.MDPState(UAVState(28, 29, :NE), 100, 100, nothing) MDMA.MDPState(UAVState(29, 29, :NE), 100, 100, nothing);;; MDMA.MDPState(UAVState(1, 1, :N), 100, 100, nothing) MDMA.MDPState(UAVState(2, 1, :N), 100, 100, nothing) … MDMA.MDPState(UAVState(28, 1, :N), 100, 100, nothing) MDMA.MDPState(UAVState(29, 1, :N), 100, 100, nothing); MDMA.MDPState(UAVState(1, 2, :N), 100, 100, nothing) MDMA.MDPState(UAVState(2, 2, :N), 100, 100, nothing) … MDMA.MDPState(UAVState(28, 2, :N), 100, 100, nothing) MDMA.MDPState(UAVState(29, 2, :N), 100, 100, nothing); … ; MDMA.MDPState(UAVState(1, 28, :N), 100, 100, nothing) MDMA.MDPState(UAVState(2, 28, :N), 100, 100, nothing) … MDMA.MDPState(UAVState(28, 28, :N), 100, 100, nothing) MDMA.MDPState(UAVState(29, 28, :N), 100, 100, nothing); MDMA.MDPState(UAVState(1, 29, :N), 100, 100, nothing) MDMA.MDPState(UAVState(2, 29, :N), 100, 100, nothing) … MDMA.MDPState(UAVState(28, 29, :N), 100, 100, nothing) MDMA.MDPState(UAVState(29, 29, :N), 100, 100, nothing);;; MDMA.MDPState(UAVState(1, 1, :NW), 100, 100, nothing) MDMA.MDPState(UAVState(2, 1, :NW), 100, 100, nothing) … MDMA.MDPState(UAVState(28, 1, :NW), 100, 100, nothing) MDMA.MDPState(UAVState(29, 1, :NW), 100, 100, nothing); MDMA.MDPState(UAVState(1, 2, :NW), 100, 100, nothing) MDMA.MDPState(UAVState(2, 2, :NW), 100, 100, nothing) … MDMA.MDPState(UAVState(28, 2, :NW), 100, 100, nothing) MDMA.MDPState(UAVState(29, 2, :NW), 100, 100, nothing); … ; MDMA.MDPState(UAVState(1, 28, :NW), 100, 100, nothing) MDMA.MDPState(UAVState(2, 28, :NW), 100, 100, nothing) … MDMA.MDPState(UAVState(28, 28, :NW), 100, 100, nothing) MDMA.MDPState(UAVState(29, 28, :NW), 100, 100, nothing); MDMA.MDPState(UAVState(1, 29, :NW), 100, 100, nothing) MDMA.MDPState(UAVState(2, 29, :NW), 100, 100, nothing) … MDMA.MDPState(UAVState(28, 29, :NW), 100, 100, nothing) MDMA.MDPState(UAVState(29, 29, :NW), 100, 100, nothing);;; MDMA.MDPState(UAVState(1, 1, :W), 100, 100, nothing) MDMA.MDPState(UAVState(2, 1, :W), 100, 100, nothing) … MDMA.MDPState(UAVState(28, 1, :W), 100, 100, nothing) MDMA.MDPState(UAVState(29, 1, :W), 100, 100, nothing); MDMA.MDPState(UAVState(1, 2, :W), 100, 100, nothing) MDMA.MDPState(UAVState(2, 2, :W), 100, 100, nothing) … MDMA.MDPState(UAVState(28, 2, :W), 100, 100, nothing) MDMA.MDPState(UAVState(29, 2, :W), 100, 100, nothing); … ; MDMA.MDPState(UAVState(1, 28, :W), 100, 100, nothing) MDMA.MDPState(UAVState(2, 28, :W), 100, 100, nothing) … MDMA.MDPState(UAVState(28, 28, :W), 100, 100, nothing) MDMA.MDPState(UAVState(29, 28, :W), 100, 100, nothing); MDMA.MDPState(UAVState(1, 29, :W), 100, 100, nothing) MDMA.MDPState(UAVState(2, 29, :W), 100, 100, nothing) … MDMA.MDPState(UAVState(28, 29, :W), 100, 100, nothing) MDMA.MDPState(UAVState(29, 29, :W), 100, 100, nothing);;; MDMA.MDPState(UAVState(1, 1, :SW), 100, 100, nothing) MDMA.MDPState(UAVState(2, 1, :SW), 100, 100, nothing) … MDMA.MDPState(UAVState(28, 1, :SW), 100, 100, nothing) MDMA.MDPState(UAVState(29, 1, :SW), 100, 100, nothing); MDMA.MDPState(UAVState(1, 2, :SW), 100, 100, nothing) MDMA.MDPState(UAVState(2, 2, :SW), 100, 100, nothing) … MDMA.MDPState(UAVState(28, 2, :SW), 100, 100, nothing) MDMA.MDPState(UAVState(29, 2, :SW), 100, 100, nothing); … ; MDMA.MDPState(UAVState(1, 28, :SW), 100, 100, nothing) MDMA.MDPState(UAVState(2, 28, :SW), 100, 100, nothing) … MDMA.MDPState(UAVState(28, 28, :SW), 100, 100, nothing) MDMA.MDPState(UAVState(29, 28, :SW), 100, 100, nothing); MDMA.MDPState(UAVState(1, 29, :SW), 100, 100, nothing) MDMA.MDPState(UAVState(2, 29, :SW), 100, 100, nothing) … MDMA.MDPState(UAVState(28, 29, :SW), 100, 100, nothing) MDMA.MDPState(UAVState(29, 29, :SW), 100, 100, nothing);;; MDMA.MDPState(UAVState(1, 1, :S), 100, 100, nothing) MDMA.MDPState(UAVState(2, 1, :S), 100, 100, nothing) … MDMA.MDPState(UAVState(28, 1, :S), 100, 100, nothing) MDMA.MDPState(UAVState(29, 1, :S), 100, 100, nothing); MDMA.MDPState(UAVState(1, 2, :S), 100, 100, nothing) MDMA.MDPState(UAVState(2, 2, :S), 100, 100, nothing) … MDMA.MDPState(UAVState(28, 2, :S), 100, 100, nothing) MDMA.MDPState(UAVState(29, 2, :S), 100, 100, nothing); … ; MDMA.MDPState(UAVState(1, 28, :S), 100, 100, nothing) MDMA.MDPState(UAVState(2, 28, :S), 100, 100, nothing) … MDMA.MDPState(UAVState(28, 28, :S), 100, 100, nothing) MDMA.MDPState(UAVState(29, 28, :S), 100, 100, nothing); MDMA.MDPState(UAVState(1, 29, :S), 100, 100, nothing) MDMA.MDPState(UAVState(2, 29, :S), 100, 100, nothing) … MDMA.MDPState(UAVState(28, 29, :S), 100, 100, nothing) MDMA.MDPState(UAVState(29, 29, :S), 100, 100, nothing);;; MDMA.MDPState(UAVState(1, 1, :SE), 100, 100, nothing) MDMA.MDPState(UAVState(2, 1, :SE), 100, 100, nothing) … MDMA.MDPState(UAVState(28, 1, :SE), 100, 100, nothing) MDMA.MDPState(UAVState(29, 1, :SE), 100, 100, nothing); MDMA.MDPState(UAVState(1, 2, :SE), 100, 100, nothing) MDMA.MDPState(UAVState(2, 2, :SE), 100, 100, nothing) … MDMA.MDPState(UAVState(28, 2, :SE), 100, 100, nothing) MDMA.MDPState(UAVState(29, 2, :SE), 100, 100, nothing); … ; MDMA.MDPState(UAVState(1, 28, :SE), 100, 100, nothing) MDMA.MDPState(UAVState(2, 28, :SE), 100, 100, nothing) … MDMA.MDPState(UAVState(28, 28, :SE), 100, 100, nothing) MDMA.MDPState(UAVState(29, 28, :SE), 100, 100, nothing); MDMA.MDPState(UAVState(1, 29, :SE), 100, 100, nothing) MDMA.MDPState(UAVState(2, 29, :SE), 100, 100, nothing) … MDMA.MDPState(UAVState(28, 29, :SE), 100, 100, nothing) MDMA.MDPState(UAVState(29, 29, :SE), 100, 100, nothing)]), ViewConeSensor(1.4660766124725342, 5.0), 100, 3.0))"
      ]
     },
     "execution_count": 10,
     "metadata": {},
     "output_type": "execute_result"
    }
   ],
   "source": [
    "# Set model parameters\n",
    "\n",
    "move_dist = 3;\n",
    "multi_configs = configs_from_file(\"../../blender/four_split_data.json\", move_dist)\n",
    "coverage = generate_empty_coverage_data(multi_configs)\n",
    "\n",
    "robot_states = map(x->MDMA.random_state(multi_configs.horizon, multi_configs.grid), 1:multi_configs.num_robots)\n",
    "multi_problem = MDMA.MultiRobotTargetCoverageProblem(robot_states, coverage, multi_configs)\n",
    "\n",
    "# model = MDMA.SingleRobotMultiTargetViewCoverageProblem(grid, sensor, horizon, target_trajectories, move_dist, coverage, initial_state)"
   ]
  },
  {
   "cell_type": "code",
   "execution_count": 11,
   "metadata": {
    "scrolled": false
   },
   "outputs": [
    {
     "name": "stdout",
     "output_type": "stream",
     "text": [
      "Processing Robot 1\n",
      "[Iteration 1   ] residual:        295 | iteration runtime: 173146.721 ms, (       173 s total)\n",
      "[Iteration 2   ] residual:          0 | iteration runtime: 173597.229 ms, (       347 s total)\n",
      "Processing Robot 2\n",
      "[Iteration 1   ] residual:       87.3 | iteration runtime: 173901.299 ms, (       174 s total)\n",
      "[Iteration 2   ] residual:          0 | iteration runtime: 174046.159 ms, (       348 s total)\n",
      "Processing Robot 3\n",
      "[Iteration 1   ] residual:       73.2 | iteration runtime: 175718.656 ms, (       176 s total)\n",
      "[Iteration 2   ] residual:          0 | iteration runtime: 176593.925 ms, (       352 s total)\n",
      "objectiveVector{Tuple{Int64, Vector{MDMA.MDPState}}}\n"
     ]
    },
    {
     "data": {
      "text/plain": [
       "Solution{Tuple{Int64, Vector{MDMA.MDPState}}}(94.99999999999994, Tuple{Int64, Vector{MDMA.MDPState}}[(1, [MDMA.MDPState(UAVState(19, 10, :E), 1, 100, nothing), MDMA.MDPState(UAVState(17, 8, :SE), 2, 100, nothing), MDMA.MDPState(UAVState(15, 8, :S), 3, 100, nothing), MDMA.MDPState(UAVState(13, 10, :SW), 4, 100, nothing), MDMA.MDPState(UAVState(11, 8, :W), 5, 100, nothing), MDMA.MDPState(UAVState(11, 8, :NW), 6, 100, nothing), MDMA.MDPState(UAVState(11, 8, :NW), 7, 100, nothing), MDMA.MDPState(UAVState(11, 8, :NW), 8, 100, nothing), MDMA.MDPState(UAVState(12, 8, :NW), 9, 100, nothing), MDMA.MDPState(UAVState(12, 8, :NW), 10, 100, nothing)  …  MDMA.MDPState(UAVState(22, 21, :S), 91, 100, nothing), MDMA.MDPState(UAVState(22, 21, :S), 92, 100, nothing), MDMA.MDPState(UAVState(22, 21, :S), 93, 100, nothing), MDMA.MDPState(UAVState(22, 21, :S), 94, 100, nothing), MDMA.MDPState(UAVState(22, 21, :S), 95, 100, nothing), MDMA.MDPState(UAVState(22, 21, :S), 96, 100, nothing), MDMA.MDPState(UAVState(22, 21, :S), 97, 100, nothing), MDMA.MDPState(UAVState(22, 21, :S), 98, 100, nothing), MDMA.MDPState(UAVState(22, 21, :S), 99, 100, nothing), MDMA.MDPState(UAVState(22, 21, :S), 100, 100, nothing)]), (2, [MDMA.MDPState(UAVState(28, 27, :SW), 1, 100, nothing), MDMA.MDPState(UAVState(26, 25, :SW), 2, 100, nothing), MDMA.MDPState(UAVState(24, 23, :SW), 3, 100, nothing), MDMA.MDPState(UAVState(22, 21, :SW), 4, 100, nothing), MDMA.MDPState(UAVState(20, 19, :SW), 5, 100, nothing), MDMA.MDPState(UAVState(18, 18, :SW), 6, 100, nothing), MDMA.MDPState(UAVState(18, 18, :SW), 7, 100, nothing), MDMA.MDPState(UAVState(18, 18, :SW), 8, 100, nothing), MDMA.MDPState(UAVState(18, 18, :SW), 9, 100, nothing), MDMA.MDPState(UAVState(18, 18, :SW), 10, 100, nothing)  …  MDMA.MDPState(UAVState(21, 13, :SW), 91, 100, nothing), MDMA.MDPState(UAVState(21, 13, :SW), 92, 100, nothing), MDMA.MDPState(UAVState(21, 13, :SW), 93, 100, nothing), MDMA.MDPState(UAVState(21, 13, :SW), 94, 100, nothing), MDMA.MDPState(UAVState(21, 13, :SW), 95, 100, nothing), MDMA.MDPState(UAVState(21, 13, :SW), 96, 100, nothing), MDMA.MDPState(UAVState(21, 13, :SW), 97, 100, nothing), MDMA.MDPState(UAVState(21, 13, :SW), 98, 100, nothing), MDMA.MDPState(UAVState(21, 13, :SW), 99, 100, nothing), MDMA.MDPState(UAVState(21, 13, :SW), 100, 100, nothing)]), (3, [MDMA.MDPState(UAVState(21, 24, :NE), 1, 100, nothing), MDMA.MDPState(UAVState(19, 22, :E), 2, 100, nothing), MDMA.MDPState(UAVState(19, 22, :E), 3, 100, nothing), MDMA.MDPState(UAVState(19, 22, :E), 4, 100, nothing), MDMA.MDPState(UAVState(17, 20, :E), 5, 100, nothing), MDMA.MDPState(UAVState(15, 18, :E), 6, 100, nothing), MDMA.MDPState(UAVState(14, 18, :E), 7, 100, nothing), MDMA.MDPState(UAVState(14, 18, :E), 8, 100, nothing), MDMA.MDPState(UAVState(14, 18, :E), 9, 100, nothing), MDMA.MDPState(UAVState(14, 18, :E), 10, 100, nothing)  …  MDMA.MDPState(UAVState(5, 20, :NE), 91, 100, nothing), MDMA.MDPState(UAVState(5, 20, :NE), 92, 100, nothing), MDMA.MDPState(UAVState(5, 20, :NE), 93, 100, nothing), MDMA.MDPState(UAVState(5, 20, :NE), 94, 100, nothing), MDMA.MDPState(UAVState(5, 20, :NE), 95, 100, nothing), MDMA.MDPState(UAVState(5, 20, :NE), 96, 100, nothing), MDMA.MDPState(UAVState(5, 20, :NE), 97, 100, nothing), MDMA.MDPState(UAVState(5, 20, :NE), 98, 100, nothing), MDMA.MDPState(UAVState(5, 20, :NE), 99, 100, nothing), MDMA.MDPState(UAVState(5, 20, :NE), 100, 100, nothing)])])"
      ]
     },
     "execution_count": 11,
     "metadata": {},
     "output_type": "execute_result"
    }
   ],
   "source": [
    "# policy = MDMA.solve_single_robot(model)\n",
    "\n",
    "# Will need a grid for each robot\n",
    "\n",
    "solution = solve_sequential(multi_problem)"
   ]
  },
  {
   "cell_type": "code",
   "execution_count": 12,
   "metadata": {},
   "outputs": [
    {
     "data": {
      "text/html": [
       "# 5 methods for generic function <b>solve_block</b>:<ul><li> solve_block(p::<b>ExplicitPartitionProblem</b>, block_index::<b>Integer</b>, selections::<b>Vector</b>) in SubmodularMaximization at <a href=\"file:///airlab/SubmodularMaximization.jl\" target=\"_blank\">/airlab/SubmodularMaximization.jl:171</a></li> <li> solve_block(p::<b>MultiRobotTargetTrackingProblem</b>, block::<b>Integer</b>, selections::<b>Vector</b>) in SubmodularMaximization at <a href=\"file:///airlab/src/target_tracking/multi_robot_target_tracking_problem.jl\" target=\"_blank\">/airlab/src/target_tracking/multi_robot_target_tracking_problem.jl:151</a></li> <li> solve_block(p::<b>SubmodularMaximization.MultiRobotTargetCoverageProblem</b>, block::<b>Integer</b>, selections::<b>Vector</b>) in SubmodularMaximization at <a href=\"file:///airlab/src/target_tracking/multi_robot_target_coverage_problem.jl\" target=\"_blank\">/airlab/src/target_tracking/multi_robot_target_coverage_problem.jl:99</a></li> <li> solve_block(p::<b>MDMA.MultiRobotTargetCoverageProblem</b>, block::<b>Integer</b>, selections::<b>Vector{Tuple{Int64, Vector{MDMA.MDPState}}}</b>) in MDMA at <a href=\"file:///airlab/src/mdma_greedy/MDMA_MultiAgent.jl\" target=\"_blank\">/airlab/src/mdma_greedy/MDMA_MultiAgent.jl:169</a></li> <li> solve_block(p::<b>PartitionProblem</b>, block::<b>Integer</b>, selections::<b>Vector</b>) in SubmodularMaximization at <a href=\"file:///airlab/SubmodularMaximization.jl\" target=\"_blank\">/airlab/SubmodularMaximization.jl:123</a></li> </ul>"
      ],
      "text/plain": [
       "# 5 methods for generic function \"solve_block\":\n",
       "[1] solve_block(p::ExplicitPartitionProblem, block_index::Integer, selections::Vector) in SubmodularMaximization at /airlab/SubmodularMaximization.jl:171\n",
       "[2] solve_block(p::MultiRobotTargetTrackingProblem, block::Integer, selections::Vector) in SubmodularMaximization at /airlab/src/target_tracking/multi_robot_target_tracking_problem.jl:151\n",
       "[3] solve_block(p::SubmodularMaximization.MultiRobotTargetCoverageProblem, block::Integer, selections::Vector) in SubmodularMaximization at /airlab/src/target_tracking/multi_robot_target_coverage_problem.jl:99\n",
       "[4] solve_block(p::MDMA.MultiRobotTargetCoverageProblem, block::Integer, selections::Vector{Tuple{Int64, Vector{MDMA.MDPState}}}) in MDMA at /airlab/src/mdma_greedy/MDMA_MultiAgent.jl:169\n",
       "[5] solve_block(p::PartitionProblem, block::Integer, selections::Vector) in SubmodularMaximization at /airlab/SubmodularMaximization.jl:123"
      ]
     },
     "execution_count": 12,
     "metadata": {},
     "output_type": "execute_result"
    }
   ],
   "source": [
    "methods(solve_block)"
   ]
  },
  {
   "cell_type": "code",
   "execution_count": 13,
   "metadata": {},
   "outputs": [
    {
     "name": "stdout",
     "output_type": "stream",
     "text": [
      "Writing to output/01.png\n",
      "Writing to output/02.png\n",
      "Writing to output/03.png\n",
      "Writing to output/04.png\n",
      "Writing to output/05.png\n",
      "Writing to output/06.png\n",
      "Writing to output/07.png\n",
      "Writing to output/08.png\n",
      "Writing to output/09.png\n",
      "Writing to output/10.png\n",
      "Writing to output/11.png\n",
      "Writing to output/12.png\n",
      "Writing to output/13.png\n",
      "Writing to output/14.png\n",
      "Writing to output/15.png\n",
      "Writing to output/16.png\n",
      "Writing to output/17.png\n",
      "Writing to output/18.png\n",
      "Writing to output/19.png\n",
      "Writing to output/20.png\n",
      "Writing to output/21.png\n",
      "Writing to output/22.png\n",
      "Writing to output/23.png\n",
      "Writing to output/24.png\n",
      "Writing to output/25.png\n",
      "Writing to output/26.png\n",
      "Writing to output/27.png\n",
      "Writing to output/28.png\n",
      "Writing to output/29.png\n",
      "Writing to output/30.png\n",
      "Writing to output/31.png\n",
      "Writing to output/32.png\n",
      "Writing to output/33.png\n",
      "Writing to output/34.png\n",
      "Writing to output/35.png\n",
      "Writing to output/36.png\n",
      "Writing to output/37.png\n",
      "Writing to output/38.png\n",
      "Writing to output/39.png\n",
      "Writing to output/40.png\n",
      "Writing to output/41.png\n",
      "Writing to output/42.png\n",
      "Writing to output/43.png\n",
      "Writing to output/44.png\n",
      "Writing to output/45.png\n",
      "Writing to output/46.png\n",
      "Writing to output/47.png\n",
      "Writing to output/48.png\n",
      "Writing to output/49.png\n",
      "Writing to output/50.png\n",
      "Writing to output/51.png\n",
      "Writing to output/52.png\n",
      "Writing to output/53.png\n",
      "Writing to output/54.png\n",
      "Writing to output/55.png\n",
      "Writing to output/56.png\n",
      "Writing to output/57.png\n",
      "Writing to output/58.png\n",
      "Writing to output/59.png\n",
      "Writing to output/60.png\n",
      "Writing to output/61.png\n",
      "Writing to output/62.png\n",
      "Writing to output/63.png\n",
      "Writing to output/64.png\n",
      "Writing to output/65.png\n",
      "Writing to output/66.png\n",
      "Writing to output/67.png\n",
      "Writing to output/68.png\n",
      "Writing to output/69.png\n",
      "Writing to output/70.png\n",
      "Writing to output/71.png\n",
      "Writing to output/72.png\n",
      "Writing to output/73.png\n",
      "Writing to output/74.png\n",
      "Writing to output/75.png\n",
      "Writing to output/76.png\n",
      "Writing to output/77.png\n",
      "Writing to output/78.png\n",
      "Writing to output/79.png\n",
      "Writing to output/80.png\n",
      "Writing to output/81.png\n",
      "Writing to output/82.png\n",
      "Writing to output/83.png\n",
      "Writing to output/84.png\n",
      "Writing to output/85.png\n",
      "Writing to output/86.png\n",
      "Writing to output/87.png\n",
      "Writing to output/88.png\n",
      "Writing to output/89.png\n",
      "Writing to output/90.png\n",
      "Writing to output/91.png\n",
      "Writing to output/92.png\n",
      "Writing to output/93.png\n",
      "Writing to output/94.png\n",
      "Writing to output/95.png\n",
      "Writing to output/96.png\n",
      "Writing to output/97.png\n",
      "Writing to output/98.png\n",
      "Writing to output/99.png\n",
      "Writing to output/100.png\n"
     ]
    }
   ],
   "source": [
    "\n",
    "paths = Vector{Vector{MDMA.MDPState}}(undef, 0)\n",
    "for sol in solution.elements\n",
    "    push!(paths, sol[2])\n",
    "end\n",
    "draw_frames(RenderConf(50, 4, true, false), multi_configs, paths)\n"
   ]
  },
  {
   "cell_type": "code",
   "execution_count": 14,
   "metadata": {},
   "outputs": [
    {
     "data": {
      "text/plain": [
       "100-element Vector{MDMA.MDPState}:\n",
       " MDMA.MDPState(UAVState(28, 27, :SW), 1, 100, nothing)\n",
       " MDMA.MDPState(UAVState(26, 25, :SW), 2, 100, nothing)\n",
       " MDMA.MDPState(UAVState(24, 23, :SW), 3, 100, nothing)\n",
       " MDMA.MDPState(UAVState(22, 21, :SW), 4, 100, nothing)\n",
       " MDMA.MDPState(UAVState(20, 19, :SW), 5, 100, nothing)\n",
       " MDMA.MDPState(UAVState(18, 18, :SW), 6, 100, nothing)\n",
       " MDMA.MDPState(UAVState(18, 18, :SW), 7, 100, nothing)\n",
       " MDMA.MDPState(UAVState(18, 18, :SW), 8, 100, nothing)\n",
       " MDMA.MDPState(UAVState(18, 18, :SW), 9, 100, nothing)\n",
       " MDMA.MDPState(UAVState(18, 18, :SW), 10, 100, nothing)\n",
       " MDMA.MDPState(UAVState(18, 18, :SW), 11, 100, nothing)\n",
       " MDMA.MDPState(UAVState(18, 18, :SW), 12, 100, nothing)\n",
       " MDMA.MDPState(UAVState(18, 18, :SW), 13, 100, nothing)\n",
       " ⋮\n",
       " MDMA.MDPState(UAVState(21, 13, :SW), 89, 100, nothing)\n",
       " MDMA.MDPState(UAVState(21, 13, :SW), 90, 100, nothing)\n",
       " MDMA.MDPState(UAVState(21, 13, :SW), 91, 100, nothing)\n",
       " MDMA.MDPState(UAVState(21, 13, :SW), 92, 100, nothing)\n",
       " MDMA.MDPState(UAVState(21, 13, :SW), 93, 100, nothing)\n",
       " MDMA.MDPState(UAVState(21, 13, :SW), 94, 100, nothing)\n",
       " MDMA.MDPState(UAVState(21, 13, :SW), 95, 100, nothing)\n",
       " MDMA.MDPState(UAVState(21, 13, :SW), 96, 100, nothing)\n",
       " MDMA.MDPState(UAVState(21, 13, :SW), 97, 100, nothing)\n",
       " MDMA.MDPState(UAVState(21, 13, :SW), 98, 100, nothing)\n",
       " MDMA.MDPState(UAVState(21, 13, :SW), 99, 100, nothing)\n",
       " MDMA.MDPState(UAVState(21, 13, :SW), 100, 100, nothing)"
      ]
     },
     "execution_count": 14,
     "metadata": {},
     "output_type": "execute_result"
    }
   ],
   "source": [
    "solution.elements[2][2]"
   ]
  },
  {
   "cell_type": "code",
   "execution_count": 15,
   "metadata": {},
   "outputs": [
    {
     "data": {
      "text/plain": [
       "100-element Vector{MDMA.MDPState}:\n",
       " MDMA.MDPState(UAVState(19, 10, :E), 1, 100, nothing)\n",
       " MDMA.MDPState(UAVState(17, 8, :SE), 2, 100, nothing)\n",
       " MDMA.MDPState(UAVState(15, 8, :S), 3, 100, nothing)\n",
       " MDMA.MDPState(UAVState(13, 10, :SW), 4, 100, nothing)\n",
       " MDMA.MDPState(UAVState(11, 8, :W), 5, 100, nothing)\n",
       " MDMA.MDPState(UAVState(11, 8, :NW), 6, 100, nothing)\n",
       " MDMA.MDPState(UAVState(11, 8, :NW), 7, 100, nothing)\n",
       " MDMA.MDPState(UAVState(11, 8, :NW), 8, 100, nothing)\n",
       " MDMA.MDPState(UAVState(12, 8, :NW), 9, 100, nothing)\n",
       " MDMA.MDPState(UAVState(12, 8, :NW), 10, 100, nothing)\n",
       " MDMA.MDPState(UAVState(12, 8, :NW), 11, 100, nothing)\n",
       " MDMA.MDPState(UAVState(12, 8, :NW), 12, 100, nothing)\n",
       " MDMA.MDPState(UAVState(12, 8, :NW), 13, 100, nothing)\n",
       " ⋮\n",
       " MDMA.MDPState(UAVState(22, 21, :S), 89, 100, nothing)\n",
       " MDMA.MDPState(UAVState(22, 21, :S), 90, 100, nothing)\n",
       " MDMA.MDPState(UAVState(22, 21, :S), 91, 100, nothing)\n",
       " MDMA.MDPState(UAVState(22, 21, :S), 92, 100, nothing)\n",
       " MDMA.MDPState(UAVState(22, 21, :S), 93, 100, nothing)\n",
       " MDMA.MDPState(UAVState(22, 21, :S), 94, 100, nothing)\n",
       " MDMA.MDPState(UAVState(22, 21, :S), 95, 100, nothing)\n",
       " MDMA.MDPState(UAVState(22, 21, :S), 96, 100, nothing)\n",
       " MDMA.MDPState(UAVState(22, 21, :S), 97, 100, nothing)\n",
       " MDMA.MDPState(UAVState(22, 21, :S), 98, 100, nothing)\n",
       " MDMA.MDPState(UAVState(22, 21, :S), 99, 100, nothing)\n",
       " MDMA.MDPState(UAVState(22, 21, :S), 100, 100, nothing)"
      ]
     },
     "execution_count": 15,
     "metadata": {},
     "output_type": "execute_result"
    }
   ],
   "source": [
    "solution.elements[1][2]"
   ]
  },
  {
   "cell_type": "code",
   "execution_count": 16,
   "metadata": {},
   "outputs": [
    {
     "data": {
      "text/plain": [
       "94.99999999999994"
      ]
     },
     "execution_count": 16,
     "metadata": {},
     "output_type": "execute_result"
    }
   ],
   "source": [
    "solution.value"
   ]
  },
  {
   "cell_type": "code",
   "execution_count": null,
   "metadata": {},
   "outputs": [],
   "source": []
  },
  {
   "cell_type": "code",
   "execution_count": null,
   "metadata": {},
   "outputs": [],
   "source": []
  },
  {
   "cell_type": "code",
   "execution_count": null,
   "metadata": {},
   "outputs": [],
   "source": []
  }
 ],
 "metadata": {
  "kernelspec": {
   "display_name": "Julia 1.8.2",
   "language": "julia",
   "name": "julia-1.8"
  },
  "language_info": {
   "file_extension": ".jl",
   "mimetype": "application/julia",
   "name": "julia",
   "version": "1.8.2"
  }
 },
 "nbformat": 4,
 "nbformat_minor": 2
}
