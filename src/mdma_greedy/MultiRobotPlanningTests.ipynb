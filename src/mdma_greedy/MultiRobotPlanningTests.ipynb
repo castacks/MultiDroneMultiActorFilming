{
 "cells": [
  {
   "cell_type": "code",
   "execution_count": 1,
   "metadata": {
    "scrolled": true
   },
   "outputs": [],
   "source": [
    "using Revise"
   ]
  },
  {
   "cell_type": "code",
   "execution_count": 2,
   "metadata": {
    "scrolled": true
   },
   "outputs": [
    {
     "name": "stderr",
     "output_type": "stream",
     "text": [
      "┌ Info: Precompiling MDMA [top-level]\n",
      "└ @ Base loading.jl:1664\n"
     ]
    },
    {
     "name": "stdout",
     "output_type": "stream",
     "text": [
      "\u001b[0m\u001b[1mTest Summary: | \u001b[22m\u001b[32m\u001b[1mPass  \u001b[22m\u001b[39m\u001b[36m\u001b[1mTotal  \u001b[22m\u001b[39m\u001b[0m\u001b[1mTime\u001b[22m\n",
      "detectTarget  | \u001b[32m  30  \u001b[39m\u001b[36m   30  \u001b[39m\u001b[0m0.6s\n",
      "\u001b[0m\u001b[1mTest Summary:        |\u001b[22m\u001b[0m\u001b[1mTime\u001b[22m\n",
      "single_robot_planner | \u001b[36mNone  \u001b[39m\u001b[0m0.0s\n"
     ]
    }
   ],
   "source": [
    "using MDMA"
   ]
  },
  {
   "cell_type": "code",
   "execution_count": null,
   "metadata": {},
   "outputs": [],
   "source": []
  },
  {
   "cell_type": "code",
   "execution_count": 10,
   "metadata": {},
   "outputs": [
    {
     "name": "stdout",
     "output_type": "stream",
     "text": [
      "Solving Solution for assignment_test using FormationPlanner\n",
      "Starting Robot 1\n",
      "Starting Robot 2\n",
      "Starting Robot 3\n",
      "Saving solution to ../../experiments/assignment_test/formation/solution.json\n",
      "Writing to ../../experiments/assignment_test/formation/renders/01.png\n",
      "Writing to ../../experiments/assignment_test/formation/renders/02.png\n",
      "Writing to ../../experiments/assignment_test/formation/renders/03.png\n",
      "Writing to ../../experiments/assignment_test/formation/renders/04.png\n",
      "Writing to ../../experiments/assignment_test/formation/renders/05.png\n",
      "Writing to ../../experiments/assignment_test/formation/renders/06.png\n",
      "Writing to ../../experiments/assignment_test/formation/renders/07.png\n",
      "Writing to ../../experiments/assignment_test/formation/renders/08.png\n",
      "Writing to ../../experiments/assignment_test/formation/renders/09.png\n",
      "Writing to ../../experiments/assignment_test/formation/renders/10.png\n",
      "Writing to ../../experiments/assignment_test/formation/renders/11.png\n",
      "Writing to ../../experiments/assignment_test/formation/renders/12.png\n",
      "Writing to ../../experiments/assignment_test/formation/renders/13.png\n",
      "Writing to ../../experiments/assignment_test/formation/renders/14.png\n",
      "Writing to ../../experiments/assignment_test/formation/renders/15.png\n",
      "Writing to ../../experiments/assignment_test/formation/renders/16.png\n",
      "Writing to ../../experiments/assignment_test/formation/renders/17.png\n",
      "Writing to ../../experiments/assignment_test/formation/renders/18.png\n",
      "Writing to ../../experiments/assignment_test/formation/renders/19.png\n",
      "Writing to ../../experiments/assignment_test/formation/renders/20.png\n",
      "Writing to ../../experiments/assignment_test/formation/renders/21.png\n",
      "Writing to ../../experiments/assignment_test/formation/renders/22.png\n",
      "Writing to ../../experiments/assignment_test/formation/renders/23.png\n",
      "Writing to ../../experiments/assignment_test/formation/renders/24.png\n",
      "Writing to ../../experiments/assignment_test/formation/renders/25.png\n",
      "Writing to ../../experiments/assignment_test/formation/renders/26.png\n",
      "Writing to ../../experiments/assignment_test/formation/renders/27.png\n",
      "Writing to ../../experiments/assignment_test/formation/renders/28.png\n",
      "Writing to ../../experiments/assignment_test/formation/renders/29.png\n",
      "Writing to ../../experiments/assignment_test/formation/renders/30.png\n",
      "Writing to ../../experiments/assignment_test/formation/renders/31.png\n",
      "Writing to ../../experiments/assignment_test/formation/renders/32.png\n",
      "Writing to ../../experiments/assignment_test/formation/renders/33.png\n",
      "Writing to ../../experiments/assignment_test/formation/renders/34.png\n",
      "Writing to ../../experiments/assignment_test/formation/renders/35.png\n",
      "Writing to ../../experiments/assignment_test/formation/renders/36.png\n",
      "Writing to ../../experiments/assignment_test/formation/renders/37.png\n",
      "Writing to ../../experiments/assignment_test/formation/renders/38.png\n",
      "Writing to ../../experiments/assignment_test/formation/renders/39.png\n",
      "Writing to ../../experiments/assignment_test/formation/renders/40.png\n",
      "Writing to ../../experiments/assignment_test/formation/renders/41.png\n",
      "Writing to ../../experiments/assignment_test/formation/renders/42.png\n",
      "Writing to ../../experiments/assignment_test/formation/renders/43.png\n",
      "Writing to ../../experiments/assignment_test/formation/renders/44.png\n",
      "Writing to ../../experiments/assignment_test/formation/renders/45.png\n",
      "Writing to ../../experiments/assignment_test/formation/renders/46.png\n",
      "Writing to ../../experiments/assignment_test/formation/renders/47.png\n",
      "Writing to ../../experiments/assignment_test/formation/renders/48.png\n",
      "Writing to ../../experiments/assignment_test/formation/renders/49.png\n",
      "Writing to ../../experiments/assignment_test/formation/renders/50.png\n",
      "Writing to ../../experiments/assignment_test/formation/renders/51.png\n",
      "Writing to ../../experiments/assignment_test/formation/renders/52.png\n",
      "Writing to ../../experiments/assignment_test/formation/renders/53.png\n",
      "Writing to ../../experiments/assignment_test/formation/renders/54.png\n",
      "Writing to ../../experiments/assignment_test/formation/renders/55.png\n",
      "Writing to ../../experiments/assignment_test/formation/renders/56.png\n",
      "Writing to ../../experiments/assignment_test/formation/renders/57.png\n",
      "Writing to ../../experiments/assignment_test/formation/renders/58.png\n",
      "Writing to ../../experiments/assignment_test/formation/renders/59.png\n",
      "Writing to ../../experiments/assignment_test/formation/renders/60.png\n",
      "Writing to ../../experiments/assignment_test/formation/renders/61.png\n",
      "Writing to ../../experiments/assignment_test/formation/renders/62.png\n",
      "Writing to ../../experiments/assignment_test/formation/renders/63.png\n",
      "Writing to ../../experiments/assignment_test/formation/renders/64.png\n",
      "Writing to ../../experiments/assignment_test/formation/renders/65.png\n",
      "Writing to ../../experiments/assignment_test/formation/renders/66.png\n",
      "Writing to ../../experiments/assignment_test/formation/renders/67.png\n",
      "Writing to ../../experiments/assignment_test/formation/renders/68.png\n",
      "Writing to ../../experiments/assignment_test/formation/renders/69.png\n",
      "Writing to ../../experiments/assignment_test/formation/renders/70.png\n",
      "Writing to ../../experiments/assignment_test/formation/renders/71.png\n",
      "Writing to ../../experiments/assignment_test/formation/renders/72.png\n",
      "Writing to ../../experiments/assignment_test/formation/renders/73.png\n",
      "Writing to ../../experiments/assignment_test/formation/renders/74.png\n",
      "Writing to ../../experiments/assignment_test/formation/renders/75.png\n",
      "Writing to ../../experiments/assignment_test/formation/renders/76.png\n",
      "Writing to ../../experiments/assignment_test/formation/renders/77.png\n",
      "Writing to ../../experiments/assignment_test/formation/renders/78.png\n",
      "Writing to ../../experiments/assignment_test/formation/renders/79.png\n",
      "Writing to ../../experiments/assignment_test/formation/renders/80.png\n",
      "Writing to ../../experiments/assignment_test/formation/renders/81.png\n",
      "Writing to ../../experiments/assignment_test/formation/renders/82.png\n",
      "Writing to ../../experiments/assignment_test/formation/renders/83.png\n",
      "Writing to ../../experiments/assignment_test/formation/renders/84.png\n",
      "Writing to ../../experiments/assignment_test/formation/renders/85.png\n",
      "Writing to ../../experiments/assignment_test/formation/renders/86.png\n",
      "Writing to ../../experiments/assignment_test/formation/renders/87.png\n",
      "Writing to ../../experiments/assignment_test/formation/renders/88.png\n",
      "Writing to ../../experiments/assignment_test/formation/renders/89.png\n",
      "Writing to ../../experiments/assignment_test/formation/renders/90.png\n",
      "Writing to ../../experiments/assignment_test/formation/renders/91.png\n",
      "Writing to ../../experiments/assignment_test/formation/renders/92.png\n",
      "Writing to ../../experiments/assignment_test/formation/renders/93.png\n",
      "Writing to ../../experiments/assignment_test/formation/renders/94.png\n",
      "Writing to ../../experiments/assignment_test/formation/renders/95.png\n",
      "Writing to ../../experiments/assignment_test/formation/renders/96.png\n",
      "Writing to ../../experiments/assignment_test/formation/renders/97.png\n",
      "Writing to ../../experiments/assignment_test/formation/renders/98.png\n",
      "Writing to ../../experiments/assignment_test/formation/renders/99.png\n",
      "Writing to ../../experiments/assignment_test/formation/renders/100.png\n"
     ]
    }
   ],
   "source": [
    "# Experiment name\n",
    "# This must match the blend file name and will name the folder \n",
    "# for which experiment data is saved in /output\n",
    "# Around 600 seconds before camera\n",
    "# Around 300 seconds other camera\n",
    "# Around 300 seconds\n",
    "# Around ### Without Dispatch and No Revise\n",
    "experiment_name=\"assignment_test\"\n",
    "MDMA.run_experiment(experiment_name, \"../../experiments\", FormationPlanner())"
   ]
  },
  {
   "cell_type": "code",
   "execution_count": 4,
   "metadata": {},
   "outputs": [],
   "source": [
    "# focal_length = [10., 10.]#mm\n",
    "# resolution = [3840.0, 2160.0]\n",
    "# lens_dim = [35.00, 24.00] #mm\n",
    "# pitch = 0.\n",
    "# cutoff = 10.\n",
    "# sensor = MDMA.PinholeCameraModel(focal_length, resolution, lens_dim, 0.0, pitch, cutoff)\n",
    "# # sensor = MDMA.ViewConeSensor(pi / 2, cutoff)\n",
    "# move_dist = 3\n",
    "# experiment_name=\"single_move_right_small\"\n",
    "# path_to_experiments = \"../../experiments\"\n",
    "# multi_configs = configs_from_file(\"$(path_to_experiments)/$(experiment_name)/$(experiment_name)_data.json\", experiment_name, move_dist)\n",
    "# multi_configs.sensor = sensor\n",
    "# # model = MDMA.SingleRobotMultiTargetViewCoverageProblem(grid, sensor, horizon, target_trajectories, move_dist);\n",
    "# robot_states = map(x -> MDMA.random_state(multi_configs.horizon, multi_configs.grid), 1:multi_configs.num_robots)\n",
    "# robot_states = map(x -> MDMA.random_state(multi_configs.horizon, multi_configs.grid), 1:multi_configs.num_robots)\n",
    "# # multi_problem = MDMA.MultiRobotTargetCoverageProblem(robot_states, multi_configs)\n"
   ]
  },
  {
   "cell_type": "code",
   "execution_count": 5,
   "metadata": {
    "scrolled": true
   },
   "outputs": [],
   "source": [
    "# policy = MDMA.solve_single_robot(model)\n",
    "\n",
    "# Will need a grid for each robot\n",
    "# \n",
    "# solution = solve_sequential(multi_problem)"
   ]
  },
  {
   "cell_type": "code",
   "execution_count": null,
   "metadata": {},
   "outputs": [],
   "source": []
  },
  {
   "cell_type": "code",
   "execution_count": 6,
   "metadata": {},
   "outputs": [],
   "source": [
    "# MDMA.save_solution(experiment_name,\"../../experiments\",solution, multi_configs)"
   ]
  },
  {
   "cell_type": "code",
   "execution_count": 7,
   "metadata": {},
   "outputs": [],
   "source": [
    "# MDMA.save_solution(experiment_name,\"output\",MDMA.load_solution(\"output/$(experiment_name)/solution.json\"), multi_configs)"
   ]
  },
  {
   "cell_type": "code",
   "execution_count": 8,
   "metadata": {},
   "outputs": [],
   "source": [
    "# isequal(solution,sol2)"
   ]
  },
  {
   "cell_type": "code",
   "execution_count": null,
   "metadata": {},
   "outputs": [],
   "source": []
  },
  {
   "cell_type": "code",
   "execution_count": null,
   "metadata": {},
   "outputs": [],
   "source": []
  },
  {
   "cell_type": "code",
   "execution_count": null,
   "metadata": {},
   "outputs": [],
   "source": []
  }
 ],
 "metadata": {
  "kernelspec": {
   "display_name": "Julia 1.8.2",
   "language": "julia",
   "name": "julia-1.8"
  },
  "language_info": {
   "file_extension": ".jl",
   "mimetype": "application/julia",
   "name": "julia",
   "version": "1.8.2"
  }
 },
 "nbformat": 4,
 "nbformat_minor": 2
}
