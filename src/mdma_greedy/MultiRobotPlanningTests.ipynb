{
 "cells": [
  {
   "cell_type": "code",
   "execution_count": 1,
   "metadata": {
    "scrolled": true
   },
   "outputs": [],
   "source": [
    "using Revise"
   ]
  },
  {
   "cell_type": "code",
   "execution_count": 6,
   "metadata": {
    "scrolled": true
   },
   "outputs": [
    {
     "name": "stderr",
     "output_type": "stream",
     "text": [
      "┌ Info: Precompiling MDMA [top-level]\n",
      "└ @ Base loading.jl:1664\n"
     ]
    },
    {
     "name": "stdout",
     "output_type": "stream",
     "text": [
      "\u001b[0m\u001b[1mTest Summary: | \u001b[22m\u001b[32m\u001b[1mPass  \u001b[22m\u001b[39m\u001b[36m\u001b[1mTotal  \u001b[22m\u001b[39m\u001b[0m\u001b[1mTime\u001b[22m\n",
      "detectTarget  | \u001b[32m  30  \u001b[39m\u001b[36m   30  \u001b[39m\u001b[0m0.5s\n",
      "\u001b[0m\u001b[1mTest Summary:        |\u001b[22m\u001b[0m\u001b[1mTime\u001b[22m\n",
      "single_robot_planner | \u001b[36mNone  \u001b[39m\u001b[0m0.0s\n"
     ]
    }
   ],
   "source": [
    "using MDMA"
   ]
  },
  {
   "cell_type": "code",
   "execution_count": null,
   "metadata": {},
   "outputs": [],
   "source": []
  },
  {
   "cell_type": "code",
   "execution_count": null,
   "metadata": {},
   "outputs": [
    {
     "name": "stdout",
     "output_type": "stream",
     "text": [
      "Solving Solution for spreadout_group\n",
      "Processing Robot 1\n",
      "[Iteration 1   ] residual:        300 | iteration runtime: 119415.336 ms, (       119 s total)\n"
     ]
    }
   ],
   "source": [
    "# Experiment name\n",
    "# This must match the blend file name and will name the folder \n",
    "# for which experiment data is saved in /output\n",
    "# Around 600 seconds before camera\n",
    "# Around 300 seconds other camera\n",
    "# Around 300 seconds\n",
    "# Around ### Without Dispatch and No Revise\n",
    "experiment_name=\"spreadout_group\"\n",
    "MDMA.run_experiment(experiment_name, \"../../experiments\", AssignmentPlanner())"
   ]
  },
  {
   "cell_type": "code",
   "execution_count": 4,
   "metadata": {},
   "outputs": [],
   "source": [
    "# focal_length = [10., 10.]#mm\n",
    "# resolution = [3840.0, 2160.0]\n",
    "# lens_dim = [35.00, 24.00] #mm\n",
    "# pitch = 0.\n",
    "# cutoff = 10.\n",
    "# sensor = MDMA.PinholeCameraModel(focal_length, resolution, lens_dim, 0.0, pitch, cutoff)\n",
    "# # sensor = MDMA.ViewConeSensor(pi / 2, cutoff)\n",
    "# move_dist = 3\n",
    "# experiment_name=\"single_move_right_small\"\n",
    "# path_to_experiments = \"../../experiments\"\n",
    "# multi_configs = configs_from_file(\"$(path_to_experiments)/$(experiment_name)/$(experiment_name)_data.json\", experiment_name, move_dist)\n",
    "# multi_configs.sensor = sensor\n",
    "# # model = MDMA.SingleRobotMultiTargetViewCoverageProblem(grid, sensor, horizon, target_trajectories, move_dist);\n",
    "# robot_states = map(x -> MDMA.random_state(multi_configs.horizon, multi_configs.grid), 1:multi_configs.num_robots)\n",
    "# robot_states = map(x -> MDMA.random_state(multi_configs.horizon, multi_configs.grid), 1:multi_configs.num_robots)\n",
    "# # multi_problem = MDMA.MultiRobotTargetCoverageProblem(robot_states, multi_configs)\n"
   ]
  },
  {
   "cell_type": "code",
   "execution_count": 5,
   "metadata": {
    "scrolled": true
   },
   "outputs": [],
   "source": [
    "# policy = MDMA.solve_single_robot(model)\n",
    "\n",
    "# Will need a grid for each robot\n",
    "# \n",
    "# solution = solve_sequential(multi_problem)"
   ]
  },
  {
   "cell_type": "code",
   "execution_count": null,
   "metadata": {},
   "outputs": [],
   "source": []
  },
  {
   "cell_type": "code",
   "execution_count": 6,
   "metadata": {},
   "outputs": [],
   "source": [
    "# MDMA.save_solution(experiment_name,\"../../experiments\",solution, multi_configs)"
   ]
  },
  {
   "cell_type": "code",
   "execution_count": 7,
   "metadata": {},
   "outputs": [],
   "source": [
    "# MDMA.save_solution(experiment_name,\"output\",MDMA.load_solution(\"output/$(experiment_name)/solution.json\"), multi_configs)"
   ]
  },
  {
   "cell_type": "code",
   "execution_count": 8,
   "metadata": {},
   "outputs": [],
   "source": [
    "# isequal(solution,sol2)"
   ]
  },
  {
   "cell_type": "code",
   "execution_count": null,
   "metadata": {},
   "outputs": [],
   "source": []
  },
  {
   "cell_type": "code",
   "execution_count": null,
   "metadata": {},
   "outputs": [],
   "source": []
  },
  {
   "cell_type": "code",
   "execution_count": null,
   "metadata": {},
   "outputs": [],
   "source": []
  }
 ],
 "metadata": {
  "kernelspec": {
   "display_name": "Julia 1.8.2",
   "language": "julia",
   "name": "julia-1.8"
  },
  "language_info": {
   "file_extension": ".jl",
   "mimetype": "application/julia",
   "name": "julia",
   "version": "1.8.2"
  }
 },
 "nbformat": 4,
 "nbformat_minor": 2
}
