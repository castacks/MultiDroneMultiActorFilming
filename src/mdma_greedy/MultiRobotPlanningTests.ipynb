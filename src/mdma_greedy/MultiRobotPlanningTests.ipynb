{
 "cells": [
  {
   "cell_type": "code",
   "execution_count": 1,
   "metadata": {
    "scrolled": true
   },
   "outputs": [],
   "source": [
    "using Revise\n",
    "using POMDPs\n",
    "using DiscreteValueIteration\n",
    "using POMDPTools\n",
    "using SubmodularMaximization\n",
    "# using Dates\n",
    "# using Profile"
   ]
  },
  {
   "cell_type": "code",
   "execution_count": 2,
   "metadata": {
    "scrolled": true
   },
   "outputs": [
    {
     "name": "stderr",
     "output_type": "stream",
     "text": [
      "┌ Info: Precompiling MDMA [top-level]\n",
      "└ @ Base loading.jl:1664\n"
     ]
    },
    {
     "name": "stdout",
     "output_type": "stream",
     "text": [
      "\u001b[0m\u001b[1mTest Summary: | \u001b[22m\u001b[32m\u001b[1mPass  \u001b[22m\u001b[39m\u001b[36m\u001b[1mTotal  \u001b[22m\u001b[39m\u001b[0m\u001b[1mTime\u001b[22m\n",
      "detectTarget  | \u001b[32m  30  \u001b[39m\u001b[36m   30  \u001b[39m\u001b[0m0.5s\n"
     ]
    },
    {
     "name": "stderr",
     "output_type": "stream",
     "text": [
      "\u001b[91m\u001b[1mERROR: \u001b[22m\u001b[39mLoadError: invalid subtyping in definition of MultiRobotTargetCoverageProblem\n",
      "Stacktrace:\n",
      " [1] top-level scope\n",
      "\u001b[90m   @ \u001b[39m\u001b[90m/airlab/src/mdma_greedy/\u001b[39m\u001b[90m\u001b[4mMDMA_MultiAgent.jl:65\u001b[24m\u001b[39m\n",
      " [2] \u001b[0m\u001b[1minclude\u001b[22m\u001b[0m\u001b[1m(\u001b[22m\u001b[90mmod\u001b[39m::\u001b[0mModule, \u001b[90m_path\u001b[39m::\u001b[0mString\u001b[0m\u001b[1m)\u001b[22m\n",
      "\u001b[90m   @ \u001b[39m\u001b[90mBase\u001b[39m \u001b[90m./\u001b[39m\u001b[90m\u001b[4mBase.jl:419\u001b[24m\u001b[39m\n",
      " [3] \u001b[0m\u001b[1minclude\u001b[22m\u001b[0m\u001b[1m(\u001b[22m\u001b[90mx\u001b[39m::\u001b[0mString\u001b[0m\u001b[1m)\u001b[22m\n",
      "\u001b[90m   @ \u001b[39m\u001b[35mMDMA\u001b[39m \u001b[90m/airlab/src/mdma_greedy/\u001b[39m\u001b[90m\u001b[4mMDMA.jl:1\u001b[24m\u001b[39m\n",
      " [4] top-level scope\n",
      "\u001b[90m   @ \u001b[39m\u001b[90m/airlab/src/mdma_greedy/\u001b[39m\u001b[90m\u001b[4mMDMA.jl:6\u001b[24m\u001b[39m\n",
      " [5] \u001b[0m\u001b[1minclude\u001b[22m\n",
      "\u001b[90m   @ \u001b[39m\u001b[90m./\u001b[39m\u001b[90m\u001b[4mBase.jl:419\u001b[24m\u001b[39m\u001b[90m [inlined]\u001b[39m\n",
      " [6] \u001b[0m\u001b[1minclude_package_for_output\u001b[22m\u001b[0m\u001b[1m(\u001b[22m\u001b[90mpkg\u001b[39m::\u001b[0mBase.PkgId, \u001b[90minput\u001b[39m::\u001b[0mString, \u001b[90mdepot_path\u001b[39m::\u001b[0mVector\u001b[90m{String}\u001b[39m, \u001b[90mdl_load_path\u001b[39m::\u001b[0mVector\u001b[90m{String}\u001b[39m, \u001b[90mload_path\u001b[39m::\u001b[0mVector\u001b[90m{String}\u001b[39m, \u001b[90mconcrete_deps\u001b[39m::\u001b[0mVector\u001b[90m{Pair{Base.PkgId, UInt64}}\u001b[39m, \u001b[90msource\u001b[39m::\u001b[0mNothing\u001b[0m\u001b[1m)\u001b[22m\n",
      "\u001b[90m   @ \u001b[39m\u001b[90mBase\u001b[39m \u001b[90m./\u001b[39m\u001b[90m\u001b[4mloading.jl:1554\u001b[24m\u001b[39m\n",
      " [7] top-level scope\n",
      "\u001b[90m   @ \u001b[39m\u001b[90m\u001b[4mstdin:1\u001b[24m\u001b[39m\n",
      "in expression starting at /airlab/src/mdma_greedy/MDMA_MultiAgent.jl:65\n",
      "in expression starting at /airlab/src/mdma_greedy/MDMA.jl:1\n",
      "in expression starting at stdin:1\n"
     ]
    },
    {
     "ename": "LoadError",
     "evalue": "Failed to precompile MDMA [top-level] to /root/.julia/compiled/v1.8/jl_tMjVev.",
     "output_type": "error",
     "traceback": [
      "Failed to precompile MDMA [top-level] to /root/.julia/compiled/v1.8/jl_tMjVev.",
      "",
      "Stacktrace:",
      "  [1] error(s::String)",
      "    @ Base ./error.jl:35",
      "  [2] compilecache(pkg::Base.PkgId, path::String, internal_stderr::IO, internal_stdout::IO, keep_loaded_modules::Bool)",
      "    @ Base ./loading.jl:1707",
      "  [3] compilecache",
      "    @ ./loading.jl:1651 [inlined]",
      "  [4] _require(pkg::Base.PkgId)",
      "    @ Base ./loading.jl:1337",
      "  [5] _require_prelocked(uuidkey::Base.PkgId)",
      "    @ Base ./loading.jl:1200",
      "  [6] macro expansion",
      "    @ ./loading.jl:1180 [inlined]",
      "  [7] macro expansion",
      "    @ ./lock.jl:223 [inlined]",
      "  [8] require(into::Module, mod::Symbol)",
      "    @ Base ./loading.jl:1144",
      "  [9] eval",
      "    @ ./boot.jl:368 [inlined]",
      " [10] include_string(mapexpr::typeof(REPL.softscope), mod::Module, code::String, filename::String)",
      "    @ Base ./loading.jl:1428"
     ]
    }
   ],
   "source": [
    "using MDMA"
   ]
  },
  {
   "cell_type": "code",
   "execution_count": 3,
   "metadata": {
    "scrolled": true
   },
   "outputs": [
    {
     "ename": "LoadError",
     "evalue": "UndefVarError: ViewConeSensor not defined",
     "output_type": "error",
     "traceback": [
      "UndefVarError: ViewConeSensor not defined",
      "",
      "Stacktrace:",
      " [1] top-level scope",
      "   @ In[3]:2",
      " [2] eval",
      "   @ ./boot.jl:368 [inlined]",
      " [3] include_string(mapexpr::typeof(REPL.softscope), mod::Module, code::String, filename::String)",
      "   @ Base ./loading.jl:1428"
     ]
    }
   ],
   "source": [
    "# Set model parameters\n",
    "sensor = ViewConeSensor(pi/2, 3);\n",
    "horizon = 60\n",
    "grid = MDMA_Grid(25,25, horizon);\n",
    "\n",
    "# Setup initial distribution of targets\n",
    "targets = Vector{Target}(undef, 0);\n",
    "push!(targets, Target(grid.width-3,grid.height-3,0,1));\n",
    "push!(targets, Target(grid.width-4,grid.height-2,0,2));\n",
    "push!(targets, Target(grid.width-5,grid.height-3,0,3));\n",
    "initial_state = MDPState(UAVState(1, 1, :S), horizon)\n",
    "num_robots = 3\n",
    "robot_states = map(x-> MDMA.random_state(horizon, grid), 1:num_robots)\n",
    "target_trajectories = MDMA.generate_target_trajectories(grid, horizon, targets);\n",
    "\n",
    "move_dist = 3;\n",
    "multi_configs = MultiDroneMultiActorConfigs(num_robots=num_robots, target_trajectories=target_trajectories, grid=grid, sensor=sensor, horizon=horizon, move_dist=move_dist, solver_iterations=100,belres=0.01)\n",
    "coverage = generate_empty_coverage_data(multi_configs)\n",
    "multi_problem = MultiRobotTargetCoverageProblem(robot_states, coverage, multi_configs)\n",
    "\n",
    "# model = MDMA.SingleRobotMultiTargetViewCoverageProblem(grid, sensor, horizon, target_trajectories, move_dist, coverage, initial_state)"
   ]
  },
  {
   "cell_type": "code",
   "execution_count": 4,
   "metadata": {
    "scrolled": false
   },
   "outputs": [
    {
     "ename": "LoadError",
     "evalue": "UndefVarError: multi_problem not defined",
     "output_type": "error",
     "traceback": [
      "UndefVarError: multi_problem not defined",
      "",
      "Stacktrace:",
      " [1] top-level scope",
      "   @ In[4]:5",
      " [2] eval",
      "   @ ./boot.jl:368 [inlined]",
      " [3] include_string(mapexpr::typeof(REPL.softscope), mod::Module, code::String, filename::String)",
      "   @ Base ./loading.jl:1428"
     ]
    }
   ],
   "source": [
    "# policy = MDMA.solve_single_robot(model)\n",
    "\n",
    "# Will need a grid for each robot\n",
    "\n",
    "solution = solve_sequential(multi_problem)"
   ]
  },
  {
   "cell_type": "code",
   "execution_count": 5,
   "metadata": {},
   "outputs": [
    {
     "ename": "LoadError",
     "evalue": "UndefVarError: UAVState not defined",
     "output_type": "error",
     "traceback": [
      "UndefVarError: UAVState not defined",
      "",
      "Stacktrace:",
      " [1] top-level scope",
      "   @ In[5]:1",
      " [2] eval",
      "   @ ./boot.jl:368 [inlined]",
      " [3] include_string(mapexpr::typeof(REPL.softscope), mod::Module, code::String, filename::String)",
      "   @ Base ./loading.jl:1428"
     ]
    }
   ],
   "source": [
    "path = compute_path(model, policy, MDPState(UAVState(1,1,:N), model.horizon))"
   ]
  },
  {
   "cell_type": "code",
   "execution_count": 6,
   "metadata": {},
   "outputs": [
    {
     "ename": "LoadError",
     "evalue": "UndefVarError: RenderConf not defined",
     "output_type": "error",
     "traceback": [
      "UndefVarError: RenderConf not defined",
      "",
      "Stacktrace:",
      " [1] top-level scope",
      "   @ In[6]:9",
      " [2] eval",
      "   @ ./boot.jl:368 [inlined]",
      " [3] include_string(mapexpr::typeof(REPL.softscope), mod::Module, code::String, filename::String)",
      "   @ Base ./loading.jl:1428"
     ]
    }
   ],
   "source": [
    "# Type signature of RenderConf for reference\n",
    "#struct RenderConf\n",
    "#    ppm::Float64 # Pixels per meter for grid size\n",
    "#    buf::Int64   # Buffer grid surrounding the image\n",
    "#    draw_paths::Bool # Render paths\n",
    "#    draw_old_states::Bool # Set to false if you want only current state shown\n",
    "#end\n",
    "\n",
    "draw_frames(RenderConf(50, 4, true, false), model, path)"
   ]
  },
  {
   "cell_type": "code",
   "execution_count": null,
   "metadata": {},
   "outputs": [],
   "source": []
  },
  {
   "cell_type": "code",
   "execution_count": null,
   "metadata": {},
   "outputs": [],
   "source": []
  }
 ],
 "metadata": {
  "kernelspec": {
   "display_name": "Julia 1.8.2",
   "language": "julia",
   "name": "julia-1.8"
  },
  "language_info": {
   "file_extension": ".jl",
   "mimetype": "application/julia",
   "name": "julia",
   "version": "1.8.2"
  }
 },
 "nbformat": 4,
 "nbformat_minor": 2
}
