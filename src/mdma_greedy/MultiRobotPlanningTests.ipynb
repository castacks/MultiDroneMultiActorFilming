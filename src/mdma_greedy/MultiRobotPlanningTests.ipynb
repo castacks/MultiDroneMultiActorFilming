{
 "cells": [
  {
   "cell_type": "code",
   "execution_count": 1,
   "metadata": {
    "scrolled": true
   },
   "outputs": [],
   "source": [
    "using Revise\n",
    "using POMDPs\n",
    "using DiscreteValueIteration\n",
    "using POMDPTools\n",
    "using SubmodularMaximization\n",
    "# using Dates\n",
    "# using Profile"
   ]
  },
  {
   "cell_type": "code",
   "execution_count": 2,
   "metadata": {
    "scrolled": true
   },
   "outputs": [
    {
     "name": "stderr",
     "output_type": "stream",
     "text": [
      "┌ Info: Precompiling MDMA [top-level]\n",
      "└ @ Base loading.jl:1664\n"
     ]
    },
    {
     "name": "stdout",
     "output_type": "stream",
     "text": [
      "\u001b[0m\u001b[1mTest Summary: | \u001b[22m\u001b[32m\u001b[1mPass  \u001b[22m\u001b[39m\u001b[36m\u001b[1mTotal  \u001b[22m\u001b[39m\u001b[0m\u001b[1mTime\u001b[22m\n",
      "detectTarget  | \u001b[32m  30  \u001b[39m\u001b[36m   30  \u001b[39m\u001b[0m0.4s\n",
      "\u001b[0m\u001b[1mTest Summary:        |\u001b[22m\u001b[0m\u001b[1mTime\u001b[22m\n",
      "single_robot_planner | \u001b[36mNone  \u001b[39m\u001b[0m0.0s\n",
      "\u001b[0m\u001b[1mTest Summary:   |\u001b[22m\u001b[0m\u001b[1mTime\u001b[22m\n",
      "test_file_parse | \u001b[36mNone  \u001b[39m\u001b[0m0.4s\n"
     ]
    }
   ],
   "source": [
    "using MDMA"
   ]
  },
  {
   "cell_type": "code",
   "execution_count": 17,
   "metadata": {
    "scrolled": true
   },
   "outputs": [
    {
     "name": "stderr",
     "output_type": "stream",
     "text": [
      "┌ Error: Failed to revise /airlab/src/mdma_greedy/MDMA_Interface.jl\n",
      "│   exception = Revise.ReviseEvalException(\"/airlab/src/mdma_greedy/MDMA_Interface.jl:46\", UndefVarError(:num_robots), Any[(top-level scope at MDMA_Interface.jl:46, 1)])\n",
      "└ @ Revise /root/.julia/packages/Revise/do2nH/src/packagedef.jl:715\n",
      "┌ Warning: The running code does not match the saved version for the following files:\n",
      "│ \n",
      "│   /airlab/src/mdma_greedy/MDMA_Interface.jl\n",
      "│ \n",
      "│ If the error was due to evaluation order, it can sometimes be resolved by calling `Revise.retry()`.\n",
      "│ Use Revise.errors() to report errors again. Only the first error in each file is shown.\n",
      "│ Your prompt color may be yellow until the errors are resolved.\n",
      "└ @ Revise /root/.julia/packages/Revise/do2nH/src/packagedef.jl:825\n"
     ]
    },
    {
     "data": {
      "text/plain": [
       "MDMA.MultiRobotTargetCoverageProblem(MDMA.MDPState[MDMA.MDPState(UAVState(13, 28, :N), 1, 100, nothing), MDMA.MDPState(UAVState(25, 27, :W), 1, 100, nothing), MDMA.MDPState(UAVState(18, 21, :NW), 1, 100, nothing)], [-1.0 -1.0 … -1.0 -1.0; -1.0 -1.0 … -1.0 -1.0; … ; -1.0 -1.0 … -1.0 -1.0; -1.0 -1.0 … -1.0 -1.0], MultiDroneMultiActorConfigs(3, Target[Target(7.00660514831543, 8.999990463256836, 0.404746413230896, 1.0, Face[Face([0.11857274415175714, 0.9929453682576509], [0.11857274415175714, 0.9929453682576509], 0.1, 1.0), Face([-0.8006295414053416, 0.5991596927606799], [-0.8006295414053416, 0.5991596927606799], 0.1, 1.0), Face([-0.9192022855570988, -0.393785675496971], [-0.9192022855570988, -0.393785675496971], 0.1, 1.0), Face([-0.11857274415175749, -0.9929453682576509], [-0.11857274415175749, -0.9929453682576509], 0.1, 1.0), Face([0.8006295414053413, -0.5991596927606804], [0.8006295414053413, -0.5991596927606804], 0.1, 1.0), Face([0.9192022855570988, 0.3937856754969709], [0.9192022855570988, 0.3937856754969709], 0.1, 1.0)], 0x00000001, 0x00007f63) Target(24.971101760864258, 20.78084373474121, 3.096064805984497, 1.0, Face[Face([-0.5388965462387209, -0.842371956116761], [-0.5388965462387209, -0.842371956116761], 0.1, 1.0), Face([0.4600672403133446, -0.8878840771128083], [0.4600672403133446, -0.8878840771128083], 0.1, 1.0), Face([0.9989637865520657, -0.04551212099604695], [0.9989637865520657, -0.04551212099604695], 0.1, 1.0), Face([0.538896546238721, 0.8423719561167609], [0.538896546238721, 0.8423719561167609], 0.1, 1.0), Face([-0.4600672403133445, 0.8878840771128083], [-0.4600672403133445, 0.8878840771128083], 0.1, 1.0), Face([-0.9989637865520657, 0.045512120996047074], [-0.9989637865520657, 0.045512120996047074], 0.1, 1.0)], 0x00000002, 0x00007f62) … Target(5.92842435836792, 24.985061645507812, -0.5099403858184814, 1.0, Face[Face([0.8591156432639331, 0.5117815075783791], [0.8591156432639331, 0.5117815075783791], 0.1, 1.0), Face([-0.01365796511800791, 0.9999067256443649], [-0.01365796511800791, 0.9999067256443649], 0.1, 1.0), Face([-0.8727736083819411, 0.4881252180659858], [-0.8727736083819411, 0.4881252180659858], 0.1, 1.0), Face([-0.8591156432639332, -0.5117815075783788], [-0.8591156432639332, -0.5117815075783788], 0.1, 1.0), Face([0.013657965118007345, -0.9999067256443649], [0.013657965118007345, -0.9999067256443649], 0.1, 1.0), Face([0.872773608381941, -0.4881252180659859], [0.872773608381941, -0.4881252180659859], 0.1, 1.0)], 0x00000005, 0x00007f63) Target(3.8237342834472656, 25.763830184936523, 0.02060534805059433, 1.0, Face[Face([0.48205036652645944, 0.8761435065853688], [0.48205036652645944, 0.8761435065853688], 0.1, 1.0), Face([-0.5177373508004781, 0.8555396166081981], [-0.5177373508004781, 0.8555396166081981], 0.1, 1.0), Face([-0.9997877173269377, -0.02060388997717069], [-0.9997877173269377, -0.02060388997717069], 0.1, 1.0), Face([-0.4820503665264597, -0.8761435065853685], [-0.4820503665264597, -0.8761435065853685], 0.1, 1.0), Face([0.5177373508004777, -0.8555396166081984], [0.5177373508004777, -0.8555396166081984], 0.1, 1.0), Face([0.9997877173269377, 0.020603889977170567], [0.9997877173269377, 0.020603889977170567], 0.1, 1.0)], 0x00000006, 0x00007f63); Target(7.222255706787109, 9.118860244750977, 0.367271363735199, 1.0, Face[Face([0.1556914611222593, 0.9878057344101704], [0.1556914611222593, 0.9878057344101704], 0.1, 1.0), Face([-0.777619129442022, 0.628735627689279], [-0.777619129442022, 0.628735627689279], 0.1, 1.0), Face([-0.9333105905642815, -0.35907010672089135], [-0.9333105905642815, -0.35907010672089135], 0.1, 1.0), Face([-0.15569146112225962, -0.9878057344101703], [-0.15569146112225962, -0.9878057344101703], 0.1, 1.0), Face([0.7776191294420217, -0.6287356276892795], [0.7776191294420217, -0.6287356276892795], 0.1, 1.0), Face([0.9333105905642815, 0.35907010672089124], [0.9333105905642815, 0.35907010672089124], 0.1, 1.0)], 0x00000001, 0x00007f63) Target(24.78525161743164, 20.690082550048828, 3.0737411975860596, 1.0, Face[Face([-0.5575654938613462, -0.8301329532401138], [-0.5575654938613462, -0.8301329532401138], 0.1, 1.0), Face([0.4401334790938647, -0.8979323585775995], [0.4401334790938647, -0.8979323585775995], 0.1, 1.0), Face([0.9976989729552113, -0.0677994053374852], [0.9976989729552113, -0.0677994053374852], 0.1, 1.0), Face([0.5575654938613464, 0.8301329532401138], [0.5575654938613464, 0.8301329532401138], 0.1, 1.0), Face([-0.4401334790938646, 0.8979323585775995], [-0.4401334790938646, 0.8979323585775995], 0.1, 1.0), Face([-0.9976989729552113, 0.06779940533748532], [-0.9976989729552113, 0.06779940533748532], 0.1, 1.0)], 0x00000002, 0x00007f63) … Target(6.1590352058410645, 24.962783813476562, -0.5797301530838013, 1.0, Face[Face([0.8927124083400222, 0.450626847841712], [0.8927124083400222, 0.450626847841712], 0.1, 1.0), Face([0.056101906311783835, 0.9984250478169024], [0.056101906311783835, 0.9984250478169024], 0.1, 1.0), Face([-0.8366105020282385, 0.5477981999751904], [-0.8366105020282385, 0.5477981999751904], 0.1, 1.0), Face([-0.8927124083400224, -0.45062684784171164], [-0.8927124083400224, -0.45062684784171164], 0.1, 1.0), Face([-0.056101906311784404, -0.9984250478169023], [-0.056101906311784404, -0.9984250478169023], 0.1, 1.0), Face([0.8366105020282384, -0.5477981999751905], [0.8366105020282384, -0.5477981999751905], 0.1, 1.0)], 0x00000005, 0x00007f63) Target(4.052897930145264, 25.865009307861328, -0.08177497982978821, 1.0, Face[Face([0.569069451149272, 0.8222894622750959], [0.569069451149272, 0.8222894622750959], 0.1, 1.0), Face([-0.4275888380198428, 0.9039733323504852], [-0.4275888380198428, 0.9039733323504852], 0.1, 1.0), Face([-0.9966582891691148, 0.08168387007538916], [-0.9966582891691148, 0.08168387007538916], 0.1, 1.0), Face([-0.5690694511492722, -0.8222894622750957], [-0.5690694511492722, -0.8222894622750957], 0.1, 1.0), Face([0.42758883801984227, -0.9039733323504854], [0.42758883801984227, -0.9039733323504854], 0.1, 1.0), Face([0.9966582891691148, -0.08168387007538928], [0.9966582891691148, -0.08168387007538928], 0.1, 1.0)], 0x00000006, 0x00007f63); … ; Target(25.693626403808594, 19.800662994384766, -0.3521864414215088, 1.0, Face[Face([0.768046587206466, 0.6403939723955093], [0.768046587206466, 0.6403939723955093], 0.1, 1.0), Face([-0.17057415492170855, 0.9853448420084945], [-0.17057415492170855, 0.9853448420084945], 0.1, 1.0), Face([-0.9386207421281747, 0.3449508696129851], [-0.9386207421281747, 0.3449508696129851], 0.1, 1.0), Face([-0.7680465872064662, -0.6403939723955091], [-0.7680465872064662, -0.6403939723955091], 0.1, 1.0), Face([0.170574154921708, -0.9853448420084946], [0.170574154921708, -0.9853448420084946], 0.1, 1.0), Face([0.9386207421281746, -0.3449508696129852], [0.9386207421281746, -0.3449508696129852], 0.1, 1.0)], 0x00000001, 0x00007f63) Target(9.473825454711914, 10.309732437133789, 2.2257144451141357, 1.0, Face[Face([-0.9913899989134323, -0.13094223938219796], [-0.9913899989134323, -0.13094223938219796], 0.1, 1.0), Face([-0.38229569372330985, -0.9240400438079582], [-0.38229569372330985, -0.9240400438079582], 0.1, 1.0), Face([0.6090943051901229, -0.7930978044257603], [0.6090943051901229, -0.7930978044257603], 0.1, 1.0), Face([0.9913899989134323, 0.13094223938219782], [0.9913899989134323, 0.13094223938219782], 0.1, 1.0), Face([0.38229569372330996, 0.9240400438079581], [0.38229569372330996, 0.9240400438079581], 0.1, 1.0), Face([-0.6090943051901228, 0.7930978044257603], [-0.6090943051901228, 0.7930978044257603], 0.1, 1.0)], 0x00000002, 0x00007f63) … Target(20.70781135559082, 8.810117721557617, -2.3165435791015625, 1.0, Face[Face([0.2969054188316675, -0.9549068919367961], [0.2969054188316675, -0.9549068919367961], 0.1, 1.0), Face([0.975426336081941, -0.22032581073891547], [0.975426336081941, -0.22032581073891547], 0.1, 1.0), Face([0.6785209172502735, 0.7345810811978808], [0.6785209172502735, 0.7345810811978808], 0.1, 1.0), Face([-0.29690541883166716, 0.9549068919367962], [-0.29690541883166716, 0.9549068919367962], 0.1, 1.0), Face([-0.9754263360819408, 0.22032581073891602], [-0.9754263360819408, 0.22032581073891602], 0.1, 1.0), Face([-0.6785209172502735, -0.7345810811978807], [-0.6785209172502735, -0.7345810811978807], 0.1, 1.0)], 0x00000005, 0x00007f63) Target(20.055715560913086, 9.420459747314453, -2.043027877807617, 1.0, Face[Face([0.5438062579853409, -0.8392107922184872], [0.5438062579853409, -0.8392107922184872], 0.1, 1.0), Face([0.9986809941839444, 0.051344638043015756], [0.9986809941839444, 0.051344638043015756], 0.1, 1.0), Face([0.4548747361986036, 0.8905554302615031], [0.4548747361986036, 0.8905554302615031], 0.1, 1.0), Face([-0.5438062579853407, 0.8392107922184874], [-0.5438062579853407, 0.8392107922184874], 0.1, 1.0), Face([-0.9986809941839445, -0.05134463804301519], [-0.9986809941839445, -0.05134463804301519], 0.1, 1.0), Face([-0.4548747361986037, -0.890555430261503], [-0.4548747361986037, -0.890555430261503], 0.1, 1.0)], 0x00000006, 0x00000000); Target(25.936725616455078, 19.76133155822754, -0.4550233781337738, 1.0, Face[Face([0.8297290909645647, 0.5581663153640832], [0.8297290909645647, 0.5581663153640832], 0.1, 1.0), Face([-0.06852166315977001, 0.9976496287163239], [-0.06852166315977001, 0.9976496287163239], 0.1, 1.0), Face([-0.8982507541243347, 0.4394833133522408], [-0.8982507541243347, 0.4394833133522408], 0.1, 1.0), Face([-0.8297290909645648, -0.5581663153640829], [-0.8297290909645648, -0.5581663153640829], 0.1, 1.0), Face([0.06852166315976946, -0.997649628716324], [0.06852166315976946, -0.997649628716324], 0.1, 1.0), Face([0.8982507541243347, -0.4394833133522409], [0.8982507541243347, -0.4394833133522409], 0.1, 1.0)], 0x00000001, 0x00007f62) Target(9.280611038208008, 10.383614540100098, 2.1773428916931152, 1.0, Face[Face([-0.9965618041319788, -0.08285270391010453], [-0.9965618041319788, -0.08285270391010453], 0.1, 1.0), Face([-0.42652835570760894, -0.9044741907745978], [-0.42652835570760894, -0.9044741907745978], 0.1, 1.0), Face([0.5700334484243704, -0.8216214868644932], [0.5700334484243704, -0.8216214868644932], 0.1, 1.0), Face([0.9965618041319788, 0.08285270391010441], [0.9965618041319788, 0.08285270391010441], 0.1, 1.0), Face([0.426528355707609, 0.9044741907745977], [0.426528355707609, 0.9044741907745977], 0.1, 1.0), Face([-0.5700334484243703, 0.8216214868644933], [-0.5700334484243703, 0.8216214868644933], 0.1, 1.0)], 0x00000002, 0x00007f62) … Target(20.650249481201172, 8.58597183227539, -2.5735979080200195, 1.0, Face[Face([0.044381387316629085, -0.9990146607832396], [0.044381387316629085, -0.9990146607832396], 0.1, 1.0), Face([0.8873627686496937, -0.46107192152022264], [0.8873627686496937, -0.46107192152022264], 0.1, 1.0), Face([0.8429813813330645, 0.5379427392630171], [0.8429813813330645, 0.5379427392630171], 0.1, 1.0), Face([-0.04438138731662874, 0.9990146607832396], [-0.04438138731662874, 0.9990146607832396], 0.1, 1.0), Face([-0.8873627686496933, 0.46107192152022314], [-0.8873627686496933, 0.46107192152022314], 0.1, 1.0), Face([-0.8429813813330647, -0.537942739263017], [-0.8429813813330647, -0.537942739263017], 0.1, 1.0)], 0x00000005, 0x00007f63) Target(20.068531036376953, 9.170522689819336, -2.2796640396118164, 1.0, Face[Face([0.3319120750921072, -0.9433103277331651], [0.3319120750921072, -0.9433103277331651], 0.1, 1.0), Face([0.982886745015199, -0.18421087501400965], [0.982886745015199, -0.18421087501400965], 0.1, 1.0), Face([0.6509746699230919, 0.7590994527191556], [0.6509746699230919, 0.7590994527191556], 0.1, 1.0), Face([-0.33191207509210685, 0.9433103277331653], [-0.33191207509210685, 0.9433103277331653], 0.1, 1.0), Face([-0.9828867450151989, 0.1842108750140102], [-0.9828867450151989, 0.1842108750140102], 0.1, 1.0), Face([-0.650974669923092, -0.7590994527191555], [-0.650974669923092, -0.7590994527191555], 0.1, 1.0)], 0x00000006, 0x00007f63)], MDMA_Grid(29, 29, 8, 100, [MDMA.MDPState(UAVState(1, 1, :E), 1, 100, nothing) MDMA.MDPState(UAVState(2, 1, :E), 1, 100, nothing) … MDMA.MDPState(UAVState(28, 1, :E), 1, 100, nothing) MDMA.MDPState(UAVState(29, 1, :E), 1, 100, nothing); MDMA.MDPState(UAVState(1, 2, :E), 1, 100, nothing) MDMA.MDPState(UAVState(2, 2, :E), 1, 100, nothing) … MDMA.MDPState(UAVState(28, 2, :E), 1, 100, nothing) MDMA.MDPState(UAVState(29, 2, :E), 1, 100, nothing); … ; MDMA.MDPState(UAVState(1, 28, :E), 1, 100, nothing) MDMA.MDPState(UAVState(2, 28, :E), 1, 100, nothing) … MDMA.MDPState(UAVState(28, 28, :E), 1, 100, nothing) MDMA.MDPState(UAVState(29, 28, :E), 1, 100, nothing); MDMA.MDPState(UAVState(1, 29, :E), 1, 100, nothing) MDMA.MDPState(UAVState(2, 29, :E), 1, 100, nothing) … MDMA.MDPState(UAVState(28, 29, :E), 1, 100, nothing) MDMA.MDPState(UAVState(29, 29, :E), 1, 100, nothing);;; MDMA.MDPState(UAVState(1, 1, :NE), 1, 100, nothing) MDMA.MDPState(UAVState(2, 1, :NE), 1, 100, nothing) … MDMA.MDPState(UAVState(28, 1, :NE), 1, 100, nothing) MDMA.MDPState(UAVState(29, 1, :NE), 1, 100, nothing); MDMA.MDPState(UAVState(1, 2, :NE), 1, 100, nothing) MDMA.MDPState(UAVState(2, 2, :NE), 1, 100, nothing) … MDMA.MDPState(UAVState(28, 2, :NE), 1, 100, nothing) MDMA.MDPState(UAVState(29, 2, :NE), 1, 100, nothing); … ; MDMA.MDPState(UAVState(1, 28, :NE), 1, 100, nothing) MDMA.MDPState(UAVState(2, 28, :NE), 1, 100, nothing) … MDMA.MDPState(UAVState(28, 28, :NE), 1, 100, nothing) MDMA.MDPState(UAVState(29, 28, :NE), 1, 100, nothing); MDMA.MDPState(UAVState(1, 29, :NE), 1, 100, nothing) MDMA.MDPState(UAVState(2, 29, :NE), 1, 100, nothing) … MDMA.MDPState(UAVState(28, 29, :NE), 1, 100, nothing) MDMA.MDPState(UAVState(29, 29, :NE), 1, 100, nothing);;; MDMA.MDPState(UAVState(1, 1, :N), 1, 100, nothing) MDMA.MDPState(UAVState(2, 1, :N), 1, 100, nothing) … MDMA.MDPState(UAVState(28, 1, :N), 1, 100, nothing) MDMA.MDPState(UAVState(29, 1, :N), 1, 100, nothing); MDMA.MDPState(UAVState(1, 2, :N), 1, 100, nothing) MDMA.MDPState(UAVState(2, 2, :N), 1, 100, nothing) … MDMA.MDPState(UAVState(28, 2, :N), 1, 100, nothing) MDMA.MDPState(UAVState(29, 2, :N), 1, 100, nothing); … ; MDMA.MDPState(UAVState(1, 28, :N), 1, 100, nothing) MDMA.MDPState(UAVState(2, 28, :N), 1, 100, nothing) … MDMA.MDPState(UAVState(28, 28, :N), 1, 100, nothing) MDMA.MDPState(UAVState(29, 28, :N), 1, 100, nothing); MDMA.MDPState(UAVState(1, 29, :N), 1, 100, nothing) MDMA.MDPState(UAVState(2, 29, :N), 1, 100, nothing) … MDMA.MDPState(UAVState(28, 29, :N), 1, 100, nothing) MDMA.MDPState(UAVState(29, 29, :N), 1, 100, nothing);;; MDMA.MDPState(UAVState(1, 1, :NW), 1, 100, nothing) MDMA.MDPState(UAVState(2, 1, :NW), 1, 100, nothing) … MDMA.MDPState(UAVState(28, 1, :NW), 1, 100, nothing) MDMA.MDPState(UAVState(29, 1, :NW), 1, 100, nothing); MDMA.MDPState(UAVState(1, 2, :NW), 1, 100, nothing) MDMA.MDPState(UAVState(2, 2, :NW), 1, 100, nothing) … MDMA.MDPState(UAVState(28, 2, :NW), 1, 100, nothing) MDMA.MDPState(UAVState(29, 2, :NW), 1, 100, nothing); … ; MDMA.MDPState(UAVState(1, 28, :NW), 1, 100, nothing) MDMA.MDPState(UAVState(2, 28, :NW), 1, 100, nothing) … MDMA.MDPState(UAVState(28, 28, :NW), 1, 100, nothing) MDMA.MDPState(UAVState(29, 28, :NW), 1, 100, nothing); MDMA.MDPState(UAVState(1, 29, :NW), 1, 100, nothing) MDMA.MDPState(UAVState(2, 29, :NW), 1, 100, nothing) … MDMA.MDPState(UAVState(28, 29, :NW), 1, 100, nothing) MDMA.MDPState(UAVState(29, 29, :NW), 1, 100, nothing);;; MDMA.MDPState(UAVState(1, 1, :W), 1, 100, nothing) MDMA.MDPState(UAVState(2, 1, :W), 1, 100, nothing) … MDMA.MDPState(UAVState(28, 1, :W), 1, 100, nothing) MDMA.MDPState(UAVState(29, 1, :W), 1, 100, nothing); MDMA.MDPState(UAVState(1, 2, :W), 1, 100, nothing) MDMA.MDPState(UAVState(2, 2, :W), 1, 100, nothing) … MDMA.MDPState(UAVState(28, 2, :W), 1, 100, nothing) MDMA.MDPState(UAVState(29, 2, :W), 1, 100, nothing); … ; MDMA.MDPState(UAVState(1, 28, :W), 1, 100, nothing) MDMA.MDPState(UAVState(2, 28, :W), 1, 100, nothing) … MDMA.MDPState(UAVState(28, 28, :W), 1, 100, nothing) MDMA.MDPState(UAVState(29, 28, :W), 1, 100, nothing); MDMA.MDPState(UAVState(1, 29, :W), 1, 100, nothing) MDMA.MDPState(UAVState(2, 29, :W), 1, 100, nothing) … MDMA.MDPState(UAVState(28, 29, :W), 1, 100, nothing) MDMA.MDPState(UAVState(29, 29, :W), 1, 100, nothing);;; MDMA.MDPState(UAVState(1, 1, :SW), 1, 100, nothing) MDMA.MDPState(UAVState(2, 1, :SW), 1, 100, nothing) … MDMA.MDPState(UAVState(28, 1, :SW), 1, 100, nothing) MDMA.MDPState(UAVState(29, 1, :SW), 1, 100, nothing); MDMA.MDPState(UAVState(1, 2, :SW), 1, 100, nothing) MDMA.MDPState(UAVState(2, 2, :SW), 1, 100, nothing) … MDMA.MDPState(UAVState(28, 2, :SW), 1, 100, nothing) MDMA.MDPState(UAVState(29, 2, :SW), 1, 100, nothing); … ; MDMA.MDPState(UAVState(1, 28, :SW), 1, 100, nothing) MDMA.MDPState(UAVState(2, 28, :SW), 1, 100, nothing) … MDMA.MDPState(UAVState(28, 28, :SW), 1, 100, nothing) MDMA.MDPState(UAVState(29, 28, :SW), 1, 100, nothing); MDMA.MDPState(UAVState(1, 29, :SW), 1, 100, nothing) MDMA.MDPState(UAVState(2, 29, :SW), 1, 100, nothing) … MDMA.MDPState(UAVState(28, 29, :SW), 1, 100, nothing) MDMA.MDPState(UAVState(29, 29, :SW), 1, 100, nothing);;; MDMA.MDPState(UAVState(1, 1, :S), 1, 100, nothing) MDMA.MDPState(UAVState(2, 1, :S), 1, 100, nothing) … MDMA.MDPState(UAVState(28, 1, :S), 1, 100, nothing) MDMA.MDPState(UAVState(29, 1, :S), 1, 100, nothing); MDMA.MDPState(UAVState(1, 2, :S), 1, 100, nothing) MDMA.MDPState(UAVState(2, 2, :S), 1, 100, nothing) … MDMA.MDPState(UAVState(28, 2, :S), 1, 100, nothing) MDMA.MDPState(UAVState(29, 2, :S), 1, 100, nothing); … ; MDMA.MDPState(UAVState(1, 28, :S), 1, 100, nothing) MDMA.MDPState(UAVState(2, 28, :S), 1, 100, nothing) … MDMA.MDPState(UAVState(28, 28, :S), 1, 100, nothing) MDMA.MDPState(UAVState(29, 28, :S), 1, 100, nothing); MDMA.MDPState(UAVState(1, 29, :S), 1, 100, nothing) MDMA.MDPState(UAVState(2, 29, :S), 1, 100, nothing) … MDMA.MDPState(UAVState(28, 29, :S), 1, 100, nothing) MDMA.MDPState(UAVState(29, 29, :S), 1, 100, nothing);;; MDMA.MDPState(UAVState(1, 1, :SE), 1, 100, nothing) MDMA.MDPState(UAVState(2, 1, :SE), 1, 100, nothing) … MDMA.MDPState(UAVState(28, 1, :SE), 1, 100, nothing) MDMA.MDPState(UAVState(29, 1, :SE), 1, 100, nothing); MDMA.MDPState(UAVState(1, 2, :SE), 1, 100, nothing) MDMA.MDPState(UAVState(2, 2, :SE), 1, 100, nothing) … MDMA.MDPState(UAVState(28, 2, :SE), 1, 100, nothing) MDMA.MDPState(UAVState(29, 2, :SE), 1, 100, nothing); … ; MDMA.MDPState(UAVState(1, 28, :SE), 1, 100, nothing) MDMA.MDPState(UAVState(2, 28, :SE), 1, 100, nothing) … MDMA.MDPState(UAVState(28, 28, :SE), 1, 100, nothing) MDMA.MDPState(UAVState(29, 28, :SE), 1, 100, nothing); MDMA.MDPState(UAVState(1, 29, :SE), 1, 100, nothing) MDMA.MDPState(UAVState(2, 29, :SE), 1, 100, nothing) … MDMA.MDPState(UAVState(28, 29, :SE), 1, 100, nothing) MDMA.MDPState(UAVState(29, 29, :SE), 1, 100, nothing);;;; MDMA.MDPState(UAVState(1, 1, :E), 2, 100, nothing) MDMA.MDPState(UAVState(2, 1, :E), 2, 100, nothing) … MDMA.MDPState(UAVState(28, 1, :E), 2, 100, nothing) MDMA.MDPState(UAVState(29, 1, :E), 2, 100, nothing); MDMA.MDPState(UAVState(1, 2, :E), 2, 100, nothing) MDMA.MDPState(UAVState(2, 2, :E), 2, 100, nothing) … MDMA.MDPState(UAVState(28, 2, :E), 2, 100, nothing) MDMA.MDPState(UAVState(29, 2, :E), 2, 100, nothing); … ; MDMA.MDPState(UAVState(1, 28, :E), 2, 100, nothing) MDMA.MDPState(UAVState(2, 28, :E), 2, 100, nothing) … MDMA.MDPState(UAVState(28, 28, :E), 2, 100, nothing) MDMA.MDPState(UAVState(29, 28, :E), 2, 100, nothing); MDMA.MDPState(UAVState(1, 29, :E), 2, 100, nothing) MDMA.MDPState(UAVState(2, 29, :E), 2, 100, nothing) … MDMA.MDPState(UAVState(28, 29, :E), 2, 100, nothing) MDMA.MDPState(UAVState(29, 29, :E), 2, 100, nothing);;; MDMA.MDPState(UAVState(1, 1, :NE), 2, 100, nothing) MDMA.MDPState(UAVState(2, 1, :NE), 2, 100, nothing) … MDMA.MDPState(UAVState(28, 1, :NE), 2, 100, nothing) MDMA.MDPState(UAVState(29, 1, :NE), 2, 100, nothing); MDMA.MDPState(UAVState(1, 2, :NE), 2, 100, nothing) MDMA.MDPState(UAVState(2, 2, :NE), 2, 100, nothing) … MDMA.MDPState(UAVState(28, 2, :NE), 2, 100, nothing) MDMA.MDPState(UAVState(29, 2, :NE), 2, 100, nothing); … ; MDMA.MDPState(UAVState(1, 28, :NE), 2, 100, nothing) MDMA.MDPState(UAVState(2, 28, :NE), 2, 100, nothing) … MDMA.MDPState(UAVState(28, 28, :NE), 2, 100, nothing) MDMA.MDPState(UAVState(29, 28, :NE), 2, 100, nothing); MDMA.MDPState(UAVState(1, 29, :NE), 2, 100, nothing) MDMA.MDPState(UAVState(2, 29, :NE), 2, 100, nothing) … MDMA.MDPState(UAVState(28, 29, :NE), 2, 100, nothing) MDMA.MDPState(UAVState(29, 29, :NE), 2, 100, nothing);;; MDMA.MDPState(UAVState(1, 1, :N), 2, 100, nothing) MDMA.MDPState(UAVState(2, 1, :N), 2, 100, nothing) … MDMA.MDPState(UAVState(28, 1, :N), 2, 100, nothing) MDMA.MDPState(UAVState(29, 1, :N), 2, 100, nothing); MDMA.MDPState(UAVState(1, 2, :N), 2, 100, nothing) MDMA.MDPState(UAVState(2, 2, :N), 2, 100, nothing) … MDMA.MDPState(UAVState(28, 2, :N), 2, 100, nothing) MDMA.MDPState(UAVState(29, 2, :N), 2, 100, nothing); … ; MDMA.MDPState(UAVState(1, 28, :N), 2, 100, nothing) MDMA.MDPState(UAVState(2, 28, :N), 2, 100, nothing) … MDMA.MDPState(UAVState(28, 28, :N), 2, 100, nothing) MDMA.MDPState(UAVState(29, 28, :N), 2, 100, nothing); MDMA.MDPState(UAVState(1, 29, :N), 2, 100, nothing) MDMA.MDPState(UAVState(2, 29, :N), 2, 100, nothing) … MDMA.MDPState(UAVState(28, 29, :N), 2, 100, nothing) MDMA.MDPState(UAVState(29, 29, :N), 2, 100, nothing);;; MDMA.MDPState(UAVState(1, 1, :NW), 2, 100, nothing) MDMA.MDPState(UAVState(2, 1, :NW), 2, 100, nothing) … MDMA.MDPState(UAVState(28, 1, :NW), 2, 100, nothing) MDMA.MDPState(UAVState(29, 1, :NW), 2, 100, nothing); MDMA.MDPState(UAVState(1, 2, :NW), 2, 100, nothing) MDMA.MDPState(UAVState(2, 2, :NW), 2, 100, nothing) … MDMA.MDPState(UAVState(28, 2, :NW), 2, 100, nothing) MDMA.MDPState(UAVState(29, 2, :NW), 2, 100, nothing); … ; MDMA.MDPState(UAVState(1, 28, :NW), 2, 100, nothing) MDMA.MDPState(UAVState(2, 28, :NW), 2, 100, nothing) … MDMA.MDPState(UAVState(28, 28, :NW), 2, 100, nothing) MDMA.MDPState(UAVState(29, 28, :NW), 2, 100, nothing); MDMA.MDPState(UAVState(1, 29, :NW), 2, 100, nothing) MDMA.MDPState(UAVState(2, 29, :NW), 2, 100, nothing) … MDMA.MDPState(UAVState(28, 29, :NW), 2, 100, nothing) MDMA.MDPState(UAVState(29, 29, :NW), 2, 100, nothing);;; MDMA.MDPState(UAVState(1, 1, :W), 2, 100, nothing) MDMA.MDPState(UAVState(2, 1, :W), 2, 100, nothing) … MDMA.MDPState(UAVState(28, 1, :W), 2, 100, nothing) MDMA.MDPState(UAVState(29, 1, :W), 2, 100, nothing); MDMA.MDPState(UAVState(1, 2, :W), 2, 100, nothing) MDMA.MDPState(UAVState(2, 2, :W), 2, 100, nothing) … MDMA.MDPState(UAVState(28, 2, :W), 2, 100, nothing) MDMA.MDPState(UAVState(29, 2, :W), 2, 100, nothing); … ; MDMA.MDPState(UAVState(1, 28, :W), 2, 100, nothing) MDMA.MDPState(UAVState(2, 28, :W), 2, 100, nothing) … MDMA.MDPState(UAVState(28, 28, :W), 2, 100, nothing) MDMA.MDPState(UAVState(29, 28, :W), 2, 100, nothing); MDMA.MDPState(UAVState(1, 29, :W), 2, 100, nothing) MDMA.MDPState(UAVState(2, 29, :W), 2, 100, nothing) … MDMA.MDPState(UAVState(28, 29, :W), 2, 100, nothing) MDMA.MDPState(UAVState(29, 29, :W), 2, 100, nothing);;; MDMA.MDPState(UAVState(1, 1, :SW), 2, 100, nothing) MDMA.MDPState(UAVState(2, 1, :SW), 2, 100, nothing) … MDMA.MDPState(UAVState(28, 1, :SW), 2, 100, nothing) MDMA.MDPState(UAVState(29, 1, :SW), 2, 100, nothing); MDMA.MDPState(UAVState(1, 2, :SW), 2, 100, nothing) MDMA.MDPState(UAVState(2, 2, :SW), 2, 100, nothing) … MDMA.MDPState(UAVState(28, 2, :SW), 2, 100, nothing) MDMA.MDPState(UAVState(29, 2, :SW), 2, 100, nothing); … ; MDMA.MDPState(UAVState(1, 28, :SW), 2, 100, nothing) MDMA.MDPState(UAVState(2, 28, :SW), 2, 100, nothing) … MDMA.MDPState(UAVState(28, 28, :SW), 2, 100, nothing) MDMA.MDPState(UAVState(29, 28, :SW), 2, 100, nothing); MDMA.MDPState(UAVState(1, 29, :SW), 2, 100, nothing) MDMA.MDPState(UAVState(2, 29, :SW), 2, 100, nothing) … MDMA.MDPState(UAVState(28, 29, :SW), 2, 100, nothing) MDMA.MDPState(UAVState(29, 29, :SW), 2, 100, nothing);;; MDMA.MDPState(UAVState(1, 1, :S), 2, 100, nothing) MDMA.MDPState(UAVState(2, 1, :S), 2, 100, nothing) … MDMA.MDPState(UAVState(28, 1, :S), 2, 100, nothing) MDMA.MDPState(UAVState(29, 1, :S), 2, 100, nothing); MDMA.MDPState(UAVState(1, 2, :S), 2, 100, nothing) MDMA.MDPState(UAVState(2, 2, :S), 2, 100, nothing) … MDMA.MDPState(UAVState(28, 2, :S), 2, 100, nothing) MDMA.MDPState(UAVState(29, 2, :S), 2, 100, nothing); … ; MDMA.MDPState(UAVState(1, 28, :S), 2, 100, nothing) MDMA.MDPState(UAVState(2, 28, :S), 2, 100, nothing) … MDMA.MDPState(UAVState(28, 28, :S), 2, 100, nothing) MDMA.MDPState(UAVState(29, 28, :S), 2, 100, nothing); MDMA.MDPState(UAVState(1, 29, :S), 2, 100, nothing) MDMA.MDPState(UAVState(2, 29, :S), 2, 100, nothing) … MDMA.MDPState(UAVState(28, 29, :S), 2, 100, nothing) MDMA.MDPState(UAVState(29, 29, :S), 2, 100, nothing);;; MDMA.MDPState(UAVState(1, 1, :SE), 2, 100, nothing) MDMA.MDPState(UAVState(2, 1, :SE), 2, 100, nothing) … MDMA.MDPState(UAVState(28, 1, :SE), 2, 100, nothing) MDMA.MDPState(UAVState(29, 1, :SE), 2, 100, nothing); MDMA.MDPState(UAVState(1, 2, :SE), 2, 100, nothing) MDMA.MDPState(UAVState(2, 2, :SE), 2, 100, nothing) … MDMA.MDPState(UAVState(28, 2, :SE), 2, 100, nothing) MDMA.MDPState(UAVState(29, 2, :SE), 2, 100, nothing); … ; MDMA.MDPState(UAVState(1, 28, :SE), 2, 100, nothing) MDMA.MDPState(UAVState(2, 28, :SE), 2, 100, nothing) … MDMA.MDPState(UAVState(28, 28, :SE), 2, 100, nothing) MDMA.MDPState(UAVState(29, 28, :SE), 2, 100, nothing); MDMA.MDPState(UAVState(1, 29, :SE), 2, 100, nothing) MDMA.MDPState(UAVState(2, 29, :SE), 2, 100, nothing) … MDMA.MDPState(UAVState(28, 29, :SE), 2, 100, nothing) MDMA.MDPState(UAVState(29, 29, :SE), 2, 100, nothing);;;; MDMA.MDPState(UAVState(1, 1, :E), 3, 100, nothing) MDMA.MDPState(UAVState(2, 1, :E), 3, 100, nothing) … MDMA.MDPState(UAVState(28, 1, :E), 3, 100, nothing) MDMA.MDPState(UAVState(29, 1, :E), 3, 100, nothing); MDMA.MDPState(UAVState(1, 2, :E), 3, 100, nothing) MDMA.MDPState(UAVState(2, 2, :E), 3, 100, nothing) … MDMA.MDPState(UAVState(28, 2, :E), 3, 100, nothing) MDMA.MDPState(UAVState(29, 2, :E), 3, 100, nothing); … ; MDMA.MDPState(UAVState(1, 28, :E), 3, 100, nothing) MDMA.MDPState(UAVState(2, 28, :E), 3, 100, nothing) … MDMA.MDPState(UAVState(28, 28, :E), 3, 100, nothing) MDMA.MDPState(UAVState(29, 28, :E), 3, 100, nothing); MDMA.MDPState(UAVState(1, 29, :E), 3, 100, nothing) MDMA.MDPState(UAVState(2, 29, :E), 3, 100, nothing) … MDMA.MDPState(UAVState(28, 29, :E), 3, 100, nothing) MDMA.MDPState(UAVState(29, 29, :E), 3, 100, nothing);;; MDMA.MDPState(UAVState(1, 1, :NE), 3, 100, nothing) MDMA.MDPState(UAVState(2, 1, :NE), 3, 100, nothing) … MDMA.MDPState(UAVState(28, 1, :NE), 3, 100, nothing) MDMA.MDPState(UAVState(29, 1, :NE), 3, 100, nothing); MDMA.MDPState(UAVState(1, 2, :NE), 3, 100, nothing) MDMA.MDPState(UAVState(2, 2, :NE), 3, 100, nothing) … MDMA.MDPState(UAVState(28, 2, :NE), 3, 100, nothing) MDMA.MDPState(UAVState(29, 2, :NE), 3, 100, nothing); … ; MDMA.MDPState(UAVState(1, 28, :NE), 3, 100, nothing) MDMA.MDPState(UAVState(2, 28, :NE), 3, 100, nothing) … MDMA.MDPState(UAVState(28, 28, :NE), 3, 100, nothing) MDMA.MDPState(UAVState(29, 28, :NE), 3, 100, nothing); MDMA.MDPState(UAVState(1, 29, :NE), 3, 100, nothing) MDMA.MDPState(UAVState(2, 29, :NE), 3, 100, nothing) … MDMA.MDPState(UAVState(28, 29, :NE), 3, 100, nothing) MDMA.MDPState(UAVState(29, 29, :NE), 3, 100, nothing);;; MDMA.MDPState(UAVState(1, 1, :N), 3, 100, nothing) MDMA.MDPState(UAVState(2, 1, :N), 3, 100, nothing) … MDMA.MDPState(UAVState(28, 1, :N), 3, 100, nothing) MDMA.MDPState(UAVState(29, 1, :N), 3, 100, nothing); MDMA.MDPState(UAVState(1, 2, :N), 3, 100, nothing) MDMA.MDPState(UAVState(2, 2, :N), 3, 100, nothing) … MDMA.MDPState(UAVState(28, 2, :N), 3, 100, nothing) MDMA.MDPState(UAVState(29, 2, :N), 3, 100, nothing); … ; MDMA.MDPState(UAVState(1, 28, :N), 3, 100, nothing) MDMA.MDPState(UAVState(2, 28, :N), 3, 100, nothing) … MDMA.MDPState(UAVState(28, 28, :N), 3, 100, nothing) MDMA.MDPState(UAVState(29, 28, :N), 3, 100, nothing); MDMA.MDPState(UAVState(1, 29, :N), 3, 100, nothing) MDMA.MDPState(UAVState(2, 29, :N), 3, 100, nothing) … MDMA.MDPState(UAVState(28, 29, :N), 3, 100, nothing) MDMA.MDPState(UAVState(29, 29, :N), 3, 100, nothing);;; MDMA.MDPState(UAVState(1, 1, :NW), 3, 100, nothing) MDMA.MDPState(UAVState(2, 1, :NW), 3, 100, nothing) … MDMA.MDPState(UAVState(28, 1, :NW), 3, 100, nothing) MDMA.MDPState(UAVState(29, 1, :NW), 3, 100, nothing); MDMA.MDPState(UAVState(1, 2, :NW), 3, 100, nothing) MDMA.MDPState(UAVState(2, 2, :NW), 3, 100, nothing) … MDMA.MDPState(UAVState(28, 2, :NW), 3, 100, nothing) MDMA.MDPState(UAVState(29, 2, :NW), 3, 100, nothing); … ; MDMA.MDPState(UAVState(1, 28, :NW), 3, 100, nothing) MDMA.MDPState(UAVState(2, 28, :NW), 3, 100, nothing) … MDMA.MDPState(UAVState(28, 28, :NW), 3, 100, nothing) MDMA.MDPState(UAVState(29, 28, :NW), 3, 100, nothing); MDMA.MDPState(UAVState(1, 29, :NW), 3, 100, nothing) MDMA.MDPState(UAVState(2, 29, :NW), 3, 100, nothing) … MDMA.MDPState(UAVState(28, 29, :NW), 3, 100, nothing) MDMA.MDPState(UAVState(29, 29, :NW), 3, 100, nothing);;; MDMA.MDPState(UAVState(1, 1, :W), 3, 100, nothing) MDMA.MDPState(UAVState(2, 1, :W), 3, 100, nothing) … MDMA.MDPState(UAVState(28, 1, :W), 3, 100, nothing) MDMA.MDPState(UAVState(29, 1, :W), 3, 100, nothing); MDMA.MDPState(UAVState(1, 2, :W), 3, 100, nothing) MDMA.MDPState(UAVState(2, 2, :W), 3, 100, nothing) … MDMA.MDPState(UAVState(28, 2, :W), 3, 100, nothing) MDMA.MDPState(UAVState(29, 2, :W), 3, 100, nothing); … ; MDMA.MDPState(UAVState(1, 28, :W), 3, 100, nothing) MDMA.MDPState(UAVState(2, 28, :W), 3, 100, nothing) … MDMA.MDPState(UAVState(28, 28, :W), 3, 100, nothing) MDMA.MDPState(UAVState(29, 28, :W), 3, 100, nothing); MDMA.MDPState(UAVState(1, 29, :W), 3, 100, nothing) MDMA.MDPState(UAVState(2, 29, :W), 3, 100, nothing) … MDMA.MDPState(UAVState(28, 29, :W), 3, 100, nothing) MDMA.MDPState(UAVState(29, 29, :W), 3, 100, nothing);;; MDMA.MDPState(UAVState(1, 1, :SW), 3, 100, nothing) MDMA.MDPState(UAVState(2, 1, :SW), 3, 100, nothing) … MDMA.MDPState(UAVState(28, 1, :SW), 3, 100, nothing) MDMA.MDPState(UAVState(29, 1, :SW), 3, 100, nothing); MDMA.MDPState(UAVState(1, 2, :SW), 3, 100, nothing) MDMA.MDPState(UAVState(2, 2, :SW), 3, 100, nothing) … MDMA.MDPState(UAVState(28, 2, :SW), 3, 100, nothing) MDMA.MDPState(UAVState(29, 2, :SW), 3, 100, nothing); … ; MDMA.MDPState(UAVState(1, 28, :SW), 3, 100, nothing) MDMA.MDPState(UAVState(2, 28, :SW), 3, 100, nothing) … MDMA.MDPState(UAVState(28, 28, :SW), 3, 100, nothing) MDMA.MDPState(UAVState(29, 28, :SW), 3, 100, nothing); MDMA.MDPState(UAVState(1, 29, :SW), 3, 100, nothing) MDMA.MDPState(UAVState(2, 29, :SW), 3, 100, nothing) … MDMA.MDPState(UAVState(28, 29, :SW), 3, 100, nothing) MDMA.MDPState(UAVState(29, 29, :SW), 3, 100, nothing);;; MDMA.MDPState(UAVState(1, 1, :S), 3, 100, nothing) MDMA.MDPState(UAVState(2, 1, :S), 3, 100, nothing) … MDMA.MDPState(UAVState(28, 1, :S), 3, 100, nothing) MDMA.MDPState(UAVState(29, 1, :S), 3, 100, nothing); MDMA.MDPState(UAVState(1, 2, :S), 3, 100, nothing) MDMA.MDPState(UAVState(2, 2, :S), 3, 100, nothing) … MDMA.MDPState(UAVState(28, 2, :S), 3, 100, nothing) MDMA.MDPState(UAVState(29, 2, :S), 3, 100, nothing); … ; MDMA.MDPState(UAVState(1, 28, :S), 3, 100, nothing) MDMA.MDPState(UAVState(2, 28, :S), 3, 100, nothing) … MDMA.MDPState(UAVState(28, 28, :S), 3, 100, nothing) MDMA.MDPState(UAVState(29, 28, :S), 3, 100, nothing); MDMA.MDPState(UAVState(1, 29, :S), 3, 100, nothing) MDMA.MDPState(UAVState(2, 29, :S), 3, 100, nothing) … MDMA.MDPState(UAVState(28, 29, :S), 3, 100, nothing) MDMA.MDPState(UAVState(29, 29, :S), 3, 100, nothing);;; MDMA.MDPState(UAVState(1, 1, :SE), 3, 100, nothing) MDMA.MDPState(UAVState(2, 1, :SE), 3, 100, nothing) … MDMA.MDPState(UAVState(28, 1, :SE), 3, 100, nothing) MDMA.MDPState(UAVState(29, 1, :SE), 3, 100, nothing); MDMA.MDPState(UAVState(1, 2, :SE), 3, 100, nothing) MDMA.MDPState(UAVState(2, 2, :SE), 3, 100, nothing) … MDMA.MDPState(UAVState(28, 2, :SE), 3, 100, nothing) MDMA.MDPState(UAVState(29, 2, :SE), 3, 100, nothing); … ; MDMA.MDPState(UAVState(1, 28, :SE), 3, 100, nothing) MDMA.MDPState(UAVState(2, 28, :SE), 3, 100, nothing) … MDMA.MDPState(UAVState(28, 28, :SE), 3, 100, nothing) MDMA.MDPState(UAVState(29, 28, :SE), 3, 100, nothing); MDMA.MDPState(UAVState(1, 29, :SE), 3, 100, nothing) MDMA.MDPState(UAVState(2, 29, :SE), 3, 100, nothing) … MDMA.MDPState(UAVState(28, 29, :SE), 3, 100, nothing) MDMA.MDPState(UAVState(29, 29, :SE), 3, 100, nothing);;;; … ;;;; MDMA.MDPState(UAVState(1, 1, :E), 98, 100, nothing) MDMA.MDPState(UAVState(2, 1, :E), 98, 100, nothing) … MDMA.MDPState(UAVState(28, 1, :E), 98, 100, nothing) MDMA.MDPState(UAVState(29, 1, :E), 98, 100, nothing); MDMA.MDPState(UAVState(1, 2, :E), 98, 100, nothing) MDMA.MDPState(UAVState(2, 2, :E), 98, 100, nothing) … MDMA.MDPState(UAVState(28, 2, :E), 98, 100, nothing) MDMA.MDPState(UAVState(29, 2, :E), 98, 100, nothing); … ; MDMA.MDPState(UAVState(1, 28, :E), 98, 100, nothing) MDMA.MDPState(UAVState(2, 28, :E), 98, 100, nothing) … MDMA.MDPState(UAVState(28, 28, :E), 98, 100, nothing) MDMA.MDPState(UAVState(29, 28, :E), 98, 100, nothing); MDMA.MDPState(UAVState(1, 29, :E), 98, 100, nothing) MDMA.MDPState(UAVState(2, 29, :E), 98, 100, nothing) … MDMA.MDPState(UAVState(28, 29, :E), 98, 100, nothing) MDMA.MDPState(UAVState(29, 29, :E), 98, 100, nothing);;; MDMA.MDPState(UAVState(1, 1, :NE), 98, 100, nothing) MDMA.MDPState(UAVState(2, 1, :NE), 98, 100, nothing) … MDMA.MDPState(UAVState(28, 1, :NE), 98, 100, nothing) MDMA.MDPState(UAVState(29, 1, :NE), 98, 100, nothing); MDMA.MDPState(UAVState(1, 2, :NE), 98, 100, nothing) MDMA.MDPState(UAVState(2, 2, :NE), 98, 100, nothing) … MDMA.MDPState(UAVState(28, 2, :NE), 98, 100, nothing) MDMA.MDPState(UAVState(29, 2, :NE), 98, 100, nothing); … ; MDMA.MDPState(UAVState(1, 28, :NE), 98, 100, nothing) MDMA.MDPState(UAVState(2, 28, :NE), 98, 100, nothing) … MDMA.MDPState(UAVState(28, 28, :NE), 98, 100, nothing) MDMA.MDPState(UAVState(29, 28, :NE), 98, 100, nothing); MDMA.MDPState(UAVState(1, 29, :NE), 98, 100, nothing) MDMA.MDPState(UAVState(2, 29, :NE), 98, 100, nothing) … MDMA.MDPState(UAVState(28, 29, :NE), 98, 100, nothing) MDMA.MDPState(UAVState(29, 29, :NE), 98, 100, nothing);;; MDMA.MDPState(UAVState(1, 1, :N), 98, 100, nothing) MDMA.MDPState(UAVState(2, 1, :N), 98, 100, nothing) … MDMA.MDPState(UAVState(28, 1, :N), 98, 100, nothing) MDMA.MDPState(UAVState(29, 1, :N), 98, 100, nothing); MDMA.MDPState(UAVState(1, 2, :N), 98, 100, nothing) MDMA.MDPState(UAVState(2, 2, :N), 98, 100, nothing) … MDMA.MDPState(UAVState(28, 2, :N), 98, 100, nothing) MDMA.MDPState(UAVState(29, 2, :N), 98, 100, nothing); … ; MDMA.MDPState(UAVState(1, 28, :N), 98, 100, nothing) MDMA.MDPState(UAVState(2, 28, :N), 98, 100, nothing) … MDMA.MDPState(UAVState(28, 28, :N), 98, 100, nothing) MDMA.MDPState(UAVState(29, 28, :N), 98, 100, nothing); MDMA.MDPState(UAVState(1, 29, :N), 98, 100, nothing) MDMA.MDPState(UAVState(2, 29, :N), 98, 100, nothing) … MDMA.MDPState(UAVState(28, 29, :N), 98, 100, nothing) MDMA.MDPState(UAVState(29, 29, :N), 98, 100, nothing);;; MDMA.MDPState(UAVState(1, 1, :NW), 98, 100, nothing) MDMA.MDPState(UAVState(2, 1, :NW), 98, 100, nothing) … MDMA.MDPState(UAVState(28, 1, :NW), 98, 100, nothing) MDMA.MDPState(UAVState(29, 1, :NW), 98, 100, nothing); MDMA.MDPState(UAVState(1, 2, :NW), 98, 100, nothing) MDMA.MDPState(UAVState(2, 2, :NW), 98, 100, nothing) … MDMA.MDPState(UAVState(28, 2, :NW), 98, 100, nothing) MDMA.MDPState(UAVState(29, 2, :NW), 98, 100, nothing); … ; MDMA.MDPState(UAVState(1, 28, :NW), 98, 100, nothing) MDMA.MDPState(UAVState(2, 28, :NW), 98, 100, nothing) … MDMA.MDPState(UAVState(28, 28, :NW), 98, 100, nothing) MDMA.MDPState(UAVState(29, 28, :NW), 98, 100, nothing); MDMA.MDPState(UAVState(1, 29, :NW), 98, 100, nothing) MDMA.MDPState(UAVState(2, 29, :NW), 98, 100, nothing) … MDMA.MDPState(UAVState(28, 29, :NW), 98, 100, nothing) MDMA.MDPState(UAVState(29, 29, :NW), 98, 100, nothing);;; MDMA.MDPState(UAVState(1, 1, :W), 98, 100, nothing) MDMA.MDPState(UAVState(2, 1, :W), 98, 100, nothing) … MDMA.MDPState(UAVState(28, 1, :W), 98, 100, nothing) MDMA.MDPState(UAVState(29, 1, :W), 98, 100, nothing); MDMA.MDPState(UAVState(1, 2, :W), 98, 100, nothing) MDMA.MDPState(UAVState(2, 2, :W), 98, 100, nothing) … MDMA.MDPState(UAVState(28, 2, :W), 98, 100, nothing) MDMA.MDPState(UAVState(29, 2, :W), 98, 100, nothing); … ; MDMA.MDPState(UAVState(1, 28, :W), 98, 100, nothing) MDMA.MDPState(UAVState(2, 28, :W), 98, 100, nothing) … MDMA.MDPState(UAVState(28, 28, :W), 98, 100, nothing) MDMA.MDPState(UAVState(29, 28, :W), 98, 100, nothing); MDMA.MDPState(UAVState(1, 29, :W), 98, 100, nothing) MDMA.MDPState(UAVState(2, 29, :W), 98, 100, nothing) … MDMA.MDPState(UAVState(28, 29, :W), 98, 100, nothing) MDMA.MDPState(UAVState(29, 29, :W), 98, 100, nothing);;; MDMA.MDPState(UAVState(1, 1, :SW), 98, 100, nothing) MDMA.MDPState(UAVState(2, 1, :SW), 98, 100, nothing) … MDMA.MDPState(UAVState(28, 1, :SW), 98, 100, nothing) MDMA.MDPState(UAVState(29, 1, :SW), 98, 100, nothing); MDMA.MDPState(UAVState(1, 2, :SW), 98, 100, nothing) MDMA.MDPState(UAVState(2, 2, :SW), 98, 100, nothing) … MDMA.MDPState(UAVState(28, 2, :SW), 98, 100, nothing) MDMA.MDPState(UAVState(29, 2, :SW), 98, 100, nothing); … ; MDMA.MDPState(UAVState(1, 28, :SW), 98, 100, nothing) MDMA.MDPState(UAVState(2, 28, :SW), 98, 100, nothing) … MDMA.MDPState(UAVState(28, 28, :SW), 98, 100, nothing) MDMA.MDPState(UAVState(29, 28, :SW), 98, 100, nothing); MDMA.MDPState(UAVState(1, 29, :SW), 98, 100, nothing) MDMA.MDPState(UAVState(2, 29, :SW), 98, 100, nothing) … MDMA.MDPState(UAVState(28, 29, :SW), 98, 100, nothing) MDMA.MDPState(UAVState(29, 29, :SW), 98, 100, nothing);;; MDMA.MDPState(UAVState(1, 1, :S), 98, 100, nothing) MDMA.MDPState(UAVState(2, 1, :S), 98, 100, nothing) … MDMA.MDPState(UAVState(28, 1, :S), 98, 100, nothing) MDMA.MDPState(UAVState(29, 1, :S), 98, 100, nothing); MDMA.MDPState(UAVState(1, 2, :S), 98, 100, nothing) MDMA.MDPState(UAVState(2, 2, :S), 98, 100, nothing) … MDMA.MDPState(UAVState(28, 2, :S), 98, 100, nothing) MDMA.MDPState(UAVState(29, 2, :S), 98, 100, nothing); … ; MDMA.MDPState(UAVState(1, 28, :S), 98, 100, nothing) MDMA.MDPState(UAVState(2, 28, :S), 98, 100, nothing) … MDMA.MDPState(UAVState(28, 28, :S), 98, 100, nothing) MDMA.MDPState(UAVState(29, 28, :S), 98, 100, nothing); MDMA.MDPState(UAVState(1, 29, :S), 98, 100, nothing) MDMA.MDPState(UAVState(2, 29, :S), 98, 100, nothing) … MDMA.MDPState(UAVState(28, 29, :S), 98, 100, nothing) MDMA.MDPState(UAVState(29, 29, :S), 98, 100, nothing);;; MDMA.MDPState(UAVState(1, 1, :SE), 98, 100, nothing) MDMA.MDPState(UAVState(2, 1, :SE), 98, 100, nothing) … MDMA.MDPState(UAVState(28, 1, :SE), 98, 100, nothing) MDMA.MDPState(UAVState(29, 1, :SE), 98, 100, nothing); MDMA.MDPState(UAVState(1, 2, :SE), 98, 100, nothing) MDMA.MDPState(UAVState(2, 2, :SE), 98, 100, nothing) … MDMA.MDPState(UAVState(28, 2, :SE), 98, 100, nothing) MDMA.MDPState(UAVState(29, 2, :SE), 98, 100, nothing); … ; MDMA.MDPState(UAVState(1, 28, :SE), 98, 100, nothing) MDMA.MDPState(UAVState(2, 28, :SE), 98, 100, nothing) … MDMA.MDPState(UAVState(28, 28, :SE), 98, 100, nothing) MDMA.MDPState(UAVState(29, 28, :SE), 98, 100, nothing); MDMA.MDPState(UAVState(1, 29, :SE), 98, 100, nothing) MDMA.MDPState(UAVState(2, 29, :SE), 98, 100, nothing) … MDMA.MDPState(UAVState(28, 29, :SE), 98, 100, nothing) MDMA.MDPState(UAVState(29, 29, :SE), 98, 100, nothing);;;; MDMA.MDPState(UAVState(1, 1, :E), 99, 100, nothing) MDMA.MDPState(UAVState(2, 1, :E), 99, 100, nothing) … MDMA.MDPState(UAVState(28, 1, :E), 99, 100, nothing) MDMA.MDPState(UAVState(29, 1, :E), 99, 100, nothing); MDMA.MDPState(UAVState(1, 2, :E), 99, 100, nothing) MDMA.MDPState(UAVState(2, 2, :E), 99, 100, nothing) … MDMA.MDPState(UAVState(28, 2, :E), 99, 100, nothing) MDMA.MDPState(UAVState(29, 2, :E), 99, 100, nothing); … ; MDMA.MDPState(UAVState(1, 28, :E), 99, 100, nothing) MDMA.MDPState(UAVState(2, 28, :E), 99, 100, nothing) … MDMA.MDPState(UAVState(28, 28, :E), 99, 100, nothing) MDMA.MDPState(UAVState(29, 28, :E), 99, 100, nothing); MDMA.MDPState(UAVState(1, 29, :E), 99, 100, nothing) MDMA.MDPState(UAVState(2, 29, :E), 99, 100, nothing) … MDMA.MDPState(UAVState(28, 29, :E), 99, 100, nothing) MDMA.MDPState(UAVState(29, 29, :E), 99, 100, nothing);;; MDMA.MDPState(UAVState(1, 1, :NE), 99, 100, nothing) MDMA.MDPState(UAVState(2, 1, :NE), 99, 100, nothing) … MDMA.MDPState(UAVState(28, 1, :NE), 99, 100, nothing) MDMA.MDPState(UAVState(29, 1, :NE), 99, 100, nothing); MDMA.MDPState(UAVState(1, 2, :NE), 99, 100, nothing) MDMA.MDPState(UAVState(2, 2, :NE), 99, 100, nothing) … MDMA.MDPState(UAVState(28, 2, :NE), 99, 100, nothing) MDMA.MDPState(UAVState(29, 2, :NE), 99, 100, nothing); … ; MDMA.MDPState(UAVState(1, 28, :NE), 99, 100, nothing) MDMA.MDPState(UAVState(2, 28, :NE), 99, 100, nothing) … MDMA.MDPState(UAVState(28, 28, :NE), 99, 100, nothing) MDMA.MDPState(UAVState(29, 28, :NE), 99, 100, nothing); MDMA.MDPState(UAVState(1, 29, :NE), 99, 100, nothing) MDMA.MDPState(UAVState(2, 29, :NE), 99, 100, nothing) … MDMA.MDPState(UAVState(28, 29, :NE), 99, 100, nothing) MDMA.MDPState(UAVState(29, 29, :NE), 99, 100, nothing);;; MDMA.MDPState(UAVState(1, 1, :N), 99, 100, nothing) MDMA.MDPState(UAVState(2, 1, :N), 99, 100, nothing) … MDMA.MDPState(UAVState(28, 1, :N), 99, 100, nothing) MDMA.MDPState(UAVState(29, 1, :N), 99, 100, nothing); MDMA.MDPState(UAVState(1, 2, :N), 99, 100, nothing) MDMA.MDPState(UAVState(2, 2, :N), 99, 100, nothing) … MDMA.MDPState(UAVState(28, 2, :N), 99, 100, nothing) MDMA.MDPState(UAVState(29, 2, :N), 99, 100, nothing); … ; MDMA.MDPState(UAVState(1, 28, :N), 99, 100, nothing) MDMA.MDPState(UAVState(2, 28, :N), 99, 100, nothing) … MDMA.MDPState(UAVState(28, 28, :N), 99, 100, nothing) MDMA.MDPState(UAVState(29, 28, :N), 99, 100, nothing); MDMA.MDPState(UAVState(1, 29, :N), 99, 100, nothing) MDMA.MDPState(UAVState(2, 29, :N), 99, 100, nothing) … MDMA.MDPState(UAVState(28, 29, :N), 99, 100, nothing) MDMA.MDPState(UAVState(29, 29, :N), 99, 100, nothing);;; MDMA.MDPState(UAVState(1, 1, :NW), 99, 100, nothing) MDMA.MDPState(UAVState(2, 1, :NW), 99, 100, nothing) … MDMA.MDPState(UAVState(28, 1, :NW), 99, 100, nothing) MDMA.MDPState(UAVState(29, 1, :NW), 99, 100, nothing); MDMA.MDPState(UAVState(1, 2, :NW), 99, 100, nothing) MDMA.MDPState(UAVState(2, 2, :NW), 99, 100, nothing) … MDMA.MDPState(UAVState(28, 2, :NW), 99, 100, nothing) MDMA.MDPState(UAVState(29, 2, :NW), 99, 100, nothing); … ; MDMA.MDPState(UAVState(1, 28, :NW), 99, 100, nothing) MDMA.MDPState(UAVState(2, 28, :NW), 99, 100, nothing) … MDMA.MDPState(UAVState(28, 28, :NW), 99, 100, nothing) MDMA.MDPState(UAVState(29, 28, :NW), 99, 100, nothing); MDMA.MDPState(UAVState(1, 29, :NW), 99, 100, nothing) MDMA.MDPState(UAVState(2, 29, :NW), 99, 100, nothing) … MDMA.MDPState(UAVState(28, 29, :NW), 99, 100, nothing) MDMA.MDPState(UAVState(29, 29, :NW), 99, 100, nothing);;; MDMA.MDPState(UAVState(1, 1, :W), 99, 100, nothing) MDMA.MDPState(UAVState(2, 1, :W), 99, 100, nothing) … MDMA.MDPState(UAVState(28, 1, :W), 99, 100, nothing) MDMA.MDPState(UAVState(29, 1, :W), 99, 100, nothing); MDMA.MDPState(UAVState(1, 2, :W), 99, 100, nothing) MDMA.MDPState(UAVState(2, 2, :W), 99, 100, nothing) … MDMA.MDPState(UAVState(28, 2, :W), 99, 100, nothing) MDMA.MDPState(UAVState(29, 2, :W), 99, 100, nothing); … ; MDMA.MDPState(UAVState(1, 28, :W), 99, 100, nothing) MDMA.MDPState(UAVState(2, 28, :W), 99, 100, nothing) … MDMA.MDPState(UAVState(28, 28, :W), 99, 100, nothing) MDMA.MDPState(UAVState(29, 28, :W), 99, 100, nothing); MDMA.MDPState(UAVState(1, 29, :W), 99, 100, nothing) MDMA.MDPState(UAVState(2, 29, :W), 99, 100, nothing) … MDMA.MDPState(UAVState(28, 29, :W), 99, 100, nothing) MDMA.MDPState(UAVState(29, 29, :W), 99, 100, nothing);;; MDMA.MDPState(UAVState(1, 1, :SW), 99, 100, nothing) MDMA.MDPState(UAVState(2, 1, :SW), 99, 100, nothing) … MDMA.MDPState(UAVState(28, 1, :SW), 99, 100, nothing) MDMA.MDPState(UAVState(29, 1, :SW), 99, 100, nothing); MDMA.MDPState(UAVState(1, 2, :SW), 99, 100, nothing) MDMA.MDPState(UAVState(2, 2, :SW), 99, 100, nothing) … MDMA.MDPState(UAVState(28, 2, :SW), 99, 100, nothing) MDMA.MDPState(UAVState(29, 2, :SW), 99, 100, nothing); … ; MDMA.MDPState(UAVState(1, 28, :SW), 99, 100, nothing) MDMA.MDPState(UAVState(2, 28, :SW), 99, 100, nothing) … MDMA.MDPState(UAVState(28, 28, :SW), 99, 100, nothing) MDMA.MDPState(UAVState(29, 28, :SW), 99, 100, nothing); MDMA.MDPState(UAVState(1, 29, :SW), 99, 100, nothing) MDMA.MDPState(UAVState(2, 29, :SW), 99, 100, nothing) … MDMA.MDPState(UAVState(28, 29, :SW), 99, 100, nothing) MDMA.MDPState(UAVState(29, 29, :SW), 99, 100, nothing);;; MDMA.MDPState(UAVState(1, 1, :S), 99, 100, nothing) MDMA.MDPState(UAVState(2, 1, :S), 99, 100, nothing) … MDMA.MDPState(UAVState(28, 1, :S), 99, 100, nothing) MDMA.MDPState(UAVState(29, 1, :S), 99, 100, nothing); MDMA.MDPState(UAVState(1, 2, :S), 99, 100, nothing) MDMA.MDPState(UAVState(2, 2, :S), 99, 100, nothing) … MDMA.MDPState(UAVState(28, 2, :S), 99, 100, nothing) MDMA.MDPState(UAVState(29, 2, :S), 99, 100, nothing); … ; MDMA.MDPState(UAVState(1, 28, :S), 99, 100, nothing) MDMA.MDPState(UAVState(2, 28, :S), 99, 100, nothing) … MDMA.MDPState(UAVState(28, 28, :S), 99, 100, nothing) MDMA.MDPState(UAVState(29, 28, :S), 99, 100, nothing); MDMA.MDPState(UAVState(1, 29, :S), 99, 100, nothing) MDMA.MDPState(UAVState(2, 29, :S), 99, 100, nothing) … MDMA.MDPState(UAVState(28, 29, :S), 99, 100, nothing) MDMA.MDPState(UAVState(29, 29, :S), 99, 100, nothing);;; MDMA.MDPState(UAVState(1, 1, :SE), 99, 100, nothing) MDMA.MDPState(UAVState(2, 1, :SE), 99, 100, nothing) … MDMA.MDPState(UAVState(28, 1, :SE), 99, 100, nothing) MDMA.MDPState(UAVState(29, 1, :SE), 99, 100, nothing); MDMA.MDPState(UAVState(1, 2, :SE), 99, 100, nothing) MDMA.MDPState(UAVState(2, 2, :SE), 99, 100, nothing) … MDMA.MDPState(UAVState(28, 2, :SE), 99, 100, nothing) MDMA.MDPState(UAVState(29, 2, :SE), 99, 100, nothing); … ; MDMA.MDPState(UAVState(1, 28, :SE), 99, 100, nothing) MDMA.MDPState(UAVState(2, 28, :SE), 99, 100, nothing) … MDMA.MDPState(UAVState(28, 28, :SE), 99, 100, nothing) MDMA.MDPState(UAVState(29, 28, :SE), 99, 100, nothing); MDMA.MDPState(UAVState(1, 29, :SE), 99, 100, nothing) MDMA.MDPState(UAVState(2, 29, :SE), 99, 100, nothing) … MDMA.MDPState(UAVState(28, 29, :SE), 99, 100, nothing) MDMA.MDPState(UAVState(29, 29, :SE), 99, 100, nothing);;;; MDMA.MDPState(UAVState(1, 1, :E), 100, 100, nothing) MDMA.MDPState(UAVState(2, 1, :E), 100, 100, nothing) … MDMA.MDPState(UAVState(28, 1, :E), 100, 100, nothing) MDMA.MDPState(UAVState(29, 1, :E), 100, 100, nothing); MDMA.MDPState(UAVState(1, 2, :E), 100, 100, nothing) MDMA.MDPState(UAVState(2, 2, :E), 100, 100, nothing) … MDMA.MDPState(UAVState(28, 2, :E), 100, 100, nothing) MDMA.MDPState(UAVState(29, 2, :E), 100, 100, nothing); … ; MDMA.MDPState(UAVState(1, 28, :E), 100, 100, nothing) MDMA.MDPState(UAVState(2, 28, :E), 100, 100, nothing) … MDMA.MDPState(UAVState(28, 28, :E), 100, 100, nothing) MDMA.MDPState(UAVState(29, 28, :E), 100, 100, nothing); MDMA.MDPState(UAVState(1, 29, :E), 100, 100, nothing) MDMA.MDPState(UAVState(2, 29, :E), 100, 100, nothing) … MDMA.MDPState(UAVState(28, 29, :E), 100, 100, nothing) MDMA.MDPState(UAVState(29, 29, :E), 100, 100, nothing);;; MDMA.MDPState(UAVState(1, 1, :NE), 100, 100, nothing) MDMA.MDPState(UAVState(2, 1, :NE), 100, 100, nothing) … MDMA.MDPState(UAVState(28, 1, :NE), 100, 100, nothing) MDMA.MDPState(UAVState(29, 1, :NE), 100, 100, nothing); MDMA.MDPState(UAVState(1, 2, :NE), 100, 100, nothing) MDMA.MDPState(UAVState(2, 2, :NE), 100, 100, nothing) … MDMA.MDPState(UAVState(28, 2, :NE), 100, 100, nothing) MDMA.MDPState(UAVState(29, 2, :NE), 100, 100, nothing); … ; MDMA.MDPState(UAVState(1, 28, :NE), 100, 100, nothing) MDMA.MDPState(UAVState(2, 28, :NE), 100, 100, nothing) … MDMA.MDPState(UAVState(28, 28, :NE), 100, 100, nothing) MDMA.MDPState(UAVState(29, 28, :NE), 100, 100, nothing); MDMA.MDPState(UAVState(1, 29, :NE), 100, 100, nothing) MDMA.MDPState(UAVState(2, 29, :NE), 100, 100, nothing) … MDMA.MDPState(UAVState(28, 29, :NE), 100, 100, nothing) MDMA.MDPState(UAVState(29, 29, :NE), 100, 100, nothing);;; MDMA.MDPState(UAVState(1, 1, :N), 100, 100, nothing) MDMA.MDPState(UAVState(2, 1, :N), 100, 100, nothing) … MDMA.MDPState(UAVState(28, 1, :N), 100, 100, nothing) MDMA.MDPState(UAVState(29, 1, :N), 100, 100, nothing); MDMA.MDPState(UAVState(1, 2, :N), 100, 100, nothing) MDMA.MDPState(UAVState(2, 2, :N), 100, 100, nothing) … MDMA.MDPState(UAVState(28, 2, :N), 100, 100, nothing) MDMA.MDPState(UAVState(29, 2, :N), 100, 100, nothing); … ; MDMA.MDPState(UAVState(1, 28, :N), 100, 100, nothing) MDMA.MDPState(UAVState(2, 28, :N), 100, 100, nothing) … MDMA.MDPState(UAVState(28, 28, :N), 100, 100, nothing) MDMA.MDPState(UAVState(29, 28, :N), 100, 100, nothing); MDMA.MDPState(UAVState(1, 29, :N), 100, 100, nothing) MDMA.MDPState(UAVState(2, 29, :N), 100, 100, nothing) … MDMA.MDPState(UAVState(28, 29, :N), 100, 100, nothing) MDMA.MDPState(UAVState(29, 29, :N), 100, 100, nothing);;; MDMA.MDPState(UAVState(1, 1, :NW), 100, 100, nothing) MDMA.MDPState(UAVState(2, 1, :NW), 100, 100, nothing) … MDMA.MDPState(UAVState(28, 1, :NW), 100, 100, nothing) MDMA.MDPState(UAVState(29, 1, :NW), 100, 100, nothing); MDMA.MDPState(UAVState(1, 2, :NW), 100, 100, nothing) MDMA.MDPState(UAVState(2, 2, :NW), 100, 100, nothing) … MDMA.MDPState(UAVState(28, 2, :NW), 100, 100, nothing) MDMA.MDPState(UAVState(29, 2, :NW), 100, 100, nothing); … ; MDMA.MDPState(UAVState(1, 28, :NW), 100, 100, nothing) MDMA.MDPState(UAVState(2, 28, :NW), 100, 100, nothing) … MDMA.MDPState(UAVState(28, 28, :NW), 100, 100, nothing) MDMA.MDPState(UAVState(29, 28, :NW), 100, 100, nothing); MDMA.MDPState(UAVState(1, 29, :NW), 100, 100, nothing) MDMA.MDPState(UAVState(2, 29, :NW), 100, 100, nothing) … MDMA.MDPState(UAVState(28, 29, :NW), 100, 100, nothing) MDMA.MDPState(UAVState(29, 29, :NW), 100, 100, nothing);;; MDMA.MDPState(UAVState(1, 1, :W), 100, 100, nothing) MDMA.MDPState(UAVState(2, 1, :W), 100, 100, nothing) … MDMA.MDPState(UAVState(28, 1, :W), 100, 100, nothing) MDMA.MDPState(UAVState(29, 1, :W), 100, 100, nothing); MDMA.MDPState(UAVState(1, 2, :W), 100, 100, nothing) MDMA.MDPState(UAVState(2, 2, :W), 100, 100, nothing) … MDMA.MDPState(UAVState(28, 2, :W), 100, 100, nothing) MDMA.MDPState(UAVState(29, 2, :W), 100, 100, nothing); … ; MDMA.MDPState(UAVState(1, 28, :W), 100, 100, nothing) MDMA.MDPState(UAVState(2, 28, :W), 100, 100, nothing) … MDMA.MDPState(UAVState(28, 28, :W), 100, 100, nothing) MDMA.MDPState(UAVState(29, 28, :W), 100, 100, nothing); MDMA.MDPState(UAVState(1, 29, :W), 100, 100, nothing) MDMA.MDPState(UAVState(2, 29, :W), 100, 100, nothing) … MDMA.MDPState(UAVState(28, 29, :W), 100, 100, nothing) MDMA.MDPState(UAVState(29, 29, :W), 100, 100, nothing);;; MDMA.MDPState(UAVState(1, 1, :SW), 100, 100, nothing) MDMA.MDPState(UAVState(2, 1, :SW), 100, 100, nothing) … MDMA.MDPState(UAVState(28, 1, :SW), 100, 100, nothing) MDMA.MDPState(UAVState(29, 1, :SW), 100, 100, nothing); MDMA.MDPState(UAVState(1, 2, :SW), 100, 100, nothing) MDMA.MDPState(UAVState(2, 2, :SW), 100, 100, nothing) … MDMA.MDPState(UAVState(28, 2, :SW), 100, 100, nothing) MDMA.MDPState(UAVState(29, 2, :SW), 100, 100, nothing); … ; MDMA.MDPState(UAVState(1, 28, :SW), 100, 100, nothing) MDMA.MDPState(UAVState(2, 28, :SW), 100, 100, nothing) … MDMA.MDPState(UAVState(28, 28, :SW), 100, 100, nothing) MDMA.MDPState(UAVState(29, 28, :SW), 100, 100, nothing); MDMA.MDPState(UAVState(1, 29, :SW), 100, 100, nothing) MDMA.MDPState(UAVState(2, 29, :SW), 100, 100, nothing) … MDMA.MDPState(UAVState(28, 29, :SW), 100, 100, nothing) MDMA.MDPState(UAVState(29, 29, :SW), 100, 100, nothing);;; MDMA.MDPState(UAVState(1, 1, :S), 100, 100, nothing) MDMA.MDPState(UAVState(2, 1, :S), 100, 100, nothing) … MDMA.MDPState(UAVState(28, 1, :S), 100, 100, nothing) MDMA.MDPState(UAVState(29, 1, :S), 100, 100, nothing); MDMA.MDPState(UAVState(1, 2, :S), 100, 100, nothing) MDMA.MDPState(UAVState(2, 2, :S), 100, 100, nothing) … MDMA.MDPState(UAVState(28, 2, :S), 100, 100, nothing) MDMA.MDPState(UAVState(29, 2, :S), 100, 100, nothing); … ; MDMA.MDPState(UAVState(1, 28, :S), 100, 100, nothing) MDMA.MDPState(UAVState(2, 28, :S), 100, 100, nothing) … MDMA.MDPState(UAVState(28, 28, :S), 100, 100, nothing) MDMA.MDPState(UAVState(29, 28, :S), 100, 100, nothing); MDMA.MDPState(UAVState(1, 29, :S), 100, 100, nothing) MDMA.MDPState(UAVState(2, 29, :S), 100, 100, nothing) … MDMA.MDPState(UAVState(28, 29, :S), 100, 100, nothing) MDMA.MDPState(UAVState(29, 29, :S), 100, 100, nothing);;; MDMA.MDPState(UAVState(1, 1, :SE), 100, 100, nothing) MDMA.MDPState(UAVState(2, 1, :SE), 100, 100, nothing) … MDMA.MDPState(UAVState(28, 1, :SE), 100, 100, nothing) MDMA.MDPState(UAVState(29, 1, :SE), 100, 100, nothing); MDMA.MDPState(UAVState(1, 2, :SE), 100, 100, nothing) MDMA.MDPState(UAVState(2, 2, :SE), 100, 100, nothing) … MDMA.MDPState(UAVState(28, 2, :SE), 100, 100, nothing) MDMA.MDPState(UAVState(29, 2, :SE), 100, 100, nothing); … ; MDMA.MDPState(UAVState(1, 28, :SE), 100, 100, nothing) MDMA.MDPState(UAVState(2, 28, :SE), 100, 100, nothing) … MDMA.MDPState(UAVState(28, 28, :SE), 100, 100, nothing) MDMA.MDPState(UAVState(29, 28, :SE), 100, 100, nothing); MDMA.MDPState(UAVState(1, 29, :SE), 100, 100, nothing) MDMA.MDPState(UAVState(2, 29, :SE), 100, 100, nothing) … MDMA.MDPState(UAVState(28, 29, :SE), 100, 100, nothing) MDMA.MDPState(UAVState(29, 29, :SE), 100, 100, nothing)]), ViewConeSensor(1.4660766124725342, 3.0), 100, 3.0))"
      ]
     },
     "execution_count": 17,
     "metadata": {},
     "output_type": "execute_result"
    }
   ],
   "source": [
    "# Set model parameters\n",
    "\n",
    "move_dist = 3;\n",
    "multi_configs = configs_from_file(\"../../blender/crossing_data.json\", move_dist)\n",
    "coverage = generate_empty_coverage_data(multi_configs)\n",
    "\n",
    "robot_states = map(x->MDMA.random_state(multi_configs.horizon, multi_configs.grid), 1:multi_configs.num_robots)\n",
    "multi_problem = MDMA.MultiRobotTargetCoverageProblem(robot_states, coverage, multi_configs)\n",
    "\n",
    "# model = MDMA.SingleRobotMultiTargetViewCoverageProblem(grid, sensor, horizon, target_trajectories, move_dist, coverage, initial_state)"
   ]
  },
  {
   "cell_type": "code",
   "execution_count": 11,
   "metadata": {
    "scrolled": false
   },
   "outputs": [
    {
     "name": "stdout",
     "output_type": "stream",
     "text": [
      "Processing Robot 1\n",
      "[Iteration 1   ] residual:        295 | iteration runtime: 173146.721 ms, (       173 s total)\n",
      "[Iteration 2   ] residual:          0 | iteration runtime: 173597.229 ms, (       347 s total)\n",
      "Processing Robot 2\n",
      "[Iteration 1   ] residual:       87.3 | iteration runtime: 173901.299 ms, (       174 s total)\n",
      "[Iteration 2   ] residual:          0 | iteration runtime: 174046.159 ms, (       348 s total)\n",
      "Processing Robot 3\n",
      "[Iteration 1   ] residual:       73.2 | iteration runtime: 175718.656 ms, (       176 s total)\n",
      "[Iteration 2   ] residual:          0 | iteration runtime: 176593.925 ms, (       352 s total)\n",
      "objectiveVector{Tuple{Int64, Vector{MDMA.MDPState}}}\n"
     ]
    },
    {
     "data": {
      "text/plain": [
       "Solution{Tuple{Int64, Vector{MDMA.MDPState}}}(94.99999999999994, Tuple{Int64, Vector{MDMA.MDPState}}[(1, [MDMA.MDPState(UAVState(19, 10, :E), 1, 100, nothing), MDMA.MDPState(UAVState(17, 8, :SE), 2, 100, nothing), MDMA.MDPState(UAVState(15, 8, :S), 3, 100, nothing), MDMA.MDPState(UAVState(13, 10, :SW), 4, 100, nothing), MDMA.MDPState(UAVState(11, 8, :W), 5, 100, nothing), MDMA.MDPState(UAVState(11, 8, :NW), 6, 100, nothing), MDMA.MDPState(UAVState(11, 8, :NW), 7, 100, nothing), MDMA.MDPState(UAVState(11, 8, :NW), 8, 100, nothing), MDMA.MDPState(UAVState(12, 8, :NW), 9, 100, nothing), MDMA.MDPState(UAVState(12, 8, :NW), 10, 100, nothing)  …  MDMA.MDPState(UAVState(22, 21, :S), 91, 100, nothing), MDMA.MDPState(UAVState(22, 21, :S), 92, 100, nothing), MDMA.MDPState(UAVState(22, 21, :S), 93, 100, nothing), MDMA.MDPState(UAVState(22, 21, :S), 94, 100, nothing), MDMA.MDPState(UAVState(22, 21, :S), 95, 100, nothing), MDMA.MDPState(UAVState(22, 21, :S), 96, 100, nothing), MDMA.MDPState(UAVState(22, 21, :S), 97, 100, nothing), MDMA.MDPState(UAVState(22, 21, :S), 98, 100, nothing), MDMA.MDPState(UAVState(22, 21, :S), 99, 100, nothing), MDMA.MDPState(UAVState(22, 21, :S), 100, 100, nothing)]), (2, [MDMA.MDPState(UAVState(28, 27, :SW), 1, 100, nothing), MDMA.MDPState(UAVState(26, 25, :SW), 2, 100, nothing), MDMA.MDPState(UAVState(24, 23, :SW), 3, 100, nothing), MDMA.MDPState(UAVState(22, 21, :SW), 4, 100, nothing), MDMA.MDPState(UAVState(20, 19, :SW), 5, 100, nothing), MDMA.MDPState(UAVState(18, 18, :SW), 6, 100, nothing), MDMA.MDPState(UAVState(18, 18, :SW), 7, 100, nothing), MDMA.MDPState(UAVState(18, 18, :SW), 8, 100, nothing), MDMA.MDPState(UAVState(18, 18, :SW), 9, 100, nothing), MDMA.MDPState(UAVState(18, 18, :SW), 10, 100, nothing)  …  MDMA.MDPState(UAVState(21, 13, :SW), 91, 100, nothing), MDMA.MDPState(UAVState(21, 13, :SW), 92, 100, nothing), MDMA.MDPState(UAVState(21, 13, :SW), 93, 100, nothing), MDMA.MDPState(UAVState(21, 13, :SW), 94, 100, nothing), MDMA.MDPState(UAVState(21, 13, :SW), 95, 100, nothing), MDMA.MDPState(UAVState(21, 13, :SW), 96, 100, nothing), MDMA.MDPState(UAVState(21, 13, :SW), 97, 100, nothing), MDMA.MDPState(UAVState(21, 13, :SW), 98, 100, nothing), MDMA.MDPState(UAVState(21, 13, :SW), 99, 100, nothing), MDMA.MDPState(UAVState(21, 13, :SW), 100, 100, nothing)]), (3, [MDMA.MDPState(UAVState(21, 24, :NE), 1, 100, nothing), MDMA.MDPState(UAVState(19, 22, :E), 2, 100, nothing), MDMA.MDPState(UAVState(19, 22, :E), 3, 100, nothing), MDMA.MDPState(UAVState(19, 22, :E), 4, 100, nothing), MDMA.MDPState(UAVState(17, 20, :E), 5, 100, nothing), MDMA.MDPState(UAVState(15, 18, :E), 6, 100, nothing), MDMA.MDPState(UAVState(14, 18, :E), 7, 100, nothing), MDMA.MDPState(UAVState(14, 18, :E), 8, 100, nothing), MDMA.MDPState(UAVState(14, 18, :E), 9, 100, nothing), MDMA.MDPState(UAVState(14, 18, :E), 10, 100, nothing)  …  MDMA.MDPState(UAVState(5, 20, :NE), 91, 100, nothing), MDMA.MDPState(UAVState(5, 20, :NE), 92, 100, nothing), MDMA.MDPState(UAVState(5, 20, :NE), 93, 100, nothing), MDMA.MDPState(UAVState(5, 20, :NE), 94, 100, nothing), MDMA.MDPState(UAVState(5, 20, :NE), 95, 100, nothing), MDMA.MDPState(UAVState(5, 20, :NE), 96, 100, nothing), MDMA.MDPState(UAVState(5, 20, :NE), 97, 100, nothing), MDMA.MDPState(UAVState(5, 20, :NE), 98, 100, nothing), MDMA.MDPState(UAVState(5, 20, :NE), 99, 100, nothing), MDMA.MDPState(UAVState(5, 20, :NE), 100, 100, nothing)])])"
      ]
     },
     "execution_count": 11,
     "metadata": {},
     "output_type": "execute_result"
    }
   ],
   "source": [
    "# policy = MDMA.solve_single_robot(model)\n",
    "\n",
    "# Will need a grid for each robot\n",
    "\n",
    "solution = solve_sequential(multi_problem)"
   ]
  },
  {
   "cell_type": "code",
   "execution_count": 12,
   "metadata": {},
   "outputs": [
    {
     "data": {
      "text/html": [
       "# 5 methods for generic function <b>solve_block</b>:<ul><li> solve_block(p::<b>ExplicitPartitionProblem</b>, block_index::<b>Integer</b>, selections::<b>Vector</b>) in SubmodularMaximization at <a href=\"file:///airlab/SubmodularMaximization.jl\" target=\"_blank\">/airlab/SubmodularMaximization.jl:171</a></li> <li> solve_block(p::<b>MultiRobotTargetTrackingProblem</b>, block::<b>Integer</b>, selections::<b>Vector</b>) in SubmodularMaximization at <a href=\"file:///airlab/src/target_tracking/multi_robot_target_tracking_problem.jl\" target=\"_blank\">/airlab/src/target_tracking/multi_robot_target_tracking_problem.jl:151</a></li> <li> solve_block(p::<b>SubmodularMaximization.MultiRobotTargetCoverageProblem</b>, block::<b>Integer</b>, selections::<b>Vector</b>) in SubmodularMaximization at <a href=\"file:///airlab/src/target_tracking/multi_robot_target_coverage_problem.jl\" target=\"_blank\">/airlab/src/target_tracking/multi_robot_target_coverage_problem.jl:99</a></li> <li> solve_block(p::<b>MDMA.MultiRobotTargetCoverageProblem</b>, block::<b>Integer</b>, selections::<b>Vector{Tuple{Int64, Vector{MDMA.MDPState}}}</b>) in MDMA at <a href=\"file:///airlab/src/mdma_greedy/MDMA_MultiAgent.jl\" target=\"_blank\">/airlab/src/mdma_greedy/MDMA_MultiAgent.jl:169</a></li> <li> solve_block(p::<b>PartitionProblem</b>, block::<b>Integer</b>, selections::<b>Vector</b>) in SubmodularMaximization at <a href=\"file:///airlab/SubmodularMaximization.jl\" target=\"_blank\">/airlab/SubmodularMaximization.jl:123</a></li> </ul>"
      ],
      "text/plain": [
       "# 5 methods for generic function \"solve_block\":\n",
       "[1] solve_block(p::ExplicitPartitionProblem, block_index::Integer, selections::Vector) in SubmodularMaximization at /airlab/SubmodularMaximization.jl:171\n",
       "[2] solve_block(p::MultiRobotTargetTrackingProblem, block::Integer, selections::Vector) in SubmodularMaximization at /airlab/src/target_tracking/multi_robot_target_tracking_problem.jl:151\n",
       "[3] solve_block(p::SubmodularMaximization.MultiRobotTargetCoverageProblem, block::Integer, selections::Vector) in SubmodularMaximization at /airlab/src/target_tracking/multi_robot_target_coverage_problem.jl:99\n",
       "[4] solve_block(p::MDMA.MultiRobotTargetCoverageProblem, block::Integer, selections::Vector{Tuple{Int64, Vector{MDMA.MDPState}}}) in MDMA at /airlab/src/mdma_greedy/MDMA_MultiAgent.jl:169\n",
       "[5] solve_block(p::PartitionProblem, block::Integer, selections::Vector) in SubmodularMaximization at /airlab/SubmodularMaximization.jl:123"
      ]
     },
     "execution_count": 12,
     "metadata": {},
     "output_type": "execute_result"
    }
   ],
   "source": [
    "methods(solve_block)"
   ]
  },
  {
   "cell_type": "code",
   "execution_count": 13,
   "metadata": {},
   "outputs": [
    {
     "name": "stdout",
     "output_type": "stream",
     "text": [
      "Writing to output/01.png\n",
      "Writing to output/02.png\n",
      "Writing to output/03.png\n",
      "Writing to output/04.png\n",
      "Writing to output/05.png\n",
      "Writing to output/06.png\n",
      "Writing to output/07.png\n",
      "Writing to output/08.png\n",
      "Writing to output/09.png\n",
      "Writing to output/10.png\n",
      "Writing to output/11.png\n",
      "Writing to output/12.png\n",
      "Writing to output/13.png\n",
      "Writing to output/14.png\n",
      "Writing to output/15.png\n",
      "Writing to output/16.png\n",
      "Writing to output/17.png\n",
      "Writing to output/18.png\n",
      "Writing to output/19.png\n",
      "Writing to output/20.png\n",
      "Writing to output/21.png\n",
      "Writing to output/22.png\n",
      "Writing to output/23.png\n",
      "Writing to output/24.png\n",
      "Writing to output/25.png\n",
      "Writing to output/26.png\n",
      "Writing to output/27.png\n",
      "Writing to output/28.png\n",
      "Writing to output/29.png\n",
      "Writing to output/30.png\n",
      "Writing to output/31.png\n",
      "Writing to output/32.png\n",
      "Writing to output/33.png\n",
      "Writing to output/34.png\n",
      "Writing to output/35.png\n",
      "Writing to output/36.png\n",
      "Writing to output/37.png\n",
      "Writing to output/38.png\n",
      "Writing to output/39.png\n",
      "Writing to output/40.png\n",
      "Writing to output/41.png\n",
      "Writing to output/42.png\n",
      "Writing to output/43.png\n",
      "Writing to output/44.png\n",
      "Writing to output/45.png\n",
      "Writing to output/46.png\n",
      "Writing to output/47.png\n",
      "Writing to output/48.png\n",
      "Writing to output/49.png\n",
      "Writing to output/50.png\n",
      "Writing to output/51.png\n",
      "Writing to output/52.png\n",
      "Writing to output/53.png\n",
      "Writing to output/54.png\n",
      "Writing to output/55.png\n",
      "Writing to output/56.png\n",
      "Writing to output/57.png\n",
      "Writing to output/58.png\n",
      "Writing to output/59.png\n",
      "Writing to output/60.png\n",
      "Writing to output/61.png\n",
      "Writing to output/62.png\n",
      "Writing to output/63.png\n",
      "Writing to output/64.png\n",
      "Writing to output/65.png\n",
      "Writing to output/66.png\n",
      "Writing to output/67.png\n",
      "Writing to output/68.png\n",
      "Writing to output/69.png\n",
      "Writing to output/70.png\n",
      "Writing to output/71.png\n",
      "Writing to output/72.png\n",
      "Writing to output/73.png\n",
      "Writing to output/74.png\n",
      "Writing to output/75.png\n",
      "Writing to output/76.png\n",
      "Writing to output/77.png\n",
      "Writing to output/78.png\n",
      "Writing to output/79.png\n",
      "Writing to output/80.png\n",
      "Writing to output/81.png\n",
      "Writing to output/82.png\n",
      "Writing to output/83.png\n",
      "Writing to output/84.png\n",
      "Writing to output/85.png\n",
      "Writing to output/86.png\n",
      "Writing to output/87.png\n",
      "Writing to output/88.png\n",
      "Writing to output/89.png\n",
      "Writing to output/90.png\n",
      "Writing to output/91.png\n",
      "Writing to output/92.png\n",
      "Writing to output/93.png\n",
      "Writing to output/94.png\n",
      "Writing to output/95.png\n",
      "Writing to output/96.png\n",
      "Writing to output/97.png\n",
      "Writing to output/98.png\n",
      "Writing to output/99.png\n",
      "Writing to output/100.png\n"
     ]
    }
   ],
   "source": [
    "\n",
    "paths = Vector{Vector{MDMA.MDPState}}(undef, 0)\n",
    "for sol in solution.elements\n",
    "    push!(paths, sol[2])\n",
    "end\n",
    "draw_frames(RenderConf(50, 4, true, false), multi_configs, paths)\n"
   ]
  },
  {
   "cell_type": "code",
   "execution_count": 14,
   "metadata": {},
   "outputs": [
    {
     "data": {
      "text/plain": [
       "100-element Vector{MDMA.MDPState}:\n",
       " MDMA.MDPState(UAVState(28, 27, :SW), 1, 100, nothing)\n",
       " MDMA.MDPState(UAVState(26, 25, :SW), 2, 100, nothing)\n",
       " MDMA.MDPState(UAVState(24, 23, :SW), 3, 100, nothing)\n",
       " MDMA.MDPState(UAVState(22, 21, :SW), 4, 100, nothing)\n",
       " MDMA.MDPState(UAVState(20, 19, :SW), 5, 100, nothing)\n",
       " MDMA.MDPState(UAVState(18, 18, :SW), 6, 100, nothing)\n",
       " MDMA.MDPState(UAVState(18, 18, :SW), 7, 100, nothing)\n",
       " MDMA.MDPState(UAVState(18, 18, :SW), 8, 100, nothing)\n",
       " MDMA.MDPState(UAVState(18, 18, :SW), 9, 100, nothing)\n",
       " MDMA.MDPState(UAVState(18, 18, :SW), 10, 100, nothing)\n",
       " MDMA.MDPState(UAVState(18, 18, :SW), 11, 100, nothing)\n",
       " MDMA.MDPState(UAVState(18, 18, :SW), 12, 100, nothing)\n",
       " MDMA.MDPState(UAVState(18, 18, :SW), 13, 100, nothing)\n",
       " ⋮\n",
       " MDMA.MDPState(UAVState(21, 13, :SW), 89, 100, nothing)\n",
       " MDMA.MDPState(UAVState(21, 13, :SW), 90, 100, nothing)\n",
       " MDMA.MDPState(UAVState(21, 13, :SW), 91, 100, nothing)\n",
       " MDMA.MDPState(UAVState(21, 13, :SW), 92, 100, nothing)\n",
       " MDMA.MDPState(UAVState(21, 13, :SW), 93, 100, nothing)\n",
       " MDMA.MDPState(UAVState(21, 13, :SW), 94, 100, nothing)\n",
       " MDMA.MDPState(UAVState(21, 13, :SW), 95, 100, nothing)\n",
       " MDMA.MDPState(UAVState(21, 13, :SW), 96, 100, nothing)\n",
       " MDMA.MDPState(UAVState(21, 13, :SW), 97, 100, nothing)\n",
       " MDMA.MDPState(UAVState(21, 13, :SW), 98, 100, nothing)\n",
       " MDMA.MDPState(UAVState(21, 13, :SW), 99, 100, nothing)\n",
       " MDMA.MDPState(UAVState(21, 13, :SW), 100, 100, nothing)"
      ]
     },
     "execution_count": 14,
     "metadata": {},
     "output_type": "execute_result"
    }
   ],
   "source": [
    "solution.elements[2][2]"
   ]
  },
  {
   "cell_type": "code",
   "execution_count": 15,
   "metadata": {},
   "outputs": [
    {
     "data": {
      "text/plain": [
       "100-element Vector{MDMA.MDPState}:\n",
       " MDMA.MDPState(UAVState(19, 10, :E), 1, 100, nothing)\n",
       " MDMA.MDPState(UAVState(17, 8, :SE), 2, 100, nothing)\n",
       " MDMA.MDPState(UAVState(15, 8, :S), 3, 100, nothing)\n",
       " MDMA.MDPState(UAVState(13, 10, :SW), 4, 100, nothing)\n",
       " MDMA.MDPState(UAVState(11, 8, :W), 5, 100, nothing)\n",
       " MDMA.MDPState(UAVState(11, 8, :NW), 6, 100, nothing)\n",
       " MDMA.MDPState(UAVState(11, 8, :NW), 7, 100, nothing)\n",
       " MDMA.MDPState(UAVState(11, 8, :NW), 8, 100, nothing)\n",
       " MDMA.MDPState(UAVState(12, 8, :NW), 9, 100, nothing)\n",
       " MDMA.MDPState(UAVState(12, 8, :NW), 10, 100, nothing)\n",
       " MDMA.MDPState(UAVState(12, 8, :NW), 11, 100, nothing)\n",
       " MDMA.MDPState(UAVState(12, 8, :NW), 12, 100, nothing)\n",
       " MDMA.MDPState(UAVState(12, 8, :NW), 13, 100, nothing)\n",
       " ⋮\n",
       " MDMA.MDPState(UAVState(22, 21, :S), 89, 100, nothing)\n",
       " MDMA.MDPState(UAVState(22, 21, :S), 90, 100, nothing)\n",
       " MDMA.MDPState(UAVState(22, 21, :S), 91, 100, nothing)\n",
       " MDMA.MDPState(UAVState(22, 21, :S), 92, 100, nothing)\n",
       " MDMA.MDPState(UAVState(22, 21, :S), 93, 100, nothing)\n",
       " MDMA.MDPState(UAVState(22, 21, :S), 94, 100, nothing)\n",
       " MDMA.MDPState(UAVState(22, 21, :S), 95, 100, nothing)\n",
       " MDMA.MDPState(UAVState(22, 21, :S), 96, 100, nothing)\n",
       " MDMA.MDPState(UAVState(22, 21, :S), 97, 100, nothing)\n",
       " MDMA.MDPState(UAVState(22, 21, :S), 98, 100, nothing)\n",
       " MDMA.MDPState(UAVState(22, 21, :S), 99, 100, nothing)\n",
       " MDMA.MDPState(UAVState(22, 21, :S), 100, 100, nothing)"
      ]
     },
     "execution_count": 15,
     "metadata": {},
     "output_type": "execute_result"
    }
   ],
   "source": [
    "solution.elements[1][2]"
   ]
  },
  {
   "cell_type": "code",
   "execution_count": 16,
   "metadata": {},
   "outputs": [
    {
     "data": {
      "text/plain": [
       "94.99999999999994"
      ]
     },
     "execution_count": 16,
     "metadata": {},
     "output_type": "execute_result"
    }
   ],
   "source": [
    "solution.value"
   ]
  },
  {
   "cell_type": "code",
   "execution_count": null,
   "metadata": {},
   "outputs": [],
   "source": []
  },
  {
   "cell_type": "code",
   "execution_count": null,
   "metadata": {},
   "outputs": [],
   "source": []
  },
  {
   "cell_type": "code",
   "execution_count": null,
   "metadata": {},
   "outputs": [],
   "source": []
  }
 ],
 "metadata": {
  "kernelspec": {
   "display_name": "Julia 1.8.2",
   "language": "julia",
   "name": "julia-1.8"
  },
  "language_info": {
   "file_extension": ".jl",
   "mimetype": "application/julia",
   "name": "julia",
   "version": "1.8.2"
  }
 },
 "nbformat": 4,
 "nbformat_minor": 2
}
