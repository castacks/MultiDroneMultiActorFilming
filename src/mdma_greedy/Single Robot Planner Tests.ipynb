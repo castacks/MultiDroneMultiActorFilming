{
 "cells": [
  {
   "cell_type": "code",
   "execution_count": 1,
   "metadata": {
    "scrolled": true
   },
   "outputs": [],
   "source": [
    "using Revise\n",
    "using POMDPs\n",
    "using DiscreteValueIteration\n",
    "using POMDPTools\n",
    "# using Dates\n",
    "# using Profile"
   ]
  },
  {
   "cell_type": "code",
   "execution_count": 2,
   "metadata": {
    "scrolled": true
   },
   "outputs": [
    {
     "name": "stderr",
     "output_type": "stream",
     "text": [
      "┌ Info: Precompiling MDMA [top-level]\n",
      "└ @ Base loading.jl:1664\n"
     ]
    },
    {
     "name": "stdout",
     "output_type": "stream",
     "text": [
      "\u001b[0m\u001b[1mTest Summary: | \u001b[22m\u001b[32m\u001b[1mPass  \u001b[22m\u001b[39m\u001b[36m\u001b[1mTotal  \u001b[22m\u001b[39m\u001b[0m\u001b[1mTime\u001b[22m\n",
      "detectTarget  | \u001b[32m  30  \u001b[39m\u001b[36m   30  \u001b[39m\u001b[0m0.4s\n",
      "\u001b[0m\u001b[1mTest Summary:        | \u001b[22m\u001b[32m\u001b[1mPass  \u001b[22m\u001b[39m\u001b[36m\u001b[1mTotal  \u001b[22m\u001b[39m\u001b[0m\u001b[1mTime\u001b[22m\n",
      "single_robot_planner | \u001b[32m   2  \u001b[39m\u001b[36m    2  \u001b[39m\u001b[0m0.1s\n",
      "\u001b[0m\u001b[1mTest Summary:   |\u001b[22m\u001b[0m\u001b[1mTime\u001b[22m\n",
      "test_file_parse | \u001b[36mNone  \u001b[39m\u001b[0m0.0s\n"
     ]
    }
   ],
   "source": [
    "using MDMA"
   ]
  },
  {
   "cell_type": "code",
   "execution_count": 3,
   "metadata": {
    "scrolled": true
   },
   "outputs": [],
   "source": [
    "# Set model parameters\n",
    "sensor = ViewConeSensor(pi/2, 3);\n",
    "horizon = 24\n",
    "grid = Grid(18,18, horizon);\n",
    "\n",
    "# Setup initial distribution of targets\n",
    "targets = Vector{Target}(undef, 0);\n",
    "push!(targets, Target(grid.width-3,grid.height-3,0));\n",
    "push!(targets, Target(grid.width-4,grid.height-2,0));\n",
    "push!(targets, Target(grid.width-5,grid.height-3,0));\n",
    "\n",
    "target_trajectories = MDMA.generate_target_trajectories(grid, horizon, targets);\n",
    "\n",
    "move_dist = 3;\n",
    "model = MDMA.SingleRobotMultiTargetViewCoverageProblem(grid, sensor, horizon, target_trajectories, move_dist);"
   ]
  },
  {
   "cell_type": "code",
   "execution_count": 4,
   "metadata": {
    "scrolled": false
   },
   "outputs": [
    {
     "name": "stdout",
     "output_type": "stream",
     "text": [
      "[Iteration 1   ] residual:        190 | iteration runtime:  14422.527 ms, (      14.4 s total)\n",
      "[Iteration 2   ] residual:          0 | iteration runtime:  14314.660 ms, (      28.7 s total)\n"
     ]
    },
    {
     "data": {
      "text/plain": [
       "ValueIterationPolicy:\n",
       " MDPState(UAVState(1, 1, :E), 1, 24, nothing) -> MDPState(UAVState(3, 3, :NE), 2, 24, nothing)\n",
       " MDPState(UAVState(1, 2, :E), 1, 24, nothing) -> MDPState(UAVState(3, 3, :NE), 2, 24, nothing)\n",
       " MDPState(UAVState(1, 3, :E), 1, 24, nothing) -> MDPState(UAVState(3, 3, :NE), 2, 24, nothing)\n",
       " MDPState(UAVState(1, 4, :E), 1, 24, nothing) -> MDPState(UAVState(3, 3, :NE), 2, 24, nothing)\n",
       " MDPState(UAVState(1, 5, :E), 1, 24, nothing) -> MDPState(UAVState(3, 3, :NE), 2, 24, nothing)\n",
       " MDPState(UAVState(1, 6, :E), 1, 24, nothing) -> MDPState(UAVState(3, 4, :NE), 2, 24, nothing)\n",
       " MDPState(UAVState(1, 7, :E), 1, 24, nothing) -> MDPState(UAVState(3, 5, :NE), 2, 24, nothing)\n",
       " MDPState(UAVState(1, 8, :E), 1, 24, nothing) -> MDPState(UAVState(3, 6, :NE), 2, 24, nothing)\n",
       " MDPState(UAVState(1, 9, :E), 1, 24, nothing) -> MDPState(UAVState(3, 7, :NE), 2, 24, nothing)\n",
       " MDPState(UAVState(1, 10, :E), 1, 24, nothing) -> MDPState(UAVState(3, 8, :NE), 2, 24, nothing)\n",
       " MDPState(UAVState(1, 11, :E), 1, 24, nothing) -> MDPState(UAVState(3, 9, :NE), 2, 24, nothing)\n",
       " MDPState(UAVState(1, 12, :E), 1, 24, nothing) -> MDPState(UAVState(3, 10, :NE), 2, 24, nothing)\n",
       " MDPState(UAVState(1, 13, :E), 1, 24, nothing) -> MDPState(UAVState(3, 11, :NE), 2, 24, nothing)\n",
       " MDPState(UAVState(1, 14, :E), 1, 24, nothing) -> MDPState(UAVState(3, 12, :NE), 2, 24, nothing)\n",
       " MDPState(UAVState(1, 15, :E), 1, 24, nothing) -> MDPState(UAVState(3, 13, :NE), 2, 24, nothing)\n",
       " MDPState(UAVState(1, 16, :E), 1, 24, nothing) -> MDPState(UAVState(3, 14, :NE), 2, 24, nothing)\n",
       " MDPState(UAVState(1, 17, :E), 1, 24, nothing) -> MDPState(UAVState(3, 15, :NE), 2, 24, nothing)\n",
       " MDPState(UAVState(1, 18, :E), 1, 24, nothing) -> MDPState(UAVState(3, 16, :NE), 2, 24, nothing)\n",
       " MDPState(UAVState(2, 1, :E), 1, 24, nothing) -> MDPState(UAVState(3, 3, :NE), 2, 24, nothing)\n",
       " MDPState(UAVState(2, 2, :E), 1, 24, nothing) -> MDPState(UAVState(3, 3, :NE), 2, 24, nothing)\n",
       " MDPState(UAVState(2, 3, :E), 1, 24, nothing) -> MDPState(UAVState(4, 5, :NE), 2, 24, nothing)\n",
       " MDPState(UAVState(2, 4, :E), 1, 24, nothing) -> MDPState(UAVState(4, 5, :NE), 2, 24, nothing)\n",
       " MDPState(UAVState(2, 5, :E), 1, 24, nothing) -> MDPState(UAVState(4, 5, :NE), 2, 24, nothing)\n",
       " MDPState(UAVState(2, 6, :E), 1, 24, nothing) -> MDPState(UAVState(4, 5, :NE), 2, 24, nothing)\n",
       " MDPState(UAVState(2, 7, :E), 1, 24, nothing) -> MDPState(UAVState(4, 5, :NE), 2, 24, nothing)\n",
       " …"
      ]
     },
     "execution_count": 4,
     "metadata": {},
     "output_type": "execute_result"
    }
   ],
   "source": [
    "policy = MDMA.solve_single_robot(model)"
   ]
  },
  {
   "cell_type": "code",
   "execution_count": 5,
   "metadata": {},
   "outputs": [
    {
     "data": {
      "text/plain": [
       "24-element Vector{MDPState}:\n",
       " MDPState(UAVState(1, 1, :N), 1, 24, nothing)\n",
       " MDPState(UAVState(3, 3, :NW), 2, 24, nothing)\n",
       " MDPState(UAVState(5, 5, :N), 3, 24, nothing)\n",
       " MDPState(UAVState(7, 7, :NE), 4, 24, nothing)\n",
       " MDPState(UAVState(9, 9, :E), 5, 24, nothing)\n",
       " MDPState(UAVState(11, 11, :E), 6, 24, nothing)\n",
       " MDPState(UAVState(11, 10, :E), 7, 24, nothing)\n",
       " MDPState(UAVState(11, 9, :E), 8, 24, nothing)\n",
       " MDPState(UAVState(11, 8, :E), 9, 24, nothing)\n",
       " MDPState(UAVState(11, 7, :E), 10, 24, nothing)\n",
       " MDPState(UAVState(11, 6, :E), 11, 24, nothing)\n",
       " MDPState(UAVState(11, 5, :E), 12, 24, nothing)\n",
       " MDPState(UAVState(11, 4, :E), 13, 24, nothing)\n",
       " MDPState(UAVState(11, 3, :E), 14, 24, nothing)\n",
       " MDPState(UAVState(11, 2, :E), 15, 24, nothing)\n",
       " MDPState(UAVState(11, 1, :E), 16, 24, nothing)\n",
       " MDPState(UAVState(12, 1, :SE), 17, 24, nothing)\n",
       " MDPState(UAVState(13, 1, :S), 18, 24, nothing)\n",
       " MDPState(UAVState(11, 2, :SE), 19, 24, nothing)\n",
       " MDPState(UAVState(9, 4, :E), 20, 24, nothing)\n",
       " MDPState(UAVState(9, 6, :NE), 21, 24, nothing)\n",
       " MDPState(UAVState(11, 8, :N), 22, 24, nothing)\n",
       " MDPState(UAVState(13, 10, :NW), 23, 24, nothing)\n",
       " MDPState(UAVState(15, 12, :N), 24, 24, nothing)"
      ]
     },
     "execution_count": 5,
     "metadata": {},
     "output_type": "execute_result"
    }
   ],
   "source": [
    "path = compute_path(model, policy, MDPState(UAVState(1,1,:N), model.horizon))"
   ]
  },
  {
   "cell_type": "code",
   "execution_count": 6,
   "metadata": {},
   "outputs": [
    {
     "name": "stdout",
     "output_type": "stream",
     "text": [
      "Writing to output/01.png\n",
      "Writing to output/02.png\n",
      "Writing to output/03.png\n",
      "Writing to output/04.png\n",
      "Writing to output/05.png\n",
      "Writing to output/06.png\n",
      "Writing to output/07.png\n",
      "Writing to output/08.png\n",
      "Writing to output/09.png\n",
      "Writing to output/10.png\n",
      "Writing to output/11.png\n",
      "Writing to output/12.png\n",
      "Writing to output/13.png\n",
      "Writing to output/14.png\n",
      "Writing to output/15.png\n",
      "Writing to output/16.png\n",
      "Writing to output/17.png\n",
      "Writing to output/18.png\n",
      "Writing to output/19.png\n",
      "Writing to output/20.png\n",
      "Writing to output/21.png\n",
      "Writing to output/22.png\n",
      "Writing to output/23.png\n",
      "Writing to output/24.png\n"
     ]
    }
   ],
   "source": [
    "# Type signature of RenderConf for reference\n",
    "#struct RenderConf\n",
    "#    ppm::Float64 # Pixels per meter for grid size\n",
    "#    buf::Int64   # Buffer grid surrounding the image\n",
    "#    draw_paths::Bool # Render paths\n",
    "#    draw_old_states::Bool # Set to false if you want only current state shown\n",
    "#end\n",
    "\n",
    "draw_frames(RenderConf(50, 4, true, true), model, path)"
   ]
  },
  {
   "cell_type": "code",
   "execution_count": null,
   "metadata": {},
   "outputs": [],
   "source": []
  }
 ],
 "metadata": {
  "kernelspec": {
   "display_name": "Julia 1.8.2",
   "language": "julia",
   "name": "julia-1.8"
  },
  "language_info": {
   "file_extension": ".jl",
   "mimetype": "application/julia",
   "name": "julia",
   "version": "1.8.2"
  }
 },
 "nbformat": 4,
 "nbformat_minor": 2
}
