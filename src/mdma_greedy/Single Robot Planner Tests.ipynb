{
 "cells": [
  {
   "cell_type": "code",
   "execution_count": 1,
   "metadata": {
    "scrolled": true
   },
   "outputs": [
    {
     "data": {
      "text/plain": [
       "6-element Vector{String}:\n",
       " \"/env\"\n",
       " \"@\"\n",
       " \"@v#.#\"\n",
       " \"@stdlib\"\n",
       " \".\"\n",
       " \"../..\""
      ]
     },
     "execution_count": 1,
     "metadata": {},
     "output_type": "execute_result"
    }
   ],
   "source": [
    "push!(LOAD_PATH,\".\")\n",
    "push!(LOAD_PATH,\"../..\")"
   ]
  },
  {
   "cell_type": "code",
   "execution_count": 2,
   "metadata": {
    "scrolled": true
   },
   "outputs": [],
   "source": [
    "using Revise\n",
    "using POMDPs\n",
    "using DiscreteValueIteration\n",
    "\n",
    "# using Dates\n",
    "# using Profile"
   ]
  },
  {
   "cell_type": "code",
   "execution_count": 3,
   "metadata": {
    "scrolled": true
   },
   "outputs": [
    {
     "name": "stderr",
     "output_type": "stream",
     "text": [
      "┌ Info: Precompiling MDMA [top-level]\n",
      "└ @ Base loading.jl:1664\n"
     ]
    },
    {
     "name": "stdout",
     "output_type": "stream",
     "text": [
      "\u001b[0m\u001b[1mTest Summary: | \u001b[22m\u001b[32m\u001b[1mPass  \u001b[22m\u001b[39m\u001b[36m\u001b[1mTotal  \u001b[22m\u001b[39m\u001b[0m\u001b[1mTime\u001b[22m\n",
      "detectTarget  | \u001b[32m  30  \u001b[39m\u001b[36m   30  \u001b[39m\u001b[0m0.9s\n",
      "\u001b[0m\u001b[1mTest Summary:        |\u001b[22m\u001b[0m\u001b[1mTime\u001b[22m\n",
      "single_robot_planner | \u001b[36mNone  \u001b[39m\u001b[0m0.1s\n"
     ]
    }
   ],
   "source": [
    "using MDMA"
   ]
  },
  {
   "cell_type": "code",
   "execution_count": 4,
   "metadata": {
    "scrolled": true
   },
   "outputs": [],
   "source": [
    "# Set model parameters\n",
    "sensor = ViewConeSensor(pi/2, 3);\n",
    "horizon = 15\n",
    "grid = Grid(15,15, horizon);\n",
    "\n",
    "# Setup initial distribution of targets\n",
    "targets = Vector{Target}(undef, 0);\n",
    "push!(targets, Target(grid.width-3,grid.height-3,0));\n",
    "push!(targets, Target(grid.width-4,grid.height-2,0));\n",
    "push!(targets, Target(grid.width-5,grid.height-3,0));\n",
    "\n",
    "target_trajectories = MDMA.generate_target_trajectories(grid, horizon, targets);\n",
    "\n",
    "move_dist = 3;\n",
    "model = MDMA.SingleRobotMultiTargetViewCoverageProblem(grid, sensor, horizon, targets, target_trajectories, move_dist);"
   ]
  },
  {
   "cell_type": "code",
   "execution_count": 5,
   "metadata": {
    "scrolled": false
   },
   "outputs": [
    {
     "name": "stdout",
     "output_type": "stream",
     "text": [
      "[Iteration 1   ] residual:        Inf | iteration runtime:  10598.321 ms, (      10.6 s total)\n",
      "[Iteration 2   ] residual:          0 | iteration runtime:  10247.017 ms, (      20.8 s total)\n"
     ]
    },
    {
     "data": {
      "text/plain": [
       "ValueIterationPolicy:\n",
       " MDPState(UAVState(1, 1, :E), 1, 15, nothing) -> BoundsError: attempt to access 27000-element Vector{MDPState} at index [0]\n",
       " MDPState(UAVState(1, 2, :E), 1, 15, nothing) -> BoundsError: attempt to access 27000-element Vector{MDPState} at index [0]\n",
       " MDPState(UAVState(1, 3, :E), 1, 15, nothing) -> BoundsError: attempt to access 27000-element Vector{MDPState} at index [0]\n",
       " MDPState(UAVState(1, 4, :E), 1, 15, nothing) -> BoundsError: attempt to access 27000-element Vector{MDPState} at index [0]\n",
       " MDPState(UAVState(1, 5, :E), 1, 15, nothing) -> BoundsError: attempt to access 27000-element Vector{MDPState} at index [0]\n",
       " MDPState(UAVState(1, 6, :E), 1, 15, nothing) -> BoundsError: attempt to access 27000-element Vector{MDPState} at index [0]\n",
       " MDPState(UAVState(1, 7, :E), 1, 15, nothing) -> BoundsError: attempt to access 27000-element Vector{MDPState} at index [0]\n",
       " MDPState(UAVState(1, 8, :E), 1, 15, nothing) -> BoundsError: attempt to access 27000-element Vector{MDPState} at index [0]\n",
       " MDPState(UAVState(1, 9, :E), 1, 15, nothing) -> BoundsError: attempt to access 27000-element Vector{MDPState} at index [0]\n",
       " MDPState(UAVState(1, 10, :E), 1, 15, nothing) -> BoundsError: attempt to access 27000-element Vector{MDPState} at index [0]\n",
       " MDPState(UAVState(1, 11, :E), 1, 15, nothing) -> BoundsError: attempt to access 27000-element Vector{MDPState} at index [0]\n",
       " MDPState(UAVState(1, 12, :E), 1, 15, nothing) -> BoundsError: attempt to access 27000-element Vector{MDPState} at index [0]\n",
       " MDPState(UAVState(1, 13, :E), 1, 15, nothing) -> BoundsError: attempt to access 27000-element Vector{MDPState} at index [0]\n",
       " MDPState(UAVState(1, 14, :E), 1, 15, nothing) -> BoundsError: attempt to access 27000-element Vector{MDPState} at index [0]\n",
       " MDPState(UAVState(1, 15, :E), 1, 15, nothing) -> BoundsError: attempt to access 27000-element Vector{MDPState} at index [0]\n",
       " MDPState(UAVState(2, 1, :E), 1, 15, nothing) -> BoundsError: attempt to access 27000-element Vector{MDPState} at index [0]\n",
       " MDPState(UAVState(2, 2, :E), 1, 15, nothing) -> BoundsError: attempt to access 27000-element Vector{MDPState} at index [0]\n",
       " MDPState(UAVState(2, 3, :E), 1, 15, nothing) -> BoundsError: attempt to access 27000-element Vector{MDPState} at index [0]\n",
       " MDPState(UAVState(2, 4, :E), 1, 15, nothing) -> BoundsError: attempt to access 27000-element Vector{MDPState} at index [0]\n",
       " MDPState(UAVState(2, 5, :E), 1, 15, nothing) -> BoundsError: attempt to access 27000-element Vector{MDPState} at index [0]\n",
       " MDPState(UAVState(2, 6, :E), 1, 15, nothing) -> BoundsError: attempt to access 27000-element Vector{MDPState} at index [0]\n",
       " MDPState(UAVState(2, 7, :E), 1, 15, nothing) -> BoundsError: attempt to access 27000-element Vector{MDPState} at index [0]\n",
       " MDPState(UAVState(2, 8, :E), 1, 15, nothing) -> BoundsError: attempt to access 27000-element Vector{MDPState} at index [0]\n",
       " MDPState(UAVState(2, 9, :E), 1, 15, nothing) -> BoundsError: attempt to access 27000-element Vector{MDPState} at index [0]\n",
       " MDPState(UAVState(2, 10, :E), 1, 15, nothing) -> BoundsError: attempt to access 27000-element Vector{MDPState} at index [0]\n",
       " …"
      ]
     },
     "execution_count": 5,
     "metadata": {},
     "output_type": "execute_result"
    }
   ],
   "source": [
    "policy = MDMA.solve_single_robot(model)\n"
   ]
  },
  {
   "cell_type": "code",
   "execution_count": 6,
   "metadata": {
    "scrolled": false
   },
   "outputs": [
    {
     "data": {
      "text/plain": [
       "25201"
      ]
     },
     "execution_count": 6,
     "metadata": {},
     "output_type": "execute_result"
    }
   ],
   "source": [
    "# action(policy, MDPState(UAVState(1,1,:E), model.horizon))\n",
    "MDMA.stateindex(model, MDPState(UAVState(1,1,:E), model.horizon))"
   ]
  },
  {
   "cell_type": "code",
   "execution_count": 7,
   "metadata": {},
   "outputs": [
    {
     "data": {
      "text/plain": [
       "7201"
      ]
     },
     "execution_count": 7,
     "metadata": {},
     "output_type": "execute_result"
    }
   ],
   "source": [
    "MDMA.stateindex(model, MDPState(UAVState(1,1,:E), 5))"
   ]
  },
  {
   "cell_type": "code",
   "execution_count": 8,
   "metadata": {},
   "outputs": [],
   "source": [
    "const cardinaldir = Vector([:E, :NE, :N, :NW, :W, :SW, :S, :SE])\n",
    "\n",
    "function dir_to_index(d::Symbol)\n",
    "    if d in cardinaldir\n",
    "        return findall(x->x==d, cardinaldir)[1]\n",
    "    end\n",
    "end\n",
    "\n",
    "\n",
    "function POMDPs.stateindex(model::MDMA.SingleRobotMultiTargetViewCoverageProblem, s::MDPState)\n",
    "    cart = CartesianIndex(s.state.y, s.state.x, dir_to_index(s.state.heading), (model.horizon + 1) - s.depth)\n",
    "    grid = model.grid\n",
    "    d = dims(grid)\n",
    "    lin = LinearIndices((1:d[1], 1:d[2], 1:d[3], 1:d[4]))\n",
    "    return lin[cart]\n",
    "end\n"
   ]
  },
  {
   "cell_type": "code",
   "execution_count": 9,
   "metadata": {},
   "outputs": [
    {
     "data": {
      "text/plain": [
       "25201"
      ]
     },
     "execution_count": 9,
     "metadata": {},
     "output_type": "execute_result"
    }
   ],
   "source": [
    "MDMA.stateindex(model, MDPState(UAVState(1,1,:E), 1, model.horizon, nothing))"
   ]
  },
  {
   "cell_type": "code",
   "execution_count": 10,
   "metadata": {},
   "outputs": [
    {
     "data": {
      "text/plain": [
       "compute_path (generic function with 1 method)"
      ]
     },
     "execution_count": 10,
     "metadata": {},
     "output_type": "execute_result"
    }
   ],
   "source": [
    "function compute_path(model, policy, state)\n",
    "    path = Vector{MDPState}(undef, 0)\n",
    "    push!(path, state)\n",
    "    for x in 2:model.horizon\n",
    "        print(x)\n",
    "        state = action(policy, state);\n",
    "#         state = MDPState(state);\n",
    "        push!(path, state);\n",
    "    end\n",
    "    path\n",
    "end\n"
   ]
  },
  {
   "cell_type": "code",
   "execution_count": 11,
   "metadata": {},
   "outputs": [
    {
     "name": "stdout",
     "output_type": "stream",
     "text": [
      "2"
     ]
    },
    {
     "ename": "LoadError",
     "evalue": "BoundsError: attempt to access 27000-element Vector{MDPState} at index [0]",
     "output_type": "error",
     "traceback": [
      "BoundsError: attempt to access 27000-element Vector{MDPState} at index [0]",
      "",
      "Stacktrace:",
      " [1] getindex",
      "   @ ./array.jl:924 [inlined]",
      " [2] action",
      "   @ ~/.julia/packages/DiscreteValueIteration/bqPuV/src/common.jl:74 [inlined]",
      " [3] compute_path(model::MDMA.SingleRobotMultiTargetViewCoverageProblem, policy::ValueIterationPolicy{Matrix{Float64}, Vector{Float64}, Vector{Int64}, MDPState, MDMA.SingleRobotMultiTargetViewCoverageProblem}, state::MDPState)",
      "   @ Main ./In[10]:6",
      " [4] top-level scope",
      "   @ In[11]:1",
      " [5] eval",
      "   @ ./boot.jl:368 [inlined]",
      " [6] include_string(mapexpr::typeof(REPL.softscope), mod::Module, code::String, filename::String)",
      "   @ Base ./loading.jl:1428"
     ]
    }
   ],
   "source": [
    "path = compute_path(model, policy, MDPState(UAVState(1,1,:N), model.horizon))"
   ]
  },
  {
   "cell_type": "code",
   "execution_count": 12,
   "metadata": {},
   "outputs": [
    {
     "data": {
      "text/plain": [
       "draw_arc (generic function with 1 method)"
      ]
     },
     "execution_count": 12,
     "metadata": {},
     "output_type": "execute_result"
    }
   ],
   "source": [
    "using Cairo\n",
    "\n",
    "struct RenderConf\n",
    "    ppm::Float64\n",
    "    buf::Int64\n",
    "end\n",
    "\n",
    "#Pixels per meter\n",
    "function init_cairo(model,conf::RenderConf)\n",
    "    width = conf.ppm*dims(model.grid)[1]+ 2*conf.buf*conf.ppm\n",
    "    height = conf.ppm*dims(model.grid)[2]+ 2*conf.buf*conf.ppm\n",
    "    c = CairoRGBSurface(width,height);\n",
    "    cr = CairoContext(c);\n",
    "    draw_background(cr, width, height)\n",
    "    return (c, cr)\n",
    "end\n",
    "\n",
    "\n",
    "function draw_background(cr::CairoContext, width, height)\n",
    "    save(cr);\n",
    "    set_source_rgb(cr,1,1,1);    # white\n",
    "    rectangle(cr,0.0,0.0,width,height); # background\n",
    "    fill(cr);\n",
    "    restore(cr);\n",
    "end\n",
    "\n",
    "function draw_grid(g::Grid, cr::CairoContext, point_size, ppm, buf)\n",
    "    set_source_rgba(cr, 0, 0, 0, 0.3);\n",
    "    x,y,z = dims(g)\n",
    "    print(dims(g))\n",
    "    for i in 1:x\n",
    "        for j in 1:y\n",
    "            arc(cr, i*ppm + buf*ppm, j*ppm+ buf*ppm, point_size, 0, 2*pi);\n",
    "            fill(cr);\n",
    "        end\n",
    "    end    \n",
    "end\n",
    "\n",
    "function draw_target(cr::CairoContext, t::Target, ppm, size, buf)\n",
    "    save(cr)\n",
    "    set_source_rgba(cr, 0, 0.3, 0.5, 1);\n",
    "    arc(cr, t.x*ppm + buf*ppm, t.y*ppm + buf*ppm, size, 0, 2*pi);\n",
    "    fill(cr);\n",
    "    restore(cr)\n",
    "end\n",
    "\n",
    "function draw_targets(cr::CairoContext, targs::Vector{Target}, ppm, size, buf)\n",
    "    \n",
    "    for (i,t) in enumerate(targs)\n",
    "        cfade = i/length(targs)\n",
    "        set_source_rgba(cr, (cfade), (1-cfade)*0.5, (1-cfade)*1.1, 1/2);\n",
    "        draw_target(cr, t,ppm, size, buf)\n",
    "    end\n",
    "end\n",
    "\n",
    "function draw_state(cr::CairoContext, state::UAVState, model, ppm, fade, cfade, buf)\n",
    "    save(cr)\n",
    "    move_to(cr,state.x*ppm + buf*ppm, state.y*ppm + buf*ppm)\n",
    "    fov = model.sensor.fov\n",
    "    radius = model.sensor.cutoff\n",
    "    draw_arc(cr, radius, state.x, state.y, state.heading, fov, ppm, fade,cfade, buf)\n",
    "    restore(cr)\n",
    "end\n",
    "function draw_arc(cr::CairoContext, radius, x,y, heading,fov,ppm, fade,cfade, buf) \n",
    "    ## original example, following here\n",
    "    xc = x*ppm + buf*ppm;\n",
    "    yc = y*ppm + buf*ppm;\n",
    "    radius = radius*ppm;\n",
    "    angle1 = dirAngle(heading) + (-fov/2);  # angles are specified\n",
    "    angle2 = dirAngle(heading) + (fov/2);  # in radians\n",
    "\n",
    "#     set_source_rgba(cr, 0, 0, 0, fade);\n",
    "    set_source_rgba(cr, (cfade), (1-cfade)*0.5, (1-cfade)*1.1, fade);\n",
    "    set_line_width(cr, 5.0);\n",
    "    arc(cr, xc, yc, radius, angle1, angle2);\n",
    "    fill(cr)\n",
    "    stroke(cr);\n",
    "\n",
    "    # draw helping lines\n",
    "#     set_source_rgba(cr, cfade, 1-cfade, 1-cfade, fade);\n",
    "    set_line_width(cr, 6.0);\n",
    "\n",
    "    # Draw center\n",
    "    arc(cr, xc, yc, 10.0, 0, 2*pi);\n",
    "    fill(cr);\n",
    "    \n",
    "    arc(cr, xc, yc, radius, angle1, angle1);\n",
    "    line_to(cr, xc, yc);\n",
    "#     fill(cr)\n",
    "    \n",
    "    arc(cr, xc, yc, radius, angle2, angle2);\n",
    "    line_to(cr, xc, yc);\n",
    "#     fill(cr)\n",
    "    close_path(cr);\n",
    "    set_source_rgba(cr, (cfade), (1-cfade)*0.5, (1-cfade)*1.1, fade/2);\n",
    "    fill_preserve(cr);\n",
    "    \n",
    "    stroke(cr);\n",
    "end\n",
    "\n",
    "\n",
    "# draw_state(cr, UAVState(1,1,:S), model, ppm)\n",
    "\n",
    "\n",
    "## mark picture with current date\n"
   ]
  },
  {
   "cell_type": "code",
   "execution_count": 13,
   "metadata": {},
   "outputs": [
    {
     "data": {
      "text/plain": [
       "draw_animated (generic function with 1 method)"
      ]
     },
     "execution_count": 13,
     "metadata": {},
     "output_type": "execute_result"
    }
   ],
   "source": [
    "\n",
    "function draw_path(model, path, cutoff)\n",
    "    rconf = RenderConf(50, 4)\n",
    "    c, cr = init_cairo(model, rconf)\n",
    "    ppm = rconf.ppm\n",
    "    buf = rconf.buf\n",
    "    draw_grid(model.grid, cr, 5, ppm, buf)\n",
    "\n",
    "    save(cr)\n",
    "    select_font_face(cr, \"Latin Modern Math\", Cairo.FONT_SLANT_NORMAL,\n",
    "                 Cairo.FONT_WEIGHT_NORMAL);\n",
    "\n",
    "    set_font_size(cr, 80.0);\n",
    "    set_source_rgba(cr, 0, 0, 0, 1);\n",
    "    move_to(cr, model.grid.width/2*ppm + -2*ppm, model.grid.height*ppm + 1.6*buf*ppm);\n",
    "    show_text(cr, \"𝐷 = $(model.move_dist)  t = $(cutoff)\");\n",
    "    restore(cr)\n",
    "  \n",
    "\n",
    "    # Draw States\n",
    "    state=path[1]\n",
    "    move_to(cr,state.state.x*ppm + buf*ppm, state.state.y*ppm + buf*ppm)\n",
    "    draw_state(cr, state.state, model, ppm, 0.4, 1/cutoff, buf)\n",
    "    for (i,state) in enumerate(path[2:cutoff])\n",
    "        draw_state(cr, state.state, model, ppm, 0.4, i/cutoff, buf)         \n",
    "    end\n",
    "    \n",
    "    # Draw Lines\n",
    "    state=path[1]\n",
    "    move_to(cr,state.state.x*ppm + buf*ppm, state.state.y*ppm + buf*ppm)\n",
    "    for (i,state) in enumerate(path[2:cutoff])\n",
    "        cfade = i/cutoff\n",
    "        fade=1\n",
    "        set_source_rgba(cr, (cfade), (1-cfade)*0.5, (1-cfade)*1.1, fade/2);\n",
    "#         set_source_rgba(cr, 0.9, 0.6, 0.01, 1);\n",
    "        set_line_width(cr, 13.0);\n",
    "        move_to(cr,path[i].state.x*ppm+ buf*ppm, path[i].state.y*ppm + buf*ppm)\n",
    "        line_to(cr, state.state.x*ppm+buf*ppm, state.state.y*ppm + buf*ppm)\n",
    "        stroke(cr) \n",
    "       \n",
    "        \n",
    "    end\n",
    "    targets = model.target_trajectories[cutoff,:]\n",
    "    draw_targets(cr, targets,ppm, 15, buf)\n",
    "    \n",
    "    write_to_png(c,\"anim/$(lpad(cutoff, 2, \"0\")).png\");\n",
    "    \n",
    "end\n",
    "\n",
    "function draw_animated(model, path, cutoff)\n",
    "    rconf = RenderConf(50, 4)\n",
    "    c, cr = init_cairo(model, rconf)\n",
    "    ppm = rconf.ppm\n",
    "    buf = rconf.buf\n",
    "    draw_grid(model.grid, cr, 5, ppm, buf)\n",
    "\n",
    "    save(cr)\n",
    "    select_font_face(cr, \"Latin Modern Math\", Cairo.FONT_SLANT_NORMAL,\n",
    "                 Cairo.FONT_WEIGHT_NORMAL);\n",
    "\n",
    "    set_font_size(cr, 80.0);\n",
    "    set_source_rgba(cr, 0, 0, 0, 1);\n",
    "    move_to(cr, model.grid.width/2*ppm + -2*ppm, model.grid.height*ppm + 1.6*buf*ppm);\n",
    "    show_text(cr, \"𝐷 = $(model.move_dist)  t = $(cutoff)\");\n",
    "    restore(cr)\n",
    "  \n",
    "\n",
    "    # Draw States\n",
    "    state=path[cutoff]\n",
    "    move_to(cr,state.state.x*ppm + buf*ppm, state.state.y*ppm + buf*ppm)\n",
    "    draw_state(cr, state.state, model, ppm, 0.4, 1/cutoff, buf)      \n",
    "\n",
    "    targets = model.target_trajectories[cutoff,:]\n",
    "    draw_targets(cr, targets,ppm, 15, buf)\n",
    "    \n",
    "    write_to_png(c,\"anim/$(lpad(cutoff, 2, \"0\")).png\");\n",
    "    \n",
    "end"
   ]
  },
  {
   "cell_type": "code",
   "execution_count": null,
   "metadata": {},
   "outputs": [],
   "source": []
  },
  {
   "cell_type": "code",
   "execution_count": 14,
   "metadata": {},
   "outputs": [],
   "source": [
    "#draw_path(model, 50, compute_path(model, policy, MDPState(UAVState(10,10,:E)), model.horizon, 4)"
   ]
  },
  {
   "cell_type": "code",
   "execution_count": 15,
   "metadata": {},
   "outputs": [
    {
     "ename": "LoadError",
     "evalue": "UndefVarError: path not defined",
     "output_type": "error",
     "traceback": [
      "UndefVarError: path not defined",
      "",
      "Stacktrace:",
      " [1] top-level scope",
      "   @ ./In[15]:2",
      " [2] eval",
      "   @ ./boot.jl:368 [inlined]",
      " [3] include_string(mapexpr::typeof(REPL.softscope), mod::Module, code::String, filename::String)",
      "   @ Base ./loading.jl:1428"
     ]
    }
   ],
   "source": [
    "for i in 1:model.horizon\n",
    "    draw_path(model,path, i)\n",
    "end"
   ]
  },
  {
   "cell_type": "code",
   "execution_count": null,
   "metadata": {},
   "outputs": [],
   "source": []
  },
  {
   "cell_type": "code",
   "execution_count": null,
   "metadata": {},
   "outputs": [],
   "source": []
  },
  {
   "cell_type": "code",
   "execution_count": null,
   "metadata": {},
   "outputs": [],
   "source": []
  }
 ],
 "metadata": {
  "kernelspec": {
   "display_name": "Julia 1.8.2",
   "language": "julia",
   "name": "julia-1.8"
  },
  "language_info": {
   "file_extension": ".jl",
   "mimetype": "application/julia",
   "name": "julia",
   "version": "1.8.2"
  }
 },
 "nbformat": 4,
 "nbformat_minor": 2
}
