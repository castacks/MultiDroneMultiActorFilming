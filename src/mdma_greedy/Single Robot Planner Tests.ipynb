{
 "cells": [
  {
   "cell_type": "code",
   "execution_count": 1,
   "metadata": {
    "scrolled": true
   },
   "outputs": [
    {
     "data": {
      "text/plain": [
       "5-element Vector{String}:\n",
       " \"@\"\n",
       " \"@v#.#\"\n",
       " \"@stdlib\"\n",
       " \"/home/skh/MultiAgentSensing\"\n",
       " \".\""
      ]
     },
     "execution_count": 1,
     "metadata": {},
     "output_type": "execute_result"
    }
   ],
   "source": [
    "push!(LOAD_PATH,\".\")"
   ]
  },
  {
   "cell_type": "code",
   "execution_count": 2,
   "metadata": {
    "scrolled": true
   },
   "outputs": [],
   "source": [
    "using Revise\n",
    "using POMDPs\n",
    "using POMDPSimulators"
   ]
  },
  {
   "cell_type": "code",
   "execution_count": 3,
   "metadata": {
    "scrolled": true
   },
   "outputs": [],
   "source": [
    "using MDMA"
   ]
  },
  {
   "cell_type": "code",
   "execution_count": 520,
   "metadata": {
    "scrolled": true
   },
   "outputs": [],
   "source": [
    "sensor = ViewConeSensor(pi/2, 3);\n",
    "targets = Vector{Target}(undef, 0);\n",
    "push!(targets, Target(25,25,0));\n",
    "push!(targets, Target(26,25,0));\n",
    "push!(targets, Target(26,26,0));\n",
    "push!(targets, Target(20,15,0));\n",
    "\n",
    "# push!(targets, Target(3,25,0));\n",
    "# push!(targets, Target(5,25,0));\n",
    "# push!(targets, Target(6,26,0));\n",
    "# push!(targets, Target(4,24,0));\n",
    "# push!(targets, Target(5,23,0));\n",
    "grid = Grid(30,30);\n",
    "horizon = 30\n",
    "move_dist = 2\n",
    "model = MDMA.SingleRobotMultiTargetViewCoverageProblem(grid, sensor, horizon, targets, move_dist);"
   ]
  },
  {
   "cell_type": "code",
   "execution_count": 521,
   "metadata": {
    "scrolled": false
   },
   "outputs": [
    {
     "name": "stdout",
     "output_type": "stream",
     "text": [
      "[Iteration 1   ] residual:        120 | iteration runtime:    859.474 ms, (     0.859 s total)\n",
      "[Iteration 2   ] residual:        120 | iteration runtime:    678.346 ms, (      1.54 s total)\n",
      "[Iteration 3   ] residual:        120 | iteration runtime:    688.868 ms, (      2.23 s total)\n",
      "[Iteration 4   ] residual:        120 | iteration runtime:    667.894 ms, (      2.89 s total)\n",
      "[Iteration 5   ] residual:        120 | iteration runtime:    709.276 ms, (       3.6 s total)\n",
      "UAVState(1, 3, :NE, false)nothing"
     ]
    },
    {
     "data": {
      "text/plain": [
       "ValueIterationPolicy:\n",
       " MDPState(UAVState(1, 1, :E, false), 0, nothing) -> UAVState(1, 3, :SE, false)\n",
       " MDPState(UAVState(1, 2, :E, false), 0, nothing) -> UAVState(1, 4, :SE, false)\n",
       " MDPState(UAVState(1, 3, :E, false), 0, nothing) -> UAVState(1, 4, :SE, false)\n",
       " MDPState(UAVState(1, 4, :E, false), 0, nothing) -> UAVState(1, 4, :SE, false)\n",
       " MDPState(UAVState(1, 5, :E, false), 0, nothing) -> UAVState(1, 7, :SE, false)\n",
       " MDPState(UAVState(1, 6, :E, false), 0, nothing) -> UAVState(1, 7, :SE, false)\n",
       " MDPState(UAVState(1, 7, :E, false), 0, nothing) -> UAVState(1, 7, :SE, false)\n",
       " MDPState(UAVState(1, 8, :E, false), 0, nothing) -> UAVState(1, 7, :SE, false)\n",
       " MDPState(UAVState(1, 9, :E, false), 0, nothing) -> UAVState(1, 7, :SE, false)\n",
       " MDPState(UAVState(1, 10, :E, false), 0, nothing) -> UAVState(1, 12, :SE, false)\n",
       " MDPState(UAVState(1, 11, :E, false), 0, nothing) -> UAVState(1, 13, :SE, false)\n",
       " MDPState(UAVState(1, 12, :E, false), 0, nothing) -> UAVState(1, 13, :SE, false)\n",
       " MDPState(UAVState(1, 13, :E, false), 0, nothing) -> UAVState(1, 15, :SE, false)\n",
       " MDPState(UAVState(1, 14, :E, false), 0, nothing) -> UAVState(1, 16, :SE, false)\n",
       " MDPState(UAVState(1, 15, :E, false), 0, nothing) -> UAVState(3, 15, :SE, false)\n",
       " MDPState(UAVState(1, 16, :E, false), 0, nothing) -> UAVState(2, 17, :SE, false)\n",
       " MDPState(UAVState(1, 17, :E, false), 0, nothing) -> UAVState(3, 17, :SE, false)\n",
       " MDPState(UAVState(1, 18, :E, false), 0, nothing) -> UAVState(1, 20, :SE, false)\n",
       " MDPState(UAVState(1, 19, :E, false), 0, nothing) -> UAVState(1, 20, :SE, false)\n",
       " MDPState(UAVState(1, 20, :E, false), 0, nothing) -> UAVState(1, 22, :SE, false)\n",
       " MDPState(UAVState(1, 21, :E, false), 0, nothing) -> UAVState(1, 22, :SE, false)\n",
       " MDPState(UAVState(1, 22, :E, false), 0, nothing) -> UAVState(2, 23, :SE, false)\n",
       " MDPState(UAVState(1, 23, :E, false), 0, nothing) -> UAVState(2, 23, :SE, false)\n",
       " MDPState(UAVState(1, 24, :E, false), 0, nothing) -> UAVState(2, 23, :SE, false)\n",
       " MDPState(UAVState(1, 25, :E, false), 0, nothing) -> UAVState(2, 24, :SE, false)\n",
       " …"
      ]
     },
     "execution_count": 521,
     "metadata": {},
     "output_type": "execute_result"
    }
   ],
   "source": [
    "policy = MDMA.solve_single_robot(model, UAVState(1,1,:N))\n"
   ]
  },
  {
   "cell_type": "code",
   "execution_count": 522,
   "metadata": {
    "scrolled": false
   },
   "outputs": [
    {
     "data": {
      "text/plain": [
       "check (generic function with 1 method)"
      ]
     },
     "execution_count": 522,
     "metadata": {},
     "output_type": "execute_result"
    }
   ],
   "source": [
    "function rew_check(model, state, policy)\n",
    "    prev = MDPState(state)\n",
    "    next = action(policy, prev)\n",
    "    rew1 = MDMA.reward(model, prev, prev.state)\n",
    "    rew2 = MDMA.reward(model, prev, next)\n",
    "    println(prev.state,\" \", rew1)\n",
    "    println(next,\" \", rew2)\n",
    "end\n",
    "function check(model, prev, next)\n",
    "    prev = MDPState(prev)\n",
    "    rew1 = MDMA.reward(model, prev, prev.state)\n",
    "    rew2 = MDMA.reward(model, prev, next)\n",
    "    println(prev.state,\" \", rew1)\n",
    "    println(next,\" \", rew2)\n",
    "end\n"
   ]
  },
  {
   "cell_type": "code",
   "execution_count": 523,
   "metadata": {},
   "outputs": [
    {
     "name": "stdout",
     "output_type": "stream",
     "text": [
      "UAVState(3, 3, :S, false) 0\n",
      "UAVState(3, 5, :SW, false) 0\n"
     ]
    }
   ],
   "source": [
    "test_state = UAVState(3,3,:S)\n",
    "rew_check(model, test_state, policy)"
   ]
  },
  {
   "cell_type": "code",
   "execution_count": 524,
   "metadata": {},
   "outputs": [
    {
     "name": "stdout",
     "output_type": "stream",
     "text": [
      "UAVState(3, 3, :S, false) 0\n",
      "UAVState(3, 3, :E, false) 0\n"
     ]
    }
   ],
   "source": [
    "check(model, test_state, UAVState(3,3,:E))"
   ]
  },
  {
   "cell_type": "code",
   "execution_count": 534,
   "metadata": {},
   "outputs": [],
   "source": [
    "path = Vector{MDPState}(undef, 0)\n",
    "state = MDPState(UAVState(1,1,:S))\n",
    "push!(path, state)\n",
    "for x in 1:model.horizon\n",
    "    state = action(policy, state);\n",
    "    state = MDPState(state);\n",
    "    push!(path, state);\n",
    "#     println(reward(model, state, state.state))\n",
    "end"
   ]
  },
  {
   "cell_type": "code",
   "execution_count": 535,
   "metadata": {},
   "outputs": [
    {
     "data": {
      "text/plain": [
       "draw_arc (generic function with 3 methods)"
      ]
     },
     "execution_count": 535,
     "metadata": {},
     "output_type": "execute_result"
    }
   ],
   "source": [
    "using Cairo\n",
    "\n",
    "#Pixels per meter\n",
    "function init_cairo(model,ppm, buf)\n",
    "    width = ppm*dims(model.grid)[1]+ 2*buf*ppm\n",
    "    height = ppm*dims(model.grid)[2]+ 2*buf*ppm\n",
    "    c = CairoRGBSurface(width,height);\n",
    "    cr = CairoContext(c);\n",
    "    draw_background(cr, width, height)\n",
    "    return (c, cr)\n",
    "end\n",
    "\n",
    "\n",
    "function draw_background(cr::CairoContext, width, height)\n",
    "    save(cr);\n",
    "    set_source_rgb(cr,1,1,1);    # white\n",
    "    rectangle(cr,0.0,0.0,width,height); # background\n",
    "    fill(cr);\n",
    "    restore(cr);\n",
    "end\n",
    "\n",
    "function draw_grid(g::Grid, cr::CairoContext, point_size, ppm, buf)\n",
    "    set_source_rgba(cr, 0, 0, 0, 0.3);\n",
    "    x,y,z = dims(g)\n",
    "    print(dims(g))\n",
    "    for i in 1:x\n",
    "        for j in 1:y\n",
    "            arc(cr, i*ppm + buf*ppm, j*ppm+ buf*ppm, point_size, 0, 2*pi);\n",
    "            fill(cr);\n",
    "        end\n",
    "    end    \n",
    "end\n",
    "\n",
    "function draw_target(cr::CairoContext, t::Target, size, buf)\n",
    "    save(cr)\n",
    "    set_source_rgba(cr, 0, 0.3, 0.5, 1);\n",
    "    arc(cr, t.x*ppm + buf*ppm, t.y*ppm + buf*ppm, size, 0, 2*pi);\n",
    "    fill(cr);\n",
    "    restore(cr)\n",
    "end\n",
    "\n",
    "function draw_targets(cr::CairoContext, targs::Vector{Target}, size, buf)\n",
    "    for t in targs\n",
    "        draw_target(cr, t, size, buf)\n",
    "    end\n",
    "end\n",
    "\n",
    "function draw_state(cr::CairoContext, state::UAVState, model, ppm, fade, cfade, buf)\n",
    "    save(cr)\n",
    "    move_to(cr,state.x*ppm + buf*ppm, state.y*ppm + buf*ppm)\n",
    "    fov = model.sensor.fov\n",
    "    radius = model.sensor.cutoff\n",
    "    draw_arc(cr, radius, state.x, state.y, state.heading, fov, ppm, fade,cfade, buf)\n",
    "    restore(cr)\n",
    "end\n",
    "function draw_arc(cr::CairoContext, radius, x,y, heading,fov,ppm, fade,cfade, buf) \n",
    "    ## original example, following here\n",
    "    xc = x*ppm + buf*ppm;\n",
    "    yc = y*ppm + buf*ppm;\n",
    "    radius = radius*ppm;\n",
    "    angle1 = dirAngle(heading) + (-fov/2);  # angles are specified\n",
    "    angle2 = dirAngle(heading) + (fov/2);  # in radians\n",
    "\n",
    "#     set_source_rgba(cr, 0, 0, 0, fade);\n",
    "    set_source_rgba(cr, (cfade), (1-cfade)*0.5, (1-cfade)*1.1, fade);\n",
    "    set_line_width(cr, 5.0);\n",
    "    arc(cr, xc, yc, radius, angle1, angle2);\n",
    "    fill(cr)\n",
    "    stroke(cr);\n",
    "\n",
    "    # draw helping lines\n",
    "#     set_source_rgba(cr, cfade, 1-cfade, 1-cfade, fade);\n",
    "    set_line_width(cr, 6.0);\n",
    "\n",
    "    # Draw center\n",
    "    arc(cr, xc, yc, 10.0, 0, 2*pi);\n",
    "    fill(cr);\n",
    "    \n",
    "    arc(cr, xc, yc, radius, angle1, angle1);\n",
    "    line_to(cr, xc, yc);\n",
    "#     fill(cr)\n",
    "    \n",
    "    arc(cr, xc, yc, radius, angle2, angle2);\n",
    "    line_to(cr, xc, yc);\n",
    "#     fill(cr)\n",
    "    close_path(cr);\n",
    "    set_source_rgba(cr, (cfade), (1-cfade)*0.5, (1-cfade)*1.1, fade/2);\n",
    "    fill_preserve(cr);\n",
    "    \n",
    "    stroke(cr);\n",
    "end\n",
    "\n",
    "\n",
    "# draw_state(cr, UAVState(1,1,:S), model, ppm)\n",
    "\n",
    "\n",
    "## mark picture with current date\n"
   ]
  },
  {
   "cell_type": "code",
   "execution_count": 536,
   "metadata": {},
   "outputs": [
    {
     "data": {
      "text/plain": [
       "draw_path (generic function with 3 methods)"
      ]
     },
     "execution_count": 536,
     "metadata": {},
     "output_type": "execute_result"
    }
   ],
   "source": [
    "\n",
    "function draw_path(model, ppm, path, cutoff, buf)\n",
    "    c, cr = init_cairo(model, ppm, buf)\n",
    "\n",
    "    draw_grid(model.grid, cr, 5, ppm, buf)\n",
    "\n",
    "\n",
    "    # state= path[1]\n",
    "    # move_to(cr,state.state.x*ppm, state.state.y*ppm)\n",
    "    # draw_state(cr, state.state, model, ppm, 0.4)\n",
    "\n",
    "\n",
    "    state=path[1]\n",
    "    move_to(cr,state.state.x*ppm + buf*ppm, state.state.y*ppm + buf*ppm)\n",
    "    draw_state(cr, state.state, model, ppm, 0.4, 1/cutoff, buf)\n",
    "    for (i,state) in enumerate(path[2:cutoff])\n",
    "        draw_state(cr, state.state, model, ppm, 0.4, i/cutoff, buf)         \n",
    "    end\n",
    "    \n",
    "    state=path[1]\n",
    "    move_to(cr,state.state.x*ppm + buf*ppm, state.state.y*ppm + buf*ppm)\n",
    "    for (i,state) in enumerate(path[2:cutoff])\n",
    "        cfade = i/cutoff\n",
    "        fade=1\n",
    "        set_source_rgba(cr, (cfade), (1-cfade)*0.5, (1-cfade)*1.1, fade/2);\n",
    "#         set_source_rgba(cr, 0.9, 0.6, 0.01, 1);\n",
    "        set_line_width(cr, 13.0);\n",
    "        move_to(cr,path[i].state.x*ppm+ buf*ppm, path[i].state.y*ppm + buf*ppm)\n",
    "        line_to(cr, state.state.x*ppm+buf*ppm, state.state.y*ppm + buf*ppm)\n",
    "        stroke(cr) \n",
    "         \n",
    "    end\n",
    "\n",
    "    draw_targets(cr, model.targets, 15, buf)\n",
    "    write_to_png(c,\"sample_arc.png\");\n",
    "end"
   ]
  },
  {
   "cell_type": "code",
   "execution_count": 537,
   "metadata": {},
   "outputs": [
    {
     "name": "stdout",
     "output_type": "stream",
     "text": [
      "(30, 30, 8)"
     ]
    },
    {
     "data": {
      "text/plain": [
       "0"
      ]
     },
     "execution_count": 537,
     "metadata": {},
     "output_type": "execute_result"
    }
   ],
   "source": [
    "draw_path(model, 50, path, model.horizon, 4)"
   ]
  },
  {
   "cell_type": "code",
   "execution_count": null,
   "metadata": {},
   "outputs": [],
   "source": []
  },
  {
   "cell_type": "code",
   "execution_count": null,
   "metadata": {},
   "outputs": [],
   "source": []
  },
  {
   "cell_type": "code",
   "execution_count": null,
   "metadata": {},
   "outputs": [],
   "source": []
  },
  {
   "cell_type": "code",
   "execution_count": null,
   "metadata": {},
   "outputs": [],
   "source": []
  },
  {
   "cell_type": "code",
   "execution_count": null,
   "metadata": {},
   "outputs": [],
   "source": []
  }
 ],
 "metadata": {
  "kernelspec": {
   "display_name": "Julia 1.7.3",
   "language": "julia",
   "name": "julia-1.7"
  },
  "language_info": {
   "file_extension": ".jl",
   "mimetype": "application/julia",
   "name": "julia",
   "version": "1.7.3"
  }
 },
 "nbformat": 4,
 "nbformat_minor": 2
}
