{
 "cells": [
  {
   "cell_type": "code",
   "execution_count": 1,
   "metadata": {},
   "outputs": [
    {
     "data": {
      "text/plain": [
       "5-element Vector{String}:\n",
       " \"@\"\n",
       " \"@v#.#\"\n",
       " \"@stdlib\"\n",
       " \"/home/skh/MultiAgentSensing\"\n",
       " \".\""
      ]
     },
     "execution_count": 1,
     "metadata": {},
     "output_type": "execute_result"
    }
   ],
   "source": [
    "push!(LOAD_PATH,\".\")"
   ]
  },
  {
   "cell_type": "code",
   "execution_count": 2,
   "metadata": {},
   "outputs": [],
   "source": [
    "using Revise"
   ]
  },
  {
   "cell_type": "code",
   "execution_count": 3,
   "metadata": {},
   "outputs": [],
   "source": [
    "using MDMA"
   ]
  },
  {
   "cell_type": "code",
   "execution_count": 4,
   "metadata": {},
   "outputs": [],
   "source": [
    "sensor = ViewConeSensor(pi/2, 3);\n",
    "targets = Vector{Target}(undef, 0);\n",
    "push!(targets, Target(1,2,0));\n",
    "push!(targets, Target(1,3,0));\n",
    "push!(targets, Target(2,3,0));\n",
    "\n",
    "grid = Grid(20,20);\n",
    "horizon = 30\n",
    "model = MDMA.SingleRobotMultiTargetViewCoverageProblem(grid, sensor, horizon, targets);"
   ]
  },
  {
   "cell_type": "code",
   "execution_count": 10,
   "metadata": {},
   "outputs": [
    {
     "name": "stdout",
     "output_type": "stream",
     "text": [
      "[Iteration 1   ] residual:        110 | iteration runtime:    529.815 ms, (      0.53 s total)\n",
      "[Iteration 2   ] residual:        110 | iteration runtime:    280.172 ms, (      0.81 s total)\n",
      "[Iteration 3   ] residual:        110 | iteration runtime:    267.118 ms, (      1.08 s total)\n",
      "[Iteration 4   ] residual:        110 | iteration runtime:    263.835 ms, (      1.34 s total)\n",
      "[Iteration 5   ] residual:        110 | iteration runtime:    262.184 ms, (       1.6 s total)\n",
      "[Iteration 6   ] residual:        110 | iteration runtime:    261.457 ms, (      1.86 s total)\n",
      "[Iteration 7   ] residual:        110 | iteration runtime:    260.536 ms, (      2.13 s total)\n",
      "[Iteration 8   ] residual:        110 | iteration runtime:    263.269 ms, (      2.39 s total)\n",
      "[Iteration 9   ] residual:        110 | iteration runtime:    263.163 ms, (      2.65 s total)\n",
      "[Iteration 10  ] residual:        110 | iteration runtime:    260.365 ms, (      2.91 s total)\n",
      "[Iteration 11  ] residual:        110 | iteration runtime:    263.362 ms, (      3.18 s total)\n",
      "[Iteration 12  ] residual:        110 | iteration runtime:    260.986 ms, (      3.44 s total)\n",
      "[Iteration 13  ] residual:        110 | iteration runtime:    262.804 ms, (       3.7 s total)\n",
      "[Iteration 14  ] residual:        110 | iteration runtime:    260.876 ms, (      3.96 s total)\n",
      "[Iteration 15  ] residual:        110 | iteration runtime:    267.620 ms, (      4.23 s total)\n",
      "[Iteration 16  ] residual:        110 | iteration runtime:    259.318 ms, (      4.49 s total)\n",
      "[Iteration 17  ] residual:        110 | iteration runtime:    273.769 ms, (      4.76 s total)\n",
      "[Iteration 18  ] residual:        110 | iteration runtime:    262.850 ms, (      5.02 s total)\n",
      "[Iteration 19  ] residual:        110 | iteration runtime:    265.820 ms, (      5.29 s total)\n",
      "[Iteration 20  ] residual:        110 | iteration runtime:    260.392 ms, (      5.55 s total)\n",
      "[Iteration 21  ] residual:        110 | iteration runtime:    263.992 ms, (      5.81 s total)\n",
      "[Iteration 22  ] residual:        110 | iteration runtime:    262.015 ms, (      6.08 s total)\n",
      "[Iteration 23  ] residual:        110 | iteration runtime:    265.641 ms, (      6.34 s total)\n",
      "[Iteration 24  ] residual:        110 | iteration runtime:    271.718 ms, (      6.61 s total)\n",
      "[Iteration 25  ] residual:        110 | iteration runtime:    259.673 ms, (      6.87 s total)\n",
      "[Iteration 26  ] residual:        110 | iteration runtime:    273.348 ms, (      7.15 s total)\n",
      "[Iteration 27  ] residual:        110 | iteration runtime:    282.685 ms, (      7.43 s total)\n",
      "[Iteration 28  ] residual:        110 | iteration runtime:    273.464 ms, (       7.7 s total)\n",
      "[Iteration 29  ] residual:        110 | iteration runtime:    272.932 ms, (      7.98 s total)\n",
      "[Iteration 30  ] residual:        110 | iteration runtime:    284.371 ms, (      8.26 s total)\n",
      "[Iteration 31  ] residual:        110 | iteration runtime:    268.147 ms, (      8.53 s total)\n",
      "[Iteration 32  ] residual:        110 | iteration runtime:    264.008 ms, (      8.79 s total)\n",
      "[Iteration 33  ] residual:        110 | iteration runtime:    265.522 ms, (      9.06 s total)\n",
      "[Iteration 34  ] residual:        110 | iteration runtime:    284.711 ms, (      9.34 s total)\n",
      "[Iteration 35  ] residual:        110 | iteration runtime:    264.184 ms, (      9.61 s total)\n",
      "[Iteration 36  ] residual:        110 | iteration runtime:    260.496 ms, (      9.87 s total)\n",
      "[Iteration 37  ] residual:        110 | iteration runtime:    266.580 ms, (      10.1 s total)\n",
      "[Iteration 38  ] residual:        110 | iteration runtime:    278.974 ms, (      10.4 s total)\n",
      "[Iteration 39  ] residual:        110 | iteration runtime:    276.940 ms, (      10.7 s total)\n",
      "[Iteration 40  ] residual:        110 | iteration runtime:    263.037 ms, (        11 s total)\n",
      "[Iteration 41  ] residual:        110 | iteration runtime:    268.434 ms, (      11.2 s total)\n",
      "[Iteration 42  ] residual:        110 | iteration runtime:    256.977 ms, (      11.5 s total)\n",
      "[Iteration 43  ] residual:        110 | iteration runtime:    270.629 ms, (      11.7 s total)\n",
      "[Iteration 44  ] residual:        110 | iteration runtime:    271.563 ms, (        12 s total)\n",
      "[Iteration 45  ] residual:        110 | iteration runtime:    264.482 ms, (      12.3 s total)\n",
      "[Iteration 46  ] residual:        110 | iteration runtime:    260.155 ms, (      12.5 s total)\n",
      "[Iteration 47  ] residual:        110 | iteration runtime:    263.663 ms, (      12.8 s total)\n",
      "[Iteration 48  ] residual:        110 | iteration runtime:    270.611 ms, (      13.1 s total)\n",
      "[Iteration 49  ] residual:        110 | iteration runtime:    264.099 ms, (      13.3 s total)\n",
      "[Iteration 50  ] residual:        110 | iteration runtime:    261.098 ms, (      13.6 s total)\n",
      "[Iteration 51  ] residual:        110 | iteration runtime:    265.462 ms, (      13.9 s total)\n",
      "[Iteration 52  ] residual:        110 | iteration runtime:    278.060 ms, (      14.1 s total)\n",
      "[Iteration 53  ] residual:        110 | iteration runtime:    272.071 ms, (      14.4 s total)\n",
      "[Iteration 54  ] residual:        110 | iteration runtime:    262.704 ms, (      14.7 s total)\n",
      "[Iteration 55  ] residual:        110 | iteration runtime:    266.029 ms, (      14.9 s total)\n",
      "[Iteration 56  ] residual:        110 | iteration runtime:    264.744 ms, (      15.2 s total)\n",
      "[Iteration 57  ] residual:        110 | iteration runtime:    262.362 ms, (      15.5 s total)\n",
      "[Iteration 58  ] residual:        110 | iteration runtime:    260.790 ms, (      15.7 s total)\n",
      "[Iteration 59  ] residual:        110 | iteration runtime:    267.240 ms, (        16 s total)\n",
      "[Iteration 60  ] residual:        110 | iteration runtime:    278.889 ms, (      16.3 s total)\n",
      "[Iteration 61  ] residual:        110 | iteration runtime:    267.806 ms, (      16.6 s total)\n",
      "[Iteration 62  ] residual:        110 | iteration runtime:    266.020 ms, (      16.8 s total)\n",
      "[Iteration 63  ] residual:        110 | iteration runtime:    269.841 ms, (      17.1 s total)\n",
      "[Iteration 64  ] residual:        110 | iteration runtime:    263.732 ms, (      17.3 s total)\n",
      "[Iteration 65  ] residual:        110 | iteration runtime:    267.736 ms, (      17.6 s total)\n",
      "[Iteration 66  ] residual:        110 | iteration runtime:    280.644 ms, (      17.9 s total)\n",
      "[Iteration 67  ] residual:        110 | iteration runtime:    276.351 ms, (      18.2 s total)\n",
      "[Iteration 68  ] residual:        110 | iteration runtime:    271.333 ms, (      18.4 s total)\n",
      "[Iteration 69  ] residual:        110 | iteration runtime:    266.600 ms, (      18.7 s total)\n",
      "[Iteration 70  ] residual:        110 | iteration runtime:    284.028 ms, (        19 s total)\n",
      "[Iteration 71  ] residual:        110 | iteration runtime:    279.070 ms, (      19.3 s total)\n",
      "[Iteration 72  ] residual:        110 | iteration runtime:    274.210 ms, (      19.5 s total)\n",
      "[Iteration 73  ] residual:        110 | iteration runtime:    270.131 ms, (      19.8 s total)\n",
      "[Iteration 74  ] residual:        110 | iteration runtime:    279.339 ms, (      20.1 s total)\n",
      "[Iteration 75  ] residual:        110 | iteration runtime:    271.113 ms, (      20.4 s total)\n",
      "[Iteration 76  ] residual:        110 | iteration runtime:    262.694 ms, (      20.6 s total)\n",
      "[Iteration 77  ] residual:        110 | iteration runtime:    268.860 ms, (      20.9 s total)\n",
      "[Iteration 78  ] residual:        110 | iteration runtime:    282.215 ms, (      21.2 s total)\n",
      "[Iteration 79  ] residual:        110 | iteration runtime:    273.922 ms, (      21.5 s total)\n",
      "[Iteration 80  ] residual:        110 | iteration runtime:    271.703 ms, (      21.7 s total)\n",
      "[Iteration 81  ] residual:        110 | iteration runtime:    268.409 ms, (        22 s total)\n",
      "[Iteration 82  ] residual:        110 | iteration runtime:    292.232 ms, (      22.3 s total)\n",
      "[Iteration 83  ] residual:        110 | iteration runtime:    272.918 ms, (      22.6 s total)\n",
      "[Iteration 84  ] residual:        110 | iteration runtime:    277.939 ms, (      22.8 s total)\n",
      "[Iteration 85  ] residual:        110 | iteration runtime:    283.097 ms, (      23.1 s total)\n",
      "[Iteration 86  ] residual:        110 | iteration runtime:    288.923 ms, (      23.4 s total)\n",
      "[Iteration 87  ] residual:        110 | iteration runtime:    280.158 ms, (      23.7 s total)\n",
      "[Iteration 88  ] residual:        110 | iteration runtime:    264.677 ms, (        24 s total)\n"
     ]
    },
    {
     "name": "stdout",
     "output_type": "stream",
     "text": [
      "[Iteration 89  ] residual:        110 | iteration runtime:    285.239 ms, (      24.2 s total)\n",
      "[Iteration 90  ] residual:        110 | iteration runtime:    273.334 ms, (      24.5 s total)\n",
      "[Iteration 91  ] residual:        110 | iteration runtime:    280.024 ms, (      24.8 s total)\n",
      "[Iteration 92  ] residual:        110 | iteration runtime:    264.854 ms, (      25.1 s total)\n",
      "[Iteration 93  ] residual:        110 | iteration runtime:    267.904 ms, (      25.3 s total)\n",
      "[Iteration 94  ] residual:        110 | iteration runtime:    275.102 ms, (      25.6 s total)\n",
      "[Iteration 95  ] residual:        110 | iteration runtime:    282.391 ms, (      25.9 s total)\n",
      "[Iteration 96  ] residual:        110 | iteration runtime:    278.376 ms, (      26.2 s total)\n",
      "[Iteration 97  ] residual:        110 | iteration runtime:    268.072 ms, (      26.4 s total)\n",
      "[Iteration 98  ] residual:        110 | iteration runtime:    277.657 ms, (      26.7 s total)\n",
      "[Iteration 99  ] residual:        110 | iteration runtime:    263.985 ms, (        27 s total)\n",
      "[Iteration 100 ] residual:        110 | iteration runtime:    264.224 ms, (      27.2 s total)\n",
      "UAVState(3, 3, :SW, false)nothing"
     ]
    },
    {
     "data": {
      "text/plain": [
       "ValueIterationPolicy:\n",
       " MDPState(UAVState(1, 1, :E, false), 0, nothing) -> UAVState(1, 3, :SE, false)\n",
       " MDPState(UAVState(1, 2, :E, false), 0, nothing) -> UAVState(1, 4, :SE, false)\n",
       " MDPState(UAVState(1, 3, :E, false), 0, nothing) -> UAVState(1, 4, :SE, false)\n",
       " MDPState(UAVState(1, 4, :E, false), 0, nothing) -> UAVState(1, 4, :SE, false)\n",
       " MDPState(UAVState(1, 5, :E, false), 0, nothing) -> UAVState(1, 4, :SE, false)\n",
       " MDPState(UAVState(1, 6, :E, false), 0, nothing) -> UAVState(1, 4, :SE, false)\n",
       " MDPState(UAVState(1, 7, :E, false), 0, nothing) -> UAVState(1, 5, :SE, false)\n",
       " MDPState(UAVState(1, 8, :E, false), 0, nothing) -> UAVState(1, 6, :SE, false)\n",
       " MDPState(UAVState(1, 9, :E, false), 0, nothing) -> UAVState(1, 7, :SE, false)\n",
       " MDPState(UAVState(1, 10, :E, false), 0, nothing) -> UAVState(1, 8, :SE, false)\n",
       " MDPState(UAVState(1, 11, :E, false), 0, nothing) -> UAVState(1, 9, :SE, false)\n",
       " MDPState(UAVState(1, 12, :E, false), 0, nothing) -> UAVState(1, 10, :SE, false)\n",
       " MDPState(UAVState(1, 13, :E, false), 0, nothing) -> UAVState(1, 11, :SE, false)\n",
       " MDPState(UAVState(1, 14, :E, false), 0, nothing) -> UAVState(1, 12, :SE, false)\n",
       " MDPState(UAVState(1, 15, :E, false), 0, nothing) -> UAVState(1, 13, :SE, false)\n",
       " MDPState(UAVState(1, 16, :E, false), 0, nothing) -> UAVState(1, 14, :SE, false)\n",
       " MDPState(UAVState(1, 17, :E, false), 0, nothing) -> UAVState(1, 15, :SE, false)\n",
       " MDPState(UAVState(1, 18, :E, false), 0, nothing) -> UAVState(1, 16, :SE, false)\n",
       " MDPState(UAVState(1, 19, :E, false), 0, nothing) -> UAVState(1, 17, :SE, false)\n",
       " MDPState(UAVState(1, 20, :E, false), 0, nothing) -> UAVState(1, 18, :SE, false)\n",
       " MDPState(UAVState(2, 1, :E, false), 0, nothing) -> UAVState(1, 3, :SE, false)\n",
       " MDPState(UAVState(2, 2, :E, false), 0, nothing) -> UAVState(1, 4, :SE, false)\n",
       " MDPState(UAVState(2, 3, :E, false), 0, nothing) -> UAVState(1, 4, :SE, false)\n",
       " MDPState(UAVState(2, 4, :E, false), 0, nothing) -> UAVState(1, 4, :SE, false)\n",
       " MDPState(UAVState(2, 5, :E, false), 0, nothing) -> UAVState(1, 4, :SE, false)\n",
       " …"
      ]
     },
     "execution_count": 10,
     "metadata": {},
     "output_type": "execute_result"
    }
   ],
   "source": [
    "MDMA.solve_single_robot(model, UAVState(1,1,:S))"
   ]
  },
  {
   "cell_type": "code",
   "execution_count": 6,
   "metadata": {},
   "outputs": [
    {
     "data": {
      "text/plain": [
       "                                                                                                                \u001b[97;1mSparseCat distribution\u001b[0m           \n",
       "                                                                                                      \u001b[38;5;8m┌                                        ┐\u001b[0m \n",
       "   MDMA.MDPState(UAVState(1, 1, :NW, false), 1, MDMA.MDPState(UAVState(1, 1, :N, false), 0, nothing)) \u001b[38;5;8m┤\u001b[0m\u001b[38;5;2m\u001b[0m 1.0e-323                               \u001b[38;5;8m \u001b[0m \u001b[38;5;8m\u001b[0m\n",
       "   MDMA.MDPState(UAVState(1, 1, :NE, false), 1, MDMA.MDPState(UAVState(1, 1, :N, false), 0, nothing)) \u001b[38;5;8m┤\u001b[0m\u001b[38;5;2m\u001b[0m 5.0e-324                               \u001b[38;5;8m \u001b[0m \u001b[38;5;8m\u001b[0m\n",
       "   MDMA.MDPState(UAVState(1, 2, :NW, false), 1, MDMA.MDPState(UAVState(1, 1, :N, false), 0, nothing)) \u001b[38;5;8m┤\u001b[0m\u001b[38;5;2m\u001b[0m 5.0e-324                               \u001b[38;5;8m \u001b[0m \u001b[38;5;8m\u001b[0m\n",
       "   MDMA.MDPState(UAVState(1, 2, :NE, false), 1, MDMA.MDPState(UAVState(1, 1, :N, false), 0, nothing)) \u001b[38;5;8m┤\u001b[0m\u001b[38;5;2m\u001b[0m 3.5e-323                               \u001b[38;5;8m \u001b[0m \u001b[38;5;8m\u001b[0m\n",
       "   MDMA.MDPState(UAVState(1, 3, :NW, false), 1, MDMA.MDPState(UAVState(1, 1, :N, false), 0, nothing)) \u001b[38;5;8m┤\u001b[0m\u001b[38;5;2m\u001b[0m 1.0e-323                               \u001b[38;5;8m \u001b[0m \u001b[38;5;8m\u001b[0m\n",
       "   MDMA.MDPState(UAVState(1, 3, :NE, false), 1, MDMA.MDPState(UAVState(1, 1, :N, false), 0, nothing)) \u001b[38;5;8m┤\u001b[0m\u001b[38;5;2m\u001b[0m 0.0                                    \u001b[38;5;8m \u001b[0m \u001b[38;5;8m\u001b[0m\n",
       "   MDMA.MDPState(UAVState(2, 1, :NW, false), 1, MDMA.MDPState(UAVState(1, 1, :N, false), 0, nothing)) \u001b[38;5;8m┤\u001b[0m\u001b[38;5;2m\u001b[0m 1.5e-323                               \u001b[38;5;8m \u001b[0m \u001b[38;5;8m\u001b[0m\n",
       "   MDMA.MDPState(UAVState(2, 1, :NE, false), 1, MDMA.MDPState(UAVState(1, 1, :N, false), 0, nothing)) \u001b[38;5;8m┤\u001b[0m\u001b[38;5;2m\u001b[0m 1.0e-323                               \u001b[38;5;8m \u001b[0m \u001b[38;5;8m\u001b[0m\n",
       "   MDMA.MDPState(UAVState(2, 2, :NW, false), 1, MDMA.MDPState(UAVState(1, 1, :N, false), 0, nothing)) \u001b[38;5;8m┤\u001b[0m\u001b[38;5;2m\u001b[0m 5.0e-324                               \u001b[38;5;8m \u001b[0m \u001b[38;5;8m\u001b[0m\n",
       "   MDMA.MDPState(UAVState(2, 2, :NE, false), 1, MDMA.MDPState(UAVState(1, 1, :N, false), 0, nothing)) \u001b[38;5;8m┤\u001b[0m\u001b[38;5;2m\u001b[0m 2.5e-323                               \u001b[38;5;8m \u001b[0m \u001b[38;5;8m\u001b[0m\n",
       "   MDMA.MDPState(UAVState(2, 3, :NW, false), 1, MDMA.MDPState(UAVState(1, 1, :N, false), 0, nothing)) \u001b[38;5;8m┤\u001b[0m\u001b[38;5;2m\u001b[0m 1.5e-323                               \u001b[38;5;8m \u001b[0m \u001b[38;5;8m\u001b[0m\n",
       "   MDMA.MDPState(UAVState(2, 3, :NE, false), 1, MDMA.MDPState(UAVState(1, 1, :N, false), 0, nothing)) \u001b[38;5;8m┤\u001b[0m\u001b[38;5;2m\u001b[0m 0.0                                    \u001b[38;5;8m \u001b[0m \u001b[38;5;8m\u001b[0m\n",
       "   MDMA.MDPState(UAVState(3, 1, :NW, false), 1, MDMA.MDPState(UAVState(1, 1, :N, false), 0, nothing)) \u001b[38;5;8m┤\u001b[0m\u001b[38;5;2m\u001b[0m 2.0e-323                               \u001b[38;5;8m \u001b[0m \u001b[38;5;8m\u001b[0m\n",
       "   MDMA.MDPState(UAVState(3, 1, :NE, false), 1, MDMA.MDPState(UAVState(1, 1, :N, false), 0, nothing)) \u001b[38;5;8m┤\u001b[0m\u001b[38;5;2m\u001b[0m 1.5e-323                               \u001b[38;5;8m \u001b[0m \u001b[38;5;8m\u001b[0m\n",
       "   MDMA.MDPState(UAVState(3, 2, :NW, false), 1, MDMA.MDPState(UAVState(1, 1, :N, false), 0, nothing)) \u001b[38;5;8m┤\u001b[0m\u001b[38;5;2m\u001b[0m 5.0e-324                               \u001b[38;5;8m \u001b[0m \u001b[38;5;8m\u001b[0m\n",
       "   MDMA.MDPState(UAVState(3, 2, :NE, false), 1, MDMA.MDPState(UAVState(1, 1, :N, false), 0, nothing)) \u001b[38;5;8m┤\u001b[0m\u001b[38;5;2m\u001b[0m 2.5e-323                               \u001b[38;5;8m \u001b[0m \u001b[38;5;8m\u001b[0m\n",
       "   MDMA.MDPState(UAVState(3, 3, :NW, false), 1, MDMA.MDPState(UAVState(1, 1, :N, false), 0, nothing)) \u001b[38;5;8m┤\u001b[0m\u001b[38;5;2m\u001b[0m 2.0e-323                               \u001b[38;5;8m \u001b[0m \u001b[38;5;8m\u001b[0m\n",
       "   MDMA.MDPState(UAVState(3, 3, :NE, false), 1, MDMA.MDPState(UAVState(1, 1, :N, false), 0, nothing)) \u001b[38;5;8m┤\u001b[0m\u001b[38;5;2m\u001b[0m 5.0e-324                               \u001b[38;5;8m \u001b[0m \u001b[38;5;8m\u001b[0m\n",
       "                                                 MDMA.MDPState(UAVState(1, 1, :N, false), 0, nothing) \u001b[38;5;8m┤\u001b[0m\u001b[38;5;2m■■■■■■■■■■■■■■■■■■■■■■■■■■■■■■■■■■■\u001b[0m 1.0 \u001b[38;5;8m \u001b[0m \u001b[38;5;8m\u001b[0m\n",
       "                                                                                                      \u001b[38;5;8m└                                        ┘\u001b[0m "
      ]
     },
     "execution_count": 6,
     "metadata": {},
     "output_type": "execute_result"
    }
   ],
   "source": [
    "MDPState = MDMA.MDPState\n",
    "MDMA.transition(model, MDPState(UAVState(1,1,:N)), UAVState(10,2,:NE))"
   ]
  },
  {
   "cell_type": "code",
   "execution_count": null,
   "metadata": {},
   "outputs": [],
   "source": []
  }
 ],
 "metadata": {
  "kernelspec": {
   "display_name": "Julia 1.7.3",
   "language": "julia",
   "name": "julia-1.7"
  },
  "language_info": {
   "file_extension": ".jl",
   "mimetype": "application/julia",
   "name": "julia",
   "version": "1.7.3"
  }
 },
 "nbformat": 4,
 "nbformat_minor": 2
}
