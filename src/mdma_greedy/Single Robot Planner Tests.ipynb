{
 "cells": [
  {
   "cell_type": "code",
   "execution_count": 1,
   "metadata": {
    "scrolled": true
   },
   "outputs": [
    {
     "data": {
      "text/plain": [
       "5-element Vector{String}:\n",
       " \"@\"\n",
       " \"@v#.#\"\n",
       " \"@stdlib\"\n",
       " \"/home/skh/MultiAgentSensing\"\n",
       " \".\""
      ]
     },
     "execution_count": 1,
     "metadata": {},
     "output_type": "execute_result"
    }
   ],
   "source": [
    "push!(LOAD_PATH,\".\")"
   ]
  },
  {
   "cell_type": "code",
   "execution_count": 2,
   "metadata": {
    "scrolled": true
   },
   "outputs": [],
   "source": [
    "using Revise\n",
    "using POMDPs\n",
    "using POMDPSimulators\n",
    "using Dates"
   ]
  },
  {
   "cell_type": "code",
   "execution_count": 3,
   "metadata": {
    "scrolled": true
   },
   "outputs": [
    {
     "name": "stderr",
     "output_type": "stream",
     "text": [
      "┌ Info: Precompiling MDMA [top-level]\n",
      "└ @ Base loading.jl:1423\n"
     ]
    },
    {
     "name": "stdout",
     "output_type": "stream",
     "text": [
      "\u001b[0m\u001b[1mTest Summary: | \u001b[22m\u001b[32m\u001b[1mPass  \u001b[22m\u001b[39m\u001b[36m\u001b[1mTotal\u001b[22m\u001b[39m\n",
      "detectTarget  | \u001b[32m  30  \u001b[39m\u001b[36m   30\u001b[39m\n",
      "\u001b[0m\u001b[1mTest Summary:        | \u001b[22m\u001b[32m\u001b[1mPass  \u001b[22m\u001b[39m\u001b[36m\u001b[1mTotal\u001b[22m\u001b[39m\n",
      "single_robot_planner | \u001b[32m   2  \u001b[39m\u001b[36m    2\u001b[39m\n"
     ]
    }
   ],
   "source": [
    "using MDMA"
   ]
  },
  {
   "cell_type": "code",
   "execution_count": 4,
   "metadata": {
    "scrolled": true
   },
   "outputs": [],
   "source": [
    "sensor = ViewConeSensor(pi/2, 3);\n",
    "horizon = 15\n",
    "grid = Grid(15,15, horizon);\n",
    "\n",
    "targets = Vector{Target}(undef, 0);\n",
    "push!(targets, Target(grid.width-2,grid.height-2,0));\n",
    "push!(targets, Target(grid.width-3,grid.height-3,0));\n",
    "push!(targets, Target(grid.width-1,grid.height-3,0));\n",
    "push!(targets, Target(20,5,0));\n",
    "\n",
    "move_dist = 3\n",
    "model = MDMA.SingleRobotMultiTargetViewCoverageProblem(grid, sensor, horizon, targets, move_dist);\n",
    "# model.target_trajectories[3,:];"
   ]
  },
  {
   "cell_type": "code",
   "execution_count": 5,
   "metadata": {
    "scrolled": false
   },
   "outputs": [
    {
     "name": "stdout",
     "output_type": "stream",
     "text": [
      "[Iteration 1   ] residual:        Inf | iteration runtime:   3298.532 ms, (       3.3 s total)\n",
      "[Iteration 2   ] residual:        Inf | iteration runtime:   3039.202 ms, (      6.34 s total)\n",
      "[Iteration 3   ] residual:        Inf | iteration runtime:   2931.634 ms, (      9.27 s total)\n",
      "[Iteration 4   ] residual:        Inf | iteration runtime:   2834.989 ms, (      12.1 s total)\n",
      "[Iteration 5   ] residual:        Inf | iteration runtime:   2835.903 ms, (      14.9 s total)\n",
      "[Iteration 6   ] residual:        Inf | iteration runtime:   2832.388 ms, (      17.8 s total)\n",
      "[Iteration 7   ] residual:        Inf | iteration runtime:   2848.145 ms, (      20.6 s total)\n",
      "[Iteration 8   ] residual:        Inf | iteration runtime:   2874.815 ms, (      23.5 s total)\n",
      "[Iteration 9   ] residual:        Inf | iteration runtime:   2923.094 ms, (      26.4 s total)\n",
      "[Iteration 10  ] residual:        Inf | iteration runtime:   2848.498 ms, (      29.3 s total)\n",
      "[Iteration 11  ] residual:        Inf | iteration runtime:   2833.376 ms, (      32.1 s total)\n",
      "[Iteration 12  ] residual:        Inf | iteration runtime:   2850.608 ms, (        35 s total)\n",
      "[Iteration 13  ] residual:        Inf | iteration runtime:   2860.744 ms, (      37.8 s total)\n",
      "[Iteration 14  ] residual:        Inf | iteration runtime:   2836.285 ms, (      40.6 s total)\n",
      "[Iteration 15  ] residual:        Inf | iteration runtime:   2839.748 ms, (      43.5 s total)\n",
      "[Iteration 16  ] residual:          0 | iteration runtime:   2828.417 ms, (      46.3 s total)\n"
     ]
    },
    {
     "data": {
      "text/plain": [
       "ValueIterationPolicy:\n",
       " MDPState(UAVState(1, 1, :E, false), 1, nothing) -> MDPState(UAVState(3, 1, :NE, false), 2, nothing)\n",
       " MDPState(UAVState(1, 2, :E, false), 1, nothing) -> MDPState(UAVState(3, 4, :NE, false), 2, nothing)\n",
       " MDPState(UAVState(1, 3, :E, false), 1, nothing) -> MDPState(UAVState(3, 4, :NE, false), 2, nothing)\n",
       " MDPState(UAVState(1, 4, :E, false), 1, nothing) -> MDPState(UAVState(3, 4, :NE, false), 2, nothing)\n",
       " MDPState(UAVState(1, 5, :E, false), 1, nothing) -> MDPState(UAVState(3, 4, :NE, false), 2, nothing)\n",
       " MDPState(UAVState(1, 6, :E, false), 1, nothing) -> MDPState(UAVState(3, 4, :NE, false), 2, nothing)\n",
       " MDPState(UAVState(1, 7, :E, false), 1, nothing) -> MDPState(UAVState(3, 5, :NE, false), 2, nothing)\n",
       " MDPState(UAVState(1, 8, :E, false), 1, nothing) -> MDPState(UAVState(3, 6, :NE, false), 2, nothing)\n",
       " MDPState(UAVState(1, 9, :E, false), 1, nothing) -> MDPState(UAVState(3, 7, :NE, false), 2, nothing)\n",
       " MDPState(UAVState(1, 10, :E, false), 1, nothing) -> MDPState(UAVState(3, 8, :NE, false), 2, nothing)\n",
       " MDPState(UAVState(1, 11, :E, false), 1, nothing) -> MDPState(UAVState(3, 9, :NE, false), 2, nothing)\n",
       " MDPState(UAVState(1, 12, :E, false), 1, nothing) -> MDPState(UAVState(3, 10, :NE, false), 2, nothing)\n",
       " MDPState(UAVState(1, 13, :E, false), 1, nothing) -> MDPState(UAVState(3, 11, :NE, false), 2, nothing)\n",
       " MDPState(UAVState(1, 14, :E, false), 1, nothing) -> MDPState(UAVState(3, 12, :NE, false), 2, nothing)\n",
       " MDPState(UAVState(1, 15, :E, false), 1, nothing) -> MDPState(UAVState(3, 13, :NE, false), 2, nothing)\n",
       " MDPState(UAVState(2, 1, :E, false), 1, nothing) -> MDPState(UAVState(4, 2, :NE, false), 2, nothing)\n",
       " MDPState(UAVState(2, 2, :E, false), 1, nothing) -> MDPState(UAVState(4, 2, :NE, false), 2, nothing)\n",
       " MDPState(UAVState(2, 3, :E, false), 1, nothing) -> MDPState(UAVState(4, 5, :NE, false), 2, nothing)\n",
       " MDPState(UAVState(2, 4, :E, false), 1, nothing) -> MDPState(UAVState(4, 5, :NE, false), 2, nothing)\n",
       " MDPState(UAVState(2, 5, :E, false), 1, nothing) -> MDPState(UAVState(4, 5, :NE, false), 2, nothing)\n",
       " MDPState(UAVState(2, 6, :E, false), 1, nothing) -> MDPState(UAVState(4, 5, :NE, false), 2, nothing)\n",
       " MDPState(UAVState(2, 7, :E, false), 1, nothing) -> MDPState(UAVState(4, 5, :NE, false), 2, nothing)\n",
       " MDPState(UAVState(2, 8, :E, false), 1, nothing) -> MDPState(UAVState(4, 6, :NE, false), 2, nothing)\n",
       " MDPState(UAVState(2, 9, :E, false), 1, nothing) -> MDPState(UAVState(4, 7, :NE, false), 2, nothing)\n",
       " MDPState(UAVState(2, 10, :E, false), 1, nothing) -> MDPState(UAVState(4, 8, :NE, false), 2, nothing)\n",
       " …"
      ]
     },
     "execution_count": 5,
     "metadata": {},
     "output_type": "execute_result"
    }
   ],
   "source": [
    "policy = MDMA.solve_single_robot(model)\n"
   ]
  },
  {
   "cell_type": "code",
   "execution_count": null,
   "metadata": {
    "scrolled": false
   },
   "outputs": [],
   "source": []
  },
  {
   "cell_type": "code",
   "execution_count": null,
   "metadata": {},
   "outputs": [],
   "source": []
  },
  {
   "cell_type": "code",
   "execution_count": null,
   "metadata": {},
   "outputs": [],
   "source": [
    "#MDMA.neighbors(model, MDbwPState(UAVState(10,10,:N)), model.move_dist)\n"
   ]
  },
  {
   "cell_type": "code",
   "execution_count": 6,
   "metadata": {},
   "outputs": [
    {
     "data": {
      "text/plain": [
       "15-element Vector{MDPState}:\n",
       " MDPState(UAVState(10, 10, :N, false), 1, nothing)\n",
       " MDPState(UAVState(12, 10, :NE, false), 2, nothing)\n",
       " MDPState(UAVState(11, 11, :E, false), 3, nothing)\n",
       " MDPState(UAVState(12, 9, :NE, false), 4, nothing)\n",
       " MDPState(UAVState(11, 10, :E, false), 5, nothing)\n",
       " MDPState(UAVState(12, 8, :NE, false), 6, nothing)\n",
       " MDPState(UAVState(11, 9, :E, false), 7, nothing)\n",
       " MDPState(UAVState(12, 7, :NE, false), 8, nothing)\n",
       " MDPState(UAVState(11, 8, :E, false), 9, nothing)\n",
       " MDPState(UAVState(12, 6, :NE, false), 10, nothing)\n",
       " MDPState(UAVState(11, 7, :E, false), 11, nothing)\n",
       " MDPState(UAVState(12, 5, :NE, false), 12, nothing)\n",
       " MDPState(UAVState(11, 6, :E, false), 13, nothing)\n",
       " MDPState(UAVState(12, 4, :NE, false), 14, nothing)\n",
       " MDPState(UAVState(11, 5, :E, false), 15, nothing)"
      ]
     },
     "execution_count": 6,
     "metadata": {},
     "output_type": "execute_result"
    }
   ],
   "source": [
    "function compute_path(model, policy, state)\n",
    "    path = Vector{MDPState}(undef, 0)\n",
    "    push!(path, state)\n",
    "    for x in 2:model.horizon\n",
    "        state = action(policy, state);\n",
    "#         state = MDPState(state);\n",
    "        push!(path, state);\n",
    "    end\n",
    "    path\n",
    "end\n"
   ]
  },
  {
   "cell_type": "code",
   "execution_count": 7,
   "metadata": {},
   "outputs": [
    {
     "data": {
      "text/plain": [
       "draw_arc (generic function with 1 method)"
      ]
     },
     "execution_count": 7,
     "metadata": {},
     "output_type": "execute_result"
    }
   ],
   "source": [
    "using Cairo\n",
    "\n",
    "#Pixels per meter\n",
    "function init_cairo(model,ppm, buf)\n",
    "    width = ppm*dims(model.grid)[1]+ 2*buf*ppm\n",
    "    height = ppm*dims(model.grid)[2]+ 2*buf*ppm\n",
    "    c = CairoRGBSurface(width,height);\n",
    "    cr = CairoContext(c);\n",
    "    draw_background(cr, width, height)\n",
    "    return (c, cr)\n",
    "end\n",
    "\n",
    "\n",
    "function draw_background(cr::CairoContext, width, height)\n",
    "    save(cr);\n",
    "    set_source_rgb(cr,1,1,1);    # white\n",
    "    rectangle(cr,0.0,0.0,width,height); # background\n",
    "    fill(cr);\n",
    "    restore(cr);\n",
    "end\n",
    "\n",
    "function draw_grid(g::Grid, cr::CairoContext, point_size, ppm, buf)\n",
    "    set_source_rgba(cr, 0, 0, 0, 0.3);\n",
    "    x,y,z = dims(g)\n",
    "    print(dims(g))\n",
    "    for i in 1:x\n",
    "        for j in 1:y\n",
    "            arc(cr, i*ppm + buf*ppm, j*ppm+ buf*ppm, point_size, 0, 2*pi);\n",
    "            fill(cr);\n",
    "        end\n",
    "    end    \n",
    "end\n",
    "\n",
    "function draw_target(cr::CairoContext, t::Target, ppm, size, buf)\n",
    "    save(cr)\n",
    "    set_source_rgba(cr, 0, 0.3, 0.5, 1);\n",
    "    arc(cr, t.x*ppm + buf*ppm, t.y*ppm + buf*ppm, size, 0, 2*pi);\n",
    "    fill(cr);\n",
    "    restore(cr)\n",
    "end\n",
    "\n",
    "function draw_targets(cr::CairoContext, targs::Vector{Target}, ppm, size, buf)\n",
    "    \n",
    "    for (i,t) in enumerate(targs)\n",
    "        cfade = i/length(targs)\n",
    "        set_source_rgba(cr, (cfade), (1-cfade)*0.5, (1-cfade)*1.1, 1/2);\n",
    "        draw_target(cr, t,ppm, size, buf)\n",
    "    end\n",
    "end\n",
    "\n",
    "function draw_state(cr::CairoContext, state::UAVState, model, ppm, fade, cfade, buf)\n",
    "    save(cr)\n",
    "    move_to(cr,state.x*ppm + buf*ppm, state.y*ppm + buf*ppm)\n",
    "    fov = model.sensor.fov\n",
    "    radius = model.sensor.cutoff\n",
    "    draw_arc(cr, radius, state.x, state.y, state.heading, fov, ppm, fade,cfade, buf)\n",
    "    restore(cr)\n",
    "end\n",
    "function draw_arc(cr::CairoContext, radius, x,y, heading,fov,ppm, fade,cfade, buf) \n",
    "    ## original example, following here\n",
    "    xc = x*ppm + buf*ppm;\n",
    "    yc = y*ppm + buf*ppm;\n",
    "    radius = radius*ppm;\n",
    "    angle1 = dirAngle(heading) + (-fov/2);  # angles are specified\n",
    "    angle2 = dirAngle(heading) + (fov/2);  # in radians\n",
    "\n",
    "#     set_source_rgba(cr, 0, 0, 0, fade);\n",
    "    set_source_rgba(cr, (cfade), (1-cfade)*0.5, (1-cfade)*1.1, fade);\n",
    "    set_line_width(cr, 5.0);\n",
    "    arc(cr, xc, yc, radius, angle1, angle2);\n",
    "    fill(cr)\n",
    "    stroke(cr);\n",
    "\n",
    "    # draw helping lines\n",
    "#     set_source_rgba(cr, cfade, 1-cfade, 1-cfade, fade);\n",
    "    set_line_width(cr, 6.0);\n",
    "\n",
    "    # Draw center\n",
    "    arc(cr, xc, yc, 10.0, 0, 2*pi);\n",
    "    fill(cr);\n",
    "    \n",
    "    arc(cr, xc, yc, radius, angle1, angle1);\n",
    "    line_to(cr, xc, yc);\n",
    "#     fill(cr)\n",
    "    \n",
    "    arc(cr, xc, yc, radius, angle2, angle2);\n",
    "    line_to(cr, xc, yc);\n",
    "#     fill(cr)\n",
    "    close_path(cr);\n",
    "    set_source_rgba(cr, (cfade), (1-cfade)*0.5, (1-cfade)*1.1, fade/2);\n",
    "    fill_preserve(cr);\n",
    "    \n",
    "    stroke(cr);\n",
    "end\n",
    "\n",
    "\n",
    "# draw_state(cr, UAVState(1,1,:S), model, ppm)\n",
    "\n",
    "\n",
    "## mark picture with current date\n"
   ]
  },
  {
   "cell_type": "code",
   "execution_count": 8,
   "metadata": {},
   "outputs": [
    {
     "data": {
      "text/plain": [
       "draw_path (generic function with 1 method)"
      ]
     },
     "execution_count": 8,
     "metadata": {},
     "output_type": "execute_result"
    }
   ],
   "source": [
    "\n",
    "function draw_path(model, ppm, path, cutoff, buf)\n",
    "    c, cr = init_cairo(model, ppm, buf)\n",
    "\n",
    "    draw_grid(model.grid, cr, 5, ppm, buf)\n",
    "\n",
    "    save(cr)\n",
    "    select_font_face(cr, \"Latin Modern Math\", Cairo.FONT_SLANT_NORMAL,\n",
    "                 Cairo.FONT_WEIGHT_NORMAL);\n",
    "\n",
    "    set_font_size(cr, 80.0);\n",
    "    set_source_rgba(cr, 0, 0, 0, 1);\n",
    "    move_to(cr, model.grid.width/2*ppm + -2*ppm, model.grid.height*ppm + 1.6*buf*ppm);\n",
    "    show_text(cr, \"𝐷 = $(model.move_dist)  ε = 6.8E-07\");\n",
    "    restore(cr)\n",
    "  \n",
    "\n",
    "    # Draw States\n",
    "    state=path[1]\n",
    "    move_to(cr,state.state.x*ppm + buf*ppm, state.state.y*ppm + buf*ppm)\n",
    "    draw_state(cr, state.state, model, ppm, 0.4, 1/cutoff, buf)\n",
    "    for (i,state) in enumerate(path[2:cutoff])\n",
    "        draw_state(cr, state.state, model, ppm, 0.4, i/cutoff, buf)         \n",
    "    end\n",
    "    \n",
    "    # Draw Lines\n",
    "    state=path[1]\n",
    "    move_to(cr,state.state.x*ppm + buf*ppm, state.state.y*ppm + buf*ppm)\n",
    "    for (i,state) in enumerate(path[2:cutoff])\n",
    "        cfade = i/cutoff\n",
    "        fade=1\n",
    "        set_source_rgba(cr, (cfade), (1-cfade)*0.5, (1-cfade)*1.1, fade/2);\n",
    "#         set_source_rgba(cr, 0.9, 0.6, 0.01, 1);\n",
    "        set_line_width(cr, 13.0);\n",
    "        move_to(cr,path[i].state.x*ppm+ buf*ppm, path[i].state.y*ppm + buf*ppm)\n",
    "        line_to(cr, state.state.x*ppm+buf*ppm, state.state.y*ppm + buf*ppm)\n",
    "        stroke(cr) \n",
    "        targets = model.target_trajectories[i,:]\n",
    "        draw_targets(cr, targets,ppm, 15, buf)\n",
    "         \n",
    "    end\n",
    "    \n",
    "    \n",
    "    write_to_png(c,\"move.png\");\n",
    "end"
   ]
  },
  {
   "cell_type": "code",
   "execution_count": 12,
   "metadata": {},
   "outputs": [
    {
     "name": "stdout",
     "output_type": "stream",
     "text": [
      "(15, 15, 8, 15)"
     ]
    },
    {
     "data": {
      "text/plain": [
       "0"
      ]
     },
     "execution_count": 12,
     "metadata": {},
     "output_type": "execute_result"
    }
   ],
   "source": [
    "path = compute_path(model, policy, MDPState(UAVState(1,1,:N)))\n",
    "draw_path(model, 50, path, model.horizon, 4)"
   ]
  },
  {
   "cell_type": "code",
   "execution_count": 10,
   "metadata": {},
   "outputs": [],
   "source": [
    "#draw_path(model, 50, compute_path(model, policy, MDPState(UAVState(10,10,:E)), model.horizon, 4)"
   ]
  },
  {
   "cell_type": "code",
   "execution_count": null,
   "metadata": {},
   "outputs": [],
   "source": []
  },
  {
   "cell_type": "code",
   "execution_count": null,
   "metadata": {},
   "outputs": [],
   "source": []
  },
  {
   "cell_type": "code",
   "execution_count": null,
   "metadata": {},
   "outputs": [],
   "source": []
  },
  {
   "cell_type": "code",
   "execution_count": null,
   "metadata": {},
   "outputs": [],
   "source": []
  }
 ],
 "metadata": {
  "kernelspec": {
   "display_name": "Julia 1.7.3",
   "language": "julia",
   "name": "julia-1.7"
  },
  "language_info": {
   "file_extension": ".jl",
   "mimetype": "application/julia",
   "name": "julia",
   "version": "1.7.3"
  }
 },
 "nbformat": 4,
 "nbformat_minor": 2
}
