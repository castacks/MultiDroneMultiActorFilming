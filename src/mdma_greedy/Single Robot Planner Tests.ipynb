{
 "cells": [
  {
   "cell_type": "code",
   "execution_count": 1,
   "metadata": {
    "scrolled": true
   },
   "outputs": [
    {
     "data": {
      "text/plain": [
       "8-element Vector{String}:\n",
       " \"/airlab\"\n",
       " \"/airlab/src/mdma_greedy\"\n",
       " \"/env\"\n",
       " \"@\"\n",
       " \"@v#.#\"\n",
       " \"@stdlib\"\n",
       " \".\"\n",
       " \"../..\""
      ]
     },
     "execution_count": 1,
     "metadata": {},
     "output_type": "execute_result"
    }
   ],
   "source": [
    "push!(LOAD_PATH,\".\")\n",
    "push!(LOAD_PATH,\"../..\")"
   ]
  },
  {
   "cell_type": "code",
   "execution_count": 2,
   "metadata": {
    "scrolled": true
   },
   "outputs": [],
   "source": [
    "using Revise\n",
    "using POMDPs\n",
    "using DiscreteValueIteration\n",
    "using POMDPTools\n",
    "# using Dates\n",
    "# using Profile"
   ]
  },
  {
   "cell_type": "code",
   "execution_count": 8,
   "metadata": {
    "scrolled": true
   },
   "outputs": [],
   "source": [
    "using MDMA"
   ]
  },
  {
   "cell_type": "code",
   "execution_count": 9,
   "metadata": {
    "scrolled": true
   },
   "outputs": [],
   "source": [
    "# Set model parameters\n",
    "sensor = ViewConeSensor(pi/2, 3);\n",
    "horizon = 20\n",
    "grid = Grid(10,10, horizon);\n",
    "\n",
    "# Setup initial distribution of targets\n",
    "targets = Vector{Target}(undef, 0);\n",
    "push!(targets, Target(grid.width-3,grid.height-3,0));\n",
    "push!(targets, Target(grid.width-4,grid.height-2,0));\n",
    "push!(targets, Target(grid.width-5,grid.height-3,0));\n",
    "\n",
    "target_trajectories = MDMA.generate_target_trajectories(grid, horizon, targets);\n",
    "\n",
    "move_dist = 3;\n",
    "model = MDMA.SingleRobotMultiTargetViewCoverageProblem(grid, sensor, horizon, target_trajectories, move_dist);"
   ]
  },
  {
   "cell_type": "code",
   "execution_count": 10,
   "metadata": {
    "scrolled": false
   },
   "outputs": [
    {
     "name": "stdout",
     "output_type": "stream",
     "text": [
      "[Iteration 1   ] residual:       7.52 | iteration runtime:   2414.426 ms, (      2.41 s total)\n",
      "[Iteration 2   ] residual:          0 | iteration runtime:   2418.939 ms, (      4.83 s total)\n"
     ]
    },
    {
     "data": {
      "text/plain": [
       "ValueIterationPolicy:\n",
       " MDPState(UAVState(1, 1, :E), 1, 20, nothing) -> MDPState(UAVState(2, 2, :NE), 2, 20, nothing)\n",
       " MDPState(UAVState(1, 2, :E), 1, 20, nothing) -> MDPState(UAVState(3, 4, :NE), 2, 20, nothing)\n",
       " MDPState(UAVState(1, 3, :E), 1, 20, nothing) -> MDPState(UAVState(3, 5, :E), 2, 20, nothing)\n",
       " MDPState(UAVState(1, 4, :E), 1, 20, nothing) -> MDPState(UAVState(3, 6, :E), 2, 20, nothing)\n",
       " MDPState(UAVState(1, 5, :E), 1, 20, nothing) -> MDPState(UAVState(3, 7, :E), 2, 20, nothing)\n",
       " MDPState(UAVState(1, 6, :E), 1, 20, nothing) -> MDPState(UAVState(3, 7, :E), 2, 20, nothing)\n",
       " MDPState(UAVState(1, 7, :E), 1, 20, nothing) -> MDPState(UAVState(3, 7, :E), 2, 20, nothing)\n",
       " MDPState(UAVState(1, 8, :E), 1, 20, nothing) -> MDPState(UAVState(3, 7, :E), 2, 20, nothing)\n",
       " MDPState(UAVState(1, 9, :E), 1, 20, nothing) -> MDPState(UAVState(3, 7, :E), 2, 20, nothing)\n",
       " MDPState(UAVState(1, 10, :E), 1, 20, nothing) -> MDPState(UAVState(3, 8, :SE), 2, 20, nothing)\n",
       " MDPState(UAVState(2, 1, :E), 1, 20, nothing) -> MDPState(UAVState(2, 2, :NE), 2, 20, nothing)\n",
       " MDPState(UAVState(2, 2, :E), 1, 20, nothing) -> MDPState(UAVState(4, 4, :NE), 2, 20, nothing)\n",
       " MDPState(UAVState(2, 3, :E), 1, 20, nothing) -> MDPState(UAVState(4, 5, :E), 2, 20, nothing)\n",
       " MDPState(UAVState(2, 4, :E), 1, 20, nothing) -> MDPState(UAVState(4, 5, :E), 2, 20, nothing)\n",
       " MDPState(UAVState(2, 5, :E), 1, 20, nothing) -> MDPState(UAVState(4, 7, :E), 2, 20, nothing)\n",
       " MDPState(UAVState(2, 6, :E), 1, 20, nothing) -> MDPState(UAVState(4, 7, :E), 2, 20, nothing)\n",
       " MDPState(UAVState(2, 7, :E), 1, 20, nothing) -> MDPState(UAVState(4, 7, :E), 2, 20, nothing)\n",
       " MDPState(UAVState(2, 8, :E), 1, 20, nothing) -> MDPState(UAVState(4, 7, :E), 2, 20, nothing)\n",
       " MDPState(UAVState(2, 9, :E), 1, 20, nothing) -> MDPState(UAVState(4, 7, :E), 2, 20, nothing)\n",
       " MDPState(UAVState(2, 10, :E), 1, 20, nothing) -> MDPState(UAVState(4, 8, :SE), 2, 20, nothing)\n",
       " MDPState(UAVState(3, 1, :E), 1, 20, nothing) -> MDPState(UAVState(5, 3, :NE), 2, 20, nothing)\n",
       " MDPState(UAVState(3, 2, :E), 1, 20, nothing) -> MDPState(UAVState(5, 4, :NE), 2, 20, nothing)\n",
       " MDPState(UAVState(3, 3, :E), 1, 20, nothing) -> MDPState(UAVState(4, 5, :E), 2, 20, nothing)\n",
       " MDPState(UAVState(3, 4, :E), 1, 20, nothing) -> MDPState(UAVState(5, 6, :E), 2, 20, nothing)\n",
       " MDPState(UAVState(3, 5, :E), 1, 20, nothing) -> MDPState(UAVState(4, 7, :E), 2, 20, nothing)\n",
       " …"
      ]
     },
     "execution_count": 10,
     "metadata": {},
     "output_type": "execute_result"
    }
   ],
   "source": [
    "policy = MDMA.solve_single_robot(model)\n"
   ]
  },
  {
   "cell_type": "code",
   "execution_count": 11,
   "metadata": {},
   "outputs": [
    {
     "data": {
      "text/plain": [
       "20-element Vector{MDPState}:\n",
       " MDPState(UAVState(1, 1, :N), 1, 20, nothing)\n",
       " MDPState(UAVState(2, 2, :NE), 2, 20, nothing)\n",
       " MDPState(UAVState(4, 4, :E), 3, 20, nothing)\n",
       " MDPState(UAVState(5, 6, :SE), 4, 20, nothing)\n",
       " MDPState(UAVState(5, 5, :S), 5, 20, nothing)\n",
       " MDPState(UAVState(5, 4, :SE), 6, 20, nothing)\n",
       " MDPState(UAVState(5, 3, :S), 7, 20, nothing)\n",
       " MDPState(UAVState(5, 2, :SE), 8, 20, nothing)\n",
       " MDPState(UAVState(5, 1, :SE), 9, 20, nothing)\n",
       " MDPState(UAVState(5, 3, :E), 10, 20, nothing)\n",
       " MDPState(UAVState(7, 5, :NE), 11, 20, nothing)\n",
       " MDPState(UAVState(6, 6, :N), 12, 20, nothing)\n",
       " MDPState(UAVState(6, 6, :NE), 13, 20, nothing)\n",
       " MDPState(UAVState(6, 6, :N), 14, 20, nothing)\n",
       " MDPState(UAVState(6, 6, :NE), 15, 20, nothing)\n",
       " MDPState(UAVState(6, 6, :N), 16, 20, nothing)\n",
       " MDPState(UAVState(6, 6, :NE), 17, 20, nothing)\n",
       " MDPState(UAVState(6, 8, :E), 18, 20, nothing)\n",
       " MDPState(UAVState(6, 6, :NE), 19, 20, nothing)\n",
       " MDPState(UAVState(6, 8, :E), 20, 20, nothing)"
      ]
     },
     "execution_count": 11,
     "metadata": {},
     "output_type": "execute_result"
    }
   ],
   "source": [
    "path = compute_path(model, policy, MDPState(UAVState(1,1,:N), model.horizon))"
   ]
  },
  {
   "cell_type": "code",
   "execution_count": 12,
   "metadata": {},
   "outputs": [
    {
     "name": "stdout",
     "output_type": "stream",
     "text": [
      "Writing to output/01.png\n",
      "Writing to output/02.png\n",
      "Writing to output/03.png\n",
      "Writing to output/04.png\n",
      "Writing to output/05.png\n",
      "Writing to output/06.png\n",
      "Writing to output/07.png\n",
      "Writing to output/08.png\n",
      "Writing to output/09.png\n",
      "Writing to output/10.png\n",
      "Writing to output/11.png\n",
      "Writing to output/12.png\n",
      "Writing to output/13.png\n",
      "Writing to output/14.png\n",
      "Writing to output/15.png\n",
      "Writing to output/16.png\n",
      "Writing to output/17.png\n",
      "Writing to output/18.png\n",
      "Writing to output/19.png\n",
      "Writing to output/20.png\n"
     ]
    }
   ],
   "source": [
    "draw_frames(RenderConf(50, 4, true, true), model, path)"
   ]
  },
  {
   "cell_type": "code",
   "execution_count": null,
   "metadata": {},
   "outputs": [],
   "source": []
  },
  {
   "cell_type": "code",
   "execution_count": null,
   "metadata": {},
   "outputs": [],
   "source": []
  },
  {
   "cell_type": "code",
   "execution_count": null,
   "metadata": {},
   "outputs": [],
   "source": []
  }
 ],
 "metadata": {
  "kernelspec": {
   "display_name": "Julia 1.8.2",
   "language": "julia",
   "name": "julia-1.8"
  },
  "language_info": {
   "file_extension": ".jl",
   "mimetype": "application/julia",
   "name": "julia",
   "version": "1.8.2"
  }
 },
 "nbformat": 4,
 "nbformat_minor": 2
}
