{
 "cells": [
  {
   "cell_type": "code",
   "execution_count": 1,
   "metadata": {
    "scrolled": true
   },
   "outputs": [
    {
     "data": {
      "text/plain": [
       "6-element Vector{String}:\n",
       " \"/env\"\n",
       " \"@\"\n",
       " \"@v#.#\"\n",
       " \"@stdlib\"\n",
       " \".\"\n",
       " \"../..\""
      ]
     },
     "execution_count": 1,
     "metadata": {},
     "output_type": "execute_result"
    }
   ],
   "source": [
    "push!(LOAD_PATH,\".\")\n",
    "push!(LOAD_PATH,\"../..\")"
   ]
  },
  {
   "cell_type": "code",
   "execution_count": 2,
   "metadata": {
    "scrolled": true
   },
   "outputs": [],
   "source": [
    "using Revise\n",
    "using POMDPs\n",
    "using DiscreteValueIteration\n",
    "using POMDPTools\n",
    "# using Dates\n",
    "# using Profile"
   ]
  },
  {
   "cell_type": "code",
   "execution_count": 3,
   "metadata": {
    "scrolled": true
   },
   "outputs": [
    {
     "name": "stderr",
     "output_type": "stream",
     "text": [
      "┌ Info: Precompiling MDMA [top-level]\n",
      "└ @ Base loading.jl:1664\n"
     ]
    },
    {
     "name": "stdout",
     "output_type": "stream",
     "text": [
      "\u001b[0m\u001b[1mTest Summary: | \u001b[22m\u001b[32m\u001b[1mPass  \u001b[22m\u001b[39m\u001b[36m\u001b[1mTotal  \u001b[22m\u001b[39m\u001b[0m\u001b[1mTime\u001b[22m\n",
      "detectTarget  | \u001b[32m  30  \u001b[39m\u001b[36m   30  \u001b[39m\u001b[0m0.5s\n",
      "\u001b[0m\u001b[1mTest Summary:        |\u001b[22m\u001b[0m\u001b[1mTime\u001b[22m\n",
      "single_robot_planner | \u001b[36mNone  \u001b[39m\u001b[0m0.1s\n"
     ]
    }
   ],
   "source": [
    "using MDMA"
   ]
  },
  {
   "cell_type": "code",
   "execution_count": 4,
   "metadata": {
    "scrolled": true
   },
   "outputs": [],
   "source": [
    "# Set model parameters\n",
    "sensor = ViewConeSensor(pi/2, 3);\n",
    "horizon = 15\n",
    "grid = Grid(15,15, horizon);\n",
    "\n",
    "# Setup initial distribution of targets\n",
    "targets = Vector{Target}(undef, 0);\n",
    "push!(targets, Target(grid.width-3,grid.height-3,0));\n",
    "push!(targets, Target(grid.width-4,grid.height-2,0));\n",
    "push!(targets, Target(grid.width-5,grid.height-3,0));\n",
    "\n",
    "target_trajectories = MDMA.generate_target_trajectories(grid, horizon, targets);\n",
    "\n",
    "move_dist = 3;\n",
    "model = MDMA.SingleRobotMultiTargetViewCoverageProblem(grid, sensor, horizon, targets, target_trajectories, move_dist);"
   ]
  },
  {
   "cell_type": "code",
   "execution_count": 5,
   "metadata": {
    "scrolled": false
   },
   "outputs": [
    {
     "name": "stdout",
     "output_type": "stream",
     "text": [
      "[Iteration 1   ] residual:        155 | iteration runtime:   5757.753 ms, (      5.76 s total)\n",
      "[Iteration 2   ] residual:          0 | iteration runtime:   5738.403 ms, (      11.5 s total)\n"
     ]
    },
    {
     "data": {
      "text/plain": [
       "ValueIterationPolicy:\n",
       " MDPState(UAVState(1, 1, :E), 1, 15, nothing) -> MDPState(UAVState(2, 3, :NE), 2, 15, nothing)\n",
       " MDPState(UAVState(1, 2, :E), 1, 15, nothing) -> MDPState(UAVState(2, 3, :NE), 2, 15, nothing)\n",
       " MDPState(UAVState(1, 3, :E), 1, 15, nothing) -> MDPState(UAVState(3, 5, :NE), 2, 15, nothing)\n",
       " MDPState(UAVState(1, 4, :E), 1, 15, nothing) -> MDPState(UAVState(3, 5, :NE), 2, 15, nothing)\n",
       " MDPState(UAVState(1, 5, :E), 1, 15, nothing) -> MDPState(UAVState(3, 5, :NE), 2, 15, nothing)\n",
       " MDPState(UAVState(1, 6, :E), 1, 15, nothing) -> MDPState(UAVState(3, 5, :NE), 2, 15, nothing)\n",
       " MDPState(UAVState(1, 7, :E), 1, 15, nothing) -> MDPState(UAVState(3, 5, :NE), 2, 15, nothing)\n",
       " MDPState(UAVState(1, 8, :E), 1, 15, nothing) -> MDPState(UAVState(3, 6, :NE), 2, 15, nothing)\n",
       " MDPState(UAVState(1, 9, :E), 1, 15, nothing) -> MDPState(UAVState(3, 7, :NE), 2, 15, nothing)\n",
       " MDPState(UAVState(1, 10, :E), 1, 15, nothing) -> MDPState(UAVState(3, 8, :NE), 2, 15, nothing)\n",
       " MDPState(UAVState(1, 11, :E), 1, 15, nothing) -> MDPState(UAVState(3, 9, :NE), 2, 15, nothing)\n",
       " MDPState(UAVState(1, 12, :E), 1, 15, nothing) -> MDPState(UAVState(3, 10, :NE), 2, 15, nothing)\n",
       " MDPState(UAVState(1, 13, :E), 1, 15, nothing) -> MDPState(UAVState(3, 11, :NE), 2, 15, nothing)\n",
       " MDPState(UAVState(1, 14, :E), 1, 15, nothing) -> MDPState(UAVState(3, 12, :NE), 2, 15, nothing)\n",
       " MDPState(UAVState(1, 15, :E), 1, 15, nothing) -> MDPState(UAVState(3, 13, :NE), 2, 15, nothing)\n",
       " MDPState(UAVState(2, 1, :E), 1, 15, nothing) -> MDPState(UAVState(4, 3, :NE), 2, 15, nothing)\n",
       " MDPState(UAVState(2, 2, :E), 1, 15, nothing) -> MDPState(UAVState(4, 3, :NE), 2, 15, nothing)\n",
       " MDPState(UAVState(2, 3, :E), 1, 15, nothing) -> MDPState(UAVState(3, 5, :NE), 2, 15, nothing)\n",
       " MDPState(UAVState(2, 4, :E), 1, 15, nothing) -> MDPState(UAVState(4, 6, :NE), 2, 15, nothing)\n",
       " MDPState(UAVState(2, 5, :E), 1, 15, nothing) -> MDPState(UAVState(4, 6, :NE), 2, 15, nothing)\n",
       " MDPState(UAVState(2, 6, :E), 1, 15, nothing) -> MDPState(UAVState(4, 6, :NE), 2, 15, nothing)\n",
       " MDPState(UAVState(2, 7, :E), 1, 15, nothing) -> MDPState(UAVState(4, 6, :NE), 2, 15, nothing)\n",
       " MDPState(UAVState(2, 8, :E), 1, 15, nothing) -> MDPState(UAVState(4, 6, :NE), 2, 15, nothing)\n",
       " MDPState(UAVState(2, 9, :E), 1, 15, nothing) -> MDPState(UAVState(4, 7, :NE), 2, 15, nothing)\n",
       " MDPState(UAVState(2, 10, :E), 1, 15, nothing) -> MDPState(UAVState(4, 8, :NE), 2, 15, nothing)\n",
       " …"
      ]
     },
     "execution_count": 5,
     "metadata": {},
     "output_type": "execute_result"
    }
   ],
   "source": [
    "policy = MDMA.solve_single_robot(model)\n"
   ]
  },
  {
   "cell_type": "code",
   "execution_count": 6,
   "metadata": {},
   "outputs": [
    {
     "data": {
      "text/plain": [
       "15-element Vector{MDPState}:\n",
       " MDPState(UAVState(1, 1, :N), 1, 15, nothing)\n",
       " MDPState(UAVState(2, 3, :NW), 2, 15, nothing)\n",
       " MDPState(UAVState(4, 5, :N), 3, 15, nothing)\n",
       " MDPState(UAVState(6, 7, :NE), 4, 15, nothing)\n",
       " MDPState(UAVState(8, 9, :E), 5, 15, nothing)\n",
       " MDPState(UAVState(8, 8, :E), 6, 15, nothing)\n",
       " MDPState(UAVState(8, 7, :E), 7, 15, nothing)\n",
       " MDPState(UAVState(8, 6, :E), 8, 15, nothing)\n",
       " MDPState(UAVState(8, 5, :E), 9, 15, nothing)\n",
       " MDPState(UAVState(8, 4, :E), 10, 15, nothing)\n",
       " MDPState(UAVState(8, 3, :E), 11, 15, nothing)\n",
       " MDPState(UAVState(8, 2, :E), 12, 15, nothing)\n",
       " MDPState(UAVState(8, 1, :E), 13, 15, nothing)\n",
       " MDPState(UAVState(9, 1, :SE), 14, 15, nothing)\n",
       " MDPState(UAVState(10, 1, :S), 15, 15, nothing)"
      ]
     },
     "execution_count": 6,
     "metadata": {},
     "output_type": "execute_result"
    }
   ],
   "source": [
    "path = compute_path(model, policy, MDPState(UAVState(1,1,:N), model.horizon))"
   ]
  },
  {
   "cell_type": "code",
   "execution_count": 7,
   "metadata": {},
   "outputs": [
    {
     "name": "stdout",
     "output_type": "stream",
     "text": [
      "(15, 15, 8, 15)"
     ]
    },
    {
     "data": {
      "text/plain": [
       "0"
      ]
     },
     "execution_count": 7,
     "metadata": {},
     "output_type": "execute_result"
    }
   ],
   "source": [
    "draw_animated(RenderConf(50, 4), model, path, model.horizon)"
   ]
  },
  {
   "cell_type": "code",
   "execution_count": null,
   "metadata": {},
   "outputs": [],
   "source": []
  },
  {
   "cell_type": "code",
   "execution_count": null,
   "metadata": {},
   "outputs": [],
   "source": []
  },
  {
   "cell_type": "code",
   "execution_count": null,
   "metadata": {},
   "outputs": [],
   "source": []
  }
 ],
 "metadata": {
  "kernelspec": {
   "display_name": "Julia 1.8.2",
   "language": "julia",
   "name": "julia-1.8"
  },
  "language_info": {
   "file_extension": ".jl",
   "mimetype": "application/julia",
   "name": "julia",
   "version": "1.8.2"
  }
 },
 "nbformat": 4,
 "nbformat_minor": 2
}
