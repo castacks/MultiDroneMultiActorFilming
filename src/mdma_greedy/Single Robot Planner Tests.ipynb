{
 "cells": [
  {
   "cell_type": "code",
   "execution_count": 1,
   "metadata": {
    "scrolled": true
   },
   "outputs": [
    {
     "data": {
      "text/plain": [
       "5-element Vector{String}:\n",
       " \"@\"\n",
       " \"@v#.#\"\n",
       " \"@stdlib\"\n",
       " \"/home/skh/MultiAgentSensing\"\n",
       " \".\""
      ]
     },
     "execution_count": 1,
     "metadata": {},
     "output_type": "execute_result"
    }
   ],
   "source": [
    "push!(LOAD_PATH,\".\")"
   ]
  },
  {
   "cell_type": "code",
   "execution_count": 2,
   "metadata": {
    "scrolled": true
   },
   "outputs": [],
   "source": [
    "using Revise\n",
    "using POMDPs\n",
    "using POMDPSimulators"
   ]
  },
  {
   "cell_type": "code",
   "execution_count": 3,
   "metadata": {
    "scrolled": true
   },
   "outputs": [
    {
     "name": "stderr",
     "output_type": "stream",
     "text": [
      "┌ Info: Precompiling MDMA [top-level]\n",
      "└ @ Base loading.jl:1423\n",
      "WARNING: using HistogramFilters.get_values in module SubmodularMaximization conflicts with an existing identifier.\n"
     ]
    },
    {
     "name": "stdout",
     "output_type": "stream",
     "text": [
      "\u001b[0m\u001b[1mTest Summary: | \u001b[22m\u001b[32m\u001b[1mPass  \u001b[22m\u001b[39m\u001b[36m\u001b[1mTotal\u001b[22m\u001b[39m\n",
      "detectTarget  | \u001b[32m  30  \u001b[39m\u001b[36m   30\u001b[39m\n",
      "\u001b[0m\u001b[1mTest Summary:        | \u001b[22m\u001b[32m\u001b[1mPass  \u001b[22m\u001b[39m\u001b[36m\u001b[1mTotal\u001b[22m\u001b[39m\n",
      "single_robot_planner | \u001b[32m   2  \u001b[39m\u001b[36m    2\u001b[39m\n"
     ]
    }
   ],
   "source": [
    "using MDMA"
   ]
  },
  {
   "cell_type": "code",
   "execution_count": 124,
   "metadata": {
    "scrolled": true
   },
   "outputs": [],
   "source": [
    "sensor = ViewConeSensor(pi/2, 3);\n",
    "targets = Vector{Target}(undef, 0);\n",
    "push!(targets, Target(10,10,0));\n",
    "push!(targets, Target(10,11,0));\n",
    "push!(targets, Target(11,11,0));\n",
    "\n",
    "grid = Grid(11,11);\n",
    "horizon = 30\n",
    "move_dist = 3\n",
    "model = MDMA.SingleRobotMultiTargetViewCoverageProblem(grid, sensor, horizon, targets, move_dist);"
   ]
  },
  {
   "cell_type": "code",
   "execution_count": 125,
   "metadata": {
    "scrolled": false
   },
   "outputs": [
    {
     "name": "stdout",
     "output_type": "stream",
     "text": [
      "[Iteration 1   ] residual:        100 | iteration runtime:    341.274 ms, (     0.341 s total)\n",
      "[Iteration 2   ] residual:        100 | iteration runtime:    316.953 ms, (     0.658 s total)\n",
      "[Iteration 3   ] residual:         90 | iteration runtime:    319.477 ms, (     0.978 s total)\n",
      "[Iteration 4   ] residual:         90 | iteration runtime:    318.252 ms, (       1.3 s total)\n",
      "[Iteration 5   ] residual:         90 | iteration runtime:    313.191 ms, (      1.61 s total)\n",
      "UAVState(3, 3, :NE, false)nothing"
     ]
    },
    {
     "data": {
      "text/plain": [
       "ValueIterationPolicy:\n",
       " MDPState(UAVState(1, 1, :E, false), 0, nothing) -> UAVState(3, 1, :SE, false)\n",
       " MDPState(UAVState(1, 2, :E, false), 0, nothing) -> UAVState(3, 1, :SE, false)\n",
       " MDPState(UAVState(1, 3, :E, false), 0, nothing) -> UAVState(3, 1, :SE, false)\n",
       " MDPState(UAVState(1, 4, :E, false), 0, nothing) -> UAVState(3, 2, :SE, false)\n",
       " MDPState(UAVState(1, 5, :E, false), 0, nothing) -> UAVState(3, 3, :SE, false)\n",
       " MDPState(UAVState(1, 6, :E, false), 0, nothing) -> UAVState(3, 4, :SE, false)\n",
       " MDPState(UAVState(1, 7, :E, false), 0, nothing) -> UAVState(3, 5, :SE, false)\n",
       " MDPState(UAVState(1, 8, :E, false), 0, nothing) -> UAVState(3, 6, :SE, false)\n",
       " MDPState(UAVState(1, 9, :E, false), 0, nothing) -> UAVState(3, 7, :SE, false)\n",
       " MDPState(UAVState(1, 10, :E, false), 0, nothing) -> UAVState(3, 8, :SE, false)\n",
       " MDPState(UAVState(1, 11, :E, false), 0, nothing) -> UAVState(3, 9, :SE, false)\n",
       " MDPState(UAVState(2, 1, :E, false), 0, nothing) -> UAVState(3, 1, :SE, false)\n",
       " MDPState(UAVState(2, 2, :E, false), 0, nothing) -> UAVState(3, 1, :SE, false)\n",
       " MDPState(UAVState(2, 3, :E, false), 0, nothing) -> UAVState(3, 1, :SE, false)\n",
       " MDPState(UAVState(2, 4, :E, false), 0, nothing) -> UAVState(3, 2, :SE, false)\n",
       " MDPState(UAVState(2, 5, :E, false), 0, nothing) -> UAVState(3, 3, :SE, false)\n",
       " MDPState(UAVState(2, 6, :E, false), 0, nothing) -> UAVState(3, 4, :SE, false)\n",
       " MDPState(UAVState(2, 7, :E, false), 0, nothing) -> UAVState(3, 5, :SE, false)\n",
       " MDPState(UAVState(2, 8, :E, false), 0, nothing) -> UAVState(3, 6, :SE, false)\n",
       " MDPState(UAVState(2, 9, :E, false), 0, nothing) -> UAVState(3, 7, :SE, false)\n",
       " MDPState(UAVState(2, 10, :E, false), 0, nothing) -> UAVState(3, 8, :SE, false)\n",
       " MDPState(UAVState(2, 11, :E, false), 0, nothing) -> UAVState(3, 9, :SE, false)\n",
       " MDPState(UAVState(3, 1, :E, false), 0, nothing) -> UAVState(5, 3, :SE, false)\n",
       " MDPState(UAVState(3, 2, :E, false), 0, nothing) -> UAVState(5, 4, :SE, false)\n",
       " MDPState(UAVState(3, 3, :E, false), 0, nothing) -> UAVState(5, 4, :SE, false)\n",
       " …"
      ]
     },
     "execution_count": 125,
     "metadata": {},
     "output_type": "execute_result"
    }
   ],
   "source": [
    "policy = MDMA.solve_single_robot(model, UAVState(1,1,:N))\n"
   ]
  },
  {
   "cell_type": "code",
   "execution_count": 126,
   "metadata": {
    "scrolled": false
   },
   "outputs": [
    {
     "data": {
      "text/plain": [
       "check (generic function with 1 method)"
      ]
     },
     "execution_count": 126,
     "metadata": {},
     "output_type": "execute_result"
    }
   ],
   "source": [
    "function rew_check(model, state, policy)\n",
    "    prev = MDPState(state)\n",
    "    next = action(policy, prev)\n",
    "    rew1 = MDMA.reward(model, prev, prev.state)\n",
    "    rew2 = MDMA.reward(model, prev, next)\n",
    "    println(prev.state,\" \", rew1)\n",
    "    println(next,\" \", rew2)\n",
    "end\n",
    "function check(model, prev, next)\n",
    "    prev = MDPState(prev)\n",
    "    rew1 = MDMA.reward(model, prev, prev.state)\n",
    "    rew2 = MDMA.reward(model, prev, next)\n",
    "    println(prev.state,\" \", rew1)\n",
    "    println(next,\" \", rew2)\n",
    "end\n"
   ]
  },
  {
   "cell_type": "code",
   "execution_count": 127,
   "metadata": {},
   "outputs": [
    {
     "name": "stdout",
     "output_type": "stream",
     "text": [
      "UAVState(3, 3, :S, false) 0\n",
      "UAVState(3, 3, :SW, false) 0\n"
     ]
    }
   ],
   "source": [
    "test_state = UAVState(3,3,:S)\n",
    "rew_check(model, test_state, policy)"
   ]
  },
  {
   "cell_type": "code",
   "execution_count": 128,
   "metadata": {},
   "outputs": [
    {
     "name": "stdout",
     "output_type": "stream",
     "text": [
      "UAVState(3, 3, :S, false) 0\n",
      "UAVState(3, 3, :E, false) 0\n"
     ]
    }
   ],
   "source": [
    "check(model, test_state, UAVState(3,3,:E))"
   ]
  },
  {
   "cell_type": "code",
   "execution_count": 129,
   "metadata": {},
   "outputs": [
    {
     "data": {
      "text/plain": [
       "75-element Vector{UAVState}:\n",
       " UAVState(1, 1, :SE, false)\n",
       " UAVState(1, 1, :SW, false)\n",
       " UAVState(3, 3, :S, false)\n",
       " UAVState(1, 2, :SE, false)\n",
       " UAVState(1, 2, :SW, false)\n",
       " UAVState(3, 3, :S, false)\n",
       " UAVState(1, 3, :SE, false)\n",
       " UAVState(1, 3, :SW, false)\n",
       " UAVState(3, 3, :S, false)\n",
       " UAVState(1, 4, :SE, false)\n",
       " UAVState(1, 4, :SW, false)\n",
       " UAVState(3, 3, :S, false)\n",
       " UAVState(1, 5, :SE, false)\n",
       " ⋮\n",
       " UAVState(5, 2, :SE, false)\n",
       " UAVState(5, 2, :SW, false)\n",
       " UAVState(3, 3, :S, false)\n",
       " UAVState(5, 3, :SE, false)\n",
       " UAVState(5, 3, :SW, false)\n",
       " UAVState(3, 3, :S, false)\n",
       " UAVState(5, 4, :SE, false)\n",
       " UAVState(5, 4, :SW, false)\n",
       " UAVState(3, 3, :S, false)\n",
       " UAVState(5, 5, :SE, false)\n",
       " UAVState(5, 5, :SW, false)\n",
       " UAVState(3, 3, :S, false)"
      ]
     },
     "execution_count": 129,
     "metadata": {},
     "output_type": "execute_result"
    }
   ],
   "source": [
    "nbors = MDMA.neighbors(model.grid, test_state, move_dist)"
   ]
  },
  {
   "cell_type": "code",
   "execution_count": 130,
   "metadata": {},
   "outputs": [
    {
     "data": {
      "text/plain": [
       "false"
      ]
     },
     "execution_count": 130,
     "metadata": {},
     "output_type": "execute_result"
    }
   ],
   "source": [
    "UAVState(3,3,:E) in nbors"
   ]
  },
  {
   "cell_type": "code",
   "execution_count": 131,
   "metadata": {},
   "outputs": [
    {
     "data": {
      "text/plain": [
       "true"
      ]
     },
     "execution_count": 131,
     "metadata": {},
     "output_type": "execute_result"
    }
   ],
   "source": [
    "test_state in nbors"
   ]
  },
  {
   "cell_type": "code",
   "execution_count": 132,
   "metadata": {},
   "outputs": [
    {
     "data": {
      "text/plain": [
       "75-element Vector{UAVState}:\n",
       " UAVState(1, 1, :SE, false)\n",
       " UAVState(1, 1, :SW, false)\n",
       " UAVState(3, 3, :S, false)\n",
       " UAVState(1, 2, :SE, false)\n",
       " UAVState(1, 2, :SW, false)\n",
       " UAVState(3, 3, :S, false)\n",
       " UAVState(1, 3, :SE, false)\n",
       " UAVState(1, 3, :SW, false)\n",
       " UAVState(3, 3, :S, false)\n",
       " UAVState(1, 4, :SE, false)\n",
       " UAVState(1, 4, :SW, false)\n",
       " UAVState(3, 3, :S, false)\n",
       " UAVState(1, 5, :SE, false)\n",
       " ⋮\n",
       " UAVState(5, 2, :SE, false)\n",
       " UAVState(5, 2, :SW, false)\n",
       " UAVState(3, 3, :S, false)\n",
       " UAVState(5, 3, :SE, false)\n",
       " UAVState(5, 3, :SW, false)\n",
       " UAVState(3, 3, :S, false)\n",
       " UAVState(5, 4, :SE, false)\n",
       " UAVState(5, 4, :SW, false)\n",
       " UAVState(3, 3, :S, false)\n",
       " UAVState(5, 5, :SE, false)\n",
       " UAVState(5, 5, :SW, false)\n",
       " UAVState(3, 3, :S, false)"
      ]
     },
     "execution_count": 132,
     "metadata": {},
     "output_type": "execute_result"
    }
   ],
   "source": [
    "nbors"
   ]
  },
  {
   "cell_type": "code",
   "execution_count": 133,
   "metadata": {},
   "outputs": [
    {
     "name": "stdout",
     "output_type": "stream",
     "text": [
      "state = MDPState(UAVState(1, 1, :S, false), 0, nothing)\n",
      "0\n",
      "state = MDPState(UAVState(3, 3, :SW, false), 0, nothing)\n",
      "0\n",
      "state = MDPState(UAVState(5, 5, :W, false), 0, nothing)\n",
      "0\n",
      "state = MDPState(UAVState(7, 7, :NW, false), 0, nothing)\n",
      "15\n",
      "state = MDPState(UAVState(9, 9, :N, false), 0, nothing)\n",
      "15\n",
      "state = MDPState(UAVState(9, 9, :NE, false), 0, nothing)\n",
      "15\n",
      "state = MDPState(UAVState(8, 11, :E, false), 0, nothing)\n",
      "5\n",
      "state = MDPState(UAVState(8, 11, :SE, false), 0, nothing)\n",
      "5\n",
      "state = MDPState(UAVState(9, 11, :S, false), 0, nothing)\n",
      "10\n",
      "state = MDPState(UAVState(11, 11, :SW, false), 0, nothing)\n",
      "10\n",
      "state = MDPState(UAVState(11, 10, :W, false), 0, nothing)\n",
      "15\n",
      "state = MDPState(UAVState(11, 9, :NW, false), 0, nothing)\n",
      "15\n",
      "state = MDPState(UAVState(9, 9, :N, false), 0, nothing)\n",
      "15\n",
      "state = MDPState(UAVState(9, 9, :NE, false), 0, nothing)\n",
      "15\n",
      "state = MDPState(UAVState(8, 11, :E, false), 0, nothing)\n",
      "5\n",
      "state = MDPState(UAVState(8, 11, :SE, false), 0, nothing)\n",
      "5\n",
      "state = MDPState(UAVState(9, 11, :S, false), 0, nothing)\n",
      "10\n",
      "state = MDPState(UAVState(11, 11, :SW, false), 0, nothing)\n",
      "10\n",
      "state = MDPState(UAVState(11, 10, :W, false), 0, nothing)\n",
      "15\n",
      "state = MDPState(UAVState(11, 9, :NW, false), 0, nothing)\n",
      "15\n",
      "state = MDPState(UAVState(9, 9, :N, false), 0, nothing)\n",
      "15\n",
      "state = MDPState(UAVState(9, 9, :NE, false), 0, nothing)\n",
      "15\n",
      "state = MDPState(UAVState(8, 11, :E, false), 0, nothing)\n",
      "5\n",
      "state = MDPState(UAVState(8, 11, :SE, false), 0, nothing)\n",
      "5\n",
      "state = MDPState(UAVState(9, 11, :S, false), 0, nothing)\n",
      "10\n",
      "state = MDPState(UAVState(11, 11, :SW, false), 0, nothing)\n",
      "10\n",
      "state = MDPState(UAVState(11, 10, :W, false), 0, nothing)\n",
      "15\n",
      "state = MDPState(UAVState(11, 9, :NW, false), 0, nothing)\n",
      "15\n",
      "state = MDPState(UAVState(9, 9, :N, false), 0, nothing)\n",
      "15\n",
      "state = MDPState(UAVState(9, 9, :NE, false), 0, nothing)\n",
      "15\n",
      "state = MDPState(UAVState(8, 11, :E, false), 0, nothing)\n",
      "5\n",
      "state = MDPState(UAVState(8, 11, :SE, false), 0, nothing)\n",
      "5\n",
      "state = MDPState(UAVState(9, 11, :S, false), 0, nothing)\n",
      "10\n",
      "state = MDPState(UAVState(11, 11, :SW, false), 0, nothing)\n",
      "10\n",
      "state = MDPState(UAVState(11, 10, :W, false), 0, nothing)\n",
      "15\n",
      "state = MDPState(UAVState(11, 9, :NW, false), 0, nothing)\n",
      "15\n",
      "state = MDPState(UAVState(9, 9, :N, false), 0, nothing)\n",
      "15\n",
      "state = MDPState(UAVState(9, 9, :NE, false), 0, nothing)\n",
      "15\n",
      "state = MDPState(UAVState(8, 11, :E, false), 0, nothing)\n",
      "5\n",
      "state = MDPState(UAVState(8, 11, :SE, false), 0, nothing)\n",
      "5\n",
      "state = MDPState(UAVState(9, 11, :S, false), 0, nothing)\n",
      "10\n",
      "state = MDPState(UAVState(11, 11, :SW, false), 0, nothing)\n",
      "10\n",
      "state = MDPState(UAVState(11, 10, :W, false), 0, nothing)\n",
      "15\n",
      "state = MDPState(UAVState(11, 9, :NW, false), 0, nothing)\n",
      "15\n",
      "state = MDPState(UAVState(9, 9, :N, false), 0, nothing)\n",
      "15\n",
      "state = MDPState(UAVState(9, 9, :NE, false), 0, nothing)\n",
      "15\n",
      "state = MDPState(UAVState(8, 11, :E, false), 0, nothing)\n",
      "5\n",
      "state = MDPState(UAVState(8, 11, :SE, false), 0, nothing)\n",
      "5\n",
      "state = MDPState(UAVState(9, 11, :S, false), 0, nothing)\n",
      "10\n",
      "state = MDPState(UAVState(11, 11, :SW, false), 0, nothing)\n",
      "10\n",
      "state = MDPState(UAVState(11, 10, :W, false), 0, nothing)\n",
      "15\n",
      "state = MDPState(UAVState(11, 9, :NW, false), 0, nothing)\n",
      "15\n",
      "state = MDPState(UAVState(9, 9, :N, false), 0, nothing)\n",
      "15\n",
      "state = MDPState(UAVState(9, 9, :NE, false), 0, nothing)\n",
      "15\n",
      "state = MDPState(UAVState(8, 11, :E, false), 0, nothing)\n",
      "5\n",
      "state = MDPState(UAVState(8, 11, :SE, false), 0, nothing)\n",
      "5\n",
      "state = MDPState(UAVState(9, 11, :S, false), 0, nothing)\n",
      "10\n",
      "state = MDPState(UAVState(11, 11, :SW, false), 0, nothing)\n",
      "10\n",
      "state = MDPState(UAVState(11, 10, :W, false), 0, nothing)\n",
      "15\n",
      "state = MDPState(UAVState(11, 9, :NW, false), 0, nothing)\n",
      "15\n",
      "state = MDPState(UAVState(9, 9, :N, false), 0, nothing)\n",
      "15\n",
      "state = MDPState(UAVState(9, 9, :NE, false), 0, nothing)\n",
      "15\n",
      "state = MDPState(UAVState(8, 11, :E, false), 0, nothing)\n",
      "5\n",
      "state = MDPState(UAVState(8, 11, :SE, false), 0, nothing)\n",
      "5\n",
      "state = MDPState(UAVState(9, 11, :S, false), 0, nothing)\n",
      "10\n",
      "state = MDPState(UAVState(11, 11, :SW, false), 0, nothing)\n",
      "10\n",
      "state = MDPState(UAVState(11, 10, :W, false), 0, nothing)\n",
      "15\n",
      "state = MDPState(UAVState(11, 9, :NW, false), 0, nothing)\n",
      "15\n",
      "state = MDPState(UAVState(9, 9, :N, false), 0, nothing)\n",
      "15\n",
      "state = MDPState(UAVState(9, 9, :NE, false), 0, nothing)\n",
      "15\n",
      "state = MDPState(UAVState(8, 11, :E, false), 0, nothing)\n",
      "5\n",
      "state = MDPState(UAVState(8, 11, :SE, false), 0, nothing)\n",
      "5\n",
      "state = MDPState(UAVState(9, 11, :S, false), 0, nothing)\n",
      "10\n",
      "state = MDPState(UAVState(11, 11, :SW, false), 0, nothing)\n",
      "10\n",
      "state = MDPState(UAVState(11, 10, :W, false), 0, nothing)\n",
      "15\n",
      "state = MDPState(UAVState(11, 9, :NW, false), 0, nothing)\n",
      "15\n",
      "state = MDPState(UAVState(9, 9, :N, false), 0, nothing)\n",
      "15\n",
      "state = MDPState(UAVState(9, 9, :NE, false), 0, nothing)\n",
      "15\n",
      "state = MDPState(UAVState(8, 11, :E, false), 0, nothing)\n",
      "5\n",
      "state = MDPState(UAVState(8, 11, :SE, false), 0, nothing)\n",
      "5\n",
      "state = MDPState(UAVState(9, 11, :S, false), 0, nothing)\n",
      "10\n",
      "state = MDPState(UAVState(11, 11, :SW, false), 0, nothing)\n",
      "10\n",
      "state = MDPState(UAVState(11, 10, :W, false), 0, nothing)\n",
      "15\n",
      "state = MDPState(UAVState(11, 9, :NW, false), 0, nothing)\n",
      "15\n",
      "state = MDPState(UAVState(9, 9, :N, false), 0, nothing)\n",
      "15\n",
      "state = MDPState(UAVState(9, 9, :NE, false), 0, nothing)\n",
      "15\n",
      "state = MDPState(UAVState(8, 11, :E, false), 0, nothing)\n",
      "5\n",
      "state = MDPState(UAVState(8, 11, :SE, false), 0, nothing)\n",
      "5\n",
      "state = MDPState(UAVState(9, 11, :S, false), 0, nothing)\n",
      "10\n",
      "state = MDPState(UAVState(11, 11, :SW, false), 0, nothing)\n",
      "10\n",
      "state = MDPState(UAVState(11, 10, :W, false), 0, nothing)\n",
      "15\n",
      "state = MDPState(UAVState(11, 9, :NW, false), 0, nothing)\n",
      "15\n",
      "state = MDPState(UAVState(9, 9, :N, false), 0, nothing)\n",
      "15\n",
      "state = MDPState(UAVState(9, 9, :NE, false), 0, nothing)\n",
      "15\n",
      "state = MDPState(UAVState(8, 11, :E, false), 0, nothing)\n",
      "5\n",
      "state = MDPState(UAVState(8, 11, :SE, false), 0, nothing)\n",
      "5\n",
      "state = MDPState(UAVState(9, 11, :S, false), 0, nothing)\n",
      "10\n",
      "state = MDPState(UAVState(11, 11, :SW, false), 0, nothing)\n",
      "10\n",
      "state = MDPState(UAVState(11, 10, :W, false), 0, nothing)\n",
      "15\n",
      "state = MDPState(UAVState(11, 9, :NW, false), 0, nothing)\n",
      "15\n"
     ]
    },
    {
     "data": {
      "text/plain": [
       "101-element Vector{MDPState}:\n",
       " MDPState(UAVState(1, 1, :S, false), 0, nothing)\n",
       " MDPState(UAVState(3, 3, :SW, false), 0, nothing)\n",
       " MDPState(UAVState(5, 5, :W, false), 0, nothing)\n",
       " MDPState(UAVState(7, 7, :NW, false), 0, nothing)\n",
       " MDPState(UAVState(9, 9, :N, false), 0, nothing)\n",
       " MDPState(UAVState(9, 9, :NE, false), 0, nothing)\n",
       " MDPState(UAVState(8, 11, :E, false), 0, nothing)\n",
       " MDPState(UAVState(8, 11, :SE, false), 0, nothing)\n",
       " MDPState(UAVState(9, 11, :S, false), 0, nothing)\n",
       " MDPState(UAVState(11, 11, :SW, false), 0, nothing)\n",
       " MDPState(UAVState(11, 10, :W, false), 0, nothing)\n",
       " MDPState(UAVState(11, 9, :NW, false), 0, nothing)\n",
       " MDPState(UAVState(9, 9, :N, false), 0, nothing)\n",
       " ⋮\n",
       " MDPState(UAVState(11, 11, :SW, false), 0, nothing)\n",
       " MDPState(UAVState(11, 10, :W, false), 0, nothing)\n",
       " MDPState(UAVState(11, 9, :NW, false), 0, nothing)\n",
       " MDPState(UAVState(9, 9, :N, false), 0, nothing)\n",
       " MDPState(UAVState(9, 9, :NE, false), 0, nothing)\n",
       " MDPState(UAVState(8, 11, :E, false), 0, nothing)\n",
       " MDPState(UAVState(8, 11, :SE, false), 0, nothing)\n",
       " MDPState(UAVState(9, 11, :S, false), 0, nothing)\n",
       " MDPState(UAVState(11, 11, :SW, false), 0, nothing)\n",
       " MDPState(UAVState(11, 10, :W, false), 0, nothing)\n",
       " MDPState(UAVState(11, 9, :NW, false), 0, nothing)\n",
       " MDPState(UAVState(9, 9, :N, false), 0, nothing)"
      ]
     },
     "execution_count": 133,
     "metadata": {},
     "output_type": "execute_result"
    }
   ],
   "source": [
    "path = Vector{MDPState}(undef, 0)\n",
    "state = MDPState(UAVState(1,1,:S))\n",
    "push!(path, state)\n",
    "for x in 1:100\n",
    "    @show state\n",
    "    state = action(policy, state)\n",
    "    state = MDPState(state)\n",
    "    push!(path, state)\n",
    "    println(reward(model, state, state.state))\n",
    "end\n",
    "path"
   ]
  },
  {
   "cell_type": "code",
   "execution_count": 134,
   "metadata": {},
   "outputs": [],
   "source": [
    "using Cairo\n",
    "\n"
   ]
  },
  {
   "cell_type": "code",
   "execution_count": 148,
   "metadata": {},
   "outputs": [
    {
     "name": "stdout",
     "output_type": "stream",
     "text": [
      "(11, 11, 8)"
     ]
    }
   ],
   "source": [
    "using Cairo\n",
    "\n",
    "#Pixels per meter\n",
    "ppm = 50\n",
    "width = ppm*dims(model.grid)[1]+ppm\n",
    "height = ppm*dims(model.grid)[2]+ppm\n",
    "c = CairoRGBSurface(width,height);\n",
    "cr = CairoContext(c);\n",
    "\n",
    "function draw_background(cr::CairoContext, width, height)\n",
    "    save(cr);\n",
    "    set_source_rgb(cr,1,1,1);    # white\n",
    "    rectangle(cr,0.0,0.0,width,height); # background\n",
    "    fill(cr);\n",
    "    restore(cr);\n",
    "end\n",
    "\n",
    "function draw_grid(g::Grid, cr::CairoContext, point_size, ppm)\n",
    "    set_source_rgba(cr, 0, 0, 0, 0.3);\n",
    "    x,y,z = dims(g)\n",
    "    print(dims(g))\n",
    "    for i in 1:x\n",
    "        for j in 1:y\n",
    "            arc(cr, i*ppm, j*ppm, point_size, 0, 2*pi);\n",
    "            fill(cr);\n",
    "        end\n",
    "    end    \n",
    "end\n",
    "\n",
    "function draw_target(cr::CairoContext, t::Target)\n",
    "    set_source_rgba(cr, 0, 0.3, 0.5, 1);\n",
    "    arc(cr, t.x*ppm, t.y*ppm, 10, 0, 2*pi);\n",
    "    fill(cr);\n",
    "end\n",
    "\n",
    "function draw_targets(cr::CairoContext, targs::Vector{Target})\n",
    "    for t in targs\n",
    "        draw_target(cr, t)\n",
    "    end\n",
    "end\n",
    "\n",
    "function draw_state(cr::CairoContext, state::UAVState, model, ppm, fade)\n",
    "    fov = model.sensor.fov\n",
    "    radius = model.sensor.cutoff\n",
    "    draw_arc(cr, radius, state.x, state.y, state.heading, fov, ppm, fade)\n",
    "end\n",
    "function draw_arc(cr::CairoContext, radius, x,y, heading,fov,ppm, fade) \n",
    "    ## original example, following here\n",
    "    \n",
    "    xc = x*ppm;\n",
    "    yc = y*ppm;\n",
    "    radius = radius*ppm;\n",
    "    angle1 = dirAngle(heading) + (-fov/2);  # angles are specified\n",
    "    angle2 = dirAngle(heading) + (fov/2);  # in radians\n",
    "\n",
    "    set_line_width(cr, 10.0);\n",
    "    arc(cr, xc, yc, radius, angle1, angle2);\n",
    "    stroke(cr);\n",
    "\n",
    "    # draw helping lines\n",
    "    set_source_rgba(cr, 1, 0.2, 0.2, fade);\n",
    "    set_line_width(cr, 6.0);\n",
    "\n",
    "    # Draw center\n",
    "    arc(cr, xc, yc, 10.0, 0, 2*pi);\n",
    "    fill(cr);\n",
    "    \n",
    "    set_source_rgba(cr, 0, 0, 0, fade);\n",
    "    arc(cr, xc, yc, radius, angle1, angle1);\n",
    "    set_source_rgba(cr, 1, 0.2, 0.2, fade);\n",
    "    line_to(cr, xc, yc);\n",
    "    set_source_rgba(cr, 0, 0, 0, fade);\n",
    "    arc(cr, xc, yc, radius, angle2, angle2);\n",
    "    set_source_rgba(cr, 1, 0.2, 0.2, fade);\n",
    "    line_to(cr, xc, yc);\n",
    "    stroke(cr);\n",
    "end\n",
    "draw_background(cr, width, height)\n",
    "draw_grid(model.grid, cr, 5, ppm)\n",
    "# draw_state(cr, UAVState(1,1,:S), model, ppm)\n",
    "\n",
    "\n",
    "## mark picture with current date\n"
   ]
  },
  {
   "cell_type": "code",
   "execution_count": 161,
   "metadata": {},
   "outputs": [
    {
     "name": "stdout",
     "output_type": "stream",
     "text": [
      "1\n",
      "2\n",
      "3\n",
      "4\n",
      "5\n",
      "6\n",
      "7\n",
      "8\n",
      "9\n"
     ]
    }
   ],
   "source": [
    "state= path[1]\n",
    "move_to(cr,state.state.x*ppm, state.state.y*ppm)\n",
    "draw_state(cr, state.state, model, ppm, 0.8)\n",
    "set_line_width(cr, 10.0);\n",
    "stroke(cr);\n",
    "for (i,state) in enumerate(path[2:10])\n",
    "    println(i)\n",
    "    line_to(cr, state.state.x*ppm, state.state.y*ppm)\n",
    "    draw_state(cr, state.state, model, ppm, 0.8)\n",
    "end"
   ]
  },
  {
   "cell_type": "code",
   "execution_count": 162,
   "metadata": {},
   "outputs": [],
   "source": [
    "draw_targets(cr, model.targets)\n",
    "write_to_png(c,\"sample_arc.png\");"
   ]
  },
  {
   "cell_type": "code",
   "execution_count": null,
   "metadata": {},
   "outputs": [],
   "source": []
  },
  {
   "cell_type": "code",
   "execution_count": null,
   "metadata": {},
   "outputs": [],
   "source": []
  },
  {
   "cell_type": "code",
   "execution_count": null,
   "metadata": {},
   "outputs": [],
   "source": []
  }
 ],
 "metadata": {
  "kernelspec": {
   "display_name": "Julia 1.7.3",
   "language": "julia",
   "name": "julia-1.7"
  },
  "language_info": {
   "file_extension": ".jl",
   "mimetype": "application/julia",
   "name": "julia",
   "version": "1.7.3"
  }
 },
 "nbformat": 4,
 "nbformat_minor": 2
}
