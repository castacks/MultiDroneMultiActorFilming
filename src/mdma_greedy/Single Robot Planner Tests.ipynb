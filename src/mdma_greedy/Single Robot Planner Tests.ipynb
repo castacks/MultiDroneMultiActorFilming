{
 "cells": [
  {
   "cell_type": "code",
   "execution_count": 26,
   "metadata": {
    "scrolled": true
   },
   "outputs": [
    {
     "data": {
      "text/plain": [
       "7-element Vector{String}:\n",
       " \"@\"\n",
       " \"@v#.#\"\n",
       " \"@stdlib\"\n",
       " \"/home/skh/MultiAgentSensing\"\n",
       " \".\"\n",
       " \".\"\n",
       " \".\""
      ]
     },
     "execution_count": 26,
     "metadata": {},
     "output_type": "execute_result"
    }
   ],
   "source": [
    "push!(LOAD_PATH,\".\")"
   ]
  },
  {
   "cell_type": "code",
   "execution_count": 27,
   "metadata": {
    "scrolled": true
   },
   "outputs": [],
   "source": [
    "using Revise\n",
    "using POMDPs"
   ]
  },
  {
   "cell_type": "code",
   "execution_count": 28,
   "metadata": {
    "scrolled": true
   },
   "outputs": [],
   "source": [
    "using MDMA"
   ]
  },
  {
   "cell_type": "code",
   "execution_count": 29,
   "metadata": {
    "scrolled": true
   },
   "outputs": [],
   "source": [
    "sensor = ViewConeSensor(pi/2, 3);\n",
    "targets = Vector{Target}(undef, 0);\n",
    "push!(targets, Target(5,2,0));\n",
    "push!(targets, Target(5,3,0));\n",
    "push!(targets, Target(4,3,0));\n",
    "\n",
    "grid = Grid(10,10);\n",
    "horizon = 30\n",
    "move_dist = 3\n",
    "model = MDMA.SingleRobotMultiTargetViewCoverageProblem(grid, sensor, horizon, targets, move_dist);"
   ]
  },
  {
   "cell_type": "code",
   "execution_count": 30,
   "metadata": {
    "scrolled": false
   },
   "outputs": [
    {
     "name": "stdout",
     "output_type": "stream",
     "text": [
      "[Iteration 1   ] residual:        120 | iteration runtime:    140.567 ms, (     0.141 s total)\n",
      "[Iteration 2   ] residual:        120 | iteration runtime:    127.613 ms, (     0.268 s total)\n",
      "[Iteration 3   ] residual:        120 | iteration runtime:    134.228 ms, (     0.402 s total)\n",
      "[Iteration 4   ] residual:        120 | iteration runtime:    134.291 ms, (     0.537 s total)\n",
      "[Iteration 5   ] residual:        120 | iteration runtime:    128.516 ms, (     0.665 s total)\n",
      "UAVState(3, 1, :NE, false)nothing"
     ]
    },
    {
     "data": {
      "text/plain": [
       "ValueIterationPolicy:\n",
       " MDPState(UAVState(1, 1, :E, false), 0, nothing) -> UAVState(3, 3, :SE, false)\n",
       " MDPState(UAVState(1, 2, :E, false), 0, nothing) -> UAVState(3, 4, :SE, false)\n",
       " MDPState(UAVState(1, 3, :E, false), 0, nothing) -> UAVState(3, 4, :SE, false)\n",
       " MDPState(UAVState(1, 4, :E, false), 0, nothing) -> UAVState(3, 4, :SE, false)\n",
       " MDPState(UAVState(1, 5, :E, false), 0, nothing) -> UAVState(3, 4, :SE, false)\n",
       " MDPState(UAVState(1, 6, :E, false), 0, nothing) -> UAVState(3, 4, :SE, false)\n",
       " MDPState(UAVState(1, 7, :E, false), 0, nothing) -> UAVState(3, 5, :SE, false)\n",
       " MDPState(UAVState(1, 8, :E, false), 0, nothing) -> UAVState(2, 6, :SE, false)\n",
       " MDPState(UAVState(1, 9, :E, false), 0, nothing) -> UAVState(3, 7, :SE, false)\n",
       " MDPState(UAVState(1, 10, :E, false), 0, nothing) -> UAVState(2, 8, :SE, false)\n",
       " MDPState(UAVState(2, 1, :E, false), 0, nothing) -> UAVState(3, 3, :SE, false)\n",
       " MDPState(UAVState(2, 2, :E, false), 0, nothing) -> UAVState(3, 4, :SE, false)\n",
       " MDPState(UAVState(2, 3, :E, false), 0, nothing) -> UAVState(3, 4, :SE, false)\n",
       " MDPState(UAVState(2, 4, :E, false), 0, nothing) -> UAVState(3, 4, :SE, false)\n",
       " MDPState(UAVState(2, 5, :E, false), 0, nothing) -> UAVState(3, 4, :SE, false)\n",
       " MDPState(UAVState(2, 6, :E, false), 0, nothing) -> UAVState(3, 4, :SE, false)\n",
       " MDPState(UAVState(2, 7, :E, false), 0, nothing) -> UAVState(3, 5, :SE, false)\n",
       " MDPState(UAVState(2, 8, :E, false), 0, nothing) -> UAVState(4, 6, :SE, false)\n",
       " MDPState(UAVState(2, 9, :E, false), 0, nothing) -> UAVState(3, 7, :SE, false)\n",
       " MDPState(UAVState(2, 10, :E, false), 0, nothing) -> UAVState(2, 8, :SE, false)\n",
       " MDPState(UAVState(3, 1, :E, false), 0, nothing) -> UAVState(3, 3, :SE, false)\n",
       " MDPState(UAVState(3, 2, :E, false), 0, nothing) -> UAVState(3, 4, :SE, false)\n",
       " MDPState(UAVState(3, 3, :E, false), 0, nothing) -> UAVState(3, 4, :SE, false)\n",
       " MDPState(UAVState(3, 4, :E, false), 0, nothing) -> UAVState(3, 4, :SE, false)\n",
       " MDPState(UAVState(3, 5, :E, false), 0, nothing) -> UAVState(3, 4, :SE, false)\n",
       " …"
      ]
     },
     "execution_count": 30,
     "metadata": {},
     "output_type": "execute_result"
    }
   ],
   "source": [
    "policy = MDMA.solve_single_robot(model, UAVState(1,1,:N))\n"
   ]
  },
  {
   "cell_type": "code",
   "execution_count": 31,
   "metadata": {
    "scrolled": false
   },
   "outputs": [
    {
     "data": {
      "text/plain": [
       "check (generic function with 1 method)"
      ]
     },
     "execution_count": 31,
     "metadata": {},
     "output_type": "execute_result"
    }
   ],
   "source": [
    "function rew_check(model, state, policy)\n",
    "    prev = MDPState(state)\n",
    "    next = action(policy, prev)\n",
    "    rew1 = MDMA.reward(model, prev, prev.state)\n",
    "    rew2 = MDMA.reward(model, prev, next)\n",
    "    println(prev.state,\" \", rew1)\n",
    "    println(next,\" \", rew2)\n",
    "end\n",
    "function check(model, prev, next)\n",
    "    prev = MDPState(prev)\n",
    "    rew1 = MDMA.reward(model, prev, prev.state)\n",
    "    rew2 = MDMA.reward(model, prev, next)\n",
    "    println(prev.state,\" \", rew1)\n",
    "    println(next,\" \", rew2)\n",
    "end\n"
   ]
  },
  {
   "cell_type": "code",
   "execution_count": 32,
   "metadata": {},
   "outputs": [
    {
     "name": "stdout",
     "output_type": "stream",
     "text": [
      "UAVState(3, 3, :S, false) 0\n",
      "UAVState(5, 4, :SW, false) 15\n"
     ]
    }
   ],
   "source": [
    "test_state = UAVState(3,3,:S)\n",
    "rew_check(model, test_state, policy)"
   ]
  },
  {
   "cell_type": "code",
   "execution_count": 33,
   "metadata": {},
   "outputs": [
    {
     "name": "stdout",
     "output_type": "stream",
     "text": [
      "UAVState(3, 3, :S, false) 0\n",
      "UAVState(3, 3, :E, false) 15\n"
     ]
    }
   ],
   "source": [
    "check(model, test_state, UAVState(3,3,:E))"
   ]
  },
  {
   "cell_type": "code",
   "execution_count": 34,
   "metadata": {},
   "outputs": [
    {
     "data": {
      "text/plain": [
       "50-element Vector{UAVState}:\n",
       " UAVState(1, 1, :SE, false)\n",
       " UAVState(1, 1, :SW, false)\n",
       " UAVState(1, 2, :SE, false)\n",
       " UAVState(1, 2, :SW, false)\n",
       " UAVState(1, 3, :SE, false)\n",
       " UAVState(1, 3, :SW, false)\n",
       " UAVState(1, 4, :SE, false)\n",
       " UAVState(1, 4, :SW, false)\n",
       " UAVState(1, 5, :SE, false)\n",
       " UAVState(1, 5, :SW, false)\n",
       " UAVState(2, 1, :SE, false)\n",
       " UAVState(2, 1, :SW, false)\n",
       " UAVState(2, 2, :SE, false)\n",
       " ⋮\n",
       " UAVState(4, 5, :SE, false)\n",
       " UAVState(4, 5, :SW, false)\n",
       " UAVState(5, 1, :SE, false)\n",
       " UAVState(5, 1, :SW, false)\n",
       " UAVState(5, 2, :SE, false)\n",
       " UAVState(5, 2, :SW, false)\n",
       " UAVState(5, 3, :SE, false)\n",
       " UAVState(5, 3, :SW, false)\n",
       " UAVState(5, 4, :SE, false)\n",
       " UAVState(5, 4, :SW, false)\n",
       " UAVState(5, 5, :SE, false)\n",
       " UAVState(5, 5, :SW, false)"
      ]
     },
     "execution_count": 34,
     "metadata": {},
     "output_type": "execute_result"
    }
   ],
   "source": [
    "nbors = MDMA.neighbors(model.grid, test_state, move_dist)"
   ]
  },
  {
   "cell_type": "code",
   "execution_count": 23,
   "metadata": {},
   "outputs": [
    {
     "data": {
      "text/plain": [
       "false"
      ]
     },
     "execution_count": 23,
     "metadata": {},
     "output_type": "execute_result"
    }
   ],
   "source": [
    "UAVState(3,3,:E) in nbors"
   ]
  },
  {
   "cell_type": "code",
   "execution_count": 24,
   "metadata": {},
   "outputs": [
    {
     "data": {
      "text/plain": [
       "false"
      ]
     },
     "execution_count": 24,
     "metadata": {},
     "output_type": "execute_result"
    }
   ],
   "source": [
    "test_state in nbors"
   ]
  },
  {
   "cell_type": "code",
   "execution_count": 25,
   "metadata": {},
   "outputs": [
    {
     "data": {
      "text/plain": [
       "50-element Vector{UAVState}:\n",
       " UAVState(1, 1, :SE, false)\n",
       " UAVState(1, 1, :SW, false)\n",
       " UAVState(1, 2, :SE, false)\n",
       " UAVState(1, 2, :SW, false)\n",
       " UAVState(1, 3, :SE, false)\n",
       " UAVState(1, 3, :SW, false)\n",
       " UAVState(1, 4, :SE, false)\n",
       " UAVState(1, 4, :SW, false)\n",
       " UAVState(1, 5, :SE, false)\n",
       " UAVState(1, 5, :SW, false)\n",
       " UAVState(2, 1, :SE, false)\n",
       " UAVState(2, 1, :SW, false)\n",
       " UAVState(2, 2, :SE, false)\n",
       " ⋮\n",
       " UAVState(4, 5, :SE, false)\n",
       " UAVState(4, 5, :SW, false)\n",
       " UAVState(5, 1, :SE, false)\n",
       " UAVState(5, 1, :SW, false)\n",
       " UAVState(5, 2, :SE, false)\n",
       " UAVState(5, 2, :SW, false)\n",
       " UAVState(5, 3, :SE, false)\n",
       " UAVState(5, 3, :SW, false)\n",
       " UAVState(5, 4, :SE, false)\n",
       " UAVState(5, 4, :SW, false)\n",
       " UAVState(5, 5, :SE, false)\n",
       " UAVState(5, 5, :SW, false)"
      ]
     },
     "execution_count": 25,
     "metadata": {},
     "output_type": "execute_result"
    }
   ],
   "source": [
    "nbors"
   ]
  },
  {
   "cell_type": "code",
   "execution_count": null,
   "metadata": {},
   "outputs": [],
   "source": []
  },
  {
   "cell_type": "code",
   "execution_count": null,
   "metadata": {},
   "outputs": [],
   "source": []
  }
 ],
 "metadata": {
  "kernelspec": {
   "display_name": "Julia 1.7.3",
   "language": "julia",
   "name": "julia-1.7"
  },
  "language_info": {
   "file_extension": ".jl",
   "mimetype": "application/julia",
   "name": "julia",
   "version": "1.7.3"
  }
 },
 "nbformat": 4,
 "nbformat_minor": 2
}
