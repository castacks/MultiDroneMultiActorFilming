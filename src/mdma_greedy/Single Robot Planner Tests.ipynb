{
 "cells": [
  {
   "cell_type": "code",
   "execution_count": 8,
   "metadata": {
    "scrolled": true
   },
   "outputs": [
    {
     "data": {
      "text/plain": [
       "10-element Vector{String}:\n",
       " \"/airlab\"\n",
       " \"/airlab/src/mdma_greedy\"\n",
       " \"/env\"\n",
       " \"@\"\n",
       " \"@v#.#\"\n",
       " \"@stdlib\"\n",
       " \".\"\n",
       " \"../..\"\n",
       " \".\"\n",
       " \"../..\""
      ]
     },
     "execution_count": 8,
     "metadata": {},
     "output_type": "execute_result"
    }
   ],
   "source": [
    "push!(LOAD_PATH,\".\")\n",
    "push!(LOAD_PATH,\"../..\")"
   ]
  },
  {
   "cell_type": "code",
   "execution_count": 9,
   "metadata": {
    "scrolled": true
   },
   "outputs": [],
   "source": [
    "using Revise\n",
    "using POMDPs\n",
    "using DiscreteValueIteration\n",
    "using POMDPTools\n",
    "# using Dates\n",
    "# using Profile"
   ]
  },
  {
   "cell_type": "code",
   "execution_count": 10,
   "metadata": {
    "scrolled": true
   },
   "outputs": [
    {
     "name": "stderr",
     "output_type": "stream",
     "text": [
      "┌ Info: Precompiling MDMA [top-level]\n",
      "└ @ Base loading.jl:1664\n"
     ]
    },
    {
     "name": "stdout",
     "output_type": "stream",
     "text": [
      "\u001b[0m\u001b[1mTest Summary: | \u001b[22m\u001b[32m\u001b[1mPass  \u001b[22m\u001b[39m\u001b[36m\u001b[1mTotal  \u001b[22m\u001b[39m\u001b[0m\u001b[1mTime\u001b[22m\n",
      "detectTarget  | \u001b[32m  30  \u001b[39m\u001b[36m   30  \u001b[39m\u001b[0m0.4s\n",
      "\u001b[0m\u001b[1mTest Summary:        |\u001b[22m\u001b[0m\u001b[1mTime\u001b[22m\n",
      "single_robot_planner | \u001b[36mNone  \u001b[39m\u001b[0m0.0s\n",
      "\u001b[0m\u001b[1mTest Summary:   |\u001b[22m\u001b[0m\u001b[1mTime\u001b[22m\n",
      "test_file_parse | \u001b[36mNone  \u001b[39m\u001b[0m0.0s\n"
     ]
    }
   ],
   "source": [
    "using MDMA"
   ]
  },
  {
   "cell_type": "code",
   "execution_count": 11,
   "metadata": {
    "scrolled": true
   },
   "outputs": [
    {
     "data": {
      "text/plain": [
       "SingleRobotMultiTargetViewCoverageProblem(MDMA_Grid(25, 25, 8, 60, [MDPState(UAVState(1, 1, :E), 1, 60, nothing) MDPState(UAVState(2, 1, :E), 1, 60, nothing) … MDPState(UAVState(24, 1, :E), 1, 60, nothing) MDPState(UAVState(25, 1, :E), 1, 60, nothing); MDPState(UAVState(1, 2, :E), 1, 60, nothing) MDPState(UAVState(2, 2, :E), 1, 60, nothing) … MDPState(UAVState(24, 2, :E), 1, 60, nothing) MDPState(UAVState(25, 2, :E), 1, 60, nothing); … ; MDPState(UAVState(1, 24, :E), 1, 60, nothing) MDPState(UAVState(2, 24, :E), 1, 60, nothing) … MDPState(UAVState(24, 24, :E), 1, 60, nothing) MDPState(UAVState(25, 24, :E), 1, 60, nothing); MDPState(UAVState(1, 25, :E), 1, 60, nothing) MDPState(UAVState(2, 25, :E), 1, 60, nothing) … MDPState(UAVState(24, 25, :E), 1, 60, nothing) MDPState(UAVState(25, 25, :E), 1, 60, nothing);;; MDPState(UAVState(1, 1, :NE), 1, 60, nothing) MDPState(UAVState(2, 1, :NE), 1, 60, nothing) … MDPState(UAVState(24, 1, :NE), 1, 60, nothing) MDPState(UAVState(25, 1, :NE), 1, 60, nothing); MDPState(UAVState(1, 2, :NE), 1, 60, nothing) MDPState(UAVState(2, 2, :NE), 1, 60, nothing) … MDPState(UAVState(24, 2, :NE), 1, 60, nothing) MDPState(UAVState(25, 2, :NE), 1, 60, nothing); … ; MDPState(UAVState(1, 24, :NE), 1, 60, nothing) MDPState(UAVState(2, 24, :NE), 1, 60, nothing) … MDPState(UAVState(24, 24, :NE), 1, 60, nothing) MDPState(UAVState(25, 24, :NE), 1, 60, nothing); MDPState(UAVState(1, 25, :NE), 1, 60, nothing) MDPState(UAVState(2, 25, :NE), 1, 60, nothing) … MDPState(UAVState(24, 25, :NE), 1, 60, nothing) MDPState(UAVState(25, 25, :NE), 1, 60, nothing);;; MDPState(UAVState(1, 1, :N), 1, 60, nothing) MDPState(UAVState(2, 1, :N), 1, 60, nothing) … MDPState(UAVState(24, 1, :N), 1, 60, nothing) MDPState(UAVState(25, 1, :N), 1, 60, nothing); MDPState(UAVState(1, 2, :N), 1, 60, nothing) MDPState(UAVState(2, 2, :N), 1, 60, nothing) … MDPState(UAVState(24, 2, :N), 1, 60, nothing) MDPState(UAVState(25, 2, :N), 1, 60, nothing); … ; MDPState(UAVState(1, 24, :N), 1, 60, nothing) MDPState(UAVState(2, 24, :N), 1, 60, nothing) … MDPState(UAVState(24, 24, :N), 1, 60, nothing) MDPState(UAVState(25, 24, :N), 1, 60, nothing); MDPState(UAVState(1, 25, :N), 1, 60, nothing) MDPState(UAVState(2, 25, :N), 1, 60, nothing) … MDPState(UAVState(24, 25, :N), 1, 60, nothing) MDPState(UAVState(25, 25, :N), 1, 60, nothing);;; MDPState(UAVState(1, 1, :NW), 1, 60, nothing) MDPState(UAVState(2, 1, :NW), 1, 60, nothing) … MDPState(UAVState(24, 1, :NW), 1, 60, nothing) MDPState(UAVState(25, 1, :NW), 1, 60, nothing); MDPState(UAVState(1, 2, :NW), 1, 60, nothing) MDPState(UAVState(2, 2, :NW), 1, 60, nothing) … MDPState(UAVState(24, 2, :NW), 1, 60, nothing) MDPState(UAVState(25, 2, :NW), 1, 60, nothing); … ; MDPState(UAVState(1, 24, :NW), 1, 60, nothing) MDPState(UAVState(2, 24, :NW), 1, 60, nothing) … MDPState(UAVState(24, 24, :NW), 1, 60, nothing) MDPState(UAVState(25, 24, :NW), 1, 60, nothing); MDPState(UAVState(1, 25, :NW), 1, 60, nothing) MDPState(UAVState(2, 25, :NW), 1, 60, nothing) … MDPState(UAVState(24, 25, :NW), 1, 60, nothing) MDPState(UAVState(25, 25, :NW), 1, 60, nothing);;; MDPState(UAVState(1, 1, :W), 1, 60, nothing) MDPState(UAVState(2, 1, :W), 1, 60, nothing) … MDPState(UAVState(24, 1, :W), 1, 60, nothing) MDPState(UAVState(25, 1, :W), 1, 60, nothing); MDPState(UAVState(1, 2, :W), 1, 60, nothing) MDPState(UAVState(2, 2, :W), 1, 60, nothing) … MDPState(UAVState(24, 2, :W), 1, 60, nothing) MDPState(UAVState(25, 2, :W), 1, 60, nothing); … ; MDPState(UAVState(1, 24, :W), 1, 60, nothing) MDPState(UAVState(2, 24, :W), 1, 60, nothing) … MDPState(UAVState(24, 24, :W), 1, 60, nothing) MDPState(UAVState(25, 24, :W), 1, 60, nothing); MDPState(UAVState(1, 25, :W), 1, 60, nothing) MDPState(UAVState(2, 25, :W), 1, 60, nothing) … MDPState(UAVState(24, 25, :W), 1, 60, nothing) MDPState(UAVState(25, 25, :W), 1, 60, nothing);;; MDPState(UAVState(1, 1, :SW), 1, 60, nothing) MDPState(UAVState(2, 1, :SW), 1, 60, nothing) … MDPState(UAVState(24, 1, :SW), 1, 60, nothing) MDPState(UAVState(25, 1, :SW), 1, 60, nothing); MDPState(UAVState(1, 2, :SW), 1, 60, nothing) MDPState(UAVState(2, 2, :SW), 1, 60, nothing) … MDPState(UAVState(24, 2, :SW), 1, 60, nothing) MDPState(UAVState(25, 2, :SW), 1, 60, nothing); … ; MDPState(UAVState(1, 24, :SW), 1, 60, nothing) MDPState(UAVState(2, 24, :SW), 1, 60, nothing) … MDPState(UAVState(24, 24, :SW), 1, 60, nothing) MDPState(UAVState(25, 24, :SW), 1, 60, nothing); MDPState(UAVState(1, 25, :SW), 1, 60, nothing) MDPState(UAVState(2, 25, :SW), 1, 60, nothing) … MDPState(UAVState(24, 25, :SW), 1, 60, nothing) MDPState(UAVState(25, 25, :SW), 1, 60, nothing);;; MDPState(UAVState(1, 1, :S), 1, 60, nothing) MDPState(UAVState(2, 1, :S), 1, 60, nothing) … MDPState(UAVState(24, 1, :S), 1, 60, nothing) MDPState(UAVState(25, 1, :S), 1, 60, nothing); MDPState(UAVState(1, 2, :S), 1, 60, nothing) MDPState(UAVState(2, 2, :S), 1, 60, nothing) … MDPState(UAVState(24, 2, :S), 1, 60, nothing) MDPState(UAVState(25, 2, :S), 1, 60, nothing); … ; MDPState(UAVState(1, 24, :S), 1, 60, nothing) MDPState(UAVState(2, 24, :S), 1, 60, nothing) … MDPState(UAVState(24, 24, :S), 1, 60, nothing) MDPState(UAVState(25, 24, :S), 1, 60, nothing); MDPState(UAVState(1, 25, :S), 1, 60, nothing) MDPState(UAVState(2, 25, :S), 1, 60, nothing) … MDPState(UAVState(24, 25, :S), 1, 60, nothing) MDPState(UAVState(25, 25, :S), 1, 60, nothing);;; MDPState(UAVState(1, 1, :SE), 1, 60, nothing) MDPState(UAVState(2, 1, :SE), 1, 60, nothing) … MDPState(UAVState(24, 1, :SE), 1, 60, nothing) MDPState(UAVState(25, 1, :SE), 1, 60, nothing); MDPState(UAVState(1, 2, :SE), 1, 60, nothing) MDPState(UAVState(2, 2, :SE), 1, 60, nothing) … MDPState(UAVState(24, 2, :SE), 1, 60, nothing) MDPState(UAVState(25, 2, :SE), 1, 60, nothing); … ; MDPState(UAVState(1, 24, :SE), 1, 60, nothing) MDPState(UAVState(2, 24, :SE), 1, 60, nothing) … MDPState(UAVState(24, 24, :SE), 1, 60, nothing) MDPState(UAVState(25, 24, :SE), 1, 60, nothing); MDPState(UAVState(1, 25, :SE), 1, 60, nothing) MDPState(UAVState(2, 25, :SE), 1, 60, nothing) … MDPState(UAVState(24, 25, :SE), 1, 60, nothing) MDPState(UAVState(25, 25, :SE), 1, 60, nothing);;;; MDPState(UAVState(1, 1, :E), 2, 60, nothing) MDPState(UAVState(2, 1, :E), 2, 60, nothing) … MDPState(UAVState(24, 1, :E), 2, 60, nothing) MDPState(UAVState(25, 1, :E), 2, 60, nothing); MDPState(UAVState(1, 2, :E), 2, 60, nothing) MDPState(UAVState(2, 2, :E), 2, 60, nothing) … MDPState(UAVState(24, 2, :E), 2, 60, nothing) MDPState(UAVState(25, 2, :E), 2, 60, nothing); … ; MDPState(UAVState(1, 24, :E), 2, 60, nothing) MDPState(UAVState(2, 24, :E), 2, 60, nothing) … MDPState(UAVState(24, 24, :E), 2, 60, nothing) MDPState(UAVState(25, 24, :E), 2, 60, nothing); MDPState(UAVState(1, 25, :E), 2, 60, nothing) MDPState(UAVState(2, 25, :E), 2, 60, nothing) … MDPState(UAVState(24, 25, :E), 2, 60, nothing) MDPState(UAVState(25, 25, :E), 2, 60, nothing);;; MDPState(UAVState(1, 1, :NE), 2, 60, nothing) MDPState(UAVState(2, 1, :NE), 2, 60, nothing) … MDPState(UAVState(24, 1, :NE), 2, 60, nothing) MDPState(UAVState(25, 1, :NE), 2, 60, nothing); MDPState(UAVState(1, 2, :NE), 2, 60, nothing) MDPState(UAVState(2, 2, :NE), 2, 60, nothing) … MDPState(UAVState(24, 2, :NE), 2, 60, nothing) MDPState(UAVState(25, 2, :NE), 2, 60, nothing); … ; MDPState(UAVState(1, 24, :NE), 2, 60, nothing) MDPState(UAVState(2, 24, :NE), 2, 60, nothing) … MDPState(UAVState(24, 24, :NE), 2, 60, nothing) MDPState(UAVState(25, 24, :NE), 2, 60, nothing); MDPState(UAVState(1, 25, :NE), 2, 60, nothing) MDPState(UAVState(2, 25, :NE), 2, 60, nothing) … MDPState(UAVState(24, 25, :NE), 2, 60, nothing) MDPState(UAVState(25, 25, :NE), 2, 60, nothing);;; MDPState(UAVState(1, 1, :N), 2, 60, nothing) MDPState(UAVState(2, 1, :N), 2, 60, nothing) … MDPState(UAVState(24, 1, :N), 2, 60, nothing) MDPState(UAVState(25, 1, :N), 2, 60, nothing); MDPState(UAVState(1, 2, :N), 2, 60, nothing) MDPState(UAVState(2, 2, :N), 2, 60, nothing) … MDPState(UAVState(24, 2, :N), 2, 60, nothing) MDPState(UAVState(25, 2, :N), 2, 60, nothing); … ; MDPState(UAVState(1, 24, :N), 2, 60, nothing) MDPState(UAVState(2, 24, :N), 2, 60, nothing) … MDPState(UAVState(24, 24, :N), 2, 60, nothing) MDPState(UAVState(25, 24, :N), 2, 60, nothing); MDPState(UAVState(1, 25, :N), 2, 60, nothing) MDPState(UAVState(2, 25, :N), 2, 60, nothing) … MDPState(UAVState(24, 25, :N), 2, 60, nothing) MDPState(UAVState(25, 25, :N), 2, 60, nothing);;; MDPState(UAVState(1, 1, :NW), 2, 60, nothing) MDPState(UAVState(2, 1, :NW), 2, 60, nothing) … MDPState(UAVState(24, 1, :NW), 2, 60, nothing) MDPState(UAVState(25, 1, :NW), 2, 60, nothing); MDPState(UAVState(1, 2, :NW), 2, 60, nothing) MDPState(UAVState(2, 2, :NW), 2, 60, nothing) … MDPState(UAVState(24, 2, :NW), 2, 60, nothing) MDPState(UAVState(25, 2, :NW), 2, 60, nothing); … ; MDPState(UAVState(1, 24, :NW), 2, 60, nothing) MDPState(UAVState(2, 24, :NW), 2, 60, nothing) … MDPState(UAVState(24, 24, :NW), 2, 60, nothing) MDPState(UAVState(25, 24, :NW), 2, 60, nothing); MDPState(UAVState(1, 25, :NW), 2, 60, nothing) MDPState(UAVState(2, 25, :NW), 2, 60, nothing) … MDPState(UAVState(24, 25, :NW), 2, 60, nothing) MDPState(UAVState(25, 25, :NW), 2, 60, nothing);;; MDPState(UAVState(1, 1, :W), 2, 60, nothing) MDPState(UAVState(2, 1, :W), 2, 60, nothing) … MDPState(UAVState(24, 1, :W), 2, 60, nothing) MDPState(UAVState(25, 1, :W), 2, 60, nothing); MDPState(UAVState(1, 2, :W), 2, 60, nothing) MDPState(UAVState(2, 2, :W), 2, 60, nothing) … MDPState(UAVState(24, 2, :W), 2, 60, nothing) MDPState(UAVState(25, 2, :W), 2, 60, nothing); … ; MDPState(UAVState(1, 24, :W), 2, 60, nothing) MDPState(UAVState(2, 24, :W), 2, 60, nothing) … MDPState(UAVState(24, 24, :W), 2, 60, nothing) MDPState(UAVState(25, 24, :W), 2, 60, nothing); MDPState(UAVState(1, 25, :W), 2, 60, nothing) MDPState(UAVState(2, 25, :W), 2, 60, nothing) … MDPState(UAVState(24, 25, :W), 2, 60, nothing) MDPState(UAVState(25, 25, :W), 2, 60, nothing);;; MDPState(UAVState(1, 1, :SW), 2, 60, nothing) MDPState(UAVState(2, 1, :SW), 2, 60, nothing) … MDPState(UAVState(24, 1, :SW), 2, 60, nothing) MDPState(UAVState(25, 1, :SW), 2, 60, nothing); MDPState(UAVState(1, 2, :SW), 2, 60, nothing) MDPState(UAVState(2, 2, :SW), 2, 60, nothing) … MDPState(UAVState(24, 2, :SW), 2, 60, nothing) MDPState(UAVState(25, 2, :SW), 2, 60, nothing); … ; MDPState(UAVState(1, 24, :SW), 2, 60, nothing) MDPState(UAVState(2, 24, :SW), 2, 60, nothing) … MDPState(UAVState(24, 24, :SW), 2, 60, nothing) MDPState(UAVState(25, 24, :SW), 2, 60, nothing); MDPState(UAVState(1, 25, :SW), 2, 60, nothing) MDPState(UAVState(2, 25, :SW), 2, 60, nothing) … MDPState(UAVState(24, 25, :SW), 2, 60, nothing) MDPState(UAVState(25, 25, :SW), 2, 60, nothing);;; MDPState(UAVState(1, 1, :S), 2, 60, nothing) MDPState(UAVState(2, 1, :S), 2, 60, nothing) … MDPState(UAVState(24, 1, :S), 2, 60, nothing) MDPState(UAVState(25, 1, :S), 2, 60, nothing); MDPState(UAVState(1, 2, :S), 2, 60, nothing) MDPState(UAVState(2, 2, :S), 2, 60, nothing) … MDPState(UAVState(24, 2, :S), 2, 60, nothing) MDPState(UAVState(25, 2, :S), 2, 60, nothing); … ; MDPState(UAVState(1, 24, :S), 2, 60, nothing) MDPState(UAVState(2, 24, :S), 2, 60, nothing) … MDPState(UAVState(24, 24, :S), 2, 60, nothing) MDPState(UAVState(25, 24, :S), 2, 60, nothing); MDPState(UAVState(1, 25, :S), 2, 60, nothing) MDPState(UAVState(2, 25, :S), 2, 60, nothing) … MDPState(UAVState(24, 25, :S), 2, 60, nothing) MDPState(UAVState(25, 25, :S), 2, 60, nothing);;; MDPState(UAVState(1, 1, :SE), 2, 60, nothing) MDPState(UAVState(2, 1, :SE), 2, 60, nothing) … MDPState(UAVState(24, 1, :SE), 2, 60, nothing) MDPState(UAVState(25, 1, :SE), 2, 60, nothing); MDPState(UAVState(1, 2, :SE), 2, 60, nothing) MDPState(UAVState(2, 2, :SE), 2, 60, nothing) … MDPState(UAVState(24, 2, :SE), 2, 60, nothing) MDPState(UAVState(25, 2, :SE), 2, 60, nothing); … ; MDPState(UAVState(1, 24, :SE), 2, 60, nothing) MDPState(UAVState(2, 24, :SE), 2, 60, nothing) … MDPState(UAVState(24, 24, :SE), 2, 60, nothing) MDPState(UAVState(25, 24, :SE), 2, 60, nothing); MDPState(UAVState(1, 25, :SE), 2, 60, nothing) MDPState(UAVState(2, 25, :SE), 2, 60, nothing) … MDPState(UAVState(24, 25, :SE), 2, 60, nothing) MDPState(UAVState(25, 25, :SE), 2, 60, nothing);;;; MDPState(UAVState(1, 1, :E), 3, 60, nothing) MDPState(UAVState(2, 1, :E), 3, 60, nothing) … MDPState(UAVState(24, 1, :E), 3, 60, nothing) MDPState(UAVState(25, 1, :E), 3, 60, nothing); MDPState(UAVState(1, 2, :E), 3, 60, nothing) MDPState(UAVState(2, 2, :E), 3, 60, nothing) … MDPState(UAVState(24, 2, :E), 3, 60, nothing) MDPState(UAVState(25, 2, :E), 3, 60, nothing); … ; MDPState(UAVState(1, 24, :E), 3, 60, nothing) MDPState(UAVState(2, 24, :E), 3, 60, nothing) … MDPState(UAVState(24, 24, :E), 3, 60, nothing) MDPState(UAVState(25, 24, :E), 3, 60, nothing); MDPState(UAVState(1, 25, :E), 3, 60, nothing) MDPState(UAVState(2, 25, :E), 3, 60, nothing) … MDPState(UAVState(24, 25, :E), 3, 60, nothing) MDPState(UAVState(25, 25, :E), 3, 60, nothing);;; MDPState(UAVState(1, 1, :NE), 3, 60, nothing) MDPState(UAVState(2, 1, :NE), 3, 60, nothing) … MDPState(UAVState(24, 1, :NE), 3, 60, nothing) MDPState(UAVState(25, 1, :NE), 3, 60, nothing); MDPState(UAVState(1, 2, :NE), 3, 60, nothing) MDPState(UAVState(2, 2, :NE), 3, 60, nothing) … MDPState(UAVState(24, 2, :NE), 3, 60, nothing) MDPState(UAVState(25, 2, :NE), 3, 60, nothing); … ; MDPState(UAVState(1, 24, :NE), 3, 60, nothing) MDPState(UAVState(2, 24, :NE), 3, 60, nothing) … MDPState(UAVState(24, 24, :NE), 3, 60, nothing) MDPState(UAVState(25, 24, :NE), 3, 60, nothing); MDPState(UAVState(1, 25, :NE), 3, 60, nothing) MDPState(UAVState(2, 25, :NE), 3, 60, nothing) … MDPState(UAVState(24, 25, :NE), 3, 60, nothing) MDPState(UAVState(25, 25, :NE), 3, 60, nothing);;; MDPState(UAVState(1, 1, :N), 3, 60, nothing) MDPState(UAVState(2, 1, :N), 3, 60, nothing) … MDPState(UAVState(24, 1, :N), 3, 60, nothing) MDPState(UAVState(25, 1, :N), 3, 60, nothing); MDPState(UAVState(1, 2, :N), 3, 60, nothing) MDPState(UAVState(2, 2, :N), 3, 60, nothing) … MDPState(UAVState(24, 2, :N), 3, 60, nothing) MDPState(UAVState(25, 2, :N), 3, 60, nothing); … ; MDPState(UAVState(1, 24, :N), 3, 60, nothing) MDPState(UAVState(2, 24, :N), 3, 60, nothing) … MDPState(UAVState(24, 24, :N), 3, 60, nothing) MDPState(UAVState(25, 24, :N), 3, 60, nothing); MDPState(UAVState(1, 25, :N), 3, 60, nothing) MDPState(UAVState(2, 25, :N), 3, 60, nothing) … MDPState(UAVState(24, 25, :N), 3, 60, nothing) MDPState(UAVState(25, 25, :N), 3, 60, nothing);;; MDPState(UAVState(1, 1, :NW), 3, 60, nothing) MDPState(UAVState(2, 1, :NW), 3, 60, nothing) … MDPState(UAVState(24, 1, :NW), 3, 60, nothing) MDPState(UAVState(25, 1, :NW), 3, 60, nothing); MDPState(UAVState(1, 2, :NW), 3, 60, nothing) MDPState(UAVState(2, 2, :NW), 3, 60, nothing) … MDPState(UAVState(24, 2, :NW), 3, 60, nothing) MDPState(UAVState(25, 2, :NW), 3, 60, nothing); … ; MDPState(UAVState(1, 24, :NW), 3, 60, nothing) MDPState(UAVState(2, 24, :NW), 3, 60, nothing) … MDPState(UAVState(24, 24, :NW), 3, 60, nothing) MDPState(UAVState(25, 24, :NW), 3, 60, nothing); MDPState(UAVState(1, 25, :NW), 3, 60, nothing) MDPState(UAVState(2, 25, :NW), 3, 60, nothing) … MDPState(UAVState(24, 25, :NW), 3, 60, nothing) MDPState(UAVState(25, 25, :NW), 3, 60, nothing);;; MDPState(UAVState(1, 1, :W), 3, 60, nothing) MDPState(UAVState(2, 1, :W), 3, 60, nothing) … MDPState(UAVState(24, 1, :W), 3, 60, nothing) MDPState(UAVState(25, 1, :W), 3, 60, nothing); MDPState(UAVState(1, 2, :W), 3, 60, nothing) MDPState(UAVState(2, 2, :W), 3, 60, nothing) … MDPState(UAVState(24, 2, :W), 3, 60, nothing) MDPState(UAVState(25, 2, :W), 3, 60, nothing); … ; MDPState(UAVState(1, 24, :W), 3, 60, nothing) MDPState(UAVState(2, 24, :W), 3, 60, nothing) … MDPState(UAVState(24, 24, :W), 3, 60, nothing) MDPState(UAVState(25, 24, :W), 3, 60, nothing); MDPState(UAVState(1, 25, :W), 3, 60, nothing) MDPState(UAVState(2, 25, :W), 3, 60, nothing) … MDPState(UAVState(24, 25, :W), 3, 60, nothing) MDPState(UAVState(25, 25, :W), 3, 60, nothing);;; MDPState(UAVState(1, 1, :SW), 3, 60, nothing) MDPState(UAVState(2, 1, :SW), 3, 60, nothing) … MDPState(UAVState(24, 1, :SW), 3, 60, nothing) MDPState(UAVState(25, 1, :SW), 3, 60, nothing); MDPState(UAVState(1, 2, :SW), 3, 60, nothing) MDPState(UAVState(2, 2, :SW), 3, 60, nothing) … MDPState(UAVState(24, 2, :SW), 3, 60, nothing) MDPState(UAVState(25, 2, :SW), 3, 60, nothing); … ; MDPState(UAVState(1, 24, :SW), 3, 60, nothing) MDPState(UAVState(2, 24, :SW), 3, 60, nothing) … MDPState(UAVState(24, 24, :SW), 3, 60, nothing) MDPState(UAVState(25, 24, :SW), 3, 60, nothing); MDPState(UAVState(1, 25, :SW), 3, 60, nothing) MDPState(UAVState(2, 25, :SW), 3, 60, nothing) … MDPState(UAVState(24, 25, :SW), 3, 60, nothing) MDPState(UAVState(25, 25, :SW), 3, 60, nothing);;; MDPState(UAVState(1, 1, :S), 3, 60, nothing) MDPState(UAVState(2, 1, :S), 3, 60, nothing) … MDPState(UAVState(24, 1, :S), 3, 60, nothing) MDPState(UAVState(25, 1, :S), 3, 60, nothing); MDPState(UAVState(1, 2, :S), 3, 60, nothing) MDPState(UAVState(2, 2, :S), 3, 60, nothing) … MDPState(UAVState(24, 2, :S), 3, 60, nothing) MDPState(UAVState(25, 2, :S), 3, 60, nothing); … ; MDPState(UAVState(1, 24, :S), 3, 60, nothing) MDPState(UAVState(2, 24, :S), 3, 60, nothing) … MDPState(UAVState(24, 24, :S), 3, 60, nothing) MDPState(UAVState(25, 24, :S), 3, 60, nothing); MDPState(UAVState(1, 25, :S), 3, 60, nothing) MDPState(UAVState(2, 25, :S), 3, 60, nothing) … MDPState(UAVState(24, 25, :S), 3, 60, nothing) MDPState(UAVState(25, 25, :S), 3, 60, nothing);;; MDPState(UAVState(1, 1, :SE), 3, 60, nothing) MDPState(UAVState(2, 1, :SE), 3, 60, nothing) … MDPState(UAVState(24, 1, :SE), 3, 60, nothing) MDPState(UAVState(25, 1, :SE), 3, 60, nothing); MDPState(UAVState(1, 2, :SE), 3, 60, nothing) MDPState(UAVState(2, 2, :SE), 3, 60, nothing) … MDPState(UAVState(24, 2, :SE), 3, 60, nothing) MDPState(UAVState(25, 2, :SE), 3, 60, nothing); … ; MDPState(UAVState(1, 24, :SE), 3, 60, nothing) MDPState(UAVState(2, 24, :SE), 3, 60, nothing) … MDPState(UAVState(24, 24, :SE), 3, 60, nothing) MDPState(UAVState(25, 24, :SE), 3, 60, nothing); MDPState(UAVState(1, 25, :SE), 3, 60, nothing) MDPState(UAVState(2, 25, :SE), 3, 60, nothing) … MDPState(UAVState(24, 25, :SE), 3, 60, nothing) MDPState(UAVState(25, 25, :SE), 3, 60, nothing);;;; … ;;;; MDPState(UAVState(1, 1, :E), 58, 60, nothing) MDPState(UAVState(2, 1, :E), 58, 60, nothing) … MDPState(UAVState(24, 1, :E), 58, 60, nothing) MDPState(UAVState(25, 1, :E), 58, 60, nothing); MDPState(UAVState(1, 2, :E), 58, 60, nothing) MDPState(UAVState(2, 2, :E), 58, 60, nothing) … MDPState(UAVState(24, 2, :E), 58, 60, nothing) MDPState(UAVState(25, 2, :E), 58, 60, nothing); … ; MDPState(UAVState(1, 24, :E), 58, 60, nothing) MDPState(UAVState(2, 24, :E), 58, 60, nothing) … MDPState(UAVState(24, 24, :E), 58, 60, nothing) MDPState(UAVState(25, 24, :E), 58, 60, nothing); MDPState(UAVState(1, 25, :E), 58, 60, nothing) MDPState(UAVState(2, 25, :E), 58, 60, nothing) … MDPState(UAVState(24, 25, :E), 58, 60, nothing) MDPState(UAVState(25, 25, :E), 58, 60, nothing);;; MDPState(UAVState(1, 1, :NE), 58, 60, nothing) MDPState(UAVState(2, 1, :NE), 58, 60, nothing) … MDPState(UAVState(24, 1, :NE), 58, 60, nothing) MDPState(UAVState(25, 1, :NE), 58, 60, nothing); MDPState(UAVState(1, 2, :NE), 58, 60, nothing) MDPState(UAVState(2, 2, :NE), 58, 60, nothing) … MDPState(UAVState(24, 2, :NE), 58, 60, nothing) MDPState(UAVState(25, 2, :NE), 58, 60, nothing); … ; MDPState(UAVState(1, 24, :NE), 58, 60, nothing) MDPState(UAVState(2, 24, :NE), 58, 60, nothing) … MDPState(UAVState(24, 24, :NE), 58, 60, nothing) MDPState(UAVState(25, 24, :NE), 58, 60, nothing); MDPState(UAVState(1, 25, :NE), 58, 60, nothing) MDPState(UAVState(2, 25, :NE), 58, 60, nothing) … MDPState(UAVState(24, 25, :NE), 58, 60, nothing) MDPState(UAVState(25, 25, :NE), 58, 60, nothing);;; MDPState(UAVState(1, 1, :N), 58, 60, nothing) MDPState(UAVState(2, 1, :N), 58, 60, nothing) … MDPState(UAVState(24, 1, :N), 58, 60, nothing) MDPState(UAVState(25, 1, :N), 58, 60, nothing); MDPState(UAVState(1, 2, :N), 58, 60, nothing) MDPState(UAVState(2, 2, :N), 58, 60, nothing) … MDPState(UAVState(24, 2, :N), 58, 60, nothing) MDPState(UAVState(25, 2, :N), 58, 60, nothing); … ; MDPState(UAVState(1, 24, :N), 58, 60, nothing) MDPState(UAVState(2, 24, :N), 58, 60, nothing) … MDPState(UAVState(24, 24, :N), 58, 60, nothing) MDPState(UAVState(25, 24, :N), 58, 60, nothing); MDPState(UAVState(1, 25, :N), 58, 60, nothing) MDPState(UAVState(2, 25, :N), 58, 60, nothing) … MDPState(UAVState(24, 25, :N), 58, 60, nothing) MDPState(UAVState(25, 25, :N), 58, 60, nothing);;; MDPState(UAVState(1, 1, :NW), 58, 60, nothing) MDPState(UAVState(2, 1, :NW), 58, 60, nothing) … MDPState(UAVState(24, 1, :NW), 58, 60, nothing) MDPState(UAVState(25, 1, :NW), 58, 60, nothing); MDPState(UAVState(1, 2, :NW), 58, 60, nothing) MDPState(UAVState(2, 2, :NW), 58, 60, nothing) … MDPState(UAVState(24, 2, :NW), 58, 60, nothing) MDPState(UAVState(25, 2, :NW), 58, 60, nothing); … ; MDPState(UAVState(1, 24, :NW), 58, 60, nothing) MDPState(UAVState(2, 24, :NW), 58, 60, nothing) … MDPState(UAVState(24, 24, :NW), 58, 60, nothing) MDPState(UAVState(25, 24, :NW), 58, 60, nothing); MDPState(UAVState(1, 25, :NW), 58, 60, nothing) MDPState(UAVState(2, 25, :NW), 58, 60, nothing) … MDPState(UAVState(24, 25, :NW), 58, 60, nothing) MDPState(UAVState(25, 25, :NW), 58, 60, nothing);;; MDPState(UAVState(1, 1, :W), 58, 60, nothing) MDPState(UAVState(2, 1, :W), 58, 60, nothing) … MDPState(UAVState(24, 1, :W), 58, 60, nothing) MDPState(UAVState(25, 1, :W), 58, 60, nothing); MDPState(UAVState(1, 2, :W), 58, 60, nothing) MDPState(UAVState(2, 2, :W), 58, 60, nothing) … MDPState(UAVState(24, 2, :W), 58, 60, nothing) MDPState(UAVState(25, 2, :W), 58, 60, nothing); … ; MDPState(UAVState(1, 24, :W), 58, 60, nothing) MDPState(UAVState(2, 24, :W), 58, 60, nothing) … MDPState(UAVState(24, 24, :W), 58, 60, nothing) MDPState(UAVState(25, 24, :W), 58, 60, nothing); MDPState(UAVState(1, 25, :W), 58, 60, nothing) MDPState(UAVState(2, 25, :W), 58, 60, nothing) … MDPState(UAVState(24, 25, :W), 58, 60, nothing) MDPState(UAVState(25, 25, :W), 58, 60, nothing);;; MDPState(UAVState(1, 1, :SW), 58, 60, nothing) MDPState(UAVState(2, 1, :SW), 58, 60, nothing) … MDPState(UAVState(24, 1, :SW), 58, 60, nothing) MDPState(UAVState(25, 1, :SW), 58, 60, nothing); MDPState(UAVState(1, 2, :SW), 58, 60, nothing) MDPState(UAVState(2, 2, :SW), 58, 60, nothing) … MDPState(UAVState(24, 2, :SW), 58, 60, nothing) MDPState(UAVState(25, 2, :SW), 58, 60, nothing); … ; MDPState(UAVState(1, 24, :SW), 58, 60, nothing) MDPState(UAVState(2, 24, :SW), 58, 60, nothing) … MDPState(UAVState(24, 24, :SW), 58, 60, nothing) MDPState(UAVState(25, 24, :SW), 58, 60, nothing); MDPState(UAVState(1, 25, :SW), 58, 60, nothing) MDPState(UAVState(2, 25, :SW), 58, 60, nothing) … MDPState(UAVState(24, 25, :SW), 58, 60, nothing) MDPState(UAVState(25, 25, :SW), 58, 60, nothing);;; MDPState(UAVState(1, 1, :S), 58, 60, nothing) MDPState(UAVState(2, 1, :S), 58, 60, nothing) … MDPState(UAVState(24, 1, :S), 58, 60, nothing) MDPState(UAVState(25, 1, :S), 58, 60, nothing); MDPState(UAVState(1, 2, :S), 58, 60, nothing) MDPState(UAVState(2, 2, :S), 58, 60, nothing) … MDPState(UAVState(24, 2, :S), 58, 60, nothing) MDPState(UAVState(25, 2, :S), 58, 60, nothing); … ; MDPState(UAVState(1, 24, :S), 58, 60, nothing) MDPState(UAVState(2, 24, :S), 58, 60, nothing) … MDPState(UAVState(24, 24, :S), 58, 60, nothing) MDPState(UAVState(25, 24, :S), 58, 60, nothing); MDPState(UAVState(1, 25, :S), 58, 60, nothing) MDPState(UAVState(2, 25, :S), 58, 60, nothing) … MDPState(UAVState(24, 25, :S), 58, 60, nothing) MDPState(UAVState(25, 25, :S), 58, 60, nothing);;; MDPState(UAVState(1, 1, :SE), 58, 60, nothing) MDPState(UAVState(2, 1, :SE), 58, 60, nothing) … MDPState(UAVState(24, 1, :SE), 58, 60, nothing) MDPState(UAVState(25, 1, :SE), 58, 60, nothing); MDPState(UAVState(1, 2, :SE), 58, 60, nothing) MDPState(UAVState(2, 2, :SE), 58, 60, nothing) … MDPState(UAVState(24, 2, :SE), 58, 60, nothing) MDPState(UAVState(25, 2, :SE), 58, 60, nothing); … ; MDPState(UAVState(1, 24, :SE), 58, 60, nothing) MDPState(UAVState(2, 24, :SE), 58, 60, nothing) … MDPState(UAVState(24, 24, :SE), 58, 60, nothing) MDPState(UAVState(25, 24, :SE), 58, 60, nothing); MDPState(UAVState(1, 25, :SE), 58, 60, nothing) MDPState(UAVState(2, 25, :SE), 58, 60, nothing) … MDPState(UAVState(24, 25, :SE), 58, 60, nothing) MDPState(UAVState(25, 25, :SE), 58, 60, nothing);;;; MDPState(UAVState(1, 1, :E), 59, 60, nothing) MDPState(UAVState(2, 1, :E), 59, 60, nothing) … MDPState(UAVState(24, 1, :E), 59, 60, nothing) MDPState(UAVState(25, 1, :E), 59, 60, nothing); MDPState(UAVState(1, 2, :E), 59, 60, nothing) MDPState(UAVState(2, 2, :E), 59, 60, nothing) … MDPState(UAVState(24, 2, :E), 59, 60, nothing) MDPState(UAVState(25, 2, :E), 59, 60, nothing); … ; MDPState(UAVState(1, 24, :E), 59, 60, nothing) MDPState(UAVState(2, 24, :E), 59, 60, nothing) … MDPState(UAVState(24, 24, :E), 59, 60, nothing) MDPState(UAVState(25, 24, :E), 59, 60, nothing); MDPState(UAVState(1, 25, :E), 59, 60, nothing) MDPState(UAVState(2, 25, :E), 59, 60, nothing) … MDPState(UAVState(24, 25, :E), 59, 60, nothing) MDPState(UAVState(25, 25, :E), 59, 60, nothing);;; MDPState(UAVState(1, 1, :NE), 59, 60, nothing) MDPState(UAVState(2, 1, :NE), 59, 60, nothing) … MDPState(UAVState(24, 1, :NE), 59, 60, nothing) MDPState(UAVState(25, 1, :NE), 59, 60, nothing); MDPState(UAVState(1, 2, :NE), 59, 60, nothing) MDPState(UAVState(2, 2, :NE), 59, 60, nothing) … MDPState(UAVState(24, 2, :NE), 59, 60, nothing) MDPState(UAVState(25, 2, :NE), 59, 60, nothing); … ; MDPState(UAVState(1, 24, :NE), 59, 60, nothing) MDPState(UAVState(2, 24, :NE), 59, 60, nothing) … MDPState(UAVState(24, 24, :NE), 59, 60, nothing) MDPState(UAVState(25, 24, :NE), 59, 60, nothing); MDPState(UAVState(1, 25, :NE), 59, 60, nothing) MDPState(UAVState(2, 25, :NE), 59, 60, nothing) … MDPState(UAVState(24, 25, :NE), 59, 60, nothing) MDPState(UAVState(25, 25, :NE), 59, 60, nothing);;; MDPState(UAVState(1, 1, :N), 59, 60, nothing) MDPState(UAVState(2, 1, :N), 59, 60, nothing) … MDPState(UAVState(24, 1, :N), 59, 60, nothing) MDPState(UAVState(25, 1, :N), 59, 60, nothing); MDPState(UAVState(1, 2, :N), 59, 60, nothing) MDPState(UAVState(2, 2, :N), 59, 60, nothing) … MDPState(UAVState(24, 2, :N), 59, 60, nothing) MDPState(UAVState(25, 2, :N), 59, 60, nothing); … ; MDPState(UAVState(1, 24, :N), 59, 60, nothing) MDPState(UAVState(2, 24, :N), 59, 60, nothing) … MDPState(UAVState(24, 24, :N), 59, 60, nothing) MDPState(UAVState(25, 24, :N), 59, 60, nothing); MDPState(UAVState(1, 25, :N), 59, 60, nothing) MDPState(UAVState(2, 25, :N), 59, 60, nothing) … MDPState(UAVState(24, 25, :N), 59, 60, nothing) MDPState(UAVState(25, 25, :N), 59, 60, nothing);;; MDPState(UAVState(1, 1, :NW), 59, 60, nothing) MDPState(UAVState(2, 1, :NW), 59, 60, nothing) … MDPState(UAVState(24, 1, :NW), 59, 60, nothing) MDPState(UAVState(25, 1, :NW), 59, 60, nothing); MDPState(UAVState(1, 2, :NW), 59, 60, nothing) MDPState(UAVState(2, 2, :NW), 59, 60, nothing) … MDPState(UAVState(24, 2, :NW), 59, 60, nothing) MDPState(UAVState(25, 2, :NW), 59, 60, nothing); … ; MDPState(UAVState(1, 24, :NW), 59, 60, nothing) MDPState(UAVState(2, 24, :NW), 59, 60, nothing) … MDPState(UAVState(24, 24, :NW), 59, 60, nothing) MDPState(UAVState(25, 24, :NW), 59, 60, nothing); MDPState(UAVState(1, 25, :NW), 59, 60, nothing) MDPState(UAVState(2, 25, :NW), 59, 60, nothing) … MDPState(UAVState(24, 25, :NW), 59, 60, nothing) MDPState(UAVState(25, 25, :NW), 59, 60, nothing);;; MDPState(UAVState(1, 1, :W), 59, 60, nothing) MDPState(UAVState(2, 1, :W), 59, 60, nothing) … MDPState(UAVState(24, 1, :W), 59, 60, nothing) MDPState(UAVState(25, 1, :W), 59, 60, nothing); MDPState(UAVState(1, 2, :W), 59, 60, nothing) MDPState(UAVState(2, 2, :W), 59, 60, nothing) … MDPState(UAVState(24, 2, :W), 59, 60, nothing) MDPState(UAVState(25, 2, :W), 59, 60, nothing); … ; MDPState(UAVState(1, 24, :W), 59, 60, nothing) MDPState(UAVState(2, 24, :W), 59, 60, nothing) … MDPState(UAVState(24, 24, :W), 59, 60, nothing) MDPState(UAVState(25, 24, :W), 59, 60, nothing); MDPState(UAVState(1, 25, :W), 59, 60, nothing) MDPState(UAVState(2, 25, :W), 59, 60, nothing) … MDPState(UAVState(24, 25, :W), 59, 60, nothing) MDPState(UAVState(25, 25, :W), 59, 60, nothing);;; MDPState(UAVState(1, 1, :SW), 59, 60, nothing) MDPState(UAVState(2, 1, :SW), 59, 60, nothing) … MDPState(UAVState(24, 1, :SW), 59, 60, nothing) MDPState(UAVState(25, 1, :SW), 59, 60, nothing); MDPState(UAVState(1, 2, :SW), 59, 60, nothing) MDPState(UAVState(2, 2, :SW), 59, 60, nothing) … MDPState(UAVState(24, 2, :SW), 59, 60, nothing) MDPState(UAVState(25, 2, :SW), 59, 60, nothing); … ; MDPState(UAVState(1, 24, :SW), 59, 60, nothing) MDPState(UAVState(2, 24, :SW), 59, 60, nothing) … MDPState(UAVState(24, 24, :SW), 59, 60, nothing) MDPState(UAVState(25, 24, :SW), 59, 60, nothing); MDPState(UAVState(1, 25, :SW), 59, 60, nothing) MDPState(UAVState(2, 25, :SW), 59, 60, nothing) … MDPState(UAVState(24, 25, :SW), 59, 60, nothing) MDPState(UAVState(25, 25, :SW), 59, 60, nothing);;; MDPState(UAVState(1, 1, :S), 59, 60, nothing) MDPState(UAVState(2, 1, :S), 59, 60, nothing) … MDPState(UAVState(24, 1, :S), 59, 60, nothing) MDPState(UAVState(25, 1, :S), 59, 60, nothing); MDPState(UAVState(1, 2, :S), 59, 60, nothing) MDPState(UAVState(2, 2, :S), 59, 60, nothing) … MDPState(UAVState(24, 2, :S), 59, 60, nothing) MDPState(UAVState(25, 2, :S), 59, 60, nothing); … ; MDPState(UAVState(1, 24, :S), 59, 60, nothing) MDPState(UAVState(2, 24, :S), 59, 60, nothing) … MDPState(UAVState(24, 24, :S), 59, 60, nothing) MDPState(UAVState(25, 24, :S), 59, 60, nothing); MDPState(UAVState(1, 25, :S), 59, 60, nothing) MDPState(UAVState(2, 25, :S), 59, 60, nothing) … MDPState(UAVState(24, 25, :S), 59, 60, nothing) MDPState(UAVState(25, 25, :S), 59, 60, nothing);;; MDPState(UAVState(1, 1, :SE), 59, 60, nothing) MDPState(UAVState(2, 1, :SE), 59, 60, nothing) … MDPState(UAVState(24, 1, :SE), 59, 60, nothing) MDPState(UAVState(25, 1, :SE), 59, 60, nothing); MDPState(UAVState(1, 2, :SE), 59, 60, nothing) MDPState(UAVState(2, 2, :SE), 59, 60, nothing) … MDPState(UAVState(24, 2, :SE), 59, 60, nothing) MDPState(UAVState(25, 2, :SE), 59, 60, nothing); … ; MDPState(UAVState(1, 24, :SE), 59, 60, nothing) MDPState(UAVState(2, 24, :SE), 59, 60, nothing) … MDPState(UAVState(24, 24, :SE), 59, 60, nothing) MDPState(UAVState(25, 24, :SE), 59, 60, nothing); MDPState(UAVState(1, 25, :SE), 59, 60, nothing) MDPState(UAVState(2, 25, :SE), 59, 60, nothing) … MDPState(UAVState(24, 25, :SE), 59, 60, nothing) MDPState(UAVState(25, 25, :SE), 59, 60, nothing);;;; MDPState(UAVState(1, 1, :E), 60, 60, nothing) MDPState(UAVState(2, 1, :E), 60, 60, nothing) … MDPState(UAVState(24, 1, :E), 60, 60, nothing) MDPState(UAVState(25, 1, :E), 60, 60, nothing); MDPState(UAVState(1, 2, :E), 60, 60, nothing) MDPState(UAVState(2, 2, :E), 60, 60, nothing) … MDPState(UAVState(24, 2, :E), 60, 60, nothing) MDPState(UAVState(25, 2, :E), 60, 60, nothing); … ; MDPState(UAVState(1, 24, :E), 60, 60, nothing) MDPState(UAVState(2, 24, :E), 60, 60, nothing) … MDPState(UAVState(24, 24, :E), 60, 60, nothing) MDPState(UAVState(25, 24, :E), 60, 60, nothing); MDPState(UAVState(1, 25, :E), 60, 60, nothing) MDPState(UAVState(2, 25, :E), 60, 60, nothing) … MDPState(UAVState(24, 25, :E), 60, 60, nothing) MDPState(UAVState(25, 25, :E), 60, 60, nothing);;; MDPState(UAVState(1, 1, :NE), 60, 60, nothing) MDPState(UAVState(2, 1, :NE), 60, 60, nothing) … MDPState(UAVState(24, 1, :NE), 60, 60, nothing) MDPState(UAVState(25, 1, :NE), 60, 60, nothing); MDPState(UAVState(1, 2, :NE), 60, 60, nothing) MDPState(UAVState(2, 2, :NE), 60, 60, nothing) … MDPState(UAVState(24, 2, :NE), 60, 60, nothing) MDPState(UAVState(25, 2, :NE), 60, 60, nothing); … ; MDPState(UAVState(1, 24, :NE), 60, 60, nothing) MDPState(UAVState(2, 24, :NE), 60, 60, nothing) … MDPState(UAVState(24, 24, :NE), 60, 60, nothing) MDPState(UAVState(25, 24, :NE), 60, 60, nothing); MDPState(UAVState(1, 25, :NE), 60, 60, nothing) MDPState(UAVState(2, 25, :NE), 60, 60, nothing) … MDPState(UAVState(24, 25, :NE), 60, 60, nothing) MDPState(UAVState(25, 25, :NE), 60, 60, nothing);;; MDPState(UAVState(1, 1, :N), 60, 60, nothing) MDPState(UAVState(2, 1, :N), 60, 60, nothing) … MDPState(UAVState(24, 1, :N), 60, 60, nothing) MDPState(UAVState(25, 1, :N), 60, 60, nothing); MDPState(UAVState(1, 2, :N), 60, 60, nothing) MDPState(UAVState(2, 2, :N), 60, 60, nothing) … MDPState(UAVState(24, 2, :N), 60, 60, nothing) MDPState(UAVState(25, 2, :N), 60, 60, nothing); … ; MDPState(UAVState(1, 24, :N), 60, 60, nothing) MDPState(UAVState(2, 24, :N), 60, 60, nothing) … MDPState(UAVState(24, 24, :N), 60, 60, nothing) MDPState(UAVState(25, 24, :N), 60, 60, nothing); MDPState(UAVState(1, 25, :N), 60, 60, nothing) MDPState(UAVState(2, 25, :N), 60, 60, nothing) … MDPState(UAVState(24, 25, :N), 60, 60, nothing) MDPState(UAVState(25, 25, :N), 60, 60, nothing);;; MDPState(UAVState(1, 1, :NW), 60, 60, nothing) MDPState(UAVState(2, 1, :NW), 60, 60, nothing) … MDPState(UAVState(24, 1, :NW), 60, 60, nothing) MDPState(UAVState(25, 1, :NW), 60, 60, nothing); MDPState(UAVState(1, 2, :NW), 60, 60, nothing) MDPState(UAVState(2, 2, :NW), 60, 60, nothing) … MDPState(UAVState(24, 2, :NW), 60, 60, nothing) MDPState(UAVState(25, 2, :NW), 60, 60, nothing); … ; MDPState(UAVState(1, 24, :NW), 60, 60, nothing) MDPState(UAVState(2, 24, :NW), 60, 60, nothing) … MDPState(UAVState(24, 24, :NW), 60, 60, nothing) MDPState(UAVState(25, 24, :NW), 60, 60, nothing); MDPState(UAVState(1, 25, :NW), 60, 60, nothing) MDPState(UAVState(2, 25, :NW), 60, 60, nothing) … MDPState(UAVState(24, 25, :NW), 60, 60, nothing) MDPState(UAVState(25, 25, :NW), 60, 60, nothing);;; MDPState(UAVState(1, 1, :W), 60, 60, nothing) MDPState(UAVState(2, 1, :W), 60, 60, nothing) … MDPState(UAVState(24, 1, :W), 60, 60, nothing) MDPState(UAVState(25, 1, :W), 60, 60, nothing); MDPState(UAVState(1, 2, :W), 60, 60, nothing) MDPState(UAVState(2, 2, :W), 60, 60, nothing) … MDPState(UAVState(24, 2, :W), 60, 60, nothing) MDPState(UAVState(25, 2, :W), 60, 60, nothing); … ; MDPState(UAVState(1, 24, :W), 60, 60, nothing) MDPState(UAVState(2, 24, :W), 60, 60, nothing) … MDPState(UAVState(24, 24, :W), 60, 60, nothing) MDPState(UAVState(25, 24, :W), 60, 60, nothing); MDPState(UAVState(1, 25, :W), 60, 60, nothing) MDPState(UAVState(2, 25, :W), 60, 60, nothing) … MDPState(UAVState(24, 25, :W), 60, 60, nothing) MDPState(UAVState(25, 25, :W), 60, 60, nothing);;; MDPState(UAVState(1, 1, :SW), 60, 60, nothing) MDPState(UAVState(2, 1, :SW), 60, 60, nothing) … MDPState(UAVState(24, 1, :SW), 60, 60, nothing) MDPState(UAVState(25, 1, :SW), 60, 60, nothing); MDPState(UAVState(1, 2, :SW), 60, 60, nothing) MDPState(UAVState(2, 2, :SW), 60, 60, nothing) … MDPState(UAVState(24, 2, :SW), 60, 60, nothing) MDPState(UAVState(25, 2, :SW), 60, 60, nothing); … ; MDPState(UAVState(1, 24, :SW), 60, 60, nothing) MDPState(UAVState(2, 24, :SW), 60, 60, nothing) … MDPState(UAVState(24, 24, :SW), 60, 60, nothing) MDPState(UAVState(25, 24, :SW), 60, 60, nothing); MDPState(UAVState(1, 25, :SW), 60, 60, nothing) MDPState(UAVState(2, 25, :SW), 60, 60, nothing) … MDPState(UAVState(24, 25, :SW), 60, 60, nothing) MDPState(UAVState(25, 25, :SW), 60, 60, nothing);;; MDPState(UAVState(1, 1, :S), 60, 60, nothing) MDPState(UAVState(2, 1, :S), 60, 60, nothing) … MDPState(UAVState(24, 1, :S), 60, 60, nothing) MDPState(UAVState(25, 1, :S), 60, 60, nothing); MDPState(UAVState(1, 2, :S), 60, 60, nothing) MDPState(UAVState(2, 2, :S), 60, 60, nothing) … MDPState(UAVState(24, 2, :S), 60, 60, nothing) MDPState(UAVState(25, 2, :S), 60, 60, nothing); … ; MDPState(UAVState(1, 24, :S), 60, 60, nothing) MDPState(UAVState(2, 24, :S), 60, 60, nothing) … MDPState(UAVState(24, 24, :S), 60, 60, nothing) MDPState(UAVState(25, 24, :S), 60, 60, nothing); MDPState(UAVState(1, 25, :S), 60, 60, nothing) MDPState(UAVState(2, 25, :S), 60, 60, nothing) … MDPState(UAVState(24, 25, :S), 60, 60, nothing) MDPState(UAVState(25, 25, :S), 60, 60, nothing);;; MDPState(UAVState(1, 1, :SE), 60, 60, nothing) MDPState(UAVState(2, 1, :SE), 60, 60, nothing) … MDPState(UAVState(24, 1, :SE), 60, 60, nothing) MDPState(UAVState(25, 1, :SE), 60, 60, nothing); MDPState(UAVState(1, 2, :SE), 60, 60, nothing) MDPState(UAVState(2, 2, :SE), 60, 60, nothing) … MDPState(UAVState(24, 2, :SE), 60, 60, nothing) MDPState(UAVState(25, 2, :SE), 60, 60, nothing); … ; MDPState(UAVState(1, 24, :SE), 60, 60, nothing) MDPState(UAVState(2, 24, :SE), 60, 60, nothing) … MDPState(UAVState(24, 24, :SE), 60, 60, nothing) MDPState(UAVState(25, 24, :SE), 60, 60, nothing); MDPState(UAVState(1, 25, :SE), 60, 60, nothing) MDPState(UAVState(2, 25, :SE), 60, 60, nothing) … MDPState(UAVState(24, 25, :SE), 60, 60, nothing) MDPState(UAVState(25, 25, :SE), 60, 60, nothing)]), ViewConeSensor(1.5707963267948966, 3.0), 60, Target[Target(22.0, 22.0, 0.0, 1.0, Face[Face([0.5000000000000001, 0.8660254037844386], [0.5000000000000001, 0.8660254037844386], 0.1, 1.0), Face([-0.4999999999999998, 0.8660254037844387], [-0.4999999999999998, 0.8660254037844387], 0.1, 1.0), Face([-1.0, 1.2246467991473532e-16], [-1.0, 1.2246467991473532e-16], 0.1, 1.0), Face([-0.5000000000000004, -0.8660254037844385], [-0.5000000000000004, -0.8660254037844385], 0.1, 1.0), Face([0.49999999999999933, -0.866025403784439], [0.49999999999999933, -0.866025403784439], 0.1, 1.0), Face([1.0, -2.4492935982947064e-16], [1.0, -2.4492935982947064e-16], 0.1, 1.0)], 0x00000001, 0x00000000) Target(21.0, 23.0, 0.0, 1.0, Face[Face([0.5000000000000001, 0.8660254037844386], [0.5000000000000001, 0.8660254037844386], 0.1, 1.0), Face([-0.4999999999999998, 0.8660254037844387], [-0.4999999999999998, 0.8660254037844387], 0.1, 1.0), Face([-1.0, 1.2246467991473532e-16], [-1.0, 1.2246467991473532e-16], 0.1, 1.0), Face([-0.5000000000000004, -0.8660254037844385], [-0.5000000000000004, -0.8660254037844385], 0.1, 1.0), Face([0.49999999999999933, -0.866025403784439], [0.49999999999999933, -0.866025403784439], 0.1, 1.0), Face([1.0, -2.4492935982947064e-16], [1.0, -2.4492935982947064e-16], 0.1, 1.0)], 0x00000002, 0x00000000) Target(20.0, 22.0, 0.0, 1.0, Face[Face([0.5000000000000001, 0.8660254037844386], [0.5000000000000001, 0.8660254037844386], 0.1, 1.0), Face([-0.4999999999999998, 0.8660254037844387], [-0.4999999999999998, 0.8660254037844387], 0.1, 1.0), Face([-1.0, 1.2246467991473532e-16], [-1.0, 1.2246467991473532e-16], 0.1, 1.0), Face([-0.5000000000000004, -0.8660254037844385], [-0.5000000000000004, -0.8660254037844385], 0.1, 1.0), Face([0.49999999999999933, -0.866025403784439], [0.49999999999999933, -0.866025403784439], 0.1, 1.0), Face([1.0, -2.4492935982947064e-16], [1.0, -2.4492935982947064e-16], 0.1, 1.0)], 0x00000003, 0x00000000); Target(22.0, 22.0, 0.0, 1.0, Face[Face([0.5000000000000001, 0.8660254037844386], [0.5000000000000001, 0.8660254037844386], 0.1, 1.0), Face([-0.4999999999999998, 0.8660254037844387], [-0.4999999999999998, 0.8660254037844387], 0.1, 1.0), Face([-1.0, 1.2246467991473532e-16], [-1.0, 1.2246467991473532e-16], 0.1, 1.0), Face([-0.5000000000000004, -0.8660254037844385], [-0.5000000000000004, -0.8660254037844385], 0.1, 1.0), Face([0.49999999999999933, -0.866025403784439], [0.49999999999999933, -0.866025403784439], 0.1, 1.0), Face([1.0, -2.4492935982947064e-16], [1.0, -2.4492935982947064e-16], 0.1, 1.0)], 0x00000001, 0x00000000) Target(21.0, 22.0, 0.0, 1.0, Face[Face([0.5000000000000001, 0.8660254037844386], [0.5000000000000001, 0.8660254037844386], 0.1, 1.0), Face([-0.4999999999999998, 0.8660254037844387], [-0.4999999999999998, 0.8660254037844387], 0.1, 1.0), Face([-1.0, 1.2246467991473532e-16], [-1.0, 1.2246467991473532e-16], 0.1, 1.0), Face([-0.5000000000000004, -0.8660254037844385], [-0.5000000000000004, -0.8660254037844385], 0.1, 1.0), Face([0.49999999999999933, -0.866025403784439], [0.49999999999999933, -0.866025403784439], 0.1, 1.0), Face([1.0, -2.4492935982947064e-16], [1.0, -2.4492935982947064e-16], 0.1, 1.0)], 0x00000002, 0x00000000) Target(20.0, 21.0, 0.0, 1.0, Face[Face([0.5000000000000001, 0.8660254037844386], [0.5000000000000001, 0.8660254037844386], 0.1, 1.0), Face([-0.4999999999999998, 0.8660254037844387], [-0.4999999999999998, 0.8660254037844387], 0.1, 1.0), Face([-1.0, 1.2246467991473532e-16], [-1.0, 1.2246467991473532e-16], 0.1, 1.0), Face([-0.5000000000000004, -0.8660254037844385], [-0.5000000000000004, -0.8660254037844385], 0.1, 1.0), Face([0.49999999999999933, -0.866025403784439], [0.49999999999999933, -0.866025403784439], 0.1, 1.0), Face([1.0, -2.4492935982947064e-16], [1.0, -2.4492935982947064e-16], 0.1, 1.0)], 0x00000003, 0x00000000); … ; Target(22.0, 22.0, 0.0, 1.0, Face[Face([0.5000000000000001, 0.8660254037844386], [0.5000000000000001, 0.8660254037844386], 0.1, 1.0), Face([-0.4999999999999998, 0.8660254037844387], [-0.4999999999999998, 0.8660254037844387], 0.1, 1.0), Face([-1.0, 1.2246467991473532e-16], [-1.0, 1.2246467991473532e-16], 0.1, 1.0), Face([-0.5000000000000004, -0.8660254037844385], [-0.5000000000000004, -0.8660254037844385], 0.1, 1.0), Face([0.49999999999999933, -0.866025403784439], [0.49999999999999933, -0.866025403784439], 0.1, 1.0), Face([1.0, -2.4492935982947064e-16], [1.0, -2.4492935982947064e-16], 0.1, 1.0)], 0x00000073, 0x00000000) Target(21.0, -35.0, 0.0, 1.0, Face[Face([0.5000000000000001, 0.8660254037844386], [0.5000000000000001, 0.8660254037844386], 0.1, 1.0), Face([-0.4999999999999998, 0.8660254037844387], [-0.4999999999999998, 0.8660254037844387], 0.1, 1.0), Face([-1.0, 1.2246467991473532e-16], [-1.0, 1.2246467991473532e-16], 0.1, 1.0), Face([-0.5000000000000004, -0.8660254037844385], [-0.5000000000000004, -0.8660254037844385], 0.1, 1.0), Face([0.49999999999999933, -0.866025403784439], [0.49999999999999933, -0.866025403784439], 0.1, 1.0), Face([1.0, -2.4492935982947064e-16], [1.0, -2.4492935982947064e-16], 0.1, 1.0)], 0x00000074, 0x00000000) Target(20.0, -36.0, 0.0, 1.0, Face[Face([0.5000000000000001, 0.8660254037844386], [0.5000000000000001, 0.8660254037844386], 0.1, 1.0), Face([-0.4999999999999998, 0.8660254037844387], [-0.4999999999999998, 0.8660254037844387], 0.1, 1.0), Face([-1.0, 1.2246467991473532e-16], [-1.0, 1.2246467991473532e-16], 0.1, 1.0), Face([-0.5000000000000004, -0.8660254037844385], [-0.5000000000000004, -0.8660254037844385], 0.1, 1.0), Face([0.49999999999999933, -0.866025403784439], [0.49999999999999933, -0.866025403784439], 0.1, 1.0), Face([1.0, -2.4492935982947064e-16], [1.0, -2.4492935982947064e-16], 0.1, 1.0)], 0x00000075, 0x00000000); Target(22.0, 22.0, 0.0, 1.0, Face[Face([0.5000000000000001, 0.8660254037844386], [0.5000000000000001, 0.8660254037844386], 0.1, 1.0), Face([-0.4999999999999998, 0.8660254037844387], [-0.4999999999999998, 0.8660254037844387], 0.1, 1.0), Face([-1.0, 1.2246467991473532e-16], [-1.0, 1.2246467991473532e-16], 0.1, 1.0), Face([-0.5000000000000004, -0.8660254037844385], [-0.5000000000000004, -0.8660254037844385], 0.1, 1.0), Face([0.49999999999999933, -0.866025403784439], [0.49999999999999933, -0.866025403784439], 0.1, 1.0), Face([1.0, -2.4492935982947064e-16], [1.0, -2.4492935982947064e-16], 0.1, 1.0)], 0x00000075, 0x00000000) Target(21.0, -36.0, 0.0, 1.0, Face[Face([0.5000000000000001, 0.8660254037844386], [0.5000000000000001, 0.8660254037844386], 0.1, 1.0), Face([-0.4999999999999998, 0.8660254037844387], [-0.4999999999999998, 0.8660254037844387], 0.1, 1.0), Face([-1.0, 1.2246467991473532e-16], [-1.0, 1.2246467991473532e-16], 0.1, 1.0), Face([-0.5000000000000004, -0.8660254037844385], [-0.5000000000000004, -0.8660254037844385], 0.1, 1.0), Face([0.49999999999999933, -0.866025403784439], [0.49999999999999933, -0.866025403784439], 0.1, 1.0), Face([1.0, -2.4492935982947064e-16], [1.0, -2.4492935982947064e-16], 0.1, 1.0)], 0x00000076, 0x00000000) Target(20.0, -37.0, 0.0, 1.0, Face[Face([0.5000000000000001, 0.8660254037844386], [0.5000000000000001, 0.8660254037844386], 0.1, 1.0), Face([-0.4999999999999998, 0.8660254037844387], [-0.4999999999999998, 0.8660254037844387], 0.1, 1.0), Face([-1.0, 1.2246467991473532e-16], [-1.0, 1.2246467991473532e-16], 0.1, 1.0), Face([-0.5000000000000004, -0.8660254037844385], [-0.5000000000000004, -0.8660254037844385], 0.1, 1.0), Face([0.49999999999999933, -0.866025403784439], [0.49999999999999933, -0.866025403784439], 0.1, 1.0), Face([1.0, -2.4492935982947064e-16], [1.0, -2.4492935982947064e-16], 0.1, 1.0)], 0x00000077, 0x00000000)], 3, Tuple{Target, Float64}[(Target(22.0, 22.0, 0.0, 1.0, Face[Face([0.5000000000000001, 0.8660254037844386], [0.5000000000000001, 0.8660254037844386], 0.1, 1.0), Face([-0.4999999999999998, 0.8660254037844387], [-0.4999999999999998, 0.8660254037844387], 0.1, 1.0), Face([-1.0, 1.2246467991473532e-16], [-1.0, 1.2246467991473532e-16], 0.1, 1.0), Face([-0.5000000000000004, -0.8660254037844385], [-0.5000000000000004, -0.8660254037844385], 0.1, 1.0), Face([0.49999999999999933, -0.866025403784439], [0.49999999999999933, -0.866025403784439], 0.1, 1.0), Face([1.0, -2.4492935982947064e-16], [1.0, -2.4492935982947064e-16], 0.1, 1.0)], 0x00000001, 0x00000000), 0.0) (Target(21.0, 23.0, 0.0, 1.0, Face[Face([0.5000000000000001, 0.8660254037844386], [0.5000000000000001, 0.8660254037844386], 0.1, 1.0), Face([-0.4999999999999998, 0.8660254037844387], [-0.4999999999999998, 0.8660254037844387], 0.1, 1.0), Face([-1.0, 1.2246467991473532e-16], [-1.0, 1.2246467991473532e-16], 0.1, 1.0), Face([-0.5000000000000004, -0.8660254037844385], [-0.5000000000000004, -0.8660254037844385], 0.1, 1.0), Face([0.49999999999999933, -0.866025403784439], [0.49999999999999933, -0.866025403784439], 0.1, 1.0), Face([1.0, -2.4492935982947064e-16], [1.0, -2.4492935982947064e-16], 0.1, 1.0)], 0x00000002, 0x00000000), 0.0) (Target(20.0, 22.0, 0.0, 1.0, Face[Face([0.5000000000000001, 0.8660254037844386], [0.5000000000000001, 0.8660254037844386], 0.1, 1.0), Face([-0.4999999999999998, 0.8660254037844387], [-0.4999999999999998, 0.8660254037844387], 0.1, 1.0), Face([-1.0, 1.2246467991473532e-16], [-1.0, 1.2246467991473532e-16], 0.1, 1.0), Face([-0.5000000000000004, -0.8660254037844385], [-0.5000000000000004, -0.8660254037844385], 0.1, 1.0), Face([0.49999999999999933, -0.866025403784439], [0.49999999999999933, -0.866025403784439], 0.1, 1.0), Face([1.0, -2.4492935982947064e-16], [1.0, -2.4492935982947064e-16], 0.1, 1.0)], 0x00000003, 0x00000000), 0.0); (Target(22.0, 22.0, 0.0, 1.0, Face[Face([0.5000000000000001, 0.8660254037844386], [0.5000000000000001, 0.8660254037844386], 0.1, 1.0), Face([-0.4999999999999998, 0.8660254037844387], [-0.4999999999999998, 0.8660254037844387], 0.1, 1.0), Face([-1.0, 1.2246467991473532e-16], [-1.0, 1.2246467991473532e-16], 0.1, 1.0), Face([-0.5000000000000004, -0.8660254037844385], [-0.5000000000000004, -0.8660254037844385], 0.1, 1.0), Face([0.49999999999999933, -0.866025403784439], [0.49999999999999933, -0.866025403784439], 0.1, 1.0), Face([1.0, -2.4492935982947064e-16], [1.0, -2.4492935982947064e-16], 0.1, 1.0)], 0x00000001, 0x00000000), 0.0) (Target(21.0, 22.0, 0.0, 1.0, Face[Face([0.5000000000000001, 0.8660254037844386], [0.5000000000000001, 0.8660254037844386], 0.1, 1.0), Face([-0.4999999999999998, 0.8660254037844387], [-0.4999999999999998, 0.8660254037844387], 0.1, 1.0), Face([-1.0, 1.2246467991473532e-16], [-1.0, 1.2246467991473532e-16], 0.1, 1.0), Face([-0.5000000000000004, -0.8660254037844385], [-0.5000000000000004, -0.8660254037844385], 0.1, 1.0), Face([0.49999999999999933, -0.866025403784439], [0.49999999999999933, -0.866025403784439], 0.1, 1.0), Face([1.0, -2.4492935982947064e-16], [1.0, -2.4492935982947064e-16], 0.1, 1.0)], 0x00000002, 0x00000000), 0.0) (Target(20.0, 21.0, 0.0, 1.0, Face[Face([0.5000000000000001, 0.8660254037844386], [0.5000000000000001, 0.8660254037844386], 0.1, 1.0), Face([-0.4999999999999998, 0.8660254037844387], [-0.4999999999999998, 0.8660254037844387], 0.1, 1.0), Face([-1.0, 1.2246467991473532e-16], [-1.0, 1.2246467991473532e-16], 0.1, 1.0), Face([-0.5000000000000004, -0.8660254037844385], [-0.5000000000000004, -0.8660254037844385], 0.1, 1.0), Face([0.49999999999999933, -0.866025403784439], [0.49999999999999933, -0.866025403784439], 0.1, 1.0), Face([1.0, -2.4492935982947064e-16], [1.0, -2.4492935982947064e-16], 0.1, 1.0)], 0x00000003, 0x00000000), 0.0); … ; (Target(22.0, 22.0, 0.0, 1.0, Face[Face([0.5000000000000001, 0.8660254037844386], [0.5000000000000001, 0.8660254037844386], 0.1, 1.0), Face([-0.4999999999999998, 0.8660254037844387], [-0.4999999999999998, 0.8660254037844387], 0.1, 1.0), Face([-1.0, 1.2246467991473532e-16], [-1.0, 1.2246467991473532e-16], 0.1, 1.0), Face([-0.5000000000000004, -0.8660254037844385], [-0.5000000000000004, -0.8660254037844385], 0.1, 1.0), Face([0.49999999999999933, -0.866025403784439], [0.49999999999999933, -0.866025403784439], 0.1, 1.0), Face([1.0, -2.4492935982947064e-16], [1.0, -2.4492935982947064e-16], 0.1, 1.0)], 0x00000073, 0x00000000), 0.0) (Target(21.0, -35.0, 0.0, 1.0, Face[Face([0.5000000000000001, 0.8660254037844386], [0.5000000000000001, 0.8660254037844386], 0.1, 1.0), Face([-0.4999999999999998, 0.8660254037844387], [-0.4999999999999998, 0.8660254037844387], 0.1, 1.0), Face([-1.0, 1.2246467991473532e-16], [-1.0, 1.2246467991473532e-16], 0.1, 1.0), Face([-0.5000000000000004, -0.8660254037844385], [-0.5000000000000004, -0.8660254037844385], 0.1, 1.0), Face([0.49999999999999933, -0.866025403784439], [0.49999999999999933, -0.866025403784439], 0.1, 1.0), Face([1.0, -2.4492935982947064e-16], [1.0, -2.4492935982947064e-16], 0.1, 1.0)], 0x00000074, 0x00000000), 0.0) (Target(20.0, -36.0, 0.0, 1.0, Face[Face([0.5000000000000001, 0.8660254037844386], [0.5000000000000001, 0.8660254037844386], 0.1, 1.0), Face([-0.4999999999999998, 0.8660254037844387], [-0.4999999999999998, 0.8660254037844387], 0.1, 1.0), Face([-1.0, 1.2246467991473532e-16], [-1.0, 1.2246467991473532e-16], 0.1, 1.0), Face([-0.5000000000000004, -0.8660254037844385], [-0.5000000000000004, -0.8660254037844385], 0.1, 1.0), Face([0.49999999999999933, -0.866025403784439], [0.49999999999999933, -0.866025403784439], 0.1, 1.0), Face([1.0, -2.4492935982947064e-16], [1.0, -2.4492935982947064e-16], 0.1, 1.0)], 0x00000075, 0x00000000), 0.0); (Target(22.0, 22.0, 0.0, 1.0, Face[Face([0.5000000000000001, 0.8660254037844386], [0.5000000000000001, 0.8660254037844386], 0.1, 1.0), Face([-0.4999999999999998, 0.8660254037844387], [-0.4999999999999998, 0.8660254037844387], 0.1, 1.0), Face([-1.0, 1.2246467991473532e-16], [-1.0, 1.2246467991473532e-16], 0.1, 1.0), Face([-0.5000000000000004, -0.8660254037844385], [-0.5000000000000004, -0.8660254037844385], 0.1, 1.0), Face([0.49999999999999933, -0.866025403784439], [0.49999999999999933, -0.866025403784439], 0.1, 1.0), Face([1.0, -2.4492935982947064e-16], [1.0, -2.4492935982947064e-16], 0.1, 1.0)], 0x00000075, 0x00000000), 0.0) (Target(21.0, -36.0, 0.0, 1.0, Face[Face([0.5000000000000001, 0.8660254037844386], [0.5000000000000001, 0.8660254037844386], 0.1, 1.0), Face([-0.4999999999999998, 0.8660254037844387], [-0.4999999999999998, 0.8660254037844387], 0.1, 1.0), Face([-1.0, 1.2246467991473532e-16], [-1.0, 1.2246467991473532e-16], 0.1, 1.0), Face([-0.5000000000000004, -0.8660254037844385], [-0.5000000000000004, -0.8660254037844385], 0.1, 1.0), Face([0.49999999999999933, -0.866025403784439], [0.49999999999999933, -0.866025403784439], 0.1, 1.0), Face([1.0, -2.4492935982947064e-16], [1.0, -2.4492935982947064e-16], 0.1, 1.0)], 0x00000076, 0x00000000), 0.0) (Target(20.0, -37.0, 0.0, 1.0, Face[Face([0.5000000000000001, 0.8660254037844386], [0.5000000000000001, 0.8660254037844386], 0.1, 1.0), Face([-0.4999999999999998, 0.8660254037844387], [-0.4999999999999998, 0.8660254037844387], 0.1, 1.0), Face([-1.0, 1.2246467991473532e-16], [-1.0, 1.2246467991473532e-16], 0.1, 1.0), Face([-0.5000000000000004, -0.8660254037844385], [-0.5000000000000004, -0.8660254037844385], 0.1, 1.0), Face([0.49999999999999933, -0.866025403784439], [0.49999999999999933, -0.866025403784439], 0.1, 1.0), Face([1.0, -2.4492935982947064e-16], [1.0, -2.4492935982947064e-16], 0.1, 1.0)], 0x00000077, 0x00000000), 0.0)], MDPState(UAVState(1, 1, :S), 1, 60, nothing))"
      ]
     },
     "execution_count": 3,
     "metadata": {},
     "output_type": "execute_result"
    }
   ],
   "source": [
    "# Set model parameters\n",
    "sensor = ViewConeSensor(pi/2, 3);\n",
    "horizon = 60\n",
    "grid = MDMA_Grid(25,25, horizon);\n",
    "\n",
    "# Setup initial distribution of targets\n",
    "targets = Vector{Target}(undef, 0);\n",
    "push!(targets, Target(grid.width-3,grid.height-3,0,1));\n",
    "push!(targets, Target(grid.width-4,grid.height-2,0,2));\n",
    "push!(targets, Target(grid.width-5,grid.height-3,0,3));\n",
    "initial_state = MDPState(UAVState(1, 1, :S), horizon)\n",
    "num_robots = 1\n",
    "\n",
    "target_trajectories = MDMA.generate_target_trajectories(grid, horizon, targets);\n",
    "\n",
    "move_dist = 3;\n",
    "multi_problem = MultiRobotTargetCoverageProblem(Vector{MDPState}([initial_state]), target_trajectories, grid=grid, sensor=sensor, horizon=horizon, move_dist=move_dist, solver_iterations=100,belres=0.01)\n",
    "coverage = generate_empty_coverage_data(multi_problem)\n",
    "model = MDMA.SingleRobotMultiTargetViewCoverageProblem(grid, sensor, horizon, target_trajectories, move_dist, coverage, initial_state)"
   ]
  },
  {
   "cell_type": "code",
   "execution_count": 11,
   "metadata": {
    "scrolled": false
   },
   "outputs": [
    {
     "name": "stdout",
     "output_type": "stream",
     "text": [
      "[Iteration 1   ] residual:         10 | iteration runtime:  82295.730 ms, (      82.3 s total)\n",
      "[Iteration 2   ] residual:          0 | iteration runtime:  83420.867 ms, (       166 s total)\n"
     ]
    },
    {
     "data": {
      "text/plain": [
       "ValueIterationPolicy:\n",
       " MDPState(UAVState(1, 1, :E), 1, 60, nothing) -> MDPState(UAVState(3, 1, :NE), 2, 60, nothing)\n",
       " MDPState(UAVState(1, 2, :E), 1, 60, nothing) -> MDPState(UAVState(3, 1, :NE), 2, 60, nothing)\n",
       " MDPState(UAVState(1, 3, :E), 1, 60, nothing) -> MDPState(UAVState(3, 1, :NE), 2, 60, nothing)\n",
       " MDPState(UAVState(1, 4, :E), 1, 60, nothing) -> MDPState(UAVState(3, 2, :NE), 2, 60, nothing)\n",
       " MDPState(UAVState(1, 5, :E), 1, 60, nothing) -> MDPState(UAVState(3, 3, :NE), 2, 60, nothing)\n",
       " MDPState(UAVState(1, 6, :E), 1, 60, nothing) -> MDPState(UAVState(3, 4, :NE), 2, 60, nothing)\n",
       " MDPState(UAVState(1, 7, :E), 1, 60, nothing) -> MDPState(UAVState(3, 5, :NE), 2, 60, nothing)\n",
       " MDPState(UAVState(1, 8, :E), 1, 60, nothing) -> MDPState(UAVState(3, 6, :NE), 2, 60, nothing)\n",
       " MDPState(UAVState(1, 9, :E), 1, 60, nothing) -> MDPState(UAVState(3, 7, :NE), 2, 60, nothing)\n",
       " MDPState(UAVState(1, 10, :E), 1, 60, nothing) -> MDPState(UAVState(3, 8, :NE), 2, 60, nothing)\n",
       " MDPState(UAVState(1, 11, :E), 1, 60, nothing) -> MDPState(UAVState(3, 9, :NE), 2, 60, nothing)\n",
       " MDPState(UAVState(1, 12, :E), 1, 60, nothing) -> MDPState(UAVState(3, 10, :NE), 2, 60, nothing)\n",
       " MDPState(UAVState(1, 13, :E), 1, 60, nothing) -> MDPState(UAVState(3, 11, :NE), 2, 60, nothing)\n",
       " MDPState(UAVState(1, 14, :E), 1, 60, nothing) -> MDPState(UAVState(3, 12, :NE), 2, 60, nothing)\n",
       " MDPState(UAVState(1, 15, :E), 1, 60, nothing) -> MDPState(UAVState(3, 13, :NE), 2, 60, nothing)\n",
       " MDPState(UAVState(1, 16, :E), 1, 60, nothing) -> MDPState(UAVState(3, 14, :NE), 2, 60, nothing)\n",
       " MDPState(UAVState(1, 17, :E), 1, 60, nothing) -> MDPState(UAVState(3, 15, :NE), 2, 60, nothing)\n",
       " MDPState(UAVState(1, 18, :E), 1, 60, nothing) -> MDPState(UAVState(3, 16, :NE), 2, 60, nothing)\n",
       " MDPState(UAVState(1, 19, :E), 1, 60, nothing) -> MDPState(UAVState(3, 17, :NE), 2, 60, nothing)\n",
       " MDPState(UAVState(1, 20, :E), 1, 60, nothing) -> MDPState(UAVState(3, 18, :NE), 2, 60, nothing)\n",
       " MDPState(UAVState(1, 21, :E), 1, 60, nothing) -> MDPState(UAVState(3, 19, :NE), 2, 60, nothing)\n",
       " MDPState(UAVState(1, 22, :E), 1, 60, nothing) -> MDPState(UAVState(3, 20, :NE), 2, 60, nothing)\n",
       " MDPState(UAVState(1, 23, :E), 1, 60, nothing) -> MDPState(UAVState(3, 21, :NE), 2, 60, nothing)\n",
       " MDPState(UAVState(1, 24, :E), 1, 60, nothing) -> MDPState(UAVState(3, 22, :NE), 2, 60, nothing)\n",
       " MDPState(UAVState(1, 25, :E), 1, 60, nothing) -> MDPState(UAVState(3, 23, :NE), 2, 60, nothing)\n",
       " …"
      ]
     },
     "execution_count": 11,
     "metadata": {},
     "output_type": "execute_result"
    }
   ],
   "source": [
    "policy = MDMA.solve_single_robot(model)\n"
   ]
  },
  {
   "cell_type": "code",
   "execution_count": 12,
   "metadata": {},
   "outputs": [
    {
     "data": {
      "text/plain": [
       "60-element Vector{MDPState}:\n",
       " MDPState(UAVState(1, 1, :N), 1, 60, nothing)\n",
       " MDPState(UAVState(3, 1, :NW), 2, 60, nothing)\n",
       " MDPState(UAVState(5, 2, :W), 3, 60, nothing)\n",
       " MDPState(UAVState(7, 4, :SW), 4, 60, nothing)\n",
       " MDPState(UAVState(9, 6, :S), 5, 60, nothing)\n",
       " MDPState(UAVState(11, 8, :SE), 6, 60, nothing)\n",
       " MDPState(UAVState(13, 10, :E), 7, 60, nothing)\n",
       " MDPState(UAVState(15, 12, :NE), 8, 60, nothing)\n",
       " MDPState(UAVState(17, 14, :E), 9, 60, nothing)\n",
       " MDPState(UAVState(17, 13, :NE), 10, 60, nothing)\n",
       " MDPState(UAVState(17, 12, :E), 11, 60, nothing)\n",
       " MDPState(UAVState(17, 11, :NE), 12, 60, nothing)\n",
       " MDPState(UAVState(17, 10, :E), 13, 60, nothing)\n",
       " ⋮\n",
       " MDPState(UAVState(19, 22, :E), 49, 60, nothing)\n",
       " MDPState(UAVState(19, 22, :NE), 50, 60, nothing)\n",
       " MDPState(UAVState(19, 22, :E), 51, 60, nothing)\n",
       " MDPState(UAVState(19, 22, :NE), 52, 60, nothing)\n",
       " MDPState(UAVState(19, 22, :E), 53, 60, nothing)\n",
       " MDPState(UAVState(19, 22, :NE), 54, 60, nothing)\n",
       " MDPState(UAVState(19, 22, :E), 55, 60, nothing)\n",
       " MDPState(UAVState(19, 22, :NE), 56, 60, nothing)\n",
       " MDPState(UAVState(19, 22, :E), 57, 60, nothing)\n",
       " MDPState(UAVState(19, 22, :NE), 58, 60, nothing)\n",
       " MDPState(UAVState(19, 22, :E), 59, 60, nothing)\n",
       " MDPState(UAVState(19, 22, :NE), 60, 60, nothing)"
      ]
     },
     "execution_count": 12,
     "metadata": {},
     "output_type": "execute_result"
    }
   ],
   "source": [
    "\n",
    "path = compute_path(model, policy, MDPState(UAVState(1,1,:N), model.horizon))"
   ]
  },
  {
   "cell_type": "code",
   "execution_count": 13,
   "metadata": {},
   "outputs": [
    {
     "name": "stdout",
     "output_type": "stream",
     "text": [
      "Writing to output/01.png\n",
      "Writing to output/02.png\n",
      "Writing to output/03.png\n",
      "Writing to output/04.png\n",
      "Writing to output/05.png\n",
      "Writing to output/06.png\n",
      "Writing to output/07.png\n",
      "Writing to output/08.png\n",
      "Writing to output/09.png\n",
      "Writing to output/10.png\n",
      "Writing to output/11.png\n",
      "Writing to output/12.png\n",
      "Writing to output/13.png\n",
      "Writing to output/14.png\n",
      "Writing to output/15.png\n",
      "Writing to output/16.png\n",
      "Writing to output/17.png\n",
      "Writing to output/18.png\n",
      "Writing to output/19.png\n",
      "Writing to output/20.png\n",
      "Writing to output/21.png\n",
      "Writing to output/22.png\n",
      "Writing to output/23.png\n",
      "Writing to output/24.png\n",
      "Writing to output/25.png\n",
      "Writing to output/26.png\n",
      "Writing to output/27.png\n",
      "Writing to output/28.png\n",
      "Writing to output/29.png\n",
      "Writing to output/30.png\n",
      "Writing to output/31.png\n",
      "Writing to output/32.png\n",
      "Writing to output/33.png\n",
      "Writing to output/34.png\n",
      "Writing to output/35.png\n",
      "Writing to output/36.png\n",
      "Writing to output/37.png\n",
      "Writing to output/38.png\n",
      "Writing to output/39.png\n",
      "Writing to output/40.png\n",
      "Writing to output/41.png\n",
      "Writing to output/42.png\n",
      "Writing to output/43.png\n",
      "Writing to output/44.png\n",
      "Writing to output/45.png\n",
      "Writing to output/46.png\n",
      "Writing to output/47.png\n",
      "Writing to output/48.png\n",
      "Writing to output/49.png\n",
      "Writing to output/50.png\n",
      "Writing to output/51.png\n",
      "Writing to output/52.png\n",
      "Writing to output/53.png\n",
      "Writing to output/54.png\n",
      "Writing to output/55.png\n",
      "Writing to output/56.png\n",
      "Writing to output/57.png\n",
      "Writing to output/58.png\n",
      "Writing to output/59.png\n",
      "Writing to output/60.png\n"
     ]
    }
   ],
   "source": [
    "# Type signature of RenderConf for reference\n",
    "#struct RenderConf\n",
    "#    ppm::Float64 # Pixels per meter for grid size\n",
    "#    buf::Int64   # Buffer grid surrounding the image\n",
    "#    draw_paths::Bool # Render paths\n",
    "#    draw_old_states::Bool # Set to false if you want only current state shown\n",
    "#end\n",
    "\n",
    "draw_frames(RenderConf(50, 4, true, false), model, path)"
   ]
  },
  {
   "cell_type": "code",
   "execution_count": null,
   "metadata": {},
   "outputs": [],
   "source": []
  },
  {
   "cell_type": "code",
   "execution_count": null,
   "metadata": {},
   "outputs": [],
   "source": []
  }
 ],
 "metadata": {
  "kernelspec": {
   "display_name": "Julia 1.8.2",
   "language": "julia",
   "name": "julia-1.8"
  },
  "language_info": {
   "file_extension": ".jl",
   "mimetype": "application/julia",
   "name": "julia",
   "version": "1.8.2"
  }
 },
 "nbformat": 4,
 "nbformat_minor": 2
}
