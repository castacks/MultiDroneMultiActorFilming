{
 "cells": [
  {
   "cell_type": "code",
   "execution_count": 1,
   "metadata": {
    "scrolled": true
   },
   "outputs": [
    {
     "data": {
      "text/plain": [
       "5-element Vector{String}:\n",
       " \"@\"\n",
       " \"@v#.#\"\n",
       " \"@stdlib\"\n",
       " \"/home/skh/MultiAgentSensing\"\n",
       " \".\""
      ]
     },
     "execution_count": 1,
     "metadata": {},
     "output_type": "execute_result"
    }
   ],
   "source": [
    "push!(LOAD_PATH,\".\")"
   ]
  },
  {
   "cell_type": "code",
   "execution_count": 2,
   "metadata": {
    "scrolled": true
   },
   "outputs": [],
   "source": [
    "using Revise\n",
    "using POMDPs\n",
    "using POMDPSimulators\n",
    "using Dates"
   ]
  },
  {
   "cell_type": "code",
   "execution_count": 14,
   "metadata": {
    "scrolled": true
   },
   "outputs": [
    {
     "name": "stderr",
     "output_type": "stream",
     "text": [
      "┌ Info: Precompiling MDMA [top-level]\n",
      "└ @ Base loading.jl:1423\n"
     ]
    },
    {
     "name": "stdout",
     "output_type": "stream",
     "text": [
      "\u001b[0m\u001b[1mTest Summary: | \u001b[22m\u001b[32m\u001b[1mPass  \u001b[22m\u001b[39m\u001b[36m\u001b[1mTotal\u001b[22m\u001b[39m\n",
      "detectTarget  | \u001b[32m  30  \u001b[39m\u001b[36m   30\u001b[39m\n",
      "2.0\n",
      "-6.0\n",
      "-11.333333333333332\n",
      "-15.333333333333332\n",
      "-18.53333333333333\n",
      "-21.2\n",
      "-23.485714285714284\n",
      "-25.485714285714284\n",
      "-27.263492063492063\n",
      "-28.863492063492064\n",
      "-30.318037518037517\n",
      "-31.65137085137085\n",
      "-32.88214008214008\n",
      "-34.02499722499723\n",
      "-35.0916638916639\n",
      "-36.0916638916639\n",
      "-37.03284036225213\n",
      "-37.92172925114102\n",
      "-38.763834514298914\n",
      "-39.56383451429891\n",
      "-40.32573927620367\n",
      "-41.0530120034764\n",
      "-41.74866417738944\n",
      "-42.41533084405611\n",
      "-43.05533084405611\n",
      "-43.67071545944072\n",
      "-44.26330805203332\n",
      "-44.834736623461886\n",
      "-45.38646076139292\n",
      "-45.91979409472625\n",
      "\u001b[0m\u001b[1mTest Summary:        |\u001b[22m\n",
      "single_robot_planner | \u001b[36mNo tests\u001b[39m\n"
     ]
    }
   ],
   "source": [
    "using MDMA"
   ]
  },
  {
   "cell_type": "code",
   "execution_count": 4,
   "metadata": {
    "scrolled": true
   },
   "outputs": [
    {
     "ename": "LoadError",
     "evalue": "UndefVarError: ViewConeSensor not defined",
     "output_type": "error",
     "traceback": [
      "UndefVarError: ViewConeSensor not defined",
      "",
      "Stacktrace:",
      " [1] top-level scope",
      "   @ In[4]:1",
      " [2] eval",
      "   @ ./boot.jl:373 [inlined]",
      " [3] include_string(mapexpr::typeof(REPL.softscope), mod::Module, code::String, filename::String)",
      "   @ Base ./loading.jl:1196"
     ]
    }
   ],
   "source": [
    "sensor = ViewConeSensor(pi/2, 3);\n",
    "targets = Vector{Target}(undef, 0);\n",
    "push!(targets, Target(25,25,0));\n",
    "push!(targets, Target(26,25,0));\n",
    "push!(targets, Target(26,26,0));\n",
    "push!(targets, Target(20,5,0));\n",
    "\n",
    "# push!(targets, Target(7,25,0));\n",
    "# push!(targets, Target(8,25,0));\n",
    "# push!(targets, Target(9,26,0));\n",
    "# push!(targets, Target(7,24,0));\n",
    "# push!(targets, Target(6,23,0));\n",
    "grid = Grid(30,30);\n",
    "horizon = 12\n",
    "move_dist = 3\n",
    "model = MDMA.SingleRobotMultiTargetViewCoverageProblem(grid, sensor, horizon, target_trajectory, move_dist);\n"
   ]
  },
  {
   "cell_type": "code",
   "execution_count": 5,
   "metadata": {
    "scrolled": false
   },
   "outputs": [
    {
     "ename": "LoadError",
     "evalue": "UndefVarError: MDMA not defined",
     "output_type": "error",
     "traceback": [
      "UndefVarError: MDMA not defined",
      "",
      "Stacktrace:",
      " [1] top-level scope",
      "   @ In[5]:1",
      " [2] eval",
      "   @ ./boot.jl:373 [inlined]",
      " [3] include_string(mapexpr::typeof(REPL.softscope), mod::Module, code::String, filename::String)",
      "   @ Base ./loading.jl:1196"
     ]
    }
   ],
   "source": [
    "policy = MDMA.solve_single_robot(model, UAVState(1,1,:N))\n"
   ]
  },
  {
   "cell_type": "code",
   "execution_count": 6,
   "metadata": {
    "scrolled": false
   },
   "outputs": [
    {
     "data": {
      "text/plain": [
       "check (generic function with 1 method)"
      ]
     },
     "execution_count": 6,
     "metadata": {},
     "output_type": "execute_result"
    }
   ],
   "source": [
    "function rew_check(model, state, policy)\n",
    "    prev = MDPState(state)\n",
    "    next = action(policy, prev)\n",
    "    rew1 = MDMA.reward(model, prev, prev.state)\n",
    "    rew2 = MDMA.reward(model, prev, next)\n",
    "    println(prev.state,\" \", rew1)\n",
    "    println(next,\" \", rew2)\n",
    "end\n",
    "function check(model, prev, next)\n",
    "    prev = MDPState(prev)\n",
    "    rew1 = MDMA.reward(model, prev, prev.state)\n",
    "    rew2 = MDMA.reward(model, prev, next)\n",
    "    println(prev.state,\" \", rew1)\n",
    "    println(next,\" \", rew2)\n",
    "end\n"
   ]
  },
  {
   "cell_type": "code",
   "execution_count": 7,
   "metadata": {},
   "outputs": [
    {
     "ename": "LoadError",
     "evalue": "UndefVarError: UAVState not defined",
     "output_type": "error",
     "traceback": [
      "UndefVarError: UAVState not defined",
      "",
      "Stacktrace:",
      " [1] top-level scope",
      "   @ In[7]:1",
      " [2] eval",
      "   @ ./boot.jl:373 [inlined]",
      " [3] include_string(mapexpr::typeof(REPL.softscope), mod::Module, code::String, filename::String)",
      "   @ Base ./loading.jl:1196"
     ]
    }
   ],
   "source": [
    "test_state = UAVState(3,3,:S)\n",
    "rew_check(model, test_state, policy)"
   ]
  },
  {
   "cell_type": "code",
   "execution_count": 8,
   "metadata": {},
   "outputs": [
    {
     "ename": "LoadError",
     "evalue": "UndefVarError: UAVState not defined",
     "output_type": "error",
     "traceback": [
      "UndefVarError: UAVState not defined",
      "",
      "Stacktrace:",
      " [1] top-level scope",
      "   @ In[8]:1",
      " [2] eval",
      "   @ ./boot.jl:373 [inlined]",
      " [3] include_string(mapexpr::typeof(REPL.softscope), mod::Module, code::String, filename::String)",
      "   @ Base ./loading.jl:1196"
     ]
    }
   ],
   "source": [
    "check(model, test_state, UAVState(3,3,:E))"
   ]
  },
  {
   "cell_type": "code",
   "execution_count": 9,
   "metadata": {},
   "outputs": [
    {
     "ename": "LoadError",
     "evalue": "UndefVarError: UAVState not defined",
     "output_type": "error",
     "traceback": [
      "UndefVarError: UAVState not defined",
      "",
      "Stacktrace:",
      " [1] top-level scope",
      "   @ In[9]:11",
      " [2] eval",
      "   @ ./boot.jl:373 [inlined]",
      " [3] include_string(mapexpr::typeof(REPL.softscope), mod::Module, code::String, filename::String)",
      "   @ Base ./loading.jl:1196"
     ]
    }
   ],
   "source": [
    "function compute_path(model, policy, state)\n",
    "    path = Vector{MDPState}(undef, 0)\n",
    "    push!(path, state)\n",
    "    for x in 1:model.horizon\n",
    "        state = action(policy, state);\n",
    "        state = MDPState(state);\n",
    "        push!(path, state);\n",
    "    end\n",
    "    path\n",
    "end\n",
    "path = compute_path(model, policy, MDPState(UAVState(1,1,:S)))"
   ]
  },
  {
   "cell_type": "code",
   "execution_count": 10,
   "metadata": {},
   "outputs": [
    {
     "ename": "LoadError",
     "evalue": "UndefVarError: Grid not defined",
     "output_type": "error",
     "traceback": [
      "UndefVarError: Grid not defined",
      "",
      "Stacktrace:",
      " [1] top-level scope",
      "   @ In[10]:22",
      " [2] eval",
      "   @ ./boot.jl:373 [inlined]",
      " [3] include_string(mapexpr::typeof(REPL.softscope), mod::Module, code::String, filename::String)",
      "   @ Base ./loading.jl:1196"
     ]
    }
   ],
   "source": [
    "using Cairo\n",
    "\n",
    "#Pixels per meter\n",
    "function init_cairo(model,ppm, buf)\n",
    "    width = ppm*dims(model.grid)[1]+ 2*buf*ppm\n",
    "    height = ppm*dims(model.grid)[2]+ 2*buf*ppm\n",
    "    c = CairoRGBSurface(width,height);\n",
    "    cr = CairoContext(c);\n",
    "    draw_background(cr, width, height)\n",
    "    return (c, cr)\n",
    "end\n",
    "\n",
    "\n",
    "function draw_background(cr::CairoContext, width, height)\n",
    "    save(cr);\n",
    "    set_source_rgb(cr,1,1,1);    # white\n",
    "    rectangle(cr,0.0,0.0,width,height); # background\n",
    "    fill(cr);\n",
    "    restore(cr);\n",
    "end\n",
    "\n",
    "function draw_grid(g::Grid, cr::CairoContext, point_size, ppm, buf)\n",
    "    set_source_rgba(cr, 0, 0, 0, 0.3);\n",
    "    x,y,z = dims(g)\n",
    "    print(dims(g))\n",
    "    for i in 1:x\n",
    "        for j in 1:y\n",
    "            arc(cr, i*ppm + buf*ppm, j*ppm+ buf*ppm, point_size, 0, 2*pi);\n",
    "            fill(cr);\n",
    "        end\n",
    "    end    \n",
    "end\n",
    "\n",
    "function draw_target(cr::CairoContext, t::Target, ppm, size, buf)\n",
    "    save(cr)\n",
    "    set_source_rgba(cr, 0, 0.3, 0.5, 1);\n",
    "    arc(cr, t.x*ppm + buf*ppm, t.y*ppm + buf*ppm, size, 0, 2*pi);\n",
    "    fill(cr);\n",
    "    restore(cr)\n",
    "end\n",
    "\n",
    "function draw_targets(cr::CairoContext, targs::Vector{Target}, ppm, size, buf)\n",
    "    for t in targs\n",
    "        draw_target(cr, t,ppm, size, buf)\n",
    "    end\n",
    "end\n",
    "\n",
    "function draw_state(cr::CairoContext, state::UAVState, model, ppm, fade, cfade, buf)\n",
    "    save(cr)\n",
    "    move_to(cr,state.x*ppm + buf*ppm, state.y*ppm + buf*ppm)\n",
    "    fov = model.sensor.fov\n",
    "    radius = model.sensor.cutoff\n",
    "    draw_arc(cr, radius, state.x, state.y, state.heading, fov, ppm, fade,cfade, buf)\n",
    "    restore(cr)\n",
    "end\n",
    "function draw_arc(cr::CairoContext, radius, x,y, heading,fov,ppm, fade,cfade, buf) \n",
    "    ## original example, following here\n",
    "    xc = x*ppm + buf*ppm;\n",
    "    yc = y*ppm + buf*ppm;\n",
    "    radius = radius*ppm;\n",
    "    angle1 = dirAngle(heading) + (-fov/2);  # angles are specified\n",
    "    angle2 = dirAngle(heading) + (fov/2);  # in radians\n",
    "\n",
    "#     set_source_rgba(cr, 0, 0, 0, fade);\n",
    "    set_source_rgba(cr, (cfade), (1-cfade)*0.5, (1-cfade)*1.1, fade);\n",
    "    set_line_width(cr, 5.0);\n",
    "    arc(cr, xc, yc, radius, angle1, angle2);\n",
    "    fill(cr)\n",
    "    stroke(cr);\n",
    "\n",
    "    # draw helping lines\n",
    "#     set_source_rgba(cr, cfade, 1-cfade, 1-cfade, fade);\n",
    "    set_line_width(cr, 6.0);\n",
    "\n",
    "    # Draw center\n",
    "    arc(cr, xc, yc, 10.0, 0, 2*pi);\n",
    "    fill(cr);\n",
    "    \n",
    "    arc(cr, xc, yc, radius, angle1, angle1);\n",
    "    line_to(cr, xc, yc);\n",
    "#     fill(cr)\n",
    "    \n",
    "    arc(cr, xc, yc, radius, angle2, angle2);\n",
    "    line_to(cr, xc, yc);\n",
    "#     fill(cr)\n",
    "    close_path(cr);\n",
    "    set_source_rgba(cr, (cfade), (1-cfade)*0.5, (1-cfade)*1.1, fade/2);\n",
    "    fill_preserve(cr);\n",
    "    \n",
    "    stroke(cr);\n",
    "end\n",
    "\n",
    "\n",
    "# draw_state(cr, UAVState(1,1,:S), model, ppm)\n",
    "\n",
    "\n",
    "## mark picture with current date\n"
   ]
  },
  {
   "cell_type": "code",
   "execution_count": 11,
   "metadata": {},
   "outputs": [
    {
     "data": {
      "text/plain": [
       "draw_path (generic function with 1 method)"
      ]
     },
     "execution_count": 11,
     "metadata": {},
     "output_type": "execute_result"
    }
   ],
   "source": [
    "\n",
    "function draw_path(model, ppm, path, cutoff, buf)\n",
    "    c, cr = init_cairo(model, ppm, buf)\n",
    "\n",
    "    draw_grid(model.grid, cr, 5, ppm, buf)\n",
    "\n",
    "    save(cr)\n",
    "    select_font_face(cr, \"Latin Modern Math\", Cairo.FONT_SLANT_NORMAL,\n",
    "                 Cairo.FONT_WEIGHT_NORMAL);\n",
    "\n",
    "    set_font_size(cr, 80.0);\n",
    "    set_source_rgba(cr, 0, 0, 0, 1);\n",
    "    move_to(cr, model.grid.width/2*ppm + -2*ppm, model.grid.height*ppm + 1.6*buf*ppm);\n",
    "    show_text(cr, \"𝐷 = $(model.move_dist)  ε = 6.8E-07\");\n",
    "    restore(cr)\n",
    "  \n",
    "\n",
    "    # Draw States\n",
    "    state=path[1]\n",
    "    move_to(cr,state.state.x*ppm + buf*ppm, state.state.y*ppm + buf*ppm)\n",
    "    draw_state(cr, state.state, model, ppm, 0.4, 1/cutoff, buf)\n",
    "    for (i,state) in enumerate(path[2:cutoff])\n",
    "        draw_state(cr, state.state, model, ppm, 0.4, i/cutoff, buf)         \n",
    "    end\n",
    "    \n",
    "    # Draw Lines\n",
    "    state=path[1]\n",
    "    move_to(cr,state.state.x*ppm + buf*ppm, state.state.y*ppm + buf*ppm)\n",
    "    for (i,state) in enumerate(path[2:cutoff])\n",
    "        cfade = i/cutoff\n",
    "        fade=1\n",
    "        set_source_rgba(cr, (cfade), (1-cfade)*0.5, (1-cfade)*1.1, fade/2);\n",
    "#         set_source_rgba(cr, 0.9, 0.6, 0.01, 1);\n",
    "        set_line_width(cr, 13.0);\n",
    "        move_to(cr,path[i].state.x*ppm+ buf*ppm, path[i].state.y*ppm + buf*ppm)\n",
    "        line_to(cr, state.state.x*ppm+buf*ppm, state.state.y*ppm + buf*ppm)\n",
    "        stroke(cr) \n",
    "         \n",
    "    end\n",
    "    \n",
    "    draw_targets(cr, model.targets,ppm, 15, buf)\n",
    "    write_to_png(c,\"fixed_2.png\");\n",
    "end"
   ]
  },
  {
   "cell_type": "code",
   "execution_count": 12,
   "metadata": {},
   "outputs": [
    {
     "ename": "LoadError",
     "evalue": "UndefVarError: model not defined",
     "output_type": "error",
     "traceback": [
      "UndefVarError: model not defined",
      "",
      "Stacktrace:",
      " [1] top-level scope",
      "   @ In[12]:1",
      " [2] eval",
      "   @ ./boot.jl:373 [inlined]",
      " [3] include_string(mapexpr::typeof(REPL.softscope), mod::Module, code::String, filename::String)",
      "   @ Base ./loading.jl:1196"
     ]
    }
   ],
   "source": [
    "draw_path(model, 50, path, model.horizon-3, 4)"
   ]
  },
  {
   "cell_type": "code",
   "execution_count": 13,
   "metadata": {},
   "outputs": [
    {
     "ename": "LoadError",
     "evalue": "syntax: incomplete: premature end of input",
     "output_type": "error",
     "traceback": [
      "syntax: incomplete: premature end of input",
      "",
      "Stacktrace:",
      " [1] top-level scope",
      "   @ In[13]:1",
      " [2] eval",
      "   @ ./boot.jl:373 [inlined]",
      " [3] include_string(mapexpr::typeof(REPL.softscope), mod::Module, code::String, filename::String)",
      "   @ Base ./loading.jl:1196"
     ]
    }
   ],
   "source": [
    "draw_path(model, 50, compute_path(model, policy, MDPState(UAVState(10,10,:E)), model.horizon, 4)"
   ]
  },
  {
   "cell_type": "code",
   "execution_count": null,
   "metadata": {},
   "outputs": [],
   "source": []
  },
  {
   "cell_type": "code",
   "execution_count": null,
   "metadata": {},
   "outputs": [],
   "source": []
  },
  {
   "cell_type": "code",
   "execution_count": null,
   "metadata": {},
   "outputs": [],
   "source": []
  },
  {
   "cell_type": "code",
   "execution_count": null,
   "metadata": {},
   "outputs": [],
   "source": []
  }
 ],
 "metadata": {
  "kernelspec": {
   "display_name": "Julia 1.7.3",
   "language": "julia",
   "name": "julia-1.7"
  },
  "language_info": {
   "file_extension": ".jl",
   "mimetype": "application/julia",
   "name": "julia",
   "version": "1.7.3"
  }
 },
 "nbformat": 4,
 "nbformat_minor": 2
}
